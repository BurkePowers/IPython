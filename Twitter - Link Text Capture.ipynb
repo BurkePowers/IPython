{
 "metadata": {
  "name": ""
 },
 "nbformat": 3,
 "nbformat_minor": 0,
 "worksheets": [
  {
   "cells": [
    {
     "cell_type": "raw",
     "metadata": {},
     "source": [
      "http://stackoverflow.com/questions/7153096/how-can-i-un-shorten-a-url-using-python\n",
      "https://bitbucket.org/runeh/urlunshort/src/14ba845656e5c7155318dda68361fda63073e2a4/urlunshort/__init__.py?at=default\n",
      "https://github.com/stef/urlclean/blob/master/urlclean.py\n"
     ]
    },
    {
     "cell_type": "code",
     "collapsed": false,
     "input": [
      "# answer from http://stackoverflow.com/a/7153185/818634\n",
      "\n",
      "import httplib\n",
      "import urlparse\n",
      "\n",
      "def unshorten_url(url):\n",
      "    parsed = urlparse.urlparse(url)\n",
      "    h = httplib.HTTPConnection(parsed.netloc)\n",
      "    resource = parsed.path\n",
      "    if parsed.query != \"\":\n",
      "        resource += \"?\" + parsed.query\n",
      "    h.request('HEAD', resource )\n",
      "    response = h.getresponse()\n",
      "    if response.status/100 == 3 and response.getheader('Location'):\n",
      "        return unshorten_url(response.getheader('Location')) # changed to process chains of short urls\n",
      "    else:\n",
      "        return url"
     ],
     "language": "python",
     "metadata": {},
     "outputs": []
    }
   ],
   "metadata": {}
  }
 ]
}