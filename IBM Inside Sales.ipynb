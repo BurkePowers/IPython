{
 "metadata": {
  "name": ""
 },
 "nbformat": 3,
 "nbformat_minor": 0,
 "worksheets": [
  {
   "cells": [
    {
     "cell_type": "raw",
     "metadata": {},
     "source": [
      "Requirements:\n",
      "1 - Read an excel file and format rows and columns to predefined format.  Some cell colors will depend on the cell value.\n",
      "2 - Upload the formatted Excel file to a server location where it can be viewed by the Inside Sales Team and their agency partner."
     ]
    },
    {
     "cell_type": "code",
     "collapsed": false,
     "input": [
      "# read the file\n",
      "from openpyxl import Workbook\n",
      "from openpyxl import load_workbook\n",
      "from openpyxl.reader.excel import load_workbook\n",
      "from openpyxl.workbook import Workbook\n",
      "from openpyxl.style import Color, Fill\n",
      "from openpyxl.cell import Cell\n",
      "\n",
      "def format_header(_cell):\n",
      "    _cell.style.fill.fill_type = Fill.FILL_SOLID\n",
      "    _cell.style.fill.start_color.index = Color.Purple_Header\n",
      "    _cell.style.font.name = 'Arial'\n",
      "    _cell.style.font.size = 14\n",
      "    \n",
      "def format_hot(_cell):\n",
      "    _cell.style.fill.fill_type = Fill.FILL_SOLID\n",
      "    _cell.style.fill.start_color.index = Color.Hot\n",
      "    _cell.style.font.name = 'Arial'\n",
      "    _cell.style.font.size = 10\n",
      "    \n",
      "def format_warm(_cell):\n",
      "    _cell.style.fill.fill_type = Fill.FILL_SOLID\n",
      "    _cell.style.fill.start_color.index = Color.Warm\n",
      "    _cell.style.font.name = 'Arial'\n",
      "    _cell.style.font.size = 10\n",
      "\n",
      "def format_cold(_cell):\n",
      "    _cell.style.fill.fill_type = Fill.FILL_SOLID\n",
      "    _cell.style.fill.start_color.index = Color.Cold\n",
      "    _cell.style.font.name = 'Arial'\n",
      "    _cell.style.font.size = 10\n",
      "\n",
      "filename = 'C:/Projects/IBM/social_brief.xlsx'\n",
      "dest_filename = 'C:/Projects/IBM/social_brief_formatted.xlsx'\n",
      "Color.Purple_Header = \"FFB1A0C7\"\n",
      "Color.Hot = \"FF92D050\"\n",
      "Color.Warm = \"FFFABF8F\"\n",
      "Color.Cold = \"FF92CDDC\"\n",
      "\n",
      "wb2 = load_workbook(filename)\n",
      "wb2.get_sheet_names()\n",
      "\n",
      "wb = Workbook()\n",
      "#ws = wb.get_active_sheet()\n",
      "ws = wb2.worksheets[0]    \n",
      "\n",
      "ws.title = \"Social Brief\"\n",
      "\n",
      "# create header\n",
      "for a in \"ABCDEFGHIJK\":\n",
      "    myCell = a + \"1\"\n",
      "    format_header(ws.cell(myCell))\n",
      "\n",
      "c=\"\"\"    \n",
      "ws.cell('A1').value = 'Prioritization (Hot, Warm, Cold)'\n",
      "format_header(ws.cell('A1'))\n",
      "ws.column_dimensions[\"A\"].width = 30.57\n",
      "\n",
      "ws.cell('B1').value = 'Client'\n",
      "format_header(ws.cell('B1'))\n",
      "ws.column_dimensions[\"B\"].width = 14.57\n",
      "\"\"\"\n",
      "\n",
      "#format the hot, warm, and cold values in column A\n",
      "for row in ws.rows:\n",
      "    if row[0].value == \"HOT\":\n",
      "        format_hot(row[0])\n",
      "    elif row[0].value == \"WARM\":\n",
      "        format_warm(row[0])\n",
      "    elif row[0].value == \"COLD\":\n",
      "        format_cold(row[0])\n",
      "        \n",
      "wb2.save(dest_filename)"
     ],
     "language": "python",
     "metadata": {},
     "outputs": [
      {
       "output_type": "stream",
       "stream": "stdout",
       "text": [
        "607 <type 'tuple'> 11 "
       ]
      },
      {
       "output_type": "stream",
       "stream": "stdout",
       "text": [
        "<type 'tuple'>\n"
       ]
      }
     ],
     "prompt_number": 28
    },
    {
     "cell_type": "code",
     "collapsed": false,
     "input": [],
     "language": "python",
     "metadata": {},
     "outputs": []
    }
   ],
   "metadata": {}
  }
 ]
}