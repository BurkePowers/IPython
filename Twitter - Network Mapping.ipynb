{
 "metadata": {
  "name": ""
 },
 "nbformat": 3,
 "nbformat_minor": 0,
 "worksheets": [
  {
   "cells": [
    {
     "cell_type": "heading",
     "level": 2,
     "metadata": {},
     "source": [
      "Map Networks "
     ]
    },
    {
     "cell_type": "raw",
     "metadata": {},
     "source": [
      "http://nbviewer.ipython.org/github/raynach/hse-twitter/blob/master/docs/Collecting%20Twitter%20data%20from%20the%20API%20with%20Python.ipynb\n",
      "\n",
      "http://www.alex-hanna.com/tworkshops/lesson-7-mention-network-analysis/\n"
     ]
    },
    {
     "cell_type": "markdown",
     "metadata": {},
     "source": [
      "This is the example code.  It can be altered to work with the data files we have."
     ]
    },
    {
     "cell_type": "code",
     "collapsed": false,
     "input": [
      "import json, sys\n",
      "\n",
      "def main():\n",
      "\n",
      "    for line in sys.stdin:\n",
      "        line = line.strip()\n",
      "\n",
      "        data = ''\n",
      "        try:\n",
      "            data = json.loads(line)\n",
      "        except ValueError as detail:\n",
      "            sys.stderr.write(detail.__str__() + \"\\n\")\n",
      "            continue\n",
      "\n",
      "        if 'entities' in data and len(data['entities']['user_mentions']) > 0:\n",
      "            user          = data['user']\n",
      "            user_mentions = data['entities']['user_mentions']\n",
      "\n",
      "            for u2 in user_mentions:                \n",
      "                print \"\\t\".join([\n",
      "                    user['id_str'],\n",
      "                    u2['id_str'],\n",
      "                    \"1\"\n",
      "                    ])\n",
      "\n",
      "if __name__ == '__main__':\n",
      "    main()"
     ],
     "language": "python",
     "metadata": {},
     "outputs": []
    },
    {
     "cell_type": "code",
     "collapsed": false,
     "input": [],
     "language": "python",
     "metadata": {},
     "outputs": []
    }
   ],
   "metadata": {}
  }
 ]
}