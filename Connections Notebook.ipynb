{
 "metadata": {
  "name": ""
 },
 "nbformat": 3,
 "nbformat_minor": 0,
 "worksheets": [
  {
   "cells": [
    {
     "cell_type": "raw",
     "metadata": {},
     "source": [
      "Notes:\n",
      "https://w3-connections.ibm.com/wikis/home?lang=en-us#!/wiki/W2e44bcba801f_4b56_9f58_e6a6317c4e59/page/Using%20Connections%20API\n",
      "http://www-10.lotus.com/ldd/appdevwiki.nsf\n",
      "http://www-10.lotus.com/ldd/lcwiki.nsf/xpDocViewer.xsp?lookupName=IBM+Connections+4.5+Documentation#action=openDocument&res_title=Developing_ic45&content=pdcontent\n",
      "https://w3-connections.ibm.com/wikis/home?lang=en-us#!/wiki/W775f1e9e243b_4514_8a41_d4f985d45b48/page/Hack%20Day%20Guidance\n",
      "http://www-10.lotus.com/ldd/appdevwiki.nsf/xpViewCategories.xsp?lookupName=API%20Documentation\n",
      "https://w3-connections.ibm.com/wikis/home?lang=en-us#!/wiki/W06f5b5186eed_43d3_afbd_5503100b6ef1/page/Getting%20Started%20on%20Connections\n",
      "https://w3-connections.ibm.com/wikis/home?lang=en-us#!/wiki/Connections%20Open%20Social%20API%20Documentation/page/IBM%20Connections%20Activity%20Stream%20API\n",
      "https://w3-connections.ibm.com/wikis/home?lang=en-us#!/wiki/Wab005c104532_4d22_afd5_a4ef814af9f0/page/IBM%20Connections%20API%20-%20Automation\n",
      "\n",
      "Connections & Python:\n",
      "http://www-10.lotus.com/ldd/lcwiki.nsf/dx/Creating_your_own_IBM_Lotus_Connections_wiki_client\n",
      "https://www-304.ibm.com/connections/blogs/vperrin/tags/python?lang=en_us\n",
      "http://davanum.wordpress.com/2012/01/04/follow-a-user-in-lotus-connections-3-0/\n",
      "https://www.youtube.com/watch?v=7wQlMK3w4VI\n",
      "\n",
      "\n",
      "https://www.youtube.com/user/IBMConnections/videos\n",
      "\n",
      "http://blog.mischel.com/2011/12/20/writing-a-web-crawler-politeness/\n",
      "\n",
      "\n",
      "UML:\n",
      "http://www.newthinktank.com/videos/uml-video-tutorial/\n",
      "http://www.eg.bucknell.edu/~cs475/F04-S05/UMLTutorial.pdf\n",
      "https://www.google.com/search?q=example+uml+diagrams+for+dia&espv=210&es_sm=93&tbm=isch&tbo=u&source=univ&sa=X&ei=FO3vUs3CC6GSyQGk-YCwCA&ved=0CD0QsAQ#facrc=_&imgdii=JyVnSo4v4XcuNM%3A%3BLbZa3HBTDUsLcM%3BJyVnSo4v4XcuNM%3A&imgrc=JyVnSo4v4XcuNM%253A%3BKIZH5b5FApvSvM%3Bhttp%253A%252F%252Fdia-installer.de%252Fshapes%252FUML%252Fimages%252FUML.png%3Bhttp%253A%252F%252Fdia-installer.de%252Fshapes%252FUML%252Findex.html.en%3B728%3B446\n",
      "http://www.ibm.com/developerworks/rational/library/769.html\n",
      "http://www.ibm.com/developerworks/rational/library/3101.html\n",
      "http://www.ibm.com/developerworks/rational/library/content/RationalEdge/sep04/bell/\n",
      "http://www.ibm.com/developerworks/rational/library/dec04/bell/index.html\n",
      "http://creately.com/blog/diagrams/class-diagram-relationships/\n",
      "http://martin-thoma.com/how-to-create-uml-class-diagrams/\n",
      "\n",
      "\n",
      "OOP:\n",
      "http://www.itmaybeahack.com/book/oodesign-python-2.1/latex/BuildingSkillsinOODesign.pdf\n",
      "http://www.itmaybeahack.com/book/oodesign-python-2.1/html/index.html\n",
      "http://en.wikibooks.org/wiki/Python_Programming/Classes\n",
      "http://www.dabeaz.com/generators/Generators.pdf\n",
      "http://www.tutorialspoint.com/python/python_classes_objects.htm\n"
     ]
    }
   ],
   "metadata": {}
  }
 ]
}