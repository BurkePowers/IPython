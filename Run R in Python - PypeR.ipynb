{
 "metadata": {
  "name": ""
 },
 "nbformat": 3,
 "nbformat_minor": 0,
 "worksheets": [
  {
   "cells": [
    {
     "cell_type": "code",
     "collapsed": false,
     "input": [
      "PypeR References:\n",
      "http://www.jstatsoft.org/v35/c02\n",
      "http://www.webarray.org/softwares/PypeR/\n",
      "http://statcompute.wordpress.com/2012/11/29/another-way-to-access-r-from-python-pyper/\n",
      "http://statcompute.wordpress.com/2012/12/10/a-brief-comparison-between-rpy2-and-pyper/?relatedposts_exclude=481\n",
      "http://statcompute.wordpress.com/2012/12/12/another-comments-about-pyper-vs-rpy2/?relatedposts_exclude=562\n",
      "http://statcompute.wordpress.com/2012/12/16/fractional-logit-model-with-python/\n",
      "http://statcompute.wordpress.com/2012/12/03/exchange-data-between-python-and-r-with-sqlite/\n",
      "http://statcompute.wordpress.com/2012/10/21/data-munging-with-in-memory-sqlite-database/\n",
      "https://pypi.python.org/pypi/PypeR/1.1.1\n",
      "http://sourceforge.net/projects/rinpy/files/\n",
      "    "
     ],
     "language": "python",
     "metadata": {},
     "outputs": []
    },
    {
     "cell_type": "code",
     "collapsed": false,
     "input": [
      "from pyper import *\n",
      "\n",
      "#r = R(RCMD=\"C:\\\\Program Files\\\\R\\\\R-2.15.3\\\\bin\\\\R.exe\")\n",
      "\n",
      "#### run R codes by the Python function \"runR\".###\n",
      "\n",
      "# the R interpreter will be launched and quitted each time the runR function is called\n",
      "#outputs = runR(\"a <- 3; print(a + 5)\")\n",
      "#runR(\"source('RScript.R')\")\n",
      "\n",
      "\n",
      "#### run R codes by the Python class \"R\"###\n",
      "\n",
      "# initialize an R object\n",
      "r = R(use_numpy=True, RCMD=\"C:\\\\Program Files\\\\R\\\\R-2.15.3\\\\bin\\\\R\") # \"True\" is the default value for use_numpy\n",
      "\n",
      "# pass a Python list to R\n",
      "r(\"a <- %s\" % Str4R([0, 1, 2, 3, 4]) )\n",
      "\n",
      "# pass a Python iterator to R\n",
      "r.assign(\"a\", xrange(5) )\n",
      "\n",
      "# pass a Python string to R\n",
      "r.An_IMPORTANT_Notice = \"\"\"You CANNOT use dot (.) for a variable\n",
      " name in this format, and leading underscore (_) is INVALID\n",
      " in any R variable name.\"\"\"\n",
      "\n",
      "# pass NumPy record array to R as a data.frame\n",
      "r[\"salary\"] = numpy.array([(1, \"Joe\", 35820.0), (2, \"Jane\", 41235.0), (3, \"Kate\", 37932.0)], dtype=[(\"id\", \"<i4\"), (\"employee\", \"|S4\"), (\"salary\", \"<f4\")] )\n",
      "#print r[\"salary\"]\n",
      "\n",
      "# delete objects in R.\n",
      "del r[\"An_IMPORTANT_Notice\"], r.salary\n",
      "\n",
      "# plot charts\n",
      "r(\"png('test.png')\")\n",
      "r(\"plot(1:5)\")\n",
      "r(\"dev.off()\")\n",
      "\n"
     ],
     "language": "python",
     "metadata": {},
     "outputs": [
      {
       "metadata": {},
       "output_type": "pyout",
       "prompt_number": 8,
       "text": [
        "'try({dev.off()})\\r\\nnull device \\r\\n          1 \\r\\n'"
       ]
      }
     ],
     "prompt_number": 8
    },
    {
     "cell_type": "code",
     "collapsed": false,
     "input": [],
     "language": "python",
     "metadata": {},
     "outputs": []
    }
   ],
   "metadata": {}
  }
 ]
}