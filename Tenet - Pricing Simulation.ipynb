{
 "metadata": {
  "name": ""
 },
 "nbformat": 3,
 "nbformat_minor": 0,
 "worksheets": [
  {
   "cells": [
    {
     "cell_type": "code",
     "collapsed": false,
     "input": [
      "import math, random\n",
      "\n",
      "def updatebins(bins, binsize, x):\n",
      "    i = int(math.floor(x / binsize))\n",
      "    if i in bins:\n",
      "        bins[i] += 1\n",
      "    else:\n",
      "        bins[i] = 1\n",
      "\n",
      "def finalizebins(bins, binsize):\n",
      "    imin = int(min(bins.keys()))\n",
      "    imax = int(max(bins.keys()))\n",
      "    a = [0] * (imax - imin + 1)\n",
      "    b = [binsize * k for k in range(imin, imax + 1)]\n",
      "    for i in range(imin, imax + 1):\n",
      "        if i in bins:\n",
      "            a[i - imin] = bins[i]\n",
      "    return a, b\n",
      "\n",
      "# A test with a mixture of gaussian distributions\n",
      "\n",
      "def check(n):\n",
      "    bins = {}\n",
      "    binsize = 5.0\n",
      "    for i in range(n):\n",
      "        if random.random() > 0.5:\n",
      "            x = random.gauss(100, 50)\n",
      "        else:\n",
      "            x = random.gauss(-200, 150)\n",
      "        updatebins(bins, binsize, x)\n",
      "    return finalizebins(bins, binsize)\n",
      "\n",
      "a, b = check(10000)\n",
      "\n",
      "# This must be 10000\n",
      "print sum(a)\n",
      "\n",
      "# Plot the data\n",
      "from matplotlib.pyplot import *\n",
      "bar(b,a)\n",
      "show()\n"
     ],
     "language": "python",
     "metadata": {},
     "outputs": []
    }
   ],
   "metadata": {}
  }
 ]
}