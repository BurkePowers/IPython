{
 "metadata": {
  "name": "pydata_networkx"
 }, 
 "nbformat": 2, 
 "worksheets": [
  {
   "cells": [
    {
     "cell_type": "code", 
     "collapsed": false, 
     "input": [
      "import networkx as nx", 
      "g = nx.Graph()", 
      "", 
      "# NODES", 
      "g.add_node(1)", 
      "g.add_node('a')", 
      "", 
      "# add a list of nodes", 
      "g.add_nodes_from([2,3,4])", 
      "", 
      "# add attribute to node", 
      "g.node[1]['type']='number'", 
      "", 
      "print g.node[1]", 
      "print g.nodes()", 
      "print len(g)"
     ], 
     "language": "python", 
     "outputs": [
      {
       "output_type": "stream", 
       "stream": "stdout", 
       "text": [
        "{'type': 'number'}", 
        "['a', 1, 2, 3, 4]", 
        "5"
       ]
      }
     ], 
     "prompt_number": 1
    }, 
    {
     "cell_type": "code", 
     "collapsed": false, 
     "input": [
      "# EDGES", 
      "g.add_edge(1,2)", 
      "g.add_edges_from([(1,4),(1,3)])", 
      "g[1][2]['weight'] = 2.3", 
      "", 
      "print g[1][2]", 
      "print g.edges()", 
      "print g.number_of_edges()"
     ], 
     "language": "python", 
     "outputs": [
      {
       "output_type": "stream", 
       "stream": "stdout", 
       "text": [
        "{'weight': 2.3}", 
        "[(1, 2), (1, 3), (1, 4)]", 
        "3"
       ]
      }
     ], 
     "prompt_number": 2
    }, 
    {
     "cell_type": "code", 
     "collapsed": false, 
     "input": [
      "# graph generators", 
      "h = nx.path_graph(10)", 
      "", 
      "print h.nodes()"
     ], 
     "language": "python", 
     "outputs": [
      {
       "output_type": "pyout", 
       "prompt_number": 11, 
       "text": [
        "[0, 1, 2, 3, 4, 5, 6, 7, 8, 9]"
       ]
      }
     ], 
     "prompt_number": 11
    }, 
    {
     "cell_type": "code", 
     "collapsed": false, 
     "input": [
      "cg = nx.complete_graph(100)", 
      "print '%s nodes, %s edges' % (cg.number_of_nodes(), cg.number_of_edges())", 
      "", 
      "# number of edges = n (n-1) / 2"
     ], 
     "language": "python", 
     "outputs": [
      {
       "output_type": "stream", 
       "stream": "stdout", 
       "text": [
        "100 nodes, 4950 edges"
       ]
      }
     ], 
     "prompt_number": 20
    }, 
    {
     "cell_type": "code", 
     "collapsed": true, 
     "input": [
      "def add_node_tw(n, weight=None, time=None, source=None, location=None):", 
      "    if not g.has_node(n):", 
      "        screen_name = get_user_info(n)", 
      "        g.add_node(n)", 
      "        g.node[n]['weight']=1", 
      "        g.node[n]['screen_name'] = screen_name", 
      "    else:", 
      "        g.node[n]['weight']+=1", 
      "    "
     ], 
     "language": "python", 
     "outputs": []
    }, 
    {
     "cell_type": "code", 
     "collapsed": true, 
     "input": [
      "def add_edge_tw(n1, n2, weight=None):", 
      "    if not g.has_edge(n1,n2):", 
      "        g.add_edge(n1,n2)", 
      "        g[n1][n2]['weight']=1", 
      "    else:", 
      "        g[n1][n2]['weight']+=1"
     ], 
     "language": "python", 
     "outputs": []
    }, 
    {
     "cell_type": "code", 
     "collapsed": true, 
     "input": [
      "def get_user_info(u_id):", 
      "    return ''"
     ], 
     "language": "python", 
     "outputs": []
    }, 
    {
     "cell_type": "code", 
     "collapsed": true, 
     "input": [
      "def reduce_graph(g, num_max_nodes):", 
      "    ", 
      "    nodes_dict = {}", 
      "    g_reduced = nx.Graph()", 
      "    ", 
      "    for n in g.nodes():", 
      "        nodes_dict[n] = g.node[n]['weight']", 
      "    ", 
      "    cnt = 0", 
      "    for n,w in sorted(nodes_dict.items(), key=lambda x: -x[1]):", 
      "        if cnt<num_max_nodes:", 
      "            g_reduced.add_node(n)", 
      "            g_reduced.node[n]['weight'] = w", 
      "            g_reduced.node[n]['screen_name'] = g.node[n]['screen_name']", 
      "            cnt+=1", 
      "    ", 
      "    num_node = g_reduced.number_of_nodes()", 
      "    ", 
      "    for e in g.edges():", 
      "        if e[0] in g_reduced.nodes() and e[1] in g_reduced.nodes():", 
      "            g_reduced.add_edge(e[0],e[1])", 
      "            g_reduced[e[0]][e[1]]['weight'] = g[e[0]][e[1]]['weight']", 
      "    ", 
      "    return g_reduced"
     ], 
     "language": "python", 
     "outputs": []
    }, 
    {
     "cell_type": "code", 
     "collapsed": true, 
     "input": [
      "# generate set of users", 
      "users = set()", 
      "for u in cursor():", 
      "    users.add(u['user_id'])", 
      "", 
      "# directed graph    ", 
      "g = nx.DiGraph()", 
      "", 
      "# add nodes/edges", 
      "for u_id in users:", 
      "    ", 
      "    add_node_tw(u_id)", 
      "    cursor.execute(\"select * from %s_friendships where follower_user_id=%d\" % (table, u_id))", 
      "    for row in cursor:", 
      "        ", 
      "        if row['followed_user_id'] in users:", 
      "            add_node_tw(row['followed_user_id'])", 
      "            add_edge_tw(row['followed_user_id'], row['follower_user_id'])", 
      "            ", 
      "nx.write_graphml(g, '%s_graphml' % table)"
     ], 
     "language": "python", 
     "outputs": []
    }
   ]
  }
 ]
}