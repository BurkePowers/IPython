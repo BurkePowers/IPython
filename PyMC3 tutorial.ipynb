{
 "metadata": {
  "name": ""
 },
 "nbformat": 3,
 "nbformat_minor": 0,
 "worksheets": [
  {
   "cells": [
    {
     "cell_type": "code",
     "collapsed": false,
     "input": [
      "%matplotlib inline\n",
      "import pymc as pm\n",
      "import numpy as np"
     ],
     "language": "python",
     "metadata": {},
     "outputs": [],
     "prompt_number": 1
    },
    {
     "cell_type": "markdown",
     "metadata": {},
     "source": [
      "Model\n",
      "-----\n",
      "Consider the following true generative model:\n",
      "    \n",
      "$$ x_{true} \\sim \\textrm{Normal}(2,1) $$\n",
      "$$ y_{true} \\sim \\textrm{Normal}(\\textrm{exp}(x_{true}),1)$$\n",
      "$$ z_{data} \\sim \\textrm{Normal}(x_{true} + y_{true},0.75)$$\n",
      "\n",
      "Where $x_{true}$ is a scalar, $y_{true}$ is a vector of length 2, and $z_{data}$ is a $2\\times 20$ matrix.\n",
      "\n",
      "We can simulate this using Numpy:"
     ]
    },
    {
     "cell_type": "code",
     "collapsed": false,
     "input": [
      "ndims = 2\n",
      "nobs = 20\n",
      "\n",
      "xtrue = np.random.normal(scale=2., size=1)\n",
      "ytrue = np.random.normal(loc=np.exp(xtrue), scale=1, size=(ndims, 1))\n",
      "zdata = np.random.normal(loc=xtrue + ytrue, scale=.75, size=(ndims, nobs))"
     ],
     "language": "python",
     "metadata": {},
     "outputs": [],
     "prompt_number": 2
    },
    {
     "cell_type": "markdown",
     "metadata": {},
     "source": [
      "`zdata` is observed but `xtrue` and `ytrue` are not. Thus x and y are unknown, and we want to come up with posterior distributions for them. \n",
      "\n",
      "Build Model\n",
      "-----------\n",
      "\n",
      "Now we want to do inference assuming the following model:\n",
      "\n",
      "$$ x \\sim \\textrm{Normal}(0,1) $$\n",
      "$$ y \\sim \\textrm{Normal}(\\textrm{exp}(x),2)$$\n",
      "$$ z \\sim \\textrm{Normal}(x + y,0.75)$$\n",
      "\n",
      "The aim here is to get posteriors over $x$ and $y$ given the data we have about $z$ (`zdata`).\n",
      "\n",
      "We create a new `Model` objects, and do operations within its context. The `with` lets PyMC know this model is the current model of interest. \n",
      "\n",
      "We construct new random variables with the constructor for its prior distribution such as `Normal` while within a model context (inside the `with`). When you make a random variable it is automatically added to the model. The constructor returns a Theano variable.\n",
      "\n",
      "Using the constructor may specify the name of the random variable, the parameters of a random variable's prior distribution, as well as the shape of the random variable. We can specify that a random variable is observed by specifying the data that was observed."
     ]
    },
    {
     "cell_type": "code",
     "collapsed": false,
     "input": [
      "with pm.Model() as model:\n",
      "    x = pm.Normal('x', mu=0., sd=1)\n",
      "    y = pm.Normal('y', mu=pm.exp(x), sd=2., shape=(ndims, 1)) # here, shape is telling us it's a vector rather than a scalar.\n",
      "    z = pm.Normal('z', mu=x + y, sd=.75, observed=zdata) # shape is inferred from zdata"
     ],
     "language": "python",
     "metadata": {},
     "outputs": [
      {
       "ename": "AttributeError",
       "evalue": "__exit__",
       "output_type": "pyerr",
       "traceback": [
        "\u001b[1;31m---------------------------------------------------------------------------\u001b[0m\n\u001b[1;31mAttributeError\u001b[0m                            Traceback (most recent call last)",
        "\u001b[1;32m<ipython-input-3-5a3fd7f15e6e>\u001b[0m in \u001b[0;36m<module>\u001b[1;34m()\u001b[0m\n\u001b[1;32m----> 1\u001b[1;33m \u001b[1;32mwith\u001b[0m \u001b[0mpm\u001b[0m\u001b[1;33m.\u001b[0m\u001b[0mModel\u001b[0m\u001b[1;33m(\u001b[0m\u001b[1;33m)\u001b[0m \u001b[1;32mas\u001b[0m \u001b[0mmodel\u001b[0m\u001b[1;33m:\u001b[0m\u001b[1;33m\u001b[0m\u001b[0m\n\u001b[0m\u001b[0;32m      2\u001b[0m     \u001b[0mx\u001b[0m \u001b[1;33m=\u001b[0m \u001b[0mpm\u001b[0m\u001b[1;33m.\u001b[0m\u001b[0mNormal\u001b[0m\u001b[1;33m(\u001b[0m\u001b[1;34m'x'\u001b[0m\u001b[1;33m,\u001b[0m \u001b[0mmu\u001b[0m\u001b[1;33m=\u001b[0m\u001b[1;36m0.\u001b[0m\u001b[1;33m,\u001b[0m \u001b[0msd\u001b[0m\u001b[1;33m=\u001b[0m\u001b[1;36m1\u001b[0m\u001b[1;33m)\u001b[0m\u001b[1;33m\u001b[0m\u001b[0m\n\u001b[0;32m      3\u001b[0m     \u001b[0my\u001b[0m \u001b[1;33m=\u001b[0m \u001b[0mpm\u001b[0m\u001b[1;33m.\u001b[0m\u001b[0mNormal\u001b[0m\u001b[1;33m(\u001b[0m\u001b[1;34m'y'\u001b[0m\u001b[1;33m,\u001b[0m \u001b[0mmu\u001b[0m\u001b[1;33m=\u001b[0m\u001b[0mpm\u001b[0m\u001b[1;33m.\u001b[0m\u001b[0mexp\u001b[0m\u001b[1;33m(\u001b[0m\u001b[0mx\u001b[0m\u001b[1;33m)\u001b[0m\u001b[1;33m,\u001b[0m \u001b[0msd\u001b[0m\u001b[1;33m=\u001b[0m\u001b[1;36m2.\u001b[0m\u001b[1;33m,\u001b[0m \u001b[0mshape\u001b[0m\u001b[1;33m=\u001b[0m\u001b[1;33m(\u001b[0m\u001b[0mndims\u001b[0m\u001b[1;33m,\u001b[0m \u001b[1;36m1\u001b[0m\u001b[1;33m)\u001b[0m\u001b[1;33m)\u001b[0m \u001b[1;31m# here, shape is telling us it's a vector rather than a scalar.\u001b[0m\u001b[1;33m\u001b[0m\u001b[0m\n\u001b[0;32m      4\u001b[0m     \u001b[0mz\u001b[0m \u001b[1;33m=\u001b[0m \u001b[0mpm\u001b[0m\u001b[1;33m.\u001b[0m\u001b[0mNormal\u001b[0m\u001b[1;33m(\u001b[0m\u001b[1;34m'z'\u001b[0m\u001b[1;33m,\u001b[0m \u001b[0mmu\u001b[0m\u001b[1;33m=\u001b[0m\u001b[0mx\u001b[0m \u001b[1;33m+\u001b[0m \u001b[0my\u001b[0m\u001b[1;33m,\u001b[0m \u001b[0msd\u001b[0m\u001b[1;33m=\u001b[0m\u001b[1;36m.75\u001b[0m\u001b[1;33m,\u001b[0m \u001b[0mobserved\u001b[0m\u001b[1;33m=\u001b[0m\u001b[0mzdata\u001b[0m\u001b[1;33m)\u001b[0m \u001b[1;31m# shape is inferred from zdata\u001b[0m\u001b[1;33m\u001b[0m\u001b[0m\n",
        "\u001b[1;31mAttributeError\u001b[0m: __exit__"
       ]
      },
      {
       "output_type": "stream",
       "stream": "stderr",
       "text": [
        "C:\\Anaconda\\lib\\site-packages\\pymc\\Model.py:93: UserWarning: The MCMC() syntax is deprecated. Please pass in nodes explicitly via M = MCMC(input).\n",
        "  'The MCMC() syntax is deprecated. Please pass in nodes explicitly via M = MCMC(input).')\n"
       ]
      }
     ],
     "prompt_number": 3
    },
    {
     "cell_type": "markdown",
     "metadata": {},
     "source": [
      "A parenthetical note on the parameters for the normal. Variance is encoded as `tau`, indicating precision, which is simply inverse variance (so $\\tau=\\sigma^{-2}$ ). This is used because the gamma function is the conjugate prior for precision, and must be inverted to get variance. Encoding in terms of precision saves the inversion step in cases where variance is actually modeled using gamma as a prior.\n",
      "\n",
      "Fit Model\n",
      "---------\n",
      "We need a starting point for our sampling. The `find_MAP` function finds the maximum a posteriori point (MAP), which is often a good choice for starting point. `find_MAP` uses an optimization algorithm (`scipy.optimize.fmin_l_bfgs_b`, or [BFGS](http://en.wikipedia.org/wiki/BFGS_method), by default) to find the local maximum of the log posterior.\n",
      "\n",
      "Note that this `with` construction is used again. Functions like `find_MAP` and `HamiltonianMC` need to have a model in their context. `with` activates the context of a particular model within its block."
     ]
    },
    {
     "cell_type": "code",
     "collapsed": false,
     "input": [
      "with model:\n",
      "    start = pm.find_MAP()"
     ],
     "language": "python",
     "metadata": {},
     "outputs": [
      {
       "ename": "NameError",
       "evalue": "name 'model' is not defined",
       "output_type": "pyerr",
       "traceback": [
        "\u001b[1;31m---------------------------------------------------------------------------\u001b[0m\n\u001b[1;31mNameError\u001b[0m                                 Traceback (most recent call last)",
        "\u001b[1;32m<ipython-input-4-af0b05ae9158>\u001b[0m in \u001b[0;36m<module>\u001b[1;34m()\u001b[0m\n\u001b[1;32m----> 1\u001b[1;33m \u001b[1;32mwith\u001b[0m \u001b[0mmodel\u001b[0m\u001b[1;33m:\u001b[0m\u001b[1;33m\u001b[0m\u001b[0m\n\u001b[0m\u001b[0;32m      2\u001b[0m     \u001b[0mstart\u001b[0m \u001b[1;33m=\u001b[0m \u001b[0mpm\u001b[0m\u001b[1;33m.\u001b[0m\u001b[0mfind_MAP\u001b[0m\u001b[1;33m(\u001b[0m\u001b[1;33m)\u001b[0m\u001b[1;33m\u001b[0m\u001b[0m\n",
        "\u001b[1;31mNameError\u001b[0m: name 'model' is not defined"
       ]
      }
     ],
     "prompt_number": 4
    },
    {
     "cell_type": "markdown",
     "metadata": {},
     "source": [
      "Points in parameter space are represented by dictionaries with parameter names as they keys and the value of the parameters as the values."
     ]
    },
    {
     "cell_type": "code",
     "collapsed": false,
     "input": [
      "print(\"MAP found:\")\n",
      "print(\"x:\", start['x'])\n",
      "print(\"y:\", start['y'])\n",
      "\n",
      "print(\"Compare with true values:\")\n",
      "print(\"ytrue\", ytrue)\n",
      "print(\"xtrue\", xtrue)"
     ],
     "language": "python",
     "metadata": {},
     "outputs": [
      {
       "output_type": "stream",
       "stream": "stdout",
       "text": [
        "MAP found:\n",
        "('x:', array(0.0168254102897249))\n",
        "('y:', array([[ 0.05477064],\n",
        "       [ 2.01253261]]))\n",
        "Compare with true values:\n",
        "('ytrue', array([[ 0.64815904],\n",
        "       [ 2.52039628]]))\n",
        "('xtrue', array([-0.60377919]))\n"
       ]
      }
     ],
     "prompt_number": 6
    },
    {
     "cell_type": "markdown",
     "metadata": {},
     "source": [
      "We will use NUTS to sample from the posterior as implemented by the `NUTS` step method class."
     ]
    },
    {
     "cell_type": "code",
     "collapsed": false,
     "input": [
      "with model:\n",
      "    step = pm.NUTS()"
     ],
     "language": "python",
     "metadata": {},
     "outputs": [
      {
       "output_type": "stream",
       "stream": "stderr",
       "text": [
        "/Library/Python/2.7/site-packages/theano/scan_module/scan_perform_ext.py:85: RuntimeWarning: numpy.ndarray size changed, may indicate binary incompatibility\n",
        "  from scan_perform.scan_perform import *\n"
       ]
      }
     ],
     "prompt_number": 7
    },
    {
     "cell_type": "markdown",
     "metadata": {},
     "source": [
      "The `sample` function takes a number of steps to sample, a step method, a starting point. It returns a trace object which contains our samples."
     ]
    },
    {
     "cell_type": "code",
     "collapsed": false,
     "input": [
      "with model: \n",
      "    trace = pm.sample(3000, step, start)"
     ],
     "language": "python",
     "metadata": {},
     "outputs": [
      {
       "output_type": "stream",
       "stream": "stdout",
       "text": [
        "\r",
        " [-                 4%                  ] 140 of 3000 complete in 0.5 sec"
       ]
      },
      {
       "output_type": "stream",
       "stream": "stdout",
       "text": [
        "\r",
        " [----             10%                  ] 329 of 3000 complete in 1.0 sec"
       ]
      },
      {
       "output_type": "stream",
       "stream": "stdout",
       "text": [
        "\r",
        " [------           17%                  ] 524 of 3000 complete in 1.5 sec"
       ]
      },
      {
       "output_type": "stream",
       "stream": "stdout",
       "text": [
        "\r",
        " [---------        24%                  ] 729 of 3000 complete in 2.0 sec"
       ]
      },
      {
       "output_type": "stream",
       "stream": "stdout",
       "text": [
        "\r",
        " [-----------      30%                  ] 916 of 3000 complete in 2.5 sec"
       ]
      },
      {
       "output_type": "stream",
       "stream": "stdout",
       "text": [
        "\r",
        " [-------------    36%                  ] 1098 of 3000 complete in 3.0 sec"
       ]
      },
      {
       "output_type": "stream",
       "stream": "stdout",
       "text": [
        "\r",
        " [---------------- 43%                  ] 1298 of 3000 complete in 3.5 sec"
       ]
      },
      {
       "output_type": "stream",
       "stream": "stdout",
       "text": [
        "\r",
        " [-----------------50%                  ] 1513 of 3000 complete in 4.0 sec"
       ]
      },
      {
       "output_type": "stream",
       "stream": "stdout",
       "text": [
        "\r",
        " [-----------------57%-                 ] 1714 of 3000 complete in 4.5 sec"
       ]
      },
      {
       "output_type": "stream",
       "stream": "stdout",
       "text": [
        "\r",
        " [-----------------64%----              ] 1928 of 3000 complete in 5.0 sec"
       ]
      },
      {
       "output_type": "stream",
       "stream": "stdout",
       "text": [
        "\r",
        " [-----------------71%-------           ] 2141 of 3000 complete in 5.5 sec"
       ]
      },
      {
       "output_type": "stream",
       "stream": "stdout",
       "text": [
        "\r",
        " [-----------------77%---------         ] 2332 of 3000 complete in 6.0 sec"
       ]
      },
      {
       "output_type": "stream",
       "stream": "stdout",
       "text": [
        "\r",
        " [-----------------83%-----------       ] 2519 of 3000 complete in 6.5 sec"
       ]
      },
      {
       "output_type": "stream",
       "stream": "stdout",
       "text": [
        "\r",
        " [-----------------90%--------------    ] 2712 of 3000 complete in 7.0 sec"
       ]
      },
      {
       "output_type": "stream",
       "stream": "stdout",
       "text": [
        "\r",
        " [-----------------97%----------------  ] 2919 of 3000 complete in 7.5 sec"
       ]
      },
      {
       "output_type": "stream",
       "stream": "stdout",
       "text": [
        "\r",
        " [-----------------100%-----------------] 3000 of 3000 complete in 7.8 sec"
       ]
      }
     ],
     "prompt_number": 8
    },
    {
     "cell_type": "markdown",
     "metadata": {},
     "source": [
      "To use more than one sampler, pass a list of step methods to `sample`. \n",
      "\n",
      "The trace object can be indexed by the variables in the model, returning an array with the first index being the sample index\n",
      "and the other indexes the shape of the parameter. Thus for this example:"
     ]
    },
    {
     "cell_type": "code",
     "collapsed": false,
     "input": [
      "trace[y].shape"
     ],
     "language": "python",
     "metadata": {},
     "outputs": [
      {
       "metadata": {},
       "output_type": "pyout",
       "prompt_number": 9,
       "text": [
        "(3000, 2, 1)"
       ]
      }
     ],
     "prompt_number": 9
    },
    {
     "cell_type": "code",
     "collapsed": false,
     "input": [
      "pm.traceplot(trace);"
     ],
     "language": "python",
     "metadata": {},
     "outputs": [
      {
       "metadata": {},
       "output_type": "display_data",
       "png": "[encoded data removed]",
       "text": [
        "<matplotlib.figure.Figure at 0x110108ed0>"
       ]
      }
     ],
     "prompt_number": 10
    },
    {
     "cell_type": "markdown",
     "metadata": {},
     "source": [
      "## PyMC Internals\n",
      "\n",
      "### Model \n",
      "\n",
      "The `Model` class has very simple internals: just a list of unobserved variables (`Model.vars`) and a list of factors which go into computing the posterior density (`Model.factors`) (see model.py for more).\n",
      "\n",
      "A Python \"`with model:`\" block has `model` as the current model. Many functions, like `find_MAP` and `sample`, must be in such a block to work correctly by default. They look in the current context for a model to use. You may also explicitly specify the model for them to use. This allows us to treat the current model as an implicit parameter to these functions. \n",
      "\n",
      "### Distribution Classes\n",
      "\n",
      "`Normal` and other distributions are actually `Distribution` subclasses. The constructors have different behavior depending on whether they are called with a name argument or not (string argument in 1st slot). This allows PyMC to have intuitive model specification syntax and still distinguish between random variables and distributions.\n",
      "\n",
      "When a `Distribution` constructor is called:\n",
      "\n",
      "* Without a name argument, it simply constructs a distribution object and returns it. It won't construct a random variable. This object has properties like `logp` (density function) and `expectation`.\n",
      "* With a name argument, it constructs a random variable using the distrubtion object as the prior distribution and inserts this random variable into the current model. Then the constructor returns the random variable. \n"
     ]
    },
    {
     "cell_type": "code",
     "collapsed": false,
     "input": [
      "help(model)"
     ],
     "language": "python",
     "metadata": {},
     "outputs": [
      {
       "output_type": "stream",
       "stream": "stdout",
       "text": [
        "Help on Model in module pymc.model object:\n",
        "\n",
        "class Model(Context, Factor)\n",
        " |  Encapsulates the variables and likelihood factors of a model.\n",
        " |  \n",
        " |  Method resolution order:\n",
        " |      Model\n",
        " |      Context\n",
        " |      Factor\n",
        " |      __builtin__.object\n",
        " |  \n",
        " |  Methods defined here:\n",
        " |  \n",
        " |  AddPotential(self, potential)\n",
        " |      Add an arbitrary potential to the likelihood.\n",
        " |  \n",
        " |  TransformedVar(self, name, dist, trans)\n",
        " |      Create random variable that after being transformed has the given prior.\n",
        " |      \n",
        " |      Parameters\n",
        " |      ----------\n",
        " |      name : str\n",
        " |      dist : Distribution\n",
        " |      trans : Transform\n",
        " |      \n",
        " |      Returns\n",
        " |      -------\n",
        " |      Random Variable\n",
        " |  \n",
        " |  Var(self, name, dist, data=None)\n",
        " |      Create and add (un)observed random variable to the model with an appropriate prior distribution.\n",
        " |      \n",
        " |      Parameters\n",
        " |      ----------\n",
        " |          name : str\n",
        " |          dist : distribution for the random variable\n",
        " |          data : arraylike (optional)\n",
        " |             if data is provided, the variable is observed. If None, the variable is unobserved.\n",
        " |      Returns\n",
        " |      -------\n",
        " |          FreeRV or ObservedRV\n",
        " |  \n",
        " |  __getitem__(self, key)\n",
        " |  \n",
        " |  __init__(self)\n",
        " |  \n",
        " |  add_random_variable(self, var)\n",
        " |      Add a random variable to the named variables of the model.\n",
        " |  \n",
        " |  fastfn(self, outs, mode=None)\n",
        " |      Compiles a Theano function which returns `outs` and takes values of model\n",
        " |      vars as a dict as an argument.\n",
        " |      \n",
        " |      Parameters\n",
        " |      ----------\n",
        " |      outs : Theano variable or iterable of Theano variables\n",
        " |      mode : Theano compilation mode\n",
        " |      \n",
        " |      Returns\n",
        " |      -------\n",
        " |      Compiled Theano function as point function.\n",
        " |  \n",
        " |  fn(self, outs, mode=None)\n",
        " |      Compiles a Theano function which returns the values of `outs` and takes values of model\n",
        " |      vars as arguments.\n",
        " |      \n",
        " |      Parameters\n",
        " |      ----------\n",
        " |      outs : Theano variable or iterable of Theano variables\n",
        " |      mode : Theano compilation mode\n",
        " |      \n",
        " |      Returns\n",
        " |      -------\n",
        " |      Compiled Theano function\n",
        " |  \n",
        " |  makefn(*args, **kwargs)\n",
        " |      Compiles a Theano function which returns `outs` and takes the variable\n",
        " |      ancestors of `outs` as inputs.\n",
        " |      \n",
        " |      Parameters\n",
        " |      ----------\n",
        " |      outs : Theano variable or iterable of Theano variables\n",
        " |      mode : Theano compilation mode\n",
        " |      \n",
        " |      Returns\n",
        " |      -------\n",
        " |      Compiled Theano function\n",
        " |  \n",
        " |  ----------------------------------------------------------------------\n",
        " |  Data descriptors defined here:\n",
        " |  \n",
        " |  basic_RVs\n",
        " |      List of random variables the model is defined in terms of (which excludes deterministics).\n",
        " |  \n",
        " |  cont_vars\n",
        " |      All the continuous variables in the model\n",
        " |  \n",
        " |  logpt\n",
        " |      Theano scalar of log-probability of the model\n",
        " |  \n",
        " |  test_point\n",
        " |      Test point used to check that the model doesn't generate errors\n",
        " |  \n",
        " |  unobserved_RVs\n",
        " |      List of all random variable, including deterministic ones.\n",
        " |  \n",
        " |  vars\n",
        " |      List of unobserved random variables the model is defined in terms of (which excludes deterministics).\n",
        " |  \n",
        " |  ----------------------------------------------------------------------\n",
        " |  Data and other attributes defined here:\n",
        " |  \n",
        " |  contexts = []\n",
        " |  \n",
        " |  ----------------------------------------------------------------------\n",
        " |  Methods inherited from Context:\n",
        " |  \n",
        " |  __enter__(self)\n",
        " |  \n",
        " |  __exit__(self, typ, value, traceback)\n",
        " |  \n",
        " |  ----------------------------------------------------------------------\n",
        " |  Class methods inherited from Context:\n",
        " |  \n",
        " |  get_context(cls) from __builtin__.type\n",
        " |      Return the deepest context on the stack.\n",
        " |  \n",
        " |  get_contexts(cls) from __builtin__.type\n",
        " |  \n",
        " |  ----------------------------------------------------------------------\n",
        " |  Data descriptors inherited from Context:\n",
        " |  \n",
        " |  __dict__\n",
        " |      dictionary for instance variables (if defined)\n",
        " |  \n",
        " |  __weakref__\n",
        " |      list of weak references to the object (if defined)\n",
        " |  \n",
        " |  ----------------------------------------------------------------------\n",
        " |  Methods inherited from Factor:\n",
        " |  \n",
        " |  d2logp(self, vars=None)\n",
        " |      Compiled log probability density hessian function\n",
        " |  \n",
        " |  dlogp(self, vars=None)\n",
        " |      Compiled log probability density gradient function\n",
        " |  \n",
        " |  fastd2logp(self, vars=None)\n",
        " |      Compiled log probability density hessian function\n",
        " |  \n",
        " |  fastdlogp(self, vars=None)\n",
        " |      Compiled log probability density gradient function\n",
        " |  \n",
        " |  ----------------------------------------------------------------------\n",
        " |  Data descriptors inherited from Factor:\n",
        " |  \n",
        " |  fastlogp\n",
        " |      Compiled log probability density function\n",
        " |  \n",
        " |  logp\n",
        " |      Compiled log probability density function\n",
        " |  \n",
        " |  logp_elemwise\n",
        "\n"
       ]
      }
     ],
     "prompt_number": 11
    },
    {
     "cell_type": "code",
     "collapsed": false,
     "input": [
      "\"\"\"\n",
      "Simple hierarchical linear model of price as a function of age.\n",
      "\"\"\"\n",
      "\n",
      "from pymc import *\n",
      "from numpy import array\n",
      "\n",
      "# Data\n",
      "age = array([13, 14, 14,12, 9, 15, 10, 14, 9, 14, 13, 12, 9, 10, 15, 11, 15, 11, 7, 13, 13, 10, 9, 6, 11, 15, 13, 10, 9, 9, 15, 14, 14, 10, 14, 11, 13, 14, 10])\n",
      "price = array([2950, 2300, 3900, 2800, 5000, 2999, 3950, 2995, 4500, 2800, 1990, 3500, 5100, 3900, 2900, 4950, 2000, 3400, 8999, 4000, 2950, 3250, 3950, 4600, 4500, 1600, 3900, 4200, 6500, 3500, 2999, 2600, 3250, 2500, 2400, 3990, 4600, 450,4700])/1000.\n",
      "\n",
      "\"\"\"Original WinBUGS model:\n",
      "\n",
      "model\n",
      "    {\n",
      "        for( i in 1 : N ) {\n",
      "            mu[i] <- a+b*age[i]\n",
      "            price[i] ~ dnorm(mu[i], tau)        \n",
      "        }   \n",
      "        tau ~ dgamma(0.001, 0.001) \n",
      "        sigma <- 1 / sqrt(tau)\n",
      "        a ~ dnorm(0, 1.0E-12)\n",
      "        b ~ dnorm(0, 1.0E-12)\n",
      "    }\"\"\"\n",
      "\n",
      "# Constant priors for parameters\n",
      "a = Normal('a', 0, 0.0001)\n",
      "b = Normal('b', 0, 0.0001)\n",
      "\n",
      "# Precision of normal distribution of prices\n",
      "tau = Gamma('tau', alpha=0.1, beta=0.1)\n",
      "\n",
      "@deterministic\n",
      "def mu(x=age, a=a, b=b):\n",
      "    # Linear age-price model\n",
      "    return a + b*x\n",
      "\n",
      "\n",
      "# Sampling distribution of prices\n",
      "p = Normal('p', mu, tau, value=price, observed=True)"
     ],
     "language": "python",
     "metadata": {},
     "outputs": [],
     "prompt_number": 7
    },
    {
     "cell_type": "code",
     "collapsed": false,
     "input": [],
     "language": "python",
     "metadata": {},
     "outputs": []
    }
   ],
   "metadata": {}
  }
 ]
}