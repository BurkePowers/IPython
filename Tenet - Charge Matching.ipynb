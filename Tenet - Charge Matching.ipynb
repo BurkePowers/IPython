{
 "metadata": {
  "name": ""
 },
 "nbformat": 3,
 "nbformat_minor": 0,
 "worksheets": [
  {
   "cells": [
    {
     "cell_type": "heading",
     "level": 1,
     "metadata": {},
     "source": [
      "Identify all negative charges"
     ]
    },
    {
     "cell_type": "code",
     "collapsed": false,
     "input": [
      "import csv\n",
      "\n",
      "#importFileName = \"C:/Projects/Tenet/tempCharges/Charges file  - SIE IBM Base Data Set.csv\"\n",
      "#outputFileName = \"C:/Projects/Tenet/tempCharges/Charges file  - SIE IBM Base Data Set - netted out.csv\"\n",
      "#importFileName = \"C:/Projects/Tenet/tempCharges/import.csv\"\n",
      "#outputFileName = \"C:/Projects/Tenet/tempCharges/output.csv\"\n",
      "importFileName = \"C:/Projects/Tenet/tempCharges/Charges Base Data  - IBM Filev1.csv\"\n",
      "outputFileName = \"C:/Projects/Tenet/tempCharges/Charges Base Data  - IBM Filev1 - netted out.csv\"\n",
      "\n",
      "with open(importFileName, 'rb') as importCSV:\n",
      "    importData = csv.DictReader(importCSV)\n",
      "    myData = []\n",
      "    prevRow = {\"Charge Amount\" : 0}\n",
      "    prevPrevRow = {\"Charge Amount\" : 0}\n",
      "    i = 1\n",
      "    for row in importData:\n",
      "        if float(prevPrevRow[\"Charge Amount\"]) != -1*float(prevRow[\"Charge Amount\"]) and float(row[\"Charge Amount\"]) != -1*float(prevRow[\"Charge Amount\"]) and float(prevRow[\"Charge Amount\"]) > 0:\n",
      "            myData.append(prevRow)  \n",
      "        prevPrevRow = prevRow\n",
      "        prevRow = row\n",
      "        i = i + 1\n",
      "    if float(prevRow[\"Charge Amount\"]) != -1*float(row[\"Charge Amount\"]) and float(row[\"Charge Amount\"]) > 0:\n",
      "        myData.append(row)  \n",
      "            \n",
      "    \"\"\"\n",
      "    prevChargeAmt = 0\n",
      "    for row in myData:\n",
      "        if float(prevChargeAmt) == -1*float(row[\"Charge Amount\"]) or float(row[\"Charge Amount\"]) == 0:\n",
      "            print str(row[\"Charge Amount\"]) + \": remove\"\n",
      "        else:\n",
      "            print str(row[\"Charge Amount\"])            \n",
      "        prevChargeAmt = row[\"Charge Amount\"]\n",
      "    \"\"\"\n",
      "    \n",
      "with open(outputFileName, \"wb\") as saveFile:\n",
      "    dw = csv.DictWriter(saveFile, fieldnames=importData.fieldnames)\n",
      "    #writer = csv.writer(saveFile, quoting=csv.QUOTE_NONNUMERIC) \n",
      "    #header\n",
      "    dw.writerow(dict((fn,fn) for fn in importData.fieldnames))\n",
      "    #data\n",
      "    for row in myData:\n",
      "        dw.writerow(row)           "
     ],
     "language": "python",
     "metadata": {},
     "outputs": [
      {
       "ename": "MemoryError",
       "evalue": "",
       "output_type": "pyerr",
       "traceback": [
        "\u001b[1;31m---------------------------------------------------------------------------\u001b[0m\n\u001b[1;31mMemoryError\u001b[0m                               Traceback (most recent call last)",
        "\u001b[1;32m<ipython-input-45-11ca7a7533fc>\u001b[0m in \u001b[0;36m<module>\u001b[1;34m()\u001b[0m\n\u001b[0;32m     14\u001b[0m     \u001b[1;32mfor\u001b[0m \u001b[0mrow\u001b[0m \u001b[1;32min\u001b[0m \u001b[0mimportData\u001b[0m\u001b[1;33m:\u001b[0m\u001b[1;33m\u001b[0m\u001b[0m\n\u001b[0;32m     15\u001b[0m         \u001b[1;32mif\u001b[0m \u001b[0mfloat\u001b[0m\u001b[1;33m(\u001b[0m\u001b[0mprevPrevRow\u001b[0m\u001b[1;33m[\u001b[0m\u001b[1;34m\"Charge Amount\"\u001b[0m\u001b[1;33m]\u001b[0m\u001b[1;33m)\u001b[0m \u001b[1;33m!=\u001b[0m \u001b[1;33m-\u001b[0m\u001b[1;36m1\u001b[0m\u001b[1;33m*\u001b[0m\u001b[0mfloat\u001b[0m\u001b[1;33m(\u001b[0m\u001b[0mprevRow\u001b[0m\u001b[1;33m[\u001b[0m\u001b[1;34m\"Charge Amount\"\u001b[0m\u001b[1;33m]\u001b[0m\u001b[1;33m)\u001b[0m \u001b[1;32mand\u001b[0m \u001b[0mfloat\u001b[0m\u001b[1;33m(\u001b[0m\u001b[0mrow\u001b[0m\u001b[1;33m[\u001b[0m\u001b[1;34m\"Charge Amount\"\u001b[0m\u001b[1;33m]\u001b[0m\u001b[1;33m)\u001b[0m \u001b[1;33m!=\u001b[0m \u001b[1;33m-\u001b[0m\u001b[1;36m1\u001b[0m\u001b[1;33m*\u001b[0m\u001b[0mfloat\u001b[0m\u001b[1;33m(\u001b[0m\u001b[0mprevRow\u001b[0m\u001b[1;33m[\u001b[0m\u001b[1;34m\"Charge Amount\"\u001b[0m\u001b[1;33m]\u001b[0m\u001b[1;33m)\u001b[0m \u001b[1;32mand\u001b[0m \u001b[0mfloat\u001b[0m\u001b[1;33m(\u001b[0m\u001b[0mprevRow\u001b[0m\u001b[1;33m[\u001b[0m\u001b[1;34m\"Charge Amount\"\u001b[0m\u001b[1;33m]\u001b[0m\u001b[1;33m)\u001b[0m \u001b[1;33m>\u001b[0m \u001b[1;36m0\u001b[0m\u001b[1;33m:\u001b[0m\u001b[1;33m\u001b[0m\u001b[0m\n\u001b[1;32m---> 16\u001b[1;33m             \u001b[0mmyData\u001b[0m\u001b[1;33m.\u001b[0m\u001b[0mappend\u001b[0m\u001b[1;33m(\u001b[0m\u001b[0mprevRow\u001b[0m\u001b[1;33m)\u001b[0m\u001b[1;33m\u001b[0m\u001b[0m\n\u001b[0m\u001b[0;32m     17\u001b[0m         \u001b[0mprevPrevRow\u001b[0m \u001b[1;33m=\u001b[0m \u001b[0mprevRow\u001b[0m\u001b[1;33m\u001b[0m\u001b[0m\n\u001b[0;32m     18\u001b[0m         \u001b[0mprevRow\u001b[0m \u001b[1;33m=\u001b[0m \u001b[0mrow\u001b[0m\u001b[1;33m\u001b[0m\u001b[0m\n",
        "\u001b[1;31mMemoryError\u001b[0m: "
       ]
      }
     ],
     "prompt_number": 45
    },
    {
     "cell_type": "code",
     "collapsed": false,
     "input": [
      "import sys\n",
      "\n",
      "print sys.version"
     ],
     "language": "python",
     "metadata": {},
     "outputs": [
      {
       "output_type": "stream",
       "stream": "stdout",
       "text": [
        "2.7.5 |Anaconda 1.8.0 (32-bit)| (default, Jul  1 2013, 12:41:55) [MSC v.1500 32 bit (Intel)]\n"
       ]
      }
     ],
     "prompt_number": 4
    },
    {
     "cell_type": "code",
     "collapsed": false,
     "input": [],
     "language": "python",
     "metadata": {},
     "outputs": []
    }
   ],
   "metadata": {}
  }
 ]
}