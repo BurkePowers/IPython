{
 "metadata": {
  "name": ""
 },
 "nbformat": 3,
 "nbformat_minor": 0,
 "worksheets": [
  {
   "cells": [
    {
     "cell_type": "markdown",
     "metadata": {},
     "source": []
    },
    {
     "cell_type": "code",
     "collapsed": false,
     "input": [
      "import feedparser         # get the rss feed and parse it into a dict\n",
      "import requests\n",
      "import re\n",
      "from bs4 import BeautifulSoup       # parse the html\n",
      "import csv                # write the list of retrieved links and the data (alternatively use JSON)\n",
      "import time\n",
      "\n",
      "stem = 'rssFeed_' + time.strftime('%Y%m%d-%H%M%S')\n",
      "dest_filename = 'C:/Projects/ipython/data/' + stem + '.tsv'\n",
      "ofile  = open(dest_filename, \"wb\")\n",
      "writer = csv.writer(ofile, delimiter='\\t', quotechar='\"', quoting=csv.QUOTE_ALL)\n",
      "\n",
      "urls = []\n",
      "urls.append('http://metabrown.com/blog/feed/')\n",
      "urls.append('http://feeds.feedburner.com/RBloggers')\n",
      "urls.append('http://www.analyticbridge.com/profiles/blog/feed?xn_auth=no')\n",
      "urls.append('http://feeds.feedburner.com/socialmediatoday_allposts')\n",
      "urls.append('http://feeds.feedburner.com/EnterpriseDecisionManagementWeblog')\n",
      "urls.append('http://datascience101.wordpress.com/feed/')\n",
      "urls.append('http://feeds.arstechnica.com/arstechnica/science/')\n",
      "urls.append('http://www.hilarymason.com/feed/')\n",
      "urls.append('http://whatsthebigdata.com/feed/')\n",
      "urls.append('http://www.google.com/search?q=analytics+-google&amp;hl=en&amp;tbm=blg&amp;output=atom&amp;num=10')\n",
      "urls.append('http://simplystatistics.org/feed/')\n",
      "urls.append('http://feeds.feedburner.com/gnip/JGtz')\n",
      "urls.append('http://feeds.feedburner.com/smartdatacollective_allposts')\n",
      "urls.append('http://feeds.feedburner.com/RBloggers')\n",
      "urls.append('http://normaldeviate.wordpress.com/feed/')\n",
      "urls.append('http://feeds.feedburner.com/JuiceAnalytics')\n",
      "urls.append('http://feeds.feedburner.com/Datadoodle')\n",
      "urls.append('http://www.tatvic.com/blog/feed/')\n",
      "urls.append('http://fbhalper.wordpress.com/feed/')\n",
      "urls.append('http://feeds.feedburner.com/RobertGrossman')\n",
      "urls.append('https://blogs.oracle.com/datamining/feed/entries/rss')\n",
      "urls.append('http://www.tomhcanderson.com/feed/')\n",
      "urls.append('http://www.datasciencecentral.com/profiles/blog/feed?xn_auth=no')\n",
      "urls.append('http://feeds.feedburner.com/TdwiBlogs-PhilipRussom')\n",
      "urls.append('http://mathbabe.org/feed/')\n",
      "urls.append('http://monsiterdex.wordpress.com/feed/')\n",
      "urls.append('http://abbottanalytics.blogspot.com/feeds/posts/default')\n",
      "urls.append('http://blogs.wsj.com/numbersguy/feed/')\n",
      "urls.append('http://shapeofdata.wordpress.com/feed/')\n",
      "urls.append('http://feeds.feedburner.com/bzstblog')\n",
      "urls.append('http://www.scoop.it/t/online-influence-optimization/rss.xml')\n",
      "urls.append('http://learnandteachstatistics.wordpress.com/feed/')\n",
      "urls.append('https://www-304.ibm.com/connections/blogs/roller-ui/rendering/feed/smarteranalytics/entries/atom')\n",
      "urls.append('http://statswithcats.wordpress.com/feed/')\n",
      "urls.append('http://feeds.feedburner.com/smartdatacollective_allposts?format=xml')\n",
      "urls.append('http://junkcharts.typepad.com/junk_charts/atom.xml')\n",
      "urls.append('http://blog.cluster-text.com/feed/')\n",
      "urls.append('http://news.google.co.uk/news?um=1&amp;cf=all&amp;ned=uk&amp;hl=en&amp;q=data+mining&amp;cf=all&amp;output=rss')\n",
      "urls.append('http://datamining.typepad.com/data_mining/atom.xml')\n",
      "urls.append('http://1.salford-systems.com/CMS/UI/Modules/BizBlogger/rss.aspx?tabid=630153&amp;moduleid=1301841&amp;maxcount=25')\n",
      "urls.append('http://www.deep-data-mining.com/feeds/posts/default')\n",
      "urls.append('http://feeds.feedburner.com/TdwiBlogs-FernHalper')\n",
      "urls.append('http://jeffjonas.typepad.com/jeff_jonas/atom.xml')\n",
      "urls.append('http://bactra.org/weblog/index.rss')\n",
      "urls.append('http://feeds.feedburner.com/kxen')\n",
      "urls.append('http://feeds.feedburner.com/kdnuggets-data-mining-analytics?format=xml')\n",
      "urls.append('http://peterevansbi.com/feed/')\n",
      "urls.append('http://feeds.feedburner.com/DataDoghouse-PerformanceManagementBusinessIntelligenceAndDataWarehousing')\n",
      "urls.append('http://feeds.feedburner.com/Talend')\n",
      "urls.append('http://feeds2.feedburner.com/jtonedm')\n",
      "urls.append('http://www.allanalytics.com/rss_simple.asp')\n",
      "urls.append('http://feeds.arstechnica.com/arstechnica/business')\n",
      "urls.append('http://feeds.feedburner.com/freakonomics')\n",
      "urls.append('http://feeds2.feedburner.com/OccamsRazorByAvinash')\n",
      "urls.append('http://lingpipe-blog.com/feed/')\n",
      "urls.append('http://feeds.feedburner.com/statsblogs?')\n",
      "urls.append('http://feeds.feedburner.com/big-data-hub-blog?')\n",
      "urls.append('http://blog.okcupid.com/index.php/feed/')\n",
      "urls.append('http://decisionstats.com/feed/')\n",
      "urls.append('http://rss.slashdot.org/Slashdot/slashdotScience')\n",
      "urls.append('http://www.sas-programming.com/feeds/posts/default')\n",
      "urls.append('http://flowingdata.com/feed')\n",
      "urls.append('http://fastml.com/atom.xml')\n",
      "urls.append('http://feeds.feedburner.com/GeekingWithGreg')\n",
      "urls.append('http://www.sasanalysis.com/feeds/posts/default')\n",
      "urls.append('http://feeds.feedburner.com/InformationIsBeautiful')\n",
      "urls.append('http://www.analyticbridge.com/forum/topic/listForContributor?user=vi0zmqyuk8ci&amp;feed=yes&amp;xn_auth=no')\n",
      "urls.append('http://feeds2.feedburner.com/MineThatData')\n",
      "urls.append('https://radicaldatascience.wordpress.com/feed/')\n",
      "urls.append('http://cooldata.wordpress.com/feed/')\n",
      "urls.append('http://feeds.feedburner.com/TheTextFrontier')\n",
      "urls.append('https://www-304.ibm.com/connections/blogs/predictiveanalytics/feed/entries/atom?lang=en_us')\n",
      "urls.append('http://www.bytemining.com/feed')\n",
      "urls.append('http://blog.kaggle.com/feed/')\n",
      "urls.append('http://www.datasciencecentral.com/leaderboards/topcontent/month?feed=yes&amp;xn_auth=no&amp;n=20&amp;images=yes&amp;imageMaxSize=240')\n",
      "urls.append('http://feeds.arstechnica.com/arstechnica/technology-lab')\n",
      "urls.append('http://marktab.net/datamining/feed/')\n",
      "urls.append('http://www.dataminingblog.com/feed/')\n",
      "urls.append('http://data-virtualization.com/feed/')\n",
      "urls.append('http://www.scoop.it/t/voice-of-the-customer-voc-engagement-strategies/rss.xml')\n",
      "urls.append('http://andrewgelman.com/feed/')\n",
      "urls.append('http://www.aboutdm.com/feeds/posts/default')\n",
      "urls.append('http://www.information-management.com/reader_services/rss.html')\n",
      "urls.append('http://junkcharts.typepad.com/numbersruleyourworld/atom.xml')\n",
      "urls.append('http://feeds.feedburner.com/TextDataMiningByPracticalMeans')\n",
      "urls.append('http://openbookonbi.blogspot.com/feeds/posts/default')\n",
      "urls.append('http://www.jaspersoft.com/blog-entry/41907/feed')\n",
      "urls.append('http://feeds.feedburner.com/predictiveanalyticsworld/GXRy')\n",
      "urls.append('http://infosthetics.com/atom.xml')\n",
      "urls.append('http://www.jaspersoft.com/bi-industry-news/rss.xml')\n",
      "urls.append('http://blog.revolutionanalytics.com/atom.xml')\n",
      "urls.append('http://feeds2.feedburner.com/MachineLearningtheory')\n",
      "urls.append('http://searchbusinessanalytics.techtarget.com/rss/BI-CPM-and-analytics-news-tips-and-resources.xml')\n",
      "urls.append('http://www.greenplum.com/blog/feed')\n",
      "\n",
      "myParams = {'User-Agent': 'Mozilla/5.0 (Windows NT 6.2; Win64; x64) AppleWebKit/537.36 (KHTML, like Gecko) Chrome/32.0.1667.0 Safari/537.36'}\n",
      "\n",
      "# header\n",
      "header = []\n",
      "header.append('RSS_URL')\n",
      "header.append('ArticleDate')\n",
      "header.append('ArticleAuthor')\n",
      "header.append('ArticleTitle')\n",
      "header.append('ArticleURL')\n",
      "header.append('ArticleText')\n",
      "\n",
      "writer.writerow(header)\n",
      "j = 1\n",
      "for url in urls:\n",
      "    feed = feedparser.parse( url )\n",
      "     \n",
      "    for i in range(0,len(feed['entries'])):  \n",
      "        row = []\n",
      "        row.append(url.encode('utf-8'))\n",
      "        try:\n",
      "            # Get Published Date\n",
      "            try:\n",
      "                myPubDate = time.strftime(\"%m/%d/%Y %I:%M:%S\", feed['entries'][i].updated_parsed)\n",
      "            except:\n",
      "                try:\n",
      "                    myPubDate = time.strptime(\"%m/%d/%Y %I:%M:%S\", feed['entries'][i].published_parsed)\n",
      "                except:\n",
      "                    continue\n",
      "            row.append(myPubDate)\n",
      "                \n",
      "            # Get Author Name\n",
      "            try:\n",
      "                myAuthor = feed['entries'][i].author\n",
      "            except:\n",
      "                try:\n",
      "                    myAuthor = feed['entries'][i].creator \n",
      "                except:\n",
      "                    continue\n",
      "            row.append(myAuthor.encode('utf-8'))\n",
      "            \n",
      "            # Get Article Title\n",
      "            myTitle = feed['entries'][i].title \n",
      "            row.append(myTitle.encode('utf-8'))\n",
      "            \n",
      "            # Get Link\n",
      "            myLink = feed['entries'][i].link  \n",
      "            row.append(myLink.encode('utf-8'))\n",
      "            \n",
      "            # Get Article Text\n",
      "            r = requests.get(myLink, params=myParams, headers=myParams)\n",
      "            pagesource = r.text             \n",
      "            soup = BeautifulSoup(pagesource) \n",
      "            articleText = \"\"\n",
      "            \n",
      "            if len(soup.find_all(['p','span'])) == 0:\n",
      "                articleText = pagesource.strip()\n",
      "            else:            \n",
      "                for elem in soup.find_all(['p','span']):\n",
      "                    if len(' '.join(elem.stripped_strings)) > 60:\n",
      "                        if not re.findall('googletag|SyntaxHighlighter',' '.join(elem.stripped_strings)):\n",
      "                            cleanSnippet = re.sub('\\s+',' ',' '.join(elem.stripped_strings))\n",
      "                            articleText = articleText + ' ' + cleanSnippet\n",
      "            row.append(articleText.encode('utf-8'))\n",
      "            writer.writerow(row)\n",
      "            \n",
      "            print \"Retrieved article \" + str(j) + \" at: \" + myLink\n",
      "            j += 1\n",
      "            \n",
      "        except requests.HTTPError as e:\n",
      "            if hasattr(e, 'reason'):\n",
      "                print '==========================='\n",
      "                print 'We failed to reach: ', url\n",
      "                print 'Reason: ', e.reason\n",
      "            elif hasattr(e, 'code'):\n",
      "                print '==========================='\n",
      "                print 'The server couldn\\'t fulfill the request.'\n",
      "                print 'Error code: ', e.code\n",
      "        else:\n",
      "            # everything is fine\n",
      "            pass\n",
      "ofile.close()"
     ],
     "language": "python",
     "metadata": {},
     "outputs": [
      {
       "output_type": "stream",
       "stream": "stdout",
       "text": [
        "Retrieved article 1 at: http://metabrown.com/blog/2013/12/23/why-data-analysts-need-business-analysts/\n",
        "Retrieved article 2 at: http://metabrown.com/blog/2013/12/20/breeding-analytics-talent-through-ap-statistics/"
       ]
      },
      {
       "output_type": "stream",
       "stream": "stdout",
       "text": [
        "\n",
        "Retrieved article 3 at: http://metabrown.com/blog/2013/12/06/text-analytics-summit-west-2013/"
       ]
      },
      {
       "output_type": "stream",
       "stream": "stdout",
       "text": [
        "\n",
        "Retrieved article 4 at: http://metabrown.com/blog/2013/12/05/storytelling-for-data-analysts/"
       ]
      },
      {
       "output_type": "stream",
       "stream": "stdout",
       "text": [
        "\n",
        "Retrieved article 5 at: http://metabrown.com/blog/2013/12/04/data-is-not-statistics/"
       ]
      },
      {
       "output_type": "stream",
       "stream": "stdout",
       "text": [
        "\n",
        "Retrieved article 6 at: http://metabrown.com/blog/2013/12/03/dont-go-steady-with-1-data-analysis-method/"
       ]
      },
      {
       "output_type": "stream",
       "stream": "stdout",
       "text": [
        "\n",
        "Retrieved article 7 at: http://metabrown.com/blog/2013/12/02/when-less-data-is-more-information/"
       ]
      },
      {
       "output_type": "stream",
       "stream": "stdout",
       "text": [
        "\n",
        "Retrieved article 8 at: http://metabrown.com/blog/2013/11/26/mo-data-blues/"
       ]
      },
      {
       "output_type": "stream",
       "stream": "stdout",
       "text": [
        "\n",
        "Retrieved article 9 at: http://metabrown.com/blog/2013/11/25/5-steps-every-data-analyst-must-know/"
       ]
      },
      {
       "output_type": "stream",
       "stream": "stdout",
       "text": [
        "\n",
        "Retrieved article 10 at: http://metabrown.com/blog/2013/11/24/analytics-lessons-from-penises-professors-prohibitions/"
       ]
      },
      {
       "output_type": "stream",
       "stream": "stdout",
       "text": [
        "\n",
        "Retrieved article 11 at: http://feedproxy.google.com/~r/RBloggers/~3/3jboRFV7gzM/"
       ]
      },
      {
       "output_type": "stream",
       "stream": "stdout",
       "text": [
        "\n",
        "Retrieved article 12 at: http://feedproxy.google.com/~r/RBloggers/~3/HGVEe1OErmU/"
       ]
      },
      {
       "output_type": "stream",
       "stream": "stdout",
       "text": [
        "\n",
        "Retrieved article 13 at: http://feedproxy.google.com/~r/RBloggers/~3/aJV3NoOoi44/"
       ]
      },
      {
       "output_type": "stream",
       "stream": "stdout",
       "text": [
        "\n",
        "Retrieved article 14 at: http://feedproxy.google.com/~r/RBloggers/~3/O-oTZpF2RRA/"
       ]
      },
      {
       "output_type": "stream",
       "stream": "stdout",
       "text": [
        "\n",
        "Retrieved article 15 at: http://feedproxy.google.com/~r/RBloggers/~3/RwZDV-I0XXw/"
       ]
      },
      {
       "output_type": "stream",
       "stream": "stdout",
       "text": [
        "\n",
        "Retrieved article 16 at: http://feedproxy.google.com/~r/RBloggers/~3/MJ0lqLPC6zI/"
       ]
      },
      {
       "output_type": "stream",
       "stream": "stdout",
       "text": [
        "\n",
        "Retrieved article 17 at: http://feedproxy.google.com/~r/RBloggers/~3/uMQB9o-LOh8/"
       ]
      },
      {
       "output_type": "stream",
       "stream": "stdout",
       "text": [
        "\n",
        "Retrieved article 18 at: http://feedproxy.google.com/~r/RBloggers/~3/Je-0yjHa0vs/"
       ]
      },
      {
       "output_type": "stream",
       "stream": "stdout",
       "text": [
        "\n",
        "Retrieved article 19 at: http://www.analyticbridge.com/xn/detail/2004291:BlogPost:287216"
       ]
      },
      {
       "output_type": "stream",
       "stream": "stdout",
       "text": [
        "\n",
        "Retrieved article 20 at: http://www.analyticbridge.com/xn/detail/2004291:BlogPost:287150"
       ]
      },
      {
       "output_type": "stream",
       "stream": "stdout",
       "text": [
        "\n",
        "Retrieved article 21 at: http://www.analyticbridge.com/xn/detail/2004291:BlogPost:286884"
       ]
      },
      {
       "output_type": "stream",
       "stream": "stdout",
       "text": [
        "\n",
        "Retrieved article 22 at: http://www.analyticbridge.com/xn/detail/2004291:BlogPost:286935"
       ]
      },
      {
       "output_type": "stream",
       "stream": "stdout",
       "text": [
        "\n",
        "Retrieved article 23 at: http://www.analyticbridge.com/xn/detail/2004291:BlogPost:286870"
       ]
      },
      {
       "output_type": "stream",
       "stream": "stdout",
       "text": [
        "\n",
        "Retrieved article 24 at: http://www.analyticbridge.com/xn/detail/2004291:BlogPost:286622"
       ]
      },
      {
       "output_type": "stream",
       "stream": "stdout",
       "text": [
        "\n",
        "Retrieved article 25 at: http://www.analyticbridge.com/xn/detail/2004291:BlogPost:286610"
       ]
      },
      {
       "output_type": "stream",
       "stream": "stdout",
       "text": [
        "\n",
        "Retrieved article 26 at: http://www.analyticbridge.com/xn/detail/2004291:BlogPost:286526"
       ]
      },
      {
       "output_type": "stream",
       "stream": "stdout",
       "text": [
        "\n",
        "Retrieved article 27 at: http://www.analyticbridge.com/xn/detail/2004291:BlogPost:286738"
       ]
      },
      {
       "output_type": "stream",
       "stream": "stdout",
       "text": [
        "\n",
        "Retrieved article 28 at: http://www.analyticbridge.com/xn/detail/2004291:BlogPost:286557"
       ]
      },
      {
       "output_type": "stream",
       "stream": "stdout",
       "text": [
        "\n",
        "Retrieved article 29 at: http://www.analyticbridge.com/xn/detail/2004291:BlogPost:286556"
       ]
      },
      {
       "output_type": "stream",
       "stream": "stdout",
       "text": [
        "\n",
        "Retrieved article 30 at: http://www.analyticbridge.com/xn/detail/2004291:BlogPost:286665"
       ]
      },
      {
       "output_type": "stream",
       "stream": "stdout",
       "text": [
        "\n",
        "Retrieved article 31 at: http://www.analyticbridge.com/xn/detail/2004291:BlogPost:286638"
       ]
      },
      {
       "output_type": "stream",
       "stream": "stdout",
       "text": [
        "\n",
        "Retrieved article 32 at: http://www.analyticbridge.com/xn/detail/2004291:BlogPost:286316"
       ]
      },
      {
       "output_type": "stream",
       "stream": "stdout",
       "text": [
        "\n",
        "Retrieved article 33 at: http://www.analyticbridge.com/xn/detail/2004291:BlogPost:286354"
       ]
      },
      {
       "output_type": "stream",
       "stream": "stdout",
       "text": [
        "\n",
        "Retrieved article 34 at: http://www.analyticbridge.com/xn/detail/2004291:BlogPost:286173"
       ]
      },
      {
       "output_type": "stream",
       "stream": "stdout",
       "text": [
        "\n",
        "Retrieved article 35 at: http://www.analyticbridge.com/xn/detail/2004291:BlogPost:286164"
       ]
      },
      {
       "output_type": "stream",
       "stream": "stdout",
       "text": [
        "\n",
        "Retrieved article 36 at: http://www.analyticbridge.com/xn/detail/2004291:BlogPost:285984"
       ]
      },
      {
       "output_type": "stream",
       "stream": "stdout",
       "text": [
        "\n",
        "Retrieved article 37 at: http://www.analyticbridge.com/xn/detail/2004291:BlogPost:286058"
       ]
      },
      {
       "output_type": "stream",
       "stream": "stdout",
       "text": [
        "\n",
        "Retrieved article 38 at: http://www.analyticbridge.com/xn/detail/2004291:BlogPost:286038"
       ]
      },
      {
       "output_type": "stream",
       "stream": "stdout",
       "text": [
        "\n",
        "Retrieved article 39 at: http://www.analyticbridge.com/xn/detail/2004291:BlogPost:285819"
       ]
      },
      {
       "output_type": "stream",
       "stream": "stdout",
       "text": [
        "\n",
        "Retrieved article 40 at: http://www.analyticbridge.com/xn/detail/2004291:BlogPost:285727"
       ]
      },
      {
       "output_type": "stream",
       "stream": "stdout",
       "text": [
        "\n",
        "Retrieved article 41 at: http://www.analyticbridge.com/xn/detail/2004291:BlogPost:285938"
       ]
      },
      {
       "output_type": "stream",
       "stream": "stdout",
       "text": [
        "\n",
        "Retrieved article 42 at: http://www.analyticbridge.com/xn/detail/2004291:BlogPost:285843"
       ]
      },
      {
       "output_type": "stream",
       "stream": "stdout",
       "text": [
        "\n",
        "Retrieved article 43 at: http://www.analyticbridge.com/xn/detail/2004291:BlogPost:285834"
       ]
      },
      {
       "output_type": "stream",
       "stream": "stdout",
       "text": [
        "\n",
        "Retrieved article 44 at: http://www.analyticbridge.com/xn/detail/2004291:BlogPost:285628"
       ]
      },
      {
       "output_type": "stream",
       "stream": "stdout",
       "text": [
        "\n",
        "Retrieved article 45 at: http://www.analyticbridge.com/xn/detail/2004291:BlogPost:285776"
       ]
      },
      {
       "output_type": "stream",
       "stream": "stdout",
       "text": [
        "\n",
        "Retrieved article 46 at: http://www.analyticbridge.com/xn/detail/2004291:BlogPost:285618"
       ]
      },
      {
       "output_type": "stream",
       "stream": "stdout",
       "text": [
        "\n",
        "Retrieved article 47 at: http://www.analyticbridge.com/xn/detail/2004291:BlogPost:285668"
       ]
      },
      {
       "output_type": "stream",
       "stream": "stdout",
       "text": [
        "\n",
        "Retrieved article 48 at: http://www.analyticbridge.com/xn/detail/2004291:BlogPost:285651"
       ]
      },
      {
       "output_type": "stream",
       "stream": "stdout",
       "text": [
        "\n",
        "Retrieved article 49 at: http://feedproxy.google.com/~r/socialmediatoday_allposts/~3/uXxxSNRrZSw/ten-brilliant-marketing-minds-one-mindset"
       ]
      },
      {
       "output_type": "stream",
       "stream": "stdout",
       "text": [
        "\n",
        "Retrieved article 50 at: http://feedproxy.google.com/~r/socialmediatoday_allposts/~3/KTvi1pPEhFQ/3-ways-identify-brand-advocates"
       ]
      },
      {
       "output_type": "stream",
       "stream": "stdout",
       "text": [
        "\n",
        "Retrieved article 51 at: http://feedproxy.google.com/~r/socialmediatoday_allposts/~3/SNizKem1NgY/new-digital-divide-thoughts-leaders-and-laggards"
       ]
      },
      {
       "output_type": "stream",
       "stream": "stdout",
       "text": [
        "\n",
        "Retrieved article 52 at: http://feedproxy.google.com/~r/socialmediatoday_allposts/~3/GtTsaEYNfJQ/here-s-why-brands-are-struggling-real-time-marketing"
       ]
      },
      {
       "output_type": "stream",
       "stream": "stdout",
       "text": [
        "\n",
        "Retrieved article 53 at: http://feedproxy.google.com/~r/socialmediatoday_allposts/~3/iw77JBLugbs/reaping-benefits-diversity-modern-business-innovation"
       ]
      },
      {
       "output_type": "stream",
       "stream": "stdout",
       "text": [
        "\n",
        "Retrieved article 54 at: http://feedproxy.google.com/~r/socialmediatoday_allposts/~3/urflKBEr6Lg/how-find-and-use-top-quality-images-your-blog-articles"
       ]
      },
      {
       "output_type": "stream",
       "stream": "stdout",
       "text": [
        "\n",
        "Retrieved article 55 at: http://feedproxy.google.com/~r/socialmediatoday_allposts/~3/l2SLMs_C9vw/content-marketing-advice-17-online-marketing-experts"
       ]
      },
      {
       "output_type": "stream",
       "stream": "stdout",
       "text": [
        "\n",
        "Retrieved article 56 at: http://feedproxy.google.com/~r/socialmediatoday_allposts/~3/h2rdGYteMfU/empowering-employees-social-media-improves-customer-relationships-and-grows-reven"
       ]
      },
      {
       "output_type": "stream",
       "stream": "stdout",
       "text": [
        "\n",
        "Retrieved article 57 at: http://feedproxy.google.com/~r/socialmediatoday_allposts/~3/9nER75ByZmo/expedia-penalty-what-really-happened"
       ]
      },
      {
       "output_type": "stream",
       "stream": "stdout",
       "text": [
        "\n",
        "Retrieved article 58 at: http://feedproxy.google.com/~r/socialmediatoday_allposts/~3/lgjVJTDN0ns/why-tag-and-tagging-will-replace-emails-and-emailing"
       ]
      },
      {
       "output_type": "stream",
       "stream": "stdout",
       "text": [
        "\n",
        "Retrieved article 59 at: http://feedproxy.google.com/~r/socialmediatoday_allposts/~3/nrBCToqiTjo/are-you-collaborating-your-customers"
       ]
      },
      {
       "output_type": "stream",
       "stream": "stdout",
       "text": [
        "\n",
        "Retrieved article 60 at: http://feedproxy.google.com/~r/socialmediatoday_allposts/~3/F6JgqMTeRf8/do-self-destructing-messaging-apps-really-protect-your-privacy"
       ]
      },
      {
       "output_type": "stream",
       "stream": "stdout",
       "text": [
        "\n",
        "Retrieved article 61 at: http://feedproxy.google.com/~r/socialmediatoday_allposts/~3/5HvyCDOnyZY/what-mattered-most-mww-groups-sotu-social-graphic"
       ]
      },
      {
       "output_type": "stream",
       "stream": "stdout",
       "text": [
        "\n",
        "Retrieved article 62 at: http://feedproxy.google.com/~r/socialmediatoday_allposts/~3/D3DegrRf8SY/seo-optimizing-your-online-copywriting-tricks-trade"
       ]
      },
      {
       "output_type": "stream",
       "stream": "stdout",
       "text": [
        "\n",
        "Retrieved article 63 at: http://feedproxy.google.com/~r/socialmediatoday_allposts/~3/EvknQK8VLu8/it-s-raining-cats-and-dogs-social-media"
       ]
      },
      {
       "output_type": "stream",
       "stream": "stdout",
       "text": [
        "\n",
        "Retrieved article 64 at: http://feedproxy.google.com/~r/socialmediatoday_allposts/~3/I9DzMggTzo8/6-effective-tips-maximizing-your-facebook-fan-page-links"
       ]
      },
      {
       "output_type": "stream",
       "stream": "stdout",
       "text": [
        "\n",
        "Retrieved article 65 at: http://feedproxy.google.com/~r/socialmediatoday_allposts/~3/0at-2ZzGwGM/7-next-big-things-social-media-infographic"
       ]
      },
      {
       "output_type": "stream",
       "stream": "stdout",
       "text": [
        "\n",
        "Retrieved article 66 at: http://feedproxy.google.com/~r/socialmediatoday_allposts/~3/XgPdYApblvw/why-social-media-marketers-prefer-not-use-google"
       ]
      },
      {
       "output_type": "stream",
       "stream": "stdout",
       "text": [
        "\n",
        "Retrieved article 67 at: http://feedproxy.google.com/~r/socialmediatoday_allposts/~3/DRHUsLO_IQ0/peoplelinx-improves-employees-social-business"
       ]
      },
      {
       "output_type": "stream",
       "stream": "stdout",
       "text": [
        "\n",
        "Retrieved article 68 at: http://feedproxy.google.com/~r/socialmediatoday_allposts/~3/f1ZxWSiN5aQ/secrets-highly-successful-local-pr-facebook-group-pt1"
       ]
      },
      {
       "output_type": "stream",
       "stream": "stdout",
       "text": [
        "\n",
        "Retrieved article 69 at: http://feedproxy.google.com/~r/EnterpriseDecisionManagementWeblog/~3/Ip3zskMKp6g/why-the-mps-file-is-still-useful.html"
       ]
      },
      {
       "output_type": "stream",
       "stream": "stdout",
       "text": [
        "\n",
        "Retrieved article 70 at: http://feedproxy.google.com/~r/EnterpriseDecisionManagementWeblog/~3/aNCGiluhK_8/advances-in-algorithms-and-hardware-help-speed-optimization.html"
       ]
      },
      {
       "output_type": "stream",
       "stream": "stdout",
       "text": [
        "\n",
        "Retrieved article 71 at: http://feedproxy.google.com/~r/EnterpriseDecisionManagementWeblog/~3/ksSMIjMucxw/the-science-and-art-of-decision-management-at-a-large-bank.html"
       ]
      },
      {
       "output_type": "stream",
       "stream": "stdout",
       "text": [
        "\n",
        "Retrieved article 72 at: http://feedproxy.google.com/~r/EnterpriseDecisionManagementWeblog/~3/ED6OuGd84do/the-future-of-big-data-is-here.html"
       ]
      },
      {
       "output_type": "stream",
       "stream": "stdout",
       "text": [
        "\n",
        "Retrieved article 73 at: http://feedproxy.google.com/~r/EnterpriseDecisionManagementWeblog/~3/Z8MyX-HvNLw/effective-use-of-data-and-analytics-can-increase-profits.html"
       ]
      },
      {
       "output_type": "stream",
       "stream": "stdout",
       "text": [
        "\n",
        "Retrieved article 74 at: http://feedproxy.google.com/~r/EnterpriseDecisionManagementWeblog/~3/AXJ3oaGWrSI/the-complexity-of-sports-scheduling.html"
       ]
      },
      {
       "output_type": "stream",
       "stream": "stdout",
       "text": [
        "\n",
        "Retrieved article 75 at: http://feedproxy.google.com/~r/EnterpriseDecisionManagementWeblog/~3/_IGsKzpiXP0/fico-success-snippet-featured-by-gartner.html"
       ]
      },
      {
       "output_type": "stream",
       "stream": "stdout",
       "text": [
        "\n",
        "Retrieved article 76 at: http://feedproxy.google.com/~r/EnterpriseDecisionManagementWeblog/~3/Tg2YQF16Hxg/analytics-and-big-data-are-key-technology-trends-for-2013.html"
       ]
      },
      {
       "output_type": "stream",
       "stream": "stdout",
       "text": [
        "\n",
        "Retrieved article 77 at: http://feedproxy.google.com/~r/EnterpriseDecisionManagementWeblog/~3/tdlCuSmHQhs/celebrating-40-years-of-forrest-tomlin.html"
       ]
      },
      {
       "output_type": "stream",
       "stream": "stdout",
       "text": [
        "\n",
        "Retrieved article 78 at: http://feedproxy.google.com/~r/EnterpriseDecisionManagementWeblog/~3/6IaBgUO6eNw/decisions-in-the-cloud.html"
       ]
      },
      {
       "output_type": "stream",
       "stream": "stdout",
       "text": [
        "\n",
        "Retrieved article 79 at: http://datascience101.wordpress.com/2014/01/21/markets-for-good-ebook/"
       ]
      },
      {
       "output_type": "stream",
       "stream": "stdout",
       "text": [
        "\n",
        "Retrieved article 80 at: http://datascience101.wordpress.com/2014/01/16/learn-data-science-online-with-datacamp/"
       ]
      },
      {
       "output_type": "stream",
       "stream": "stdout",
       "text": [
        "\n",
        "Retrieved article 81 at: http://datascience101.wordpress.com/2013/12/31/big-data-startup-investments-infographic/"
       ]
      },
      {
       "output_type": "stream",
       "stream": "stdout",
       "text": [
        "\n",
        "Retrieved article 82 at: http://datascience101.wordpress.com/2013/12/13/python-and-graph-databases-slidedeck/"
       ]
      },
      {
       "output_type": "stream",
       "stream": "stdout",
       "text": [
        "\n",
        "Retrieved article 83 at: http://datascience101.wordpress.com/2013/12/13/online-data-science-book-club/"
       ]
      },
      {
       "output_type": "stream",
       "stream": "stdout",
       "text": [
        "\n",
        "Retrieved article 84 at: http://datascience101.wordpress.com/2013/12/10/r-vs-python-the-great-debate/"
       ]
      },
      {
       "output_type": "stream",
       "stream": "stdout",
       "text": [
        "\n",
        "Retrieved article 85 at: http://datascience101.wordpress.com/2013/11/27/neural-network-and-deep-learning-book/"
       ]
      },
      {
       "output_type": "stream",
       "stream": "stdout",
       "text": [
        "\n",
        "Retrieved article 86 at: http://datascience101.wordpress.com/2013/11/15/data-size-matters-infographic/"
       ]
      },
      {
       "output_type": "stream",
       "stream": "stdout",
       "text": [
        "\n",
        "Retrieved article 87 at: http://datascience101.wordpress.com/2013/11/14/security-and-data-science/"
       ]
      },
      {
       "output_type": "stream",
       "stream": "stdout",
       "text": [
        "\n",
        "Retrieved article 88 at: http://datascience101.wordpress.com/2013/11/11/open-data-action-plan-for-france/"
       ]
      },
      {
       "output_type": "stream",
       "stream": "stdout",
       "text": [
        "\n",
        "Retrieved article 89 at: http://feeds.arstechnica.com/~r/arstechnica/science/~3/liu4GgG-kto/story01.htm"
       ]
      },
      {
       "output_type": "stream",
       "stream": "stdout",
       "text": [
        "\n",
        "Retrieved article 90 at: http://feeds.arstechnica.com/~r/arstechnica/science/~3/ptFxQhV_wZw/story01.htm"
       ]
      },
      {
       "output_type": "stream",
       "stream": "stdout",
       "text": [
        "\n",
        "Retrieved article 91 at: http://feeds.arstechnica.com/~r/arstechnica/science/~3/jUANzOrszCk/story01.htm"
       ]
      },
      {
       "output_type": "stream",
       "stream": "stdout",
       "text": [
        "\n",
        "Retrieved article 92 at: http://feeds.arstechnica.com/~r/arstechnica/science/~3/Ma6vV5ETXDw/story01.htm"
       ]
      },
      {
       "output_type": "stream",
       "stream": "stdout",
       "text": [
        "\n",
        "Retrieved article 93 at: http://feeds.arstechnica.com/~r/arstechnica/science/~3/eSdj_-eP1w0/story01.htm"
       ]
      },
      {
       "output_type": "stream",
       "stream": "stdout",
       "text": [
        "\n",
        "Retrieved article 94 at: http://feeds.arstechnica.com/~r/arstechnica/science/~3/5SN1TZ9mLKU/story01.htm"
       ]
      },
      {
       "output_type": "stream",
       "stream": "stdout",
       "text": [
        "\n",
        "Retrieved article 95 at: http://feeds.arstechnica.com/~r/arstechnica/science/~3/WyqME2ZP2SY/story01.htm"
       ]
      },
      {
       "output_type": "stream",
       "stream": "stdout",
       "text": [
        "\n",
        "Retrieved article 96 at: http://feeds.arstechnica.com/~r/arstechnica/science/~3/v3nSsmkClDk/story01.htm"
       ]
      },
      {
       "output_type": "stream",
       "stream": "stdout",
       "text": [
        "\n",
        "Retrieved article 97 at: http://feeds.arstechnica.com/~r/arstechnica/science/~3/5rKD7XB0g2U/story01.htm"
       ]
      },
      {
       "output_type": "stream",
       "stream": "stdout",
       "text": [
        "\n",
        "Retrieved article 98 at: http://feeds.arstechnica.com/~r/arstechnica/science/~3/y4tajZlKhgU/story01.htm"
       ]
      },
      {
       "output_type": "stream",
       "stream": "stdout",
       "text": [
        "\n",
        "Retrieved article 99 at: http://feeds.arstechnica.com/~r/arstechnica/science/~3/HW8jayMQUhg/story01.htm"
       ]
      },
      {
       "output_type": "stream",
       "stream": "stdout",
       "text": [
        "\n",
        "Retrieved article 100 at: http://feeds.arstechnica.com/~r/arstechnica/science/~3/O24k1JfFoT0/story01.htm"
       ]
      },
      {
       "output_type": "stream",
       "stream": "stdout",
       "text": [
        "\n",
        "Retrieved article 101 at: http://feeds.arstechnica.com/~r/arstechnica/science/~3/NN-lER3l4dI/story01.htm"
       ]
      },
      {
       "output_type": "stream",
       "stream": "stdout",
       "text": [
        "\n",
        "Retrieved article 102 at: http://feeds.arstechnica.com/~r/arstechnica/science/~3/RLprVWUrDYs/story01.htm"
       ]
      },
      {
       "output_type": "stream",
       "stream": "stdout",
       "text": [
        "\n",
        "Retrieved article 103 at: http://feeds.arstechnica.com/~r/arstechnica/science/~3/BEE_dQD-TCc/story01.htm"
       ]
      },
      {
       "output_type": "stream",
       "stream": "stdout",
       "text": [
        "\n",
        "Retrieved article 104 at: http://feeds.arstechnica.com/~r/arstechnica/science/~3/CKh17lRlFis/story01.htm"
       ]
      },
      {
       "output_type": "stream",
       "stream": "stdout",
       "text": [
        "\n",
        "Retrieved article 105 at: http://feeds.arstechnica.com/~r/arstechnica/science/~3/NI82CaGa3xU/story01.htm"
       ]
      },
      {
       "output_type": "stream",
       "stream": "stdout",
       "text": [
        "\n",
        "Retrieved article 106 at: http://feeds.arstechnica.com/~r/arstechnica/science/~3/OPf98O1_8tc/story01.htm"
       ]
      },
      {
       "output_type": "stream",
       "stream": "stdout",
       "text": [
        "\n",
        "Retrieved article 107 at: http://feeds.arstechnica.com/~r/arstechnica/science/~3/lOpTy5D6VD8/story01.htm"
       ]
      },
      {
       "output_type": "stream",
       "stream": "stdout",
       "text": [
        "\n",
        "Retrieved article 108 at: http://feeds.arstechnica.com/~r/arstechnica/science/~3/UTnfQMVIjfM/story01.htm"
       ]
      },
      {
       "output_type": "stream",
       "stream": "stdout",
       "text": [
        "\n",
        "Retrieved article 109 at: http://feeds.arstechnica.com/~r/arstechnica/science/~3/_qW7lwChJZY/story01.htm"
       ]
      },
      {
       "output_type": "stream",
       "stream": "stdout",
       "text": [
        "\n",
        "Retrieved article 110 at: http://feeds.arstechnica.com/~r/arstechnica/science/~3/tDP6ZyUB71Q/story01.htm"
       ]
      },
      {
       "output_type": "stream",
       "stream": "stdout",
       "text": [
        "\n",
        "Retrieved article 111 at: http://feeds.arstechnica.com/~r/arstechnica/science/~3/M_4Q2ENn-YM/story01.htm"
       ]
      },
      {
       "output_type": "stream",
       "stream": "stdout",
       "text": [
        "\n",
        "Retrieved article 112 at: http://feeds.arstechnica.com/~r/arstechnica/science/~3/fmqNB6hEda0/story01.htm"
       ]
      },
      {
       "output_type": "stream",
       "stream": "stdout",
       "text": [
        "\n",
        "Retrieved article 113 at: http://feeds.arstechnica.com/~r/arstechnica/science/~3/R3Opj2yYLTw/story01.htm"
       ]
      },
      {
       "output_type": "stream",
       "stream": "stdout",
       "text": [
        "\n",
        "Retrieved article 114 at: http://www.hilarymason.com/blog/using-twitters-lead-gen-card-to-recruit-beta-testers/"
       ]
      },
      {
       "output_type": "stream",
       "stream": "stdout",
       "text": [
        "\n",
        "Retrieved article 115 at: http://www.hilarymason.com/speaking/speaking-two-questions-to-ask-before-you-give-a-talk/"
       ]
      },
      {
       "output_type": "stream",
       "stream": "stdout",
       "text": [
        "\n",
        "Retrieved article 116 at: http://www.hilarymason.com/blog/books-recommendations-for-programming-excellence/"
       ]
      },
      {
       "output_type": "stream",
       "stream": "stdout",
       "text": [
        "\n",
        "Retrieved article 117 at: http://www.hilarymason.com/blog/the-datagotham-2013-videos-are-up/"
       ]
      },
      {
       "output_type": "stream",
       "stream": "stdout",
       "text": [
        "\n",
        "Retrieved article 118 at: http://www.hilarymason.com/blog/what-mugshots-mean-for-public-data/"
       ]
      },
      {
       "output_type": "stream",
       "stream": "stdout",
       "text": [
        "\n",
        "Retrieved article 119 at: http://www.hilarymason.com/projects/need-actual-random-numbers-meet-the-nist-randomness-beacon/"
       ]
      },
      {
       "output_type": "stream",
       "stream": "stdout",
       "text": [
        "\n",
        "Retrieved article 120 at: http://www.hilarymason.com/blog/learn-to-code-learn-to-think/"
       ]
      },
      {
       "output_type": "stream",
       "stream": "stdout",
       "text": [
        "\n",
        "Retrieved article 121 at: http://www.hilarymason.com/presentations-2/in-search-of-the-optimal-cheeseburger/"
       ]
      },
      {
       "output_type": "stream",
       "stream": "stdout",
       "text": [
        "\n",
        "Retrieved article 122 at: http://www.hilarymason.com/blog/datagotham-2013-is-coming/"
       ]
      },
      {
       "output_type": "stream",
       "stream": "stdout",
       "text": [
        "\n",
        "Retrieved article 123 at: http://www.hilarymason.com/speaking/speaking-spend-at-least-13-of-the-time-practicing-the-talk/"
       ]
      },
      {
       "output_type": "stream",
       "stream": "stdout",
       "text": [
        "\n",
        "Retrieved article 124 at: http://whatsthebigdata.com/2014/01/24/why-ones-and-zeros-are-eating-the-world/"
       ]
      },
      {
       "output_type": "stream",
       "stream": "stdout",
       "text": [
        "\n",
        "Retrieved article 125 at: http://whatsthebigdata.com/2014/01/24/google-music-timeline-data-visualization/"
       ]
      },
      {
       "output_type": "stream",
       "stream": "stdout",
       "text": [
        "\n",
        "Retrieved article 126 at: http://whatsthebigdata.com/2014/01/22/tim-oreilly-on-open-data/"
       ]
      },
      {
       "output_type": "stream",
       "stream": "stdout",
       "text": [
        "\n",
        "Retrieved article 127 at: http://whatsthebigdata.com/2014/01/21/the-4-flavors-of-the-internet-of-things/"
       ]
      },
      {
       "output_type": "stream",
       "stream": "stdout",
       "text": [
        "\n",
        "Retrieved article 128 at: http://whatsthebigdata.com/2014/01/18/2013-data-science-salary-survey-open-source-tools-correlate-with-higher-salary/"
       ]
      },
      {
       "output_type": "stream",
       "stream": "stdout",
       "text": [
        "\n",
        "Retrieved article 129 at: http://whatsthebigdata.com/2014/01/15/ges-bill-ruh-on-big-data-the-most-interesting-thing-happening-to-our-machines-in-a-long-time/"
       ]
      },
      {
       "output_type": "stream",
       "stream": "stdout",
       "text": [
        "\n",
        "Retrieved article 130 at: http://whatsthebigdata.com/2014/01/11/bill-franks-on-big-data-who-cares-video/"
       ]
      },
      {
       "output_type": "stream",
       "stream": "stdout",
       "text": [
        "\n",
        "Retrieved article 131 at: http://whatsthebigdata.com/2014/01/09/byte-counter-byte-human-vs-machine-judgment/"
       ]
      },
      {
       "output_type": "stream",
       "stream": "stdout",
       "text": [
        "\n",
        "Retrieved article 132 at: http://whatsthebigdata.com/2014/01/08/vcs-developing-in-house-tech-expertise-as-a-service/"
       ]
      },
      {
       "output_type": "stream",
       "stream": "stdout",
       "text": [
        "\n",
        "Retrieved article 133 at: http://whatsthebigdata.com/2014/01/07/947-companies-in-the-new-marketing-technology-landscape/"
       ]
      },
      {
       "output_type": "stream",
       "stream": "stdout",
       "text": [
        "\n",
        "Retrieved article 134 at: http://simplystatistics.org/2014/01/29/not-teaching-computing-and-statistics-in-our-public-schools-will-make-upward-mobility-even-harder/"
       ]
      },
      {
       "output_type": "stream",
       "stream": "stdout",
       "text": [
        "\n",
        "Retrieved article 135 at: http://simplystatistics.org/2014/01/28/swirl-2/"
       ]
      },
      {
       "output_type": "stream",
       "stream": "stdout",
       "text": [
        "\n",
        "Retrieved article 136 at: http://simplystatistics.org/2014/01/28/marie-curie-says-stop-hating-on-quilt-plots-already/"
       ]
      },
      {
       "output_type": "stream",
       "stream": "stdout",
       "text": [
        "\n",
        "Retrieved article 137 at: http://simplystatistics.org/2014/01/21/the-johns-hopkins-data-science-specialization-on-coursera/"
       ]
      },
      {
       "output_type": "stream",
       "stream": "stdout",
       "text": [
        "\n",
        "Retrieved article 138 at: http://simplystatistics.org/2014/01/19/sunday-datastatistics-link-roundup-1192014/"
       ]
      },
      {
       "output_type": "stream",
       "stream": "stdout",
       "text": [
        "\n",
        "Retrieved article 139 at: http://simplystatistics.org/2014/01/17/missing-not-at-random-data-makes-some-facebook-users-feel-sad/"
       ]
      },
      {
       "output_type": "stream",
       "stream": "stdout",
       "text": [
        "\n",
        "Retrieved article 140 at: http://simplystatistics.org/2014/01/16/edge-org-asks-famous-scientists-what-scientific-concept-to-throw-out-they-say-statistics/"
       ]
      },
      {
       "output_type": "stream",
       "stream": "stdout",
       "text": [
        "\n",
        "Retrieved article 141 at: http://simplystatistics.org/2014/01/13/sunday-datastatistics-link-roundup-1132014/"
       ]
      },
      {
       "output_type": "stream",
       "stream": "stdout",
       "text": [
        "\n",
        "Retrieved article 142 at: http://simplystatistics.org/2014/01/08/the-top-10-predictor-takes-on-the-debiased-lasso-still-the-champ/"
       ]
      },
      {
       "output_type": "stream",
       "stream": "stdout",
       "text": [
        "\n",
        "Retrieved article 143 at: http://simplystatistics.org/2014/01/07/preparing-for-tenure-track-job-interviews-2/"
       ]
      },
      {
       "output_type": "stream",
       "stream": "stdout",
       "text": [
        "\n",
        "Retrieved article 144 at: http://feedproxy.google.com/~r/gnip/JGtz/~3/95j5-uqpfOA/"
       ]
      },
      {
       "output_type": "stream",
       "stream": "stdout",
       "text": [
        "\n",
        "Retrieved article 145 at: http://feedproxy.google.com/~r/gnip/JGtz/~3/63rlyZxpqp8/"
       ]
      },
      {
       "output_type": "stream",
       "stream": "stdout",
       "text": [
        "\n",
        "Retrieved article 146 at: http://feedproxy.google.com/~r/gnip/JGtz/~3/zNWo_cKVCAM/"
       ]
      },
      {
       "output_type": "stream",
       "stream": "stdout",
       "text": [
        "\n",
        "Retrieved article 147 at: http://feedproxy.google.com/~r/gnip/JGtz/~3/gtaJ9LyOab8/"
       ]
      },
      {
       "output_type": "stream",
       "stream": "stdout",
       "text": [
        "\n",
        "Retrieved article 148 at: http://feedproxy.google.com/~r/gnip/JGtz/~3/T1bujJDFC4k/"
       ]
      },
      {
       "output_type": "stream",
       "stream": "stdout",
       "text": [
        "\n",
        "Retrieved article 149 at: http://feedproxy.google.com/~r/gnip/JGtz/~3/Jv94i1O1ouo/"
       ]
      },
      {
       "output_type": "stream",
       "stream": "stdout",
       "text": [
        "\n",
        "Retrieved article 150 at: http://feedproxy.google.com/~r/gnip/JGtz/~3/mGmmsMBx5_4/"
       ]
      },
      {
       "output_type": "stream",
       "stream": "stdout",
       "text": [
        "\n",
        "Retrieved article 151 at: http://feedproxy.google.com/~r/gnip/JGtz/~3/in0nY4OKxxs/"
       ]
      },
      {
       "output_type": "stream",
       "stream": "stdout",
       "text": [
        "\n",
        "Retrieved article 152 at: http://feedproxy.google.com/~r/gnip/JGtz/~3/xZpCPHPQbS4/"
       ]
      },
      {
       "output_type": "stream",
       "stream": "stdout",
       "text": [
        "\n",
        "Retrieved article 153 at: http://feedproxy.google.com/~r/gnip/JGtz/~3/DEpCG5M63bg/"
       ]
      },
      {
       "output_type": "stream",
       "stream": "stdout",
       "text": [
        "\n",
        "Retrieved article 154 at: http://feedproxy.google.com/~r/smartdatacollective_allposts/~3/jww5S9zjbNk/vertical-cloud-computing-providers-arrive-financial-services-industry"
       ]
      },
      {
       "output_type": "stream",
       "stream": "stdout",
       "text": [
        "\n",
        "Retrieved article 155 at: http://feedproxy.google.com/~r/smartdatacollective_allposts/~3/SBzWRUahDUg/8-features-true-enterprise-grade-platform-hadoop-and-nosql"
       ]
      },
      {
       "output_type": "stream",
       "stream": "stdout",
       "text": [
        "\n",
        "Retrieved article 156 at: http://feedproxy.google.com/~r/smartdatacollective_allposts/~3/-gBk98E756Q/interview-big-data-big-insight"
       ]
      },
      {
       "output_type": "stream",
       "stream": "stdout",
       "text": [
        "\n",
        "Retrieved article 157 at: http://feedproxy.google.com/~r/smartdatacollective_allposts/~3/8keAYeo_ZKQ/billion-dollar-purchase-why-google-bought-nest"
       ]
      },
      {
       "output_type": "stream",
       "stream": "stdout",
       "text": [
        "\n",
        "Retrieved article 158 at: http://feedproxy.google.com/~r/smartdatacollective_allposts/~3/Z6zt9z-lhIc/expanding-health-care-applications-big-data"
       ]
      },
      {
       "output_type": "stream",
       "stream": "stdout",
       "text": [
        "\n",
        "Retrieved article 159 at: http://feedproxy.google.com/~r/smartdatacollective_allposts/~3/AHCB_VJvSC0/guiding-principles-data-enrichment"
       ]
      },
      {
       "output_type": "stream",
       "stream": "stdout",
       "text": [
        "\n",
        "Retrieved article 160 at: http://feedproxy.google.com/~r/smartdatacollective_allposts/~3/aZL8LUjDpfc/how-internet-things-can-create-disruptive-business-models"
       ]
      },
      {
       "output_type": "stream",
       "stream": "stdout",
       "text": [
        "\n",
        "Retrieved article 161 at: http://feedproxy.google.com/~r/smartdatacollective_allposts/~3/cGO-E3Zo-84/it-doesn-t-matter-until-it-does"
       ]
      },
      {
       "output_type": "stream",
       "stream": "stdout",
       "text": [
        "\n",
        "Retrieved article 162 at: http://feedproxy.google.com/~r/smartdatacollective_allposts/~3/cUWiwDZ8bhE/how-hire-data-scientist"
       ]
      },
      {
       "output_type": "stream",
       "stream": "stdout",
       "text": [
        "\n",
        "Retrieved article 163 at: http://feedproxy.google.com/~r/smartdatacollective_allposts/~3/6x8c-Svgeww/potential-impediments-rise-big-data"
       ]
      },
      {
       "output_type": "stream",
       "stream": "stdout",
       "text": [
        "\n",
        "Retrieved article 164 at: http://feedproxy.google.com/~r/smartdatacollective_allposts/~3/mCZSAtVUY00/interview-need-big-data-governance"
       ]
      },
      {
       "output_type": "stream",
       "stream": "stdout",
       "text": [
        "\n",
        "Retrieved article 165 at: http://feedproxy.google.com/~r/smartdatacollective_allposts/~3/QsqAqDGKNkY/wearable-tech-could-these-futuristic-gadgets-improve-your-health"
       ]
      },
      {
       "output_type": "stream",
       "stream": "stdout",
       "text": [
        "\n",
        "Retrieved article 166 at: http://feedproxy.google.com/~r/smartdatacollective_allposts/~3/lGoZWvjmzNI/giants-vs-startups-who-future-enterprise-technology"
       ]
      },
      {
       "output_type": "stream",
       "stream": "stdout",
       "text": [
        "\n",
        "Retrieved article 167 at: http://feedproxy.google.com/~r/smartdatacollective_allposts/~3/s-H1a9vYJ40/7-ways-businesses-are-leveraging-hadoop"
       ]
      },
      {
       "output_type": "stream",
       "stream": "stdout",
       "text": [
        "\n",
        "Retrieved article 168 at: http://feedproxy.google.com/~r/smartdatacollective_allposts/~3/9jmjW4j7nSs/can-big-data-and-hadoop-feed-world"
       ]
      },
      {
       "output_type": "stream",
       "stream": "stdout",
       "text": [
        "\n",
        "Retrieved article 169 at: http://feedproxy.google.com/~r/smartdatacollective_allposts/~3/cwi_P9iS5qE/business-analytics-2014-trends-and-possibilities"
       ]
      },
      {
       "output_type": "stream",
       "stream": "stdout",
       "text": [
        "\n",
        "Retrieved article 170 at: http://feedproxy.google.com/~r/smartdatacollective_allposts/~3/ttBT982JjxE/how-big-data-analytics-will-affect-your-company-culture"
       ]
      },
      {
       "output_type": "stream",
       "stream": "stdout",
       "text": [
        "\n",
        "Retrieved article 171 at: http://feedproxy.google.com/~r/smartdatacollective_allposts/~3/pGtlMMLeLhk/bcg-s-value-creators-report-shows-how-software-driving-new-business-models"
       ]
      },
      {
       "output_type": "stream",
       "stream": "stdout",
       "text": [
        "\n",
        "Retrieved article 172 at: http://feedproxy.google.com/~r/smartdatacollective_allposts/~3/_cVdmrSMX_Y/analytics-role-marketing-initiatives"
       ]
      },
      {
       "output_type": "stream",
       "stream": "stdout",
       "text": [
        "\n",
        "Retrieved article 173 at: http://feedproxy.google.com/~r/smartdatacollective_allposts/~3/ENTWRn0Gqtg/considering-embedded-bi"
       ]
      },
      {
       "output_type": "stream",
       "stream": "stdout",
       "text": [
        "\n",
        "Retrieved article 174 at: http://feedproxy.google.com/~r/RBloggers/~3/3jboRFV7gzM/"
       ]
      },
      {
       "output_type": "stream",
       "stream": "stdout",
       "text": [
        "\n",
        "Retrieved article 175 at: http://feedproxy.google.com/~r/RBloggers/~3/HGVEe1OErmU/"
       ]
      },
      {
       "output_type": "stream",
       "stream": "stdout",
       "text": [
        "\n",
        "Retrieved article 176 at: http://feedproxy.google.com/~r/RBloggers/~3/aJV3NoOoi44/"
       ]
      },
      {
       "output_type": "stream",
       "stream": "stdout",
       "text": [
        "\n",
        "Retrieved article 177 at: http://feedproxy.google.com/~r/RBloggers/~3/O-oTZpF2RRA/"
       ]
      },
      {
       "output_type": "stream",
       "stream": "stdout",
       "text": [
        "\n",
        "Retrieved article 178 at: http://feedproxy.google.com/~r/RBloggers/~3/RwZDV-I0XXw/"
       ]
      },
      {
       "output_type": "stream",
       "stream": "stdout",
       "text": [
        "\n",
        "Retrieved article 179 at: http://feedproxy.google.com/~r/RBloggers/~3/MJ0lqLPC6zI/"
       ]
      },
      {
       "output_type": "stream",
       "stream": "stdout",
       "text": [
        "\n",
        "Retrieved article 180 at: http://feedproxy.google.com/~r/RBloggers/~3/uMQB9o-LOh8/"
       ]
      },
      {
       "output_type": "stream",
       "stream": "stdout",
       "text": [
        "\n",
        "Retrieved article 181 at: http://feedproxy.google.com/~r/RBloggers/~3/Je-0yjHa0vs/"
       ]
      },
      {
       "output_type": "stream",
       "stream": "stdout",
       "text": [
        "\n",
        "Retrieved article 182 at: http://normaldeviate.wordpress.com/2013/12/16/the-end/"
       ]
      },
      {
       "output_type": "stream",
       "stream": "stdout",
       "text": [
        "\n",
        "Retrieved article 183 at: http://normaldeviate.wordpress.com/2013/11/16/steins-method/"
       ]
      },
      {
       "output_type": "stream",
       "stream": "stdout",
       "text": [
        "\n",
        "Retrieved article 184 at: http://normaldeviate.wordpress.com/2013/10/31/nonparametric-regression-abc-and-cnn/"
       ]
      },
      {
       "output_type": "stream",
       "stream": "stdout",
       "text": [
        "\n",
        "Retrieved article 185 at: http://normaldeviate.wordpress.com/2013/10/23/pubmed-commons/"
       ]
      },
      {
       "output_type": "stream",
       "stream": "stdout",
       "text": [
        "\n",
        "Retrieved article 186 at: http://normaldeviate.wordpress.com/2013/10/15/the-terminator-statistics-fair-use-and-hedge-funds/"
       ]
      },
      {
       "output_type": "stream",
       "stream": "stdout",
       "text": [
        "\n",
        "Retrieved article 187 at: http://normaldeviate.wordpress.com/2013/10/03/assumption-free-high-dimensional-inference/"
       ]
      },
      {
       "output_type": "stream",
       "stream": "stdout",
       "text": [
        "\n",
        "Retrieved article 188 at: http://normaldeviate.wordpress.com/2013/09/29/estimating-undirected-graphs-under-weak-assumptions/"
       ]
      },
      {
       "output_type": "stream",
       "stream": "stdout",
       "text": [
        "\n",
        "Retrieved article 189 at: http://normaldeviate.wordpress.com/2013/09/17/two-announcements/"
       ]
      },
      {
       "output_type": "stream",
       "stream": "stdout",
       "text": [
        "\n",
        "Retrieved article 190 at: http://normaldeviate.wordpress.com/2013/09/11/consistency-sparsistency-and-presistency/"
       ]
      },
      {
       "output_type": "stream",
       "stream": "stdout",
       "text": [
        "\n",
        "Retrieved article 191 at: http://normaldeviate.wordpress.com/2013/09/01/is-bayesian-inference-a-religion/"
       ]
      },
      {
       "output_type": "stream",
       "stream": "stdout",
       "text": [
        "\n",
        "Retrieved article 192 at: http://feedproxy.google.com/~r/JuiceAnalytics/~3/XXVIwZWVdXk/"
       ]
      },
      {
       "output_type": "stream",
       "stream": "stdout",
       "text": [
        "\n",
        "Retrieved article 193 at: http://feedproxy.google.com/~r/JuiceAnalytics/~3/XN9p1UNBBm0/"
       ]
      },
      {
       "output_type": "stream",
       "stream": "stdout",
       "text": [
        "\n",
        "Retrieved article 194 at: http://feedproxy.google.com/~r/JuiceAnalytics/~3/0Wk69eKwzcg/"
       ]
      },
      {
       "output_type": "stream",
       "stream": "stdout",
       "text": [
        "\n",
        "Retrieved article 195 at: http://feedproxy.google.com/~r/JuiceAnalytics/~3/L-nEHfTwOIU/"
       ]
      },
      {
       "output_type": "stream",
       "stream": "stdout",
       "text": [
        "\n",
        "Retrieved article 196 at: http://feedproxy.google.com/~r/JuiceAnalytics/~3/LcAm33q5Qao/"
       ]
      },
      {
       "output_type": "stream",
       "stream": "stdout",
       "text": [
        "\n",
        "Retrieved article 197 at: http://feedproxy.google.com/~r/JuiceAnalytics/~3/vEeT3oTN2no/"
       ]
      },
      {
       "output_type": "stream",
       "stream": "stdout",
       "text": [
        "\n",
        "Retrieved article 198 at: http://feedproxy.google.com/~r/JuiceAnalytics/~3/8DrGRxkQoQ8/"
       ]
      },
      {
       "output_type": "stream",
       "stream": "stdout",
       "text": [
        "\n",
        "Retrieved article 199 at: http://feedproxy.google.com/~r/JuiceAnalytics/~3/R4RENt7AIU4/"
       ]
      },
      {
       "output_type": "stream",
       "stream": "stdout",
       "text": [
        "\n",
        "Retrieved article 200 at: http://feedproxy.google.com/~r/JuiceAnalytics/~3/Kcb-K7Z2Czs/"
       ]
      },
      {
       "output_type": "stream",
       "stream": "stdout",
       "text": [
        "\n",
        "Retrieved article 201 at: http://feedproxy.google.com/~r/JuiceAnalytics/~3/BD0GihqgBFc/"
       ]
      },
      {
       "output_type": "stream",
       "stream": "stdout",
       "text": [
        "\n",
        "Retrieved article 202 at: http://feedproxy.google.com/~r/Datadoodle/~3/M7Idn9qevDA/"
       ]
      },
      {
       "output_type": "stream",
       "stream": "stdout",
       "text": [
        "\n",
        "Retrieved article 203 at: http://feedproxy.google.com/~r/Datadoodle/~3/rqf-tKFoZ0Y/"
       ]
      },
      {
       "output_type": "stream",
       "stream": "stdout",
       "text": [
        "\n",
        "Retrieved article 204 at: http://feedproxy.google.com/~r/Datadoodle/~3/c7pXpgmm_vw/"
       ]
      },
      {
       "output_type": "stream",
       "stream": "stdout",
       "text": [
        "\n",
        "Retrieved article 205 at: http://feedproxy.google.com/~r/Datadoodle/~3/XK6krWhMsvg/"
       ]
      },
      {
       "output_type": "stream",
       "stream": "stdout",
       "text": [
        "\n",
        "Retrieved article 206 at: http://feedproxy.google.com/~r/Datadoodle/~3/l6ixRIBnUXE/"
       ]
      },
      {
       "output_type": "stream",
       "stream": "stdout",
       "text": [
        "\n",
        "Retrieved article 207 at: http://feedproxy.google.com/~r/Datadoodle/~3/LP4EkKKBS9w/"
       ]
      },
      {
       "output_type": "stream",
       "stream": "stdout",
       "text": [
        "\n",
        "Retrieved article 208 at: http://feedproxy.google.com/~r/Datadoodle/~3/5rUckQ7QvjA/"
       ]
      },
      {
       "output_type": "stream",
       "stream": "stdout",
       "text": [
        "\n",
        "Retrieved article 209 at: http://feedproxy.google.com/~r/Datadoodle/~3/KNfiOGpOT7E/"
       ]
      },
      {
       "output_type": "stream",
       "stream": "stdout",
       "text": [
        "\n",
        "Retrieved article 210 at: http://feedproxy.google.com/~r/Datadoodle/~3/f6KMOmXG900/"
       ]
      },
      {
       "output_type": "stream",
       "stream": "stdout",
       "text": [
        "\n",
        "Retrieved article 211 at: http://feedproxy.google.com/~r/Datadoodle/~3/djOdV8Zz9aw/"
       ]
      },
      {
       "output_type": "stream",
       "stream": "stdout",
       "text": [
        "\n",
        "Retrieved article 212 at: http://www.tatvic.com/blog/e-commerce-strategy-how-to-choose-between-mobile-website-and-native-app/"
       ]
      },
      {
       "output_type": "stream",
       "stream": "stdout",
       "text": [
        "\n",
        "Retrieved article 213 at: http://www.tatvic.com/blog/forecasting-the-number-of-visitors-on-your-website-using-r-part-i/"
       ]
      },
      {
       "output_type": "stream",
       "stream": "stdout",
       "text": [
        "\n",
        "Retrieved article 214 at: http://www.tatvic.com/blog/forecasting-the-number-of-visitors-on-your-website-using-r-part-ii/"
       ]
      },
      {
       "output_type": "stream",
       "stream": "stdout",
       "text": [
        "\n",
        "Retrieved article 215 at: http://www.tatvic.com/blog/new-features-announced-in-google-analytics-summit-2013/"
       ]
      },
      {
       "output_type": "stream",
       "stream": "stdout",
       "text": [
        "\n",
        "Retrieved article 216 at: http://www.tatvic.com/blog/how-to-implement-google-tag-manager-for-android/"
       ]
      },
      {
       "output_type": "stream",
       "stream": "stdout",
       "text": [
        "\n",
        "Retrieved article 217 at: http://www.tatvic.com/blog/an-introduction-to-collaborative-filtering/"
       ]
      },
      {
       "output_type": "stream",
       "stream": "stdout",
       "text": [
        "\n",
        "Retrieved article 218 at: http://www.tatvic.com/blog/google-hangout-the-future-of-working-with-data-with-michael-koploy-and-thomas-davenport/"
       ]
      },
      {
       "output_type": "stream",
       "stream": "stdout",
       "text": [
        "\n",
        "Retrieved article 219 at: http://www.tatvic.com/blog/highlights-of-the-amazon-web-services-summit-mumbai-2013/"
       ]
      },
      {
       "output_type": "stream",
       "stream": "stdout",
       "text": [
        "\n",
        "Retrieved article 220 at: http://www.tatvic.com/blog/predictive-analysis-on-web-analytics-tool-data/"
       ]
      },
      {
       "output_type": "stream",
       "stream": "stdout",
       "text": [
        "\n",
        "Retrieved article 221 at: http://www.tatvic.com/blog/web-analytics-visualization-through-ggplot2/"
       ]
      },
      {
       "output_type": "stream",
       "stream": "stdout",
       "text": [
        "\n",
        "Retrieved article 222 at: http://fbhalper.wordpress.com/2014/01/24/four-ways-to-illustrate-the-value-of-predictive-analytics/"
       ]
      },
      {
       "output_type": "stream",
       "stream": "stdout",
       "text": [
        "\n",
        "Retrieved article 223 at: http://fbhalper.wordpress.com/2013/11/18/three-entry-points-for-big-data-initiatives/"
       ]
      },
      {
       "output_type": "stream",
       "stream": "stdout",
       "text": [
        "\n",
        "Retrieved article 224 at: http://fbhalper.wordpress.com/2013/09/11/deathtrap-overlearning-in-predictive-analtyics/"
       ]
      },
      {
       "output_type": "stream",
       "stream": "stdout",
       "text": [
        "\n",
        "Retrieved article 225 at: http://fbhalper.wordpress.com/2013/08/09/big-datas-futurebig-datas-past/"
       ]
      },
      {
       "output_type": "stream",
       "stream": "stdout",
       "text": [
        "\n",
        "Retrieved article 226 at: http://fbhalper.wordpress.com/2013/05/22/five-trends-in-predictive-analytics/"
       ]
      },
      {
       "output_type": "stream",
       "stream": "stdout",
       "text": [
        "\n",
        "Retrieved article 227 at: http://fbhalper.wordpress.com/2013/05/16/closing-the-loop-in-customer-experience-management-when-it-doesnt-work/"
       ]
      },
      {
       "output_type": "stream",
       "stream": "stdout",
       "text": [
        "\n",
        "Retrieved article 228 at: http://fbhalper.wordpress.com/2013/04/15/two-big-data-resources-worth-exploring/"
       ]
      },
      {
       "output_type": "stream",
       "stream": "stdout",
       "text": [
        "\n",
        "Retrieved article 229 at: http://fbhalper.wordpress.com/2013/04/08/3-takeaways-from-the-ibm-big-data-event/"
       ]
      },
      {
       "output_type": "stream",
       "stream": "stdout",
       "text": [
        "\n",
        "Retrieved article 230 at: http://fbhalper.wordpress.com/2013/03/29/two-weeks-and-counting-to-big-data-for-dummies/"
       ]
      },
      {
       "output_type": "stream",
       "stream": "stdout",
       "text": [
        "\n",
        "Retrieved article 231 at: http://fbhalper.wordpress.com/2013/02/14/five-best-practices-for-text-analytics/"
       ]
      },
      {
       "output_type": "stream",
       "stream": "stdout",
       "text": [
        "\n",
        "Retrieved article 232 at: http://rgrossman.com/2013/09/25/bionimbus-pdc-update/"
       ]
      },
      {
       "output_type": "stream",
       "stream": "stdout",
       "text": [
        "\n",
        "Retrieved article 233 at: http://rgrossman.com/2013/03/20/a-tool-for-keeping-big-data-in-sync/"
       ]
      },
      {
       "output_type": "stream",
       "stream": "stdout",
       "text": [
        "\n",
        "Retrieved article 234 at: http://rgrossman.com/2013/02/15/osdc-pire-2013-fellowships/"
       ]
      },
      {
       "output_type": "stream",
       "stream": "stdout",
       "text": [
        "\n",
        "Retrieved article 235 at: http://rgrossman.com/2012/12/21/the-unreasonable-effectiveness-of-consensus-labeling/"
       ]
      },
      {
       "output_type": "stream",
       "stream": "stdout",
       "text": [
        "\n",
        "Retrieved article 236 at: http://rgrossman.com/2012/11/20/osdc-2012-update/"
       ]
      },
      {
       "output_type": "stream",
       "stream": "stdout",
       "text": [
        "\n",
        "Retrieved article 237 at: http://rgrossman.com/2012/10/12/datascopes-for-the-long-tail-of-science/"
       ]
      },
      {
       "output_type": "stream",
       "stream": "stdout",
       "text": [
        "\n",
        "Retrieved article 238 at: http://rgrossman.com/2012/09/18/million-genomes-challeng/"
       ]
      },
      {
       "output_type": "stream",
       "stream": "stdout",
       "text": [
        "\n",
        "Retrieved article 239 at: http://rgrossman.com/2012/07/09/remote-and-distributed-data/"
       ]
      },
      {
       "output_type": "stream",
       "stream": "stdout",
       "text": [
        "\n",
        "Retrieved article 240 at: http://rgrossman.com/2012/06/06/an-introduction-to-big-data-for-general-reader/"
       ]
      },
      {
       "output_type": "stream",
       "stream": "stdout",
       "text": [
        "\n",
        "Retrieved article 241 at: http://rgrossman.com/2012/05/06/the-five-eras-of-computing/"
       ]
      },
      {
       "output_type": "stream",
       "stream": "stdout",
       "text": [
        "\n",
        "Retrieved article 242 at: https://blogs.oracle.com/datamining/entry/how_to_export_data_from"
       ]
      },
      {
       "output_type": "stream",
       "stream": "stdout",
       "text": [
        "\n",
        "Retrieved article 243 at: https://blogs.oracle.com/datamining/entry/oracle_biwa_summit_2014_january"
       ]
      },
      {
       "output_type": "stream",
       "stream": "stdout",
       "text": [
        "\n",
        "Retrieved article 244 at: https://blogs.oracle.com/datamining/entry/come_see_and_test_drive"
       ]
      },
      {
       "output_type": "stream",
       "stream": "stdout",
       "text": [
        "\n",
        "Retrieved article 245 at: https://blogs.oracle.com/datamining/entry/oracle_big_data_learning_library"
       ]
      },
      {
       "output_type": "stream",
       "stream": "stdout",
       "text": [
        "\n",
        "Retrieved article 246 at: https://blogs.oracle.com/datamining/entry/oracle_data_miner_extension_of"
       ]
      },
      {
       "output_type": "stream",
       "stream": "stdout",
       "text": [
        "\n",
        "Retrieved article 247 at: https://blogs.oracle.com/datamining/entry/oracle_data_miner_gui_part"
       ]
      },
      {
       "output_type": "stream",
       "stream": "stdout",
       "text": [
        "\n",
        "Retrieved article 248 at: https://blogs.oracle.com/datamining/entry/oracle_advanced_analytics_and_data"
       ]
      },
      {
       "output_type": "stream",
       "stream": "stdout",
       "text": [
        "\n",
        "Retrieved article 249 at: https://blogs.oracle.com/datamining/entry/recorded_webcast_best_practices_using"
       ]
      },
      {
       "output_type": "stream",
       "stream": "stdout",
       "text": [
        "\n",
        "Retrieved article 250 at: https://blogs.oracle.com/datamining/entry/oracle_openworld_call_for_proposals"
       ]
      },
      {
       "output_type": "stream",
       "stream": "stdout",
       "text": [
        "\n",
        "Retrieved article 251 at: https://blogs.oracle.com/datamining/entry/take_a_free_test_drive"
       ]
      },
      {
       "output_type": "stream",
       "stream": "stdout",
       "text": [
        "\n",
        "Retrieved article 252 at: https://blogs.oracle.com/datamining/entry/biwa_summit_2013_presentations_now"
       ]
      },
      {
       "output_type": "stream",
       "stream": "stdout",
       "text": [
        "\n",
        "Retrieved article 253 at: https://blogs.oracle.com/datamining/entry/turkcell_combats_pre_paid_calling1"
       ]
      },
      {
       "output_type": "stream",
       "stream": "stdout",
       "text": [
        "\n",
        "Retrieved article 254 at: https://blogs.oracle.com/datamining/entry/new_oracle_advanced_analytics_presentation"
       ]
      },
      {
       "output_type": "stream",
       "stream": "stdout",
       "text": [
        "\n",
        "Retrieved article 255 at: https://blogs.oracle.com/datamining/entry/fr"
       ]
      },
      {
       "output_type": "stream",
       "stream": "stdout",
       "text": [
        "\n",
        "Retrieved article 256 at: https://blogs.oracle.com/datamining/entry/oracle_virtual_sql_developer_days"
       ]
      },
      {
       "output_type": "stream",
       "stream": "stdout",
       "text": [
        "\n",
        "Retrieved article 257 at: https://blogs.oracle.com/datamining/entry/two_oracle_data_mining_virtual"
       ]
      },
      {
       "output_type": "stream",
       "stream": "stdout",
       "text": [
        "\n",
        "Retrieved article 258 at: https://blogs.oracle.com/datamining/entry/recorded_youtube_like_presentation_and"
       ]
      },
      {
       "output_type": "stream",
       "stream": "stdout",
       "text": [
        "\n",
        "Retrieved article 259 at: https://blogs.oracle.com/datamining/entry/new_2_day_instructor_led"
       ]
      },
      {
       "output_type": "stream",
       "stream": "stdout",
       "text": [
        "\n",
        "Retrieved article 260 at: https://blogs.oracle.com/datamining/entry/evaluating_oracle_data_mining_has"
       ]
      },
      {
       "output_type": "stream",
       "stream": "stdout",
       "text": [
        "\n",
        "Retrieved article 261 at: https://blogs.oracle.com/datamining/entry/oracle_announces_availability_of_oracle"
       ]
      },
      {
       "output_type": "stream",
       "stream": "stdout",
       "text": [
        "\n",
        "Retrieved article 262 at: https://blogs.oracle.com/datamining/entry/building_predictive_analytical_applications_using"
       ]
      },
      {
       "output_type": "stream",
       "stream": "stdout",
       "text": [
        "\n",
        "Retrieved article 263 at: https://blogs.oracle.com/datamining/entry/sail_world_article_america_s"
       ]
      },
      {
       "output_type": "stream",
       "stream": "stdout",
       "text": [
        "\n",
        "Retrieved article 264 at: https://blogs.oracle.com/datamining/entry/oracle_fusion_human_capital_management"
       ]
      },
      {
       "output_type": "stream",
       "stream": "stdout",
       "text": [
        "\n",
        "Retrieved article 265 at: https://blogs.oracle.com/datamining/entry/explore_graph"
       ]
      },
      {
       "output_type": "stream",
       "stream": "stdout",
       "text": [
        "\n",
        "Retrieved article 266 at: https://blogs.oracle.com/datamining/entry/recorded_oracle_data_mining_demo_and_presentation"
       ]
      },
      {
       "output_type": "stream",
       "stream": "stdout",
       "text": [
        "\n",
        "Retrieved article 267 at: https://blogs.oracle.com/datamining/entry/how_to_deploy_an_oracle_data_miner_11gr2_work_flow_model"
       ]
      },
      {
       "output_type": "stream",
       "stream": "stdout",
       "text": [
        "\n",
        "Retrieved article 268 at: https://blogs.oracle.com/datamining/entry/openworld_2011_call_for_papers_deadline_march_27"
       ]
      },
      {
       "output_type": "stream",
       "stream": "stdout",
       "text": [
        "\n",
        "Retrieved article 269 at: https://blogs.oracle.com/datamining/entry/oracle_data_mining_a_star_schema_telco_churn_case_study"
       ]
      },
      {
       "output_type": "stream",
       "stream": "stdout",
       "text": [
        "\n",
        "Retrieved article 270 at: https://blogs.oracle.com/datamining/entry/effective_hypertensive_treatment_using_oracle_data_mining_in_saudi_arabia"
       ]
      },
      {
       "output_type": "stream",
       "stream": "stdout",
       "text": [
        "\n",
        "Retrieved article 271 at: https://blogs.oracle.com/datamining/entry/missed_oracle_open_world_2010_visit_the_virtual_collateral_rack"
       ]
      },
      {
       "output_type": "stream",
       "stream": "stdout",
       "text": [
        "\n",
        "Retrieved article 272 at: http://www.tomhcanderson.com/2014/01/27/youtube-text-analytics-interview/"
       ]
      },
      {
       "output_type": "stream",
       "stream": "stdout",
       "text": [
        "\n",
        "Retrieved article 273 at: http://www.tomhcanderson.com/2014/01/13/the-secret-about-innovation/"
       ]
      },
      {
       "output_type": "stream",
       "stream": "stdout",
       "text": [
        "\n",
        "Retrieved article 274 at: http://www.tomhcanderson.com/2014/01/06/2014-market-research-predictions/"
       ]
      },
      {
       "output_type": "stream",
       "stream": "stdout",
       "text": [
        "\n",
        "Retrieved article 275 at: http://www.tomhcanderson.com/2014/01/01/top-3-blog-posts-of-2013/"
       ]
      },
      {
       "output_type": "stream",
       "stream": "stdout",
       "text": [
        "\n",
        "Retrieved article 276 at: http://www.tomhcanderson.com/2013/12/23/google-glass-vampires-and-fraternity-scrolls/"
       ]
      },
      {
       "output_type": "stream",
       "stream": "stdout",
       "text": [
        "\n",
        "Retrieved article 277 at: http://www.tomhcanderson.com/2013/12/23/keep-pr-folks-away-from-text-analysis-and-twitter/"
       ]
      },
      {
       "output_type": "stream",
       "stream": "stdout",
       "text": [
        "\n",
        "Retrieved article 278 at: http://www.tomhcanderson.com/2013/12/03/google-glass-explorer-kicked-out-of-restaurant/"
       ]
      },
      {
       "output_type": "stream",
       "stream": "stdout",
       "text": [
        "\n",
        "Retrieved article 279 at: http://www.tomhcanderson.com/2013/11/26/the-one-person-to-follow-on-twitter/"
       ]
      },
      {
       "output_type": "stream",
       "stream": "stdout",
       "text": [
        "\n",
        "Retrieved article 280 at: http://www.tomhcanderson.com/2013/11/25/google-glass-natural-language-interface-and-personal-big-data/"
       ]
      },
      {
       "output_type": "stream",
       "stream": "stdout",
       "text": [
        "\n",
        "Retrieved article 281 at: http://www.datasciencecentral.com/xn/detail/6448529:BlogPost:137608"
       ]
      },
      {
       "output_type": "stream",
       "stream": "stdout",
       "text": [
        "\n",
        "Retrieved article 282 at: http://www.datasciencecentral.com/xn/detail/6448529:BlogPost:137268"
       ]
      },
      {
       "output_type": "stream",
       "stream": "stdout",
       "text": [
        "\n",
        "Retrieved article 283 at: http://www.datasciencecentral.com/xn/detail/6448529:BlogPost:137264"
       ]
      },
      {
       "output_type": "stream",
       "stream": "stdout",
       "text": [
        "\n",
        "Retrieved article 284 at: http://www.datasciencecentral.com/xn/detail/6448529:BlogPost:137032"
       ]
      },
      {
       "output_type": "stream",
       "stream": "stdout",
       "text": [
        "\n",
        "Retrieved article 285 at: http://www.datasciencecentral.com/xn/detail/6448529:BlogPost:136915"
       ]
      },
      {
       "output_type": "stream",
       "stream": "stdout",
       "text": [
        "\n",
        "Retrieved article 286 at: http://www.datasciencecentral.com/xn/detail/6448529:BlogPost:136836"
       ]
      },
      {
       "output_type": "stream",
       "stream": "stdout",
       "text": [
        "\n",
        "Retrieved article 287 at: http://www.datasciencecentral.com/xn/detail/6448529:BlogPost:131116"
       ]
      },
      {
       "output_type": "stream",
       "stream": "stdout",
       "text": [
        "\n",
        "Retrieved article 288 at: http://www.datasciencecentral.com/xn/detail/6448529:BlogPost:136293"
       ]
      },
      {
       "output_type": "stream",
       "stream": "stdout",
       "text": [
        "\n",
        "Retrieved article 289 at: http://www.datasciencecentral.com/xn/detail/6448529:BlogPost:136246"
       ]
      },
      {
       "output_type": "stream",
       "stream": "stdout",
       "text": [
        "\n",
        "Retrieved article 290 at: http://www.datasciencecentral.com/xn/detail/6448529:BlogPost:136112"
       ]
      },
      {
       "output_type": "stream",
       "stream": "stdout",
       "text": [
        "\n",
        "Retrieved article 291 at: http://www.datasciencecentral.com/xn/detail/6448529:BlogPost:136022"
       ]
      },
      {
       "output_type": "stream",
       "stream": "stdout",
       "text": [
        "\n",
        "Retrieved article 292 at: http://www.datasciencecentral.com/xn/detail/6448529:BlogPost:135825"
       ]
      },
      {
       "output_type": "stream",
       "stream": "stdout",
       "text": [
        "\n",
        "Retrieved article 293 at: http://www.datasciencecentral.com/xn/detail/6448529:BlogPost:135807"
       ]
      },
      {
       "output_type": "stream",
       "stream": "stdout",
       "text": [
        "\n",
        "Retrieved article 294 at: http://www.datasciencecentral.com/xn/detail/6448529:BlogPost:135803"
       ]
      },
      {
       "output_type": "stream",
       "stream": "stdout",
       "text": [
        "\n",
        "Retrieved article 295 at: http://www.datasciencecentral.com/xn/detail/6448529:BlogPost:135706"
       ]
      },
      {
       "output_type": "stream",
       "stream": "stdout",
       "text": [
        "\n",
        "Retrieved article 296 at: http://www.datasciencecentral.com/xn/detail/6448529:BlogPost:135502"
       ]
      },
      {
       "output_type": "stream",
       "stream": "stdout",
       "text": [
        "\n",
        "Retrieved article 297 at: http://www.datasciencecentral.com/xn/detail/6448529:BlogPost:135219"
       ]
      },
      {
       "output_type": "stream",
       "stream": "stdout",
       "text": [
        "\n",
        "Retrieved article 298 at: http://www.datasciencecentral.com/xn/detail/6448529:BlogPost:134881"
       ]
      },
      {
       "output_type": "stream",
       "stream": "stdout",
       "text": [
        "\n",
        "Retrieved article 299 at: http://www.datasciencecentral.com/xn/detail/6448529:BlogPost:134841"
       ]
      },
      {
       "output_type": "stream",
       "stream": "stdout",
       "text": [
        "\n",
        "Retrieved article 300 at: http://www.datasciencecentral.com/xn/detail/6448529:BlogPost:134557"
       ]
      },
      {
       "output_type": "stream",
       "stream": "stdout",
       "text": [
        "\n",
        "Retrieved article 301 at: http://www.datasciencecentral.com/xn/detail/6448529:BlogPost:134476"
       ]
      },
      {
       "output_type": "stream",
       "stream": "stdout",
       "text": [
        "\n",
        "Retrieved article 302 at: http://www.datasciencecentral.com/xn/detail/6448529:BlogPost:134461"
       ]
      },
      {
       "output_type": "stream",
       "stream": "stdout",
       "text": [
        "\n",
        "Retrieved article 303 at: http://www.datasciencecentral.com/xn/detail/6448529:BlogPost:134188"
       ]
      },
      {
       "output_type": "stream",
       "stream": "stdout",
       "text": [
        "\n",
        "Retrieved article 304 at: http://www.datasciencecentral.com/xn/detail/6448529:BlogPost:134617"
       ]
      },
      {
       "output_type": "stream",
       "stream": "stdout",
       "text": [
        "\n",
        "Retrieved article 305 at: http://www.datasciencecentral.com/xn/detail/6448529:BlogPost:134270"
       ]
      },
      {
       "output_type": "stream",
       "stream": "stdout",
       "text": [
        "\n",
        "Retrieved article 306 at: http://www.datasciencecentral.com/xn/detail/6448529:BlogPost:134061"
       ]
      },
      {
       "output_type": "stream",
       "stream": "stdout",
       "text": [
        "\n",
        "Retrieved article 307 at: http://www.datasciencecentral.com/xn/detail/6448529:BlogPost:133935"
       ]
      },
      {
       "output_type": "stream",
       "stream": "stdout",
       "text": [
        "\n",
        "Retrieved article 308 at: http://www.datasciencecentral.com/xn/detail/6448529:BlogPost:133310"
       ]
      },
      {
       "output_type": "stream",
       "stream": "stdout",
       "text": [
        "\n",
        "Retrieved article 309 at: http://www.datasciencecentral.com/xn/detail/6448529:BlogPost:132985"
       ]
      },
      {
       "output_type": "stream",
       "stream": "stdout",
       "text": [
        "\n",
        "Retrieved article 310 at: http://www.datasciencecentral.com/xn/detail/6448529:BlogPost:132797"
       ]
      },
      {
       "output_type": "stream",
       "stream": "stdout",
       "text": [
        "\n",
        "Retrieved article 311 at: http://mathbabe.org/2014/01/30/friday-protest-in-queens-against-fast-track-tpp-ows/"
       ]
      },
      {
       "output_type": "stream",
       "stream": "stdout",
       "text": [
        "\n",
        "Retrieved article 312 at: http://mathbabe.org/2014/01/29/diane-ravitch-speaks-in-westchester/"
       ]
      },
      {
       "output_type": "stream",
       "stream": "stdout",
       "text": [
        "\n",
        "Retrieved article 313 at: http://mathbabe.org/2014/01/28/jamie-dimons-bonus-too-low-shoulda-been-100-million-at-least/"
       ]
      },
      {
       "output_type": "stream",
       "stream": "stdout",
       "text": [
        "\n",
        "Retrieved article 314 at: http://mathbabe.org/2014/01/27/a-visit-to-fair-foods-in-winter/"
       ]
      },
      {
       "output_type": "stream",
       "stream": "stdout",
       "text": [
        "\n",
        "Retrieved article 315 at: http://mathbabe.org/2014/01/23/how-do-you-define-success-for-a-calculus-mooc/"
       ]
      },
      {
       "output_type": "stream",
       "stream": "stdout",
       "text": [
        "\n",
        "Retrieved article 316 at: http://mathbabe.org/2014/01/22/upcoming-talks-2/"
       ]
      },
      {
       "output_type": "stream",
       "stream": "stdout",
       "text": [
        "\n",
        "Retrieved article 317 at: http://mathbabe.org/2014/01/21/if-its-hocus-pocus-then-its-not-math/"
       ]
      },
      {
       "output_type": "stream",
       "stream": "stdout",
       "text": [
        "\n",
        "Retrieved article 318 at: http://mathbabe.org/2014/01/20/the-coming-calculus-mooc-revolution-and-the-end-of-math-research/"
       ]
      },
      {
       "output_type": "stream",
       "stream": "stdout",
       "text": [
        "\n",
        "Retrieved article 319 at: http://mathbabe.org/2014/01/19/billionaire-money-in-mathematics/"
       ]
      },
      {
       "output_type": "stream",
       "stream": "stdout",
       "text": [
        "\n",
        "Retrieved article 320 at: http://mathbabe.org/2014/01/18/aunt-pythias-advice-35/"
       ]
      },
      {
       "output_type": "stream",
       "stream": "stdout",
       "text": [
        "\n",
        "Retrieved article 321 at: http://monsiterdex.wordpress.com/2014/01/01/decimal-expansion-of-pi-interesting-observations/"
       ]
      },
      {
       "output_type": "stream",
       "stream": "stdout",
       "text": [
        "\n",
        "Retrieved article 322 at: http://monsiterdex.wordpress.com/2013/12/01/recursive-partitioning-in-r-example-of-customer-loyalty-data-mining/"
       ]
      },
      {
       "output_type": "stream",
       "stream": "stdout",
       "text": [
        "\n",
        "Retrieved article 323 at: http://monsiterdex.wordpress.com/2013/11/01/market-basket-analysis-apriori-algorithm-in-r-part-01/"
       ]
      },
      {
       "output_type": "stream",
       "stream": "stdout",
       "text": [
        "\n",
        "Retrieved article 324 at: http://monsiterdex.wordpress.com/2013/09/23/maximal-surpasser-count-problem-binary-search-tree-solution/"
       ]
      },
      {
       "output_type": "stream",
       "stream": "stdout",
       "text": [
        "\n",
        "Retrieved article 325 at: http://monsiterdex.wordpress.com/2013/09/08/the-truth-is-out-there-probability-of-upcoming-earthquake-in-new-york-city-first-look-at-data/"
       ]
      },
      {
       "output_type": "stream",
       "stream": "stdout",
       "text": [
        "\n",
        "Retrieved article 326 at: http://monsiterdex.wordpress.com/2013/08/29/fuzzy-string-matching-in-excel-and-access-longest-common-subsequence/"
       ]
      },
      {
       "output_type": "stream",
       "stream": "stdout",
       "text": [
        "\n",
        "Retrieved article 327 at: http://monsiterdex.wordpress.com/2013/08/03/andoid-application-harnessing-text-to-speech-to-create-audio-math-gym/"
       ]
      },
      {
       "output_type": "stream",
       "stream": "stdout",
       "text": [
        "\n",
        "Retrieved article 328 at: http://monsiterdex.wordpress.com/2013/07/27/analytics-signal-detection-part-07-data-wrinkle/"
       ]
      },
      {
       "output_type": "stream",
       "stream": "stdout",
       "text": [
        "\n",
        "Retrieved article 329 at: http://monsiterdex.wordpress.com/2013/07/19/math-workout-compete-against-the-world/"
       ]
      },
      {
       "output_type": "stream",
       "stream": "stdout",
       "text": [
        "\n",
        "Retrieved article 330 at: http://monsiterdex.wordpress.com/2013/07/12/singular-value-decomposition-main-course/"
       ]
      },
      {
       "output_type": "stream",
       "stream": "stdout",
       "text": [
        "\n",
        "Retrieved article 331 at: http://abbottanalytics.blogspot.com/2014/01/data-science-and-big-data-search-trends.html"
       ]
      },
      {
       "output_type": "stream",
       "stream": "stdout",
       "text": [
        "\n",
        "Retrieved article 332 at: http://abbottanalytics.blogspot.com/2014/01/speaking-engagements-first-quarter-2014.html"
       ]
      },
      {
       "output_type": "stream",
       "stream": "stdout",
       "text": [
        "\n",
        "Retrieved article 333 at: http://abbottanalytics.blogspot.com/2013/11/a-good-business-objective-beats-good.html"
       ]
      },
      {
       "output_type": "stream",
       "stream": "stdout",
       "text": [
        "\n",
        "Retrieved article 334 at: http://abbottanalytics.blogspot.com/2013/09/on-data-mining-contests.html"
       ]
      },
      {
       "output_type": "stream",
       "stream": "stdout",
       "text": [
        "\n",
        "Retrieved article 335 at: http://abbottanalytics.blogspot.com/2013/08/beware-phantom-data.html"
       ]
      },
      {
       "output_type": "stream",
       "stream": "stdout",
       "text": [
        "\n",
        "Retrieved article 336 at: http://abbottanalytics.blogspot.com/2013/07/the-nsa-link-analysis-and-fraud.html"
       ]
      },
      {
       "output_type": "stream",
       "stream": "stdout",
       "text": [
        "\n",
        "Retrieved article 337 at: http://abbottanalytics.blogspot.com/2013/06/big-data-is-not-enough.html"
       ]
      },
      {
       "output_type": "stream",
       "stream": "stdout",
       "text": [
        "\n",
        "Retrieved article 338 at: http://abbottanalytics.blogspot.com/2013/06/dean-abbott-featured-in-popular.html"
       ]
      },
      {
       "output_type": "stream",
       "stream": "stdout",
       "text": [
        "\n",
        "Retrieved article 339 at: http://abbottanalytics.blogspot.com/2013/04/math-and-predictive-analytics-personal.html"
       ]
      },
      {
       "output_type": "stream",
       "stream": "stdout",
       "text": [
        "\n",
        "Retrieved article 340 at: http://abbottanalytics.blogspot.com/2013/04/do-predictive-modelers-need-to-know-math.html"
       ]
      },
      {
       "output_type": "stream",
       "stream": "stdout",
       "text": [
        "\n",
        "Retrieved article 341 at: http://abbottanalytics.blogspot.com/2013/02/what-to-take-home-from-your-next.html"
       ]
      },
      {
       "output_type": "stream",
       "stream": "stdout",
       "text": [
        "\n",
        "Retrieved article 342 at: http://abbottanalytics.blogspot.com/2013/02/using-geographic-data.html"
       ]
      },
      {
       "output_type": "stream",
       "stream": "stdout",
       "text": [
        "\n",
        "Retrieved article 343 at: http://abbottanalytics.blogspot.com/2013/02/when-analysis-isnt-answer.html"
       ]
      },
      {
       "output_type": "stream",
       "stream": "stdout",
       "text": [
        "\n",
        "Retrieved article 344 at: http://abbottanalytics.blogspot.com/2013/01/three-ways-to-get-your-predictive.html"
       ]
      },
      {
       "output_type": "stream",
       "stream": "stdout",
       "text": [
        "\n",
        "Retrieved article 345 at: http://abbottanalytics.blogspot.com/2013/01/top-posts-in-2012.html"
       ]
      },
      {
       "output_type": "stream",
       "stream": "stdout",
       "text": [
        "\n",
        "Retrieved article 346 at: http://abbottanalytics.blogspot.com/2012/12/6-reasons-you-hired-wrong-data-miner.html"
       ]
      },
      {
       "output_type": "stream",
       "stream": "stdout",
       "text": [
        "\n",
        "Retrieved article 347 at: http://abbottanalytics.blogspot.com/2012/11/why-predictive-modelers-should-be.html"
       ]
      },
      {
       "output_type": "stream",
       "stream": "stdout",
       "text": [
        "\n",
        "Retrieved article 348 at: http://abbottanalytics.blogspot.com/2012/10/data-preparation-know-your-records.html"
       ]
      },
      {
       "output_type": "stream",
       "stream": "stdout",
       "text": [
        "\n",
        "Retrieved article 349 at: http://abbottanalytics.blogspot.com/2012/09/budgeting-time-on-modeling-project.html"
       ]
      },
      {
       "output_type": "stream",
       "stream": "stdout",
       "text": [
        "\n",
        "Retrieved article 350 at: http://abbottanalytics.blogspot.com/2012/09/what-do-we-call-what-we-do.html"
       ]
      },
      {
       "output_type": "stream",
       "stream": "stdout",
       "text": [
        "\n",
        "Retrieved article 351 at: http://abbottanalytics.blogspot.com/2012/08/choose-your-target-carefully.html"
       ]
      },
      {
       "output_type": "stream",
       "stream": "stdout",
       "text": [
        "\n",
        "Retrieved article 352 at: http://abbottanalytics.blogspot.com/2012/08/recently-published-research-what-makes.html"
       ]
      },
      {
       "output_type": "stream",
       "stream": "stdout",
       "text": [
        "\n",
        "Retrieved article 353 at: http://abbottanalytics.blogspot.com/2012/07/predicting-crime.html"
       ]
      },
      {
       "output_type": "stream",
       "stream": "stdout",
       "text": [
        "\n",
        "Retrieved article 354 at: http://abbottanalytics.blogspot.com/2012/06/where-it-began-john-elder-and-dean.html"
       ]
      },
      {
       "output_type": "stream",
       "stream": "stdout",
       "text": [
        "\n",
        "Retrieved article 355 at: http://abbottanalytics.blogspot.com/2012/05/predictive-analytics-world-had-target.html"
       ]
      },
      {
       "output_type": "stream",
       "stream": "stdout",
       "text": [
        "\n",
        "Retrieved article 356 at: http://blogs.wsj.com/numbersguy/what-family-dinners-can-and-cant-do-for-teens-1302/?mod=WSJBlog"
       ]
      },
      {
       "output_type": "stream",
       "stream": "stdout",
       "text": [
        "\n",
        "Retrieved article 357 at: http://blogs.wsj.com/numbersguy/food-photos-with-a-purpose-diet-data-1299/?mod=WSJBlog"
       ]
      },
      {
       "output_type": "stream",
       "stream": "stdout",
       "text": [
        "\n",
        "Retrieved article 358 at: http://blogs.wsj.com/numbersguy/chinas-new-child-policy-leaves-many-questions-1296/?mod=WSJBlog"
       ]
      },
      {
       "output_type": "stream",
       "stream": "stdout",
       "text": [
        "\n",
        "Retrieved article 359 at: http://blogs.wsj.com/numbersguy/sports-make-final-call-on-technology-1292/?mod=WSJBlog"
       ]
      },
      {
       "output_type": "stream",
       "stream": "stdout",
       "text": [
        "\n",
        "Retrieved article 360 at: http://blogs.wsj.com/numbersguy/is-fast-food-bad-value-for-the-public-1289/?mod=WSJBlog"
       ]
      },
      {
       "output_type": "stream",
       "stream": "stdout",
       "text": [
        "\n",
        "Retrieved article 361 at: http://blogs.wsj.com/numbersguy/the-slavery-reparations-calculations-1286/?mod=WSJBlog"
       ]
      },
      {
       "output_type": "stream",
       "stream": "stdout",
       "text": [
        "\n",
        "Retrieved article 362 at: http://blogs.wsj.com/numbersguy/a-house-and-senate-divided-1283/?mod=WSJBlog"
       ]
      },
      {
       "output_type": "stream",
       "stream": "stdout",
       "text": [
        "\n",
        "Retrieved article 363 at: http://blogs.wsj.com/numbersguy/timing-debt-deadlines-1280/?mod=WSJBlog"
       ]
      },
      {
       "output_type": "stream",
       "stream": "stdout",
       "text": [
        "\n",
        "Retrieved article 364 at: http://blogs.wsj.com/numbersguy/government-shutdowns-price-tag-1278/?mod=WSJBlog"
       ]
      },
      {
       "output_type": "stream",
       "stream": "stdout",
       "text": [
        "\n",
        "Retrieved article 365 at: http://blogs.wsj.com/numbersguy/how-will-the-new-health-care-exchanges-do-1277/?mod=WSJBlog"
       ]
      },
      {
       "output_type": "stream",
       "stream": "stdout",
       "text": [
        "\n",
        "Retrieved article 366 at: http://shapeofdata.wordpress.com/2014/01/28/configuration-spaces-and-the-meaning-of-probability/"
       ]
      },
      {
       "output_type": "stream",
       "stream": "stdout",
       "text": [
        "\n",
        "Retrieved article 367 at: http://shapeofdata.wordpress.com/2014/01/06/case-study-6-digital-images/"
       ]
      },
      {
       "output_type": "stream",
       "stream": "stdout",
       "text": [
        "\n",
        "Retrieved article 368 at: http://shapeofdata.wordpress.com/2013/12/26/case-study-5-wavelets/"
       ]
      },
      {
       "output_type": "stream",
       "stream": "stdout",
       "text": [
        "\n",
        "Retrieved article 369 at: http://shapeofdata.wordpress.com/2013/12/03/case-study-4-resonance-and-robots/"
       ]
      },
      {
       "output_type": "stream",
       "stream": "stdout",
       "text": [
        "\n",
        "Retrieved article 370 at: http://shapeofdata.wordpress.com/2013/10/23/case-study-3-free-form-text/"
       ]
      },
      {
       "output_type": "stream",
       "stream": "stdout",
       "text": [
        "\n",
        "Retrieved article 371 at: http://shapeofdata.wordpress.com/2013/10/09/cast-study-2-tokens-in-census-data/"
       ]
      },
      {
       "output_type": "stream",
       "stream": "stdout",
       "text": [
        "\n",
        "Retrieved article 372 at: http://shapeofdata.wordpress.com/2013/10/01/case-study-1-iris/"
       ]
      },
      {
       "output_type": "stream",
       "stream": "stdout",
       "text": [
        "\n",
        "Retrieved article 373 at: http://shapeofdata.wordpress.com/2013/09/25/tiloprc-clustering/"
       ]
      },
      {
       "output_type": "stream",
       "stream": "stdout",
       "text": [
        "\n",
        "Retrieved article 374 at: http://shapeofdata.wordpress.com/2013/09/18/modularity-measuring-cluster-separation/"
       ]
      },
      {
       "output_type": "stream",
       "stream": "stdout",
       "text": [
        "\n",
        "Retrieved article 375 at: http://shapeofdata.wordpress.com/2013/09/03/spectral-clustering/"
       ]
      },
      {
       "output_type": "stream",
       "stream": "stdout",
       "text": [
        "\n",
        "Retrieved article 376 at: http://www.bzst.com/2013/11/running-data-mining-contest-on-kaggle.html"
       ]
      },
      {
       "output_type": "stream",
       "stream": "stdout",
       "text": [
        "\n",
        "Retrieved article 377 at: http://www.bzst.com/2013/11/the-value-of-testing-predictive.html"
       ]
      },
      {
       "output_type": "stream",
       "stream": "stdout",
       "text": [
        "\n",
        "Retrieved article 378 at: http://www.bzst.com/2013/11/a-tale-of-two-business-analytics-courses.html"
       ]
      },
      {
       "output_type": "stream",
       "stream": "stdout",
       "text": [
        "\n",
        "Retrieved article 379 at: http://www.bzst.com/2013/08/designing-business-analytics-program_15.html"
       ]
      },
      {
       "output_type": "stream",
       "stream": "stdout",
       "text": [
        "\n",
        "Retrieved article 380 at: http://www.bzst.com/2013/08/designing-business-analytics-program_14.html"
       ]
      },
      {
       "output_type": "stream",
       "stream": "stdout",
       "text": [
        "\n",
        "Retrieved article 381 at: http://www.bzst.com/2013/08/designing-business-analytics-program.html"
       ]
      },
      {
       "output_type": "stream",
       "stream": "stdout",
       "text": [
        "\n",
        "Retrieved article 382 at: http://www.bzst.com/2013/08/predictive-relationships-and-ab-testing.html"
       ]
      },
      {
       "output_type": "stream",
       "stream": "stdout",
       "text": [
        "\n",
        "Retrieved article 383 at: http://www.bzst.com/2013/05/an-appeal-to-companies-leave-data.html"
       ]
      },
      {
       "output_type": "stream",
       "stream": "stdout",
       "text": [
        "\n",
        "Retrieved article 384 at: http://www.bzst.com/2013/04/collaborations-of-latex-and-word-users.html"
       ]
      },
      {
       "output_type": "stream",
       "stream": "stdout",
       "text": [
        "\n",
        "Retrieved article 385 at: http://www.bzst.com/2013/04/new-short-guide-to-publish-or-to-self.html"
       ]
      },
      {
       "output_type": "stream",
       "stream": "stdout",
       "text": [
        "\n",
        "Retrieved article 386 at: http://www.bzst.com/2013/04/analytics-magazines-please-lead-way-for.html"
       ]
      },
      {
       "output_type": "stream",
       "stream": "stdout",
       "text": [
        "\n",
        "Retrieved article 387 at: http://www.bzst.com/2013/01/business-analytics-student-projects.html"
       ]
      },
      {
       "output_type": "stream",
       "stream": "stdout",
       "text": [
        "\n",
        "Retrieved article 388 at: http://www.bzst.com/2013/01/predictive-modeling-and-interventions.html"
       ]
      },
      {
       "output_type": "stream",
       "stream": "stdout",
       "text": [
        "\n",
        "Retrieved article 389 at: http://www.bzst.com/2013/01/what-does-business-analytics-mean-in.html"
       ]
      },
      {
       "output_type": "stream",
       "stream": "stdout",
       "text": [
        "\n",
        "Retrieved article 390 at: http://www.bzst.com/2012/10/flipping-and-virtualizing-learning.html"
       ]
      },
      {
       "output_type": "stream",
       "stream": "stdout",
       "text": [
        "\n",
        "Retrieved article 391 at: http://www.bzst.com/2012/09/self-publishing-to-rescue.html"
       ]
      },
      {
       "output_type": "stream",
       "stream": "stdout",
       "text": [
        "\n",
        "Retrieved article 392 at: http://www.bzst.com/2012/09/trees-in-pivot-table-terminology.html"
       ]
      },
      {
       "output_type": "stream",
       "stream": "stdout",
       "text": [
        "\n",
        "Retrieved article 393 at: http://www.bzst.com/2012/08/the-mad-rush-masters-in-analytics.html"
       ]
      },
      {
       "output_type": "stream",
       "stream": "stdout",
       "text": [
        "\n",
        "Retrieved article 394 at: http://www.bzst.com/2012/07/launched-new-book-website-for-practical.html"
       ]
      },
      {
       "output_type": "stream",
       "stream": "stdout",
       "text": [
        "\n",
        "Retrieved article 395 at: http://www.bzst.com/2012/07/explainpredict-in-epidemiology.html"
       ]
      },
      {
       "output_type": "stream",
       "stream": "stdout",
       "text": [
        "\n",
        "Retrieved article 396 at: http://www.bzst.com/2012/07/linear-regression-for-binary-outcome.html"
       ]
      },
      {
       "output_type": "stream",
       "stream": "stdout",
       "text": [
        "\n",
        "Retrieved article 397 at: http://www.bzst.com/2012/05/linear-regression-for-binary-outcome-is.html"
       ]
      },
      {
       "output_type": "stream",
       "stream": "stdout",
       "text": [
        "\n",
        "Retrieved article 398 at: http://www.bzst.com/2012/05/policy-changing-results-or-artifacts-of.html"
       ]
      },
      {
       "output_type": "stream",
       "stream": "stdout",
       "text": [
        "\n",
        "Retrieved article 399 at: http://www.bzst.com/2012/04/google-scholar-youre-not-alone.html"
       ]
      },
      {
       "output_type": "stream",
       "stream": "stdout",
       "text": [
        "\n",
        "Retrieved article 400 at: http://www.bzst.com/2012/04/new-google-consumer-surveys.html"
       ]
      },
      {
       "output_type": "stream",
       "stream": "stdout",
       "text": [
        "\n",
        "Retrieved article 401 at: http://www.scoop.it/t/online-influence-optimization/p/4014871400/2014/01/27/is-influencer-marketing-dead-what-will-replace-it"
       ]
      },
      {
       "output_type": "stream",
       "stream": "stdout",
       "text": [
        "\n",
        "Retrieved article 402 at: http://www.scoop.it/t/online-influence-optimization/p/4014821542/2014/01/26/how-to-earn-the-amplification-of-influencers-whiteboard-friday"
       ]
      },
      {
       "output_type": "stream",
       "stream": "stdout",
       "text": [
        "\n",
        "Retrieved article 403 at: http://www.scoop.it/t/online-influence-optimization/p/4014823314/2014/01/26/how-to-win-customers-and-influence-people-finding-the-right-platforms-to-reach-your-b2b-audience"
       ]
      },
      {
       "output_type": "stream",
       "stream": "stdout",
       "text": [
        "\n",
        "Retrieved article 404 at: http://www.scoop.it/t/online-influence-optimization/p/4014823304/2014/01/26/what-makes-an-influencer-5-things-marketing-superstars-do-differently"
       ]
      },
      {
       "output_type": "stream",
       "stream": "stdout",
       "text": [
        "\n",
        "Retrieved article 405 at: http://www.scoop.it/t/online-influence-optimization/p/4014748099/2014/01/24/how-to-network-with-influential-people-using-twitter"
       ]
      },
      {
       "output_type": "stream",
       "stream": "stdout",
       "text": [
        "\n",
        "Retrieved article 406 at: http://www.scoop.it/t/online-influence-optimization/p/4014745834/2014/01/24/influencers-strategy-how-to-attract-and-engage-your-key-influencers"
       ]
      },
      {
       "output_type": "stream",
       "stream": "stdout",
       "text": [
        "\n",
        "Retrieved article 407 at: http://www.scoop.it/t/online-influence-optimization/p/4014745646/2014/01/24/7-steps-to-being-a-successful-social-media-influencer"
       ]
      },
      {
       "output_type": "stream",
       "stream": "stdout",
       "text": [
        "\n",
        "Retrieved article 408 at: http://www.scoop.it/t/online-influence-optimization/p/4014688654/2014/01/23/measuring-the-value-of-digital-outreach-keep-it-simple"
       ]
      },
      {
       "output_type": "stream",
       "stream": "stdout",
       "text": [
        "\n",
        "Retrieved article 409 at: http://www.scoop.it/t/online-influence-optimization/p/4014684398/2014/01/23/gaming-influence-walking-the-fine-line"
       ]
      },
      {
       "output_type": "stream",
       "stream": "stdout",
       "text": [
        "\n",
        "Retrieved article 410 at: http://www.scoop.it/t/online-influence-optimization/p/4014668567/2014/01/23/the-myth-of-the-influencer-and-the-flaws-of-influence-marketing"
       ]
      },
      {
       "output_type": "stream",
       "stream": "stdout",
       "text": [
        "\n",
        "Retrieved article 411 at: http://www.scoop.it/t/online-influence-optimization/p/4014665338/2014/01/23/how-many-influencer-meetings-did-you-have-this-month"
       ]
      },
      {
       "output_type": "stream",
       "stream": "stdout",
       "text": [
        "\n",
        "Retrieved article 412 at: http://www.scoop.it/t/online-influence-optimization/p/4014664133/2014/01/23/how-to-pitch-your-content-to-an-influencer"
       ]
      },
      {
       "output_type": "stream",
       "stream": "stdout",
       "text": [
        "\n",
        "Retrieved article 413 at: http://www.scoop.it/t/online-influence-optimization/p/4014659380/2014/01/23/the-inevitable-bite-of-buying-followers-and-likes"
       ]
      },
      {
       "output_type": "stream",
       "stream": "stdout",
       "text": [
        "\n",
        "Retrieved article 414 at: http://www.scoop.it/t/online-influence-optimization/p/4014628427/2014/01/22/the-social-strategist-measuring-influence-don-t-take-common-sense-out-of-the-equation"
       ]
      },
      {
       "output_type": "stream",
       "stream": "stdout",
       "text": [
        "\n",
        "Retrieved article 415 at: http://www.scoop.it/t/online-influence-optimization/p/4014628423/2014/01/22/study-only-4-7-of-a-brand-s-fan-base-generate-100-of-its-social-referrals"
       ]
      },
      {
       "output_type": "stream",
       "stream": "stdout",
       "text": [
        "\n",
        "Retrieved article 416 at: http://www.scoop.it/t/online-influence-optimization/p/4014636271/2014/01/22/the-problem-with-online-ratings"
       ]
      },
      {
       "output_type": "stream",
       "stream": "stdout",
       "text": [
        "\n",
        "Retrieved article 417 at: http://www.scoop.it/t/online-influence-optimization/p/4014628373/2014/01/22/build-influence-for-your-brand-with-klout-lists"
       ]
      },
      {
       "output_type": "stream",
       "stream": "stdout",
       "text": [
        "\n",
        "Retrieved article 418 at: http://www.scoop.it/t/online-influence-optimization/p/4014635645/2014/01/22/why-influencer-marketing-is-important-for-your-business"
       ]
      },
      {
       "output_type": "stream",
       "stream": "stdout",
       "text": [
        "\n",
        "Retrieved article 419 at: http://www.scoop.it/t/online-influence-optimization/p/4014458811/2014/01/20/backyard-takeover-influencer-marketing-grows-brand-awareness"
       ]
      },
      {
       "output_type": "stream",
       "stream": "stdout",
       "text": [
        "\n",
        "Retrieved article 420 at: http://www.scoop.it/t/online-influence-optimization/p/4014458789/2014/01/20/celebrities-vs-influencers"
       ]
      },
      {
       "output_type": "stream",
       "stream": "stdout",
       "text": [
        "\n",
        "Retrieved article 421 at: http://www.scoop.it/t/online-influence-optimization/p/4014460603/2014/01/20/social-media-influence-almost-40-of-americans-prefer-online-socializing-to-real-communication"
       ]
      },
      {
       "output_type": "stream",
       "stream": "stdout",
       "text": [
        "\n",
        "Retrieved article 422 at: http://www.scoop.it/t/online-influence-optimization/p/4014450489/2014/01/20/how-does-influencer-marketing-work"
       ]
      },
      {
       "output_type": "stream",
       "stream": "stdout",
       "text": [
        "\n",
        "Retrieved article 423 at: http://www.scoop.it/t/online-influence-optimization/p/4014458724/2014/01/20/how-do-you-know-if-you-are-popular-online"
       ]
      },
      {
       "output_type": "stream",
       "stream": "stdout",
       "text": [
        "\n",
        "Retrieved article 424 at: http://www.scoop.it/t/online-influence-optimization/p/4014411045/2014/01/18/influence-does-it-really-matter"
       ]
      },
      {
       "output_type": "stream",
       "stream": "stdout",
       "text": [
        "\n",
        "Retrieved article 425 at: http://www.scoop.it/t/online-influence-optimization/p/4014407933/2014/01/18/top-10-ways-to-win-friends-influence-people-and-amplify-your-klout-score"
       ]
      },
      {
       "output_type": "stream",
       "stream": "stdout",
       "text": [
        "\n",
        "Retrieved article 426 at: http://www.scoop.it/t/online-influence-optimization/p/4014409065/2014/01/18/startups-need-to-embrace-zero-paid-media-marketing"
       ]
      },
      {
       "output_type": "stream",
       "stream": "stdout",
       "text": [
        "\n",
        "Retrieved article 427 at: http://www.scoop.it/t/online-influence-optimization/p/4014408027/2014/01/18/influencing-the-influencers-how-stars-like-jay-z-and-martha-stewart-end-up-with-samsung-devices"
       ]
      },
      {
       "output_type": "stream",
       "stream": "stdout",
       "text": [
        "\n",
        "Retrieved article 428 at: http://www.scoop.it/t/online-influence-optimization/p/4014406872/2014/01/18/does-klout-matter"
       ]
      },
      {
       "output_type": "stream",
       "stream": "stdout",
       "text": [
        "\n",
        "Retrieved article 429 at: http://www.scoop.it/t/online-influence-optimization/p/4014407576/2014/01/18/here-s-why-measuring-influence-on-social-media-is-more-important-than-ever"
       ]
      },
      {
       "output_type": "stream",
       "stream": "stdout",
       "text": [
        "\n",
        "Retrieved article 430 at: http://www.scoop.it/t/online-influence-optimization/p/4014131278/2014/01/14/more-on-brand-influence-is-it-for-sale"
       ]
      },
      {
       "output_type": "stream",
       "stream": "stdout",
       "text": [
        "\n",
        "Retrieved article 431 at: http://learnandteachstatistics.wordpress.com/2014/01/20/myth-of-random-sampling/"
       ]
      },
      {
       "output_type": "stream",
       "stream": "stdout",
       "text": [
        "\n",
        "Retrieved article 432 at: http://learnandteachstatistics.wordpress.com/2014/01/06/statistics-singular-or-plural/"
       ]
      },
      {
       "output_type": "stream",
       "stream": "stdout",
       "text": [
        "\n",
        "Retrieved article 433 at: http://learnandteachstatistics.wordpress.com/2013/12/16/deterministic-and-prob-models/"
       ]
      },
      {
       "output_type": "stream",
       "stream": "stdout",
       "text": [
        "\n",
        "Retrieved article 434 at: http://learnandteachstatistics.wordpress.com/2013/12/04/guest-post-actuary/"
       ]
      },
      {
       "output_type": "stream",
       "stream": "stdout",
       "text": [
        "\n",
        "Retrieved article 435 at: http://learnandteachstatistics.wordpress.com/2013/11/18/analysis-of-deal-or-no-deal-results/"
       ]
      },
      {
       "output_type": "stream",
       "stream": "stdout",
       "text": [
        "\n",
        "Retrieved article 436 at: http://learnandteachstatistics.wordpress.com/2013/11/04/about-blogging/"
       ]
      },
      {
       "output_type": "stream",
       "stream": "stdout",
       "text": [
        "\n",
        "Retrieved article 437 at: http://learnandteachstatistics.wordpress.com/2013/10/21/proving-causation/"
       ]
      },
      {
       "output_type": "stream",
       "stream": "stdout",
       "text": [
        "\n",
        "Retrieved article 438 at: http://learnandteachstatistics.wordpress.com/2013/10/07/absolute-and-relative-risk/"
       ]
      },
      {
       "output_type": "stream",
       "stream": "stdout",
       "text": [
        "\n",
        "Retrieved article 439 at: http://learnandteachstatistics.wordpress.com/2013/09/30/those-who-can-teach-statistics/"
       ]
      },
      {
       "output_type": "stream",
       "stream": "stdout",
       "text": [
        "\n",
        "Retrieved article 440 at: http://learnandteachstatistics.wordpress.com/2013/09/23/on-line-resources/"
       ]
      },
      {
       "output_type": "stream",
       "stream": "stdout",
       "text": [
        "\n",
        "Retrieved article 441 at: https://www-304.ibm.com/connections/blogs/smarteranalytics/entry/our_blog_has_moved_please_join_us_on_the_ibm_big_data_and_analytics_hub?lang=en_us"
       ]
      },
      {
       "output_type": "stream",
       "stream": "stdout",
       "text": [
        "\n",
        "Retrieved article 442 at: https://www-304.ibm.com/connections/blogs/smarteranalytics/entry/perception_science_should_drive_advanced_visualization_designs?lang=en_us"
       ]
      },
      {
       "output_type": "stream",
       "stream": "stdout",
       "text": [
        "\n",
        "Retrieved article 443 at: https://www-304.ibm.com/connections/blogs/smarteranalytics/entry/counterintuitive_data_science_methods_may_yield_keener_analytical_insights?lang=en_us"
       ]
      },
      {
       "output_type": "stream",
       "stream": "stdout",
       "text": [
        "\n",
        "Retrieved article 444 at: https://www-304.ibm.com/connections/blogs/smarteranalytics/entry/fashion_politics_and_the_social_customer?lang=en_us"
       ]
      },
      {
       "output_type": "stream",
       "stream": "stdout",
       "text": [
        "\n",
        "Retrieved article 445 at: https://www-304.ibm.com/connections/blogs/smarteranalytics/entry/improving_golf_and_business_with_predictive_asset_maintenance?lang=en_us"
       ]
      },
      {
       "output_type": "stream",
       "stream": "stdout",
       "text": [
        "\n",
        "Retrieved article 446 at: https://www-304.ibm.com/connections/blogs/smarteranalytics/entry/smart_telematics?lang=en_us"
       ]
      },
      {
       "output_type": "stream",
       "stream": "stdout",
       "text": [
        "\n",
        "Retrieved article 447 at: https://www-304.ibm.com/connections/blogs/smarteranalytics/entry/my_maintenance_program_cost_me?lang=en_us"
       ]
      },
      {
       "output_type": "stream",
       "stream": "stdout",
       "text": [
        "\n",
        "Retrieved article 448 at: https://www-304.ibm.com/connections/blogs/smarteranalytics/entry/cooling_down_the_summer_with_predictive_maintenance?lang=en_us"
       ]
      },
      {
       "output_type": "stream",
       "stream": "stdout",
       "text": [
        "\n",
        "Retrieved article 449 at: https://www-304.ibm.com/connections/blogs/smarteranalytics/entry/high_quality_data_science_demands_independent_verification?lang=en_us"
       ]
      },
      {
       "output_type": "stream",
       "stream": "stdout",
       "text": [
        "\n",
        "Retrieved article 450 at: https://www-304.ibm.com/connections/blogs/smarteranalytics/entry/concerns_challenges_and_impending_opportunities_for_communication_service_providers_csps?lang=en_us"
       ]
      },
      {
       "output_type": "stream",
       "stream": "stdout",
       "text": [
        "\n",
        "Retrieved article 451 at: https://www-304.ibm.com/connections/blogs/smarteranalytics/entry/change_the_oil_every_3_000_miles_or_when_the_national_deficit_increases_by_a_trillion_dollars?lang=en_us"
       ]
      },
      {
       "output_type": "stream",
       "stream": "stdout",
       "text": [
        "\n",
        "Retrieved article 452 at: https://www-304.ibm.com/connections/blogs/smarteranalytics/entry/june_18_2013_5_31_pm?lang=en_us"
       ]
      },
      {
       "output_type": "stream",
       "stream": "stdout",
       "text": [
        "\n",
        "Retrieved article 453 at: https://www-304.ibm.com/connections/blogs/smarteranalytics/entry/facebook_hashtags_shouldicare?lang=en_us"
       ]
      },
      {
       "output_type": "stream",
       "stream": "stdout",
       "text": [
        "\n",
        "Retrieved article 454 at: https://www-304.ibm.com/connections/blogs/smarteranalytics/entry/the_emerging_technologies_in_the_it_domain?lang=en_us"
       ]
      },
      {
       "output_type": "stream",
       "stream": "stdout",
       "text": [
        "\n",
        "Retrieved article 455 at: https://www-304.ibm.com/connections/blogs/smarteranalytics/entry/calling_all_csps_reduce_and_prevent_churn_with_analytics?lang=en_us"
       ]
      },
      {
       "output_type": "stream",
       "stream": "stdout",
       "text": [
        "\n",
        "Retrieved article 456 at: http://statswithcats.wordpress.com/2014/01/01/stats-with-cats-blog-2013-in-review/"
       ]
      },
      {
       "output_type": "stream",
       "stream": "stdout",
       "text": [
        "\n",
        "Retrieved article 457 at: http://statswithcats.wordpress.com/2013/09/22/how-to-write-data-analysis-reports-lesson-6/"
       ]
      },
      {
       "output_type": "stream",
       "stream": "stdout",
       "text": [
        "\n",
        "Retrieved article 458 at: http://statswithcats.wordpress.com/2013/09/22/how-to-write-data-analysis-reports-lesson-5/"
       ]
      },
      {
       "output_type": "stream",
       "stream": "stdout",
       "text": [
        "\n",
        "Retrieved article 459 at: http://statswithcats.wordpress.com/2013/09/21/how-to-write-data-analysis-reports-lesson-4/"
       ]
      },
      {
       "output_type": "stream",
       "stream": "stdout",
       "text": [
        "\n",
        "Retrieved article 460 at: http://statswithcats.wordpress.com/2013/09/21/how-to-write-data-analysis-reports-lesson-3/"
       ]
      },
      {
       "output_type": "stream",
       "stream": "stdout",
       "text": [
        "\n",
        "Retrieved article 461 at: http://statswithcats.wordpress.com/2013/09/20/how-to-write-data-analysis-reports-lesson-2/"
       ]
      },
      {
       "output_type": "stream",
       "stream": "stdout",
       "text": [
        "\n",
        "Retrieved article 462 at: http://statswithcats.wordpress.com/2013/09/19/how-to-write-data-analysis-reports-1/"
       ]
      },
      {
       "output_type": "stream",
       "stream": "stdout",
       "text": [
        "\n",
        "Retrieved article 463 at: http://statswithcats.wordpress.com/2013/05/06/what-type-of-data-scientist-are-you/"
       ]
      },
      {
       "output_type": "stream",
       "stream": "stdout",
       "text": [
        "\n",
        "Retrieved article 464 at: http://statswithcats.wordpress.com/2013/04/13/all-information-is-actionable/"
       ]
      },
      {
       "output_type": "stream",
       "stream": "stdout",
       "text": [
        "\n",
        "Retrieved article 465 at: http://statswithcats.wordpress.com/2013/02/03/i-can-haz-collaboration/"
       ]
      },
      {
       "output_type": "stream",
       "stream": "stdout",
       "text": [
        "\n",
        "Retrieved article 466 at: http://feedproxy.google.com/~r/smartdatacollective_allposts/~3/jww5S9zjbNk/vertical-cloud-computing-providers-arrive-financial-services-industry"
       ]
      },
      {
       "output_type": "stream",
       "stream": "stdout",
       "text": [
        "\n",
        "Retrieved article 467 at: http://feedproxy.google.com/~r/smartdatacollective_allposts/~3/SBzWRUahDUg/8-features-true-enterprise-grade-platform-hadoop-and-nosql"
       ]
      },
      {
       "output_type": "stream",
       "stream": "stdout",
       "text": [
        "\n",
        "Retrieved article 468 at: http://feedproxy.google.com/~r/smartdatacollective_allposts/~3/-gBk98E756Q/interview-big-data-big-insight"
       ]
      },
      {
       "output_type": "stream",
       "stream": "stdout",
       "text": [
        "\n",
        "Retrieved article 469 at: http://feedproxy.google.com/~r/smartdatacollective_allposts/~3/8keAYeo_ZKQ/billion-dollar-purchase-why-google-bought-nest"
       ]
      },
      {
       "output_type": "stream",
       "stream": "stdout",
       "text": [
        "\n",
        "Retrieved article 470 at: http://feedproxy.google.com/~r/smartdatacollective_allposts/~3/Z6zt9z-lhIc/expanding-health-care-applications-big-data"
       ]
      },
      {
       "output_type": "stream",
       "stream": "stdout",
       "text": [
        "\n",
        "Retrieved article 471 at: http://feedproxy.google.com/~r/smartdatacollective_allposts/~3/AHCB_VJvSC0/guiding-principles-data-enrichment"
       ]
      },
      {
       "output_type": "stream",
       "stream": "stdout",
       "text": [
        "\n",
        "Retrieved article 472 at: http://feedproxy.google.com/~r/smartdatacollective_allposts/~3/aZL8LUjDpfc/how-internet-things-can-create-disruptive-business-models"
       ]
      },
      {
       "output_type": "stream",
       "stream": "stdout",
       "text": [
        "\n",
        "Retrieved article 473 at: http://feedproxy.google.com/~r/smartdatacollective_allposts/~3/cGO-E3Zo-84/it-doesn-t-matter-until-it-does"
       ]
      },
      {
       "output_type": "stream",
       "stream": "stdout",
       "text": [
        "\n",
        "Retrieved article 474 at: http://feedproxy.google.com/~r/smartdatacollective_allposts/~3/cUWiwDZ8bhE/how-hire-data-scientist"
       ]
      },
      {
       "output_type": "stream",
       "stream": "stdout",
       "text": [
        "\n",
        "Retrieved article 475 at: http://feedproxy.google.com/~r/smartdatacollective_allposts/~3/6x8c-Svgeww/potential-impediments-rise-big-data"
       ]
      },
      {
       "output_type": "stream",
       "stream": "stdout",
       "text": [
        "\n",
        "Retrieved article 476 at: http://feedproxy.google.com/~r/smartdatacollective_allposts/~3/mCZSAtVUY00/interview-need-big-data-governance"
       ]
      },
      {
       "output_type": "stream",
       "stream": "stdout",
       "text": [
        "\n",
        "Retrieved article 477 at: http://feedproxy.google.com/~r/smartdatacollective_allposts/~3/QsqAqDGKNkY/wearable-tech-could-these-futuristic-gadgets-improve-your-health"
       ]
      },
      {
       "output_type": "stream",
       "stream": "stdout",
       "text": [
        "\n",
        "Retrieved article 478 at: http://feedproxy.google.com/~r/smartdatacollective_allposts/~3/lGoZWvjmzNI/giants-vs-startups-who-future-enterprise-technology"
       ]
      },
      {
       "output_type": "stream",
       "stream": "stdout",
       "text": [
        "\n",
        "Retrieved article 479 at: http://feedproxy.google.com/~r/smartdatacollective_allposts/~3/s-H1a9vYJ40/7-ways-businesses-are-leveraging-hadoop"
       ]
      },
      {
       "output_type": "stream",
       "stream": "stdout",
       "text": [
        "\n",
        "Retrieved article 480 at: http://feedproxy.google.com/~r/smartdatacollective_allposts/~3/9jmjW4j7nSs/can-big-data-and-hadoop-feed-world"
       ]
      },
      {
       "output_type": "stream",
       "stream": "stdout",
       "text": [
        "\n",
        "Retrieved article 481 at: http://feedproxy.google.com/~r/smartdatacollective_allposts/~3/cwi_P9iS5qE/business-analytics-2014-trends-and-possibilities"
       ]
      },
      {
       "output_type": "stream",
       "stream": "stdout",
       "text": [
        "\n",
        "Retrieved article 482 at: http://feedproxy.google.com/~r/smartdatacollective_allposts/~3/ttBT982JjxE/how-big-data-analytics-will-affect-your-company-culture"
       ]
      },
      {
       "output_type": "stream",
       "stream": "stdout",
       "text": [
        "\n",
        "Retrieved article 483 at: http://feedproxy.google.com/~r/smartdatacollective_allposts/~3/pGtlMMLeLhk/bcg-s-value-creators-report-shows-how-software-driving-new-business-models"
       ]
      },
      {
       "output_type": "stream",
       "stream": "stdout",
       "text": [
        "\n",
        "Retrieved article 484 at: http://feedproxy.google.com/~r/smartdatacollective_allposts/~3/_cVdmrSMX_Y/analytics-role-marketing-initiatives"
       ]
      },
      {
       "output_type": "stream",
       "stream": "stdout",
       "text": [
        "\n",
        "Retrieved article 485 at: http://feedproxy.google.com/~r/smartdatacollective_allposts/~3/ENTWRn0Gqtg/considering-embedded-bi"
       ]
      },
      {
       "output_type": "stream",
       "stream": "stdout",
       "text": [
        "\n",
        "Retrieved article 486 at: http://junkcharts.typepad.com/junk_charts/2014/01/visualizing-uneven-distributions.html"
       ]
      },
      {
       "output_type": "stream",
       "stream": "stdout",
       "text": [
        "\n",
        "Retrieved article 487 at: http://junkcharts.typepad.com/junk_charts/2014/01/where-are-the-millionaires-wheres-the-news.html"
       ]
      },
      {
       "output_type": "stream",
       "stream": "stdout",
       "text": [
        "\n",
        "Retrieved article 488 at: http://junkcharts.typepad.com/junk_charts/2014/01/announcement-dataviz-workshop-for-spring-2014.html"
       ]
      },
      {
       "output_type": "stream",
       "stream": "stdout",
       "text": [
        "\n",
        "Retrieved article 489 at: http://junkcharts.typepad.com/junk_charts/2014/01/losing-the-big-picture.html"
       ]
      },
      {
       "output_type": "stream",
       "stream": "stdout",
       "text": [
        "\n",
        "Retrieved article 490 at: http://blog.cluster-text.com/2014/01/23/is-predictive-coding-overriding-lawyers/"
       ]
      },
      {
       "output_type": "stream",
       "stream": "stdout",
       "text": [
        "\n",
        "Retrieved article 491 at: http://blog.cluster-text.com/2014/01/21/real-time-predictive-coding/"
       ]
      },
      {
       "output_type": "stream",
       "stream": "stdout",
       "text": [
        "\n",
        "Retrieved article 492 at: http://blog.cluster-text.com/2013/10/15/the-meaning-of-relevance-score/"
       ]
      },
      {
       "output_type": "stream",
       "stream": "stdout",
       "text": [
        "\n",
        "Retrieved article 493 at: http://blog.cluster-text.com/2013/08/07/highlights-from-the-laguna-beach-ediscovery-retreat-2013/"
       ]
      },
      {
       "output_type": "stream",
       "stream": "stdout",
       "text": [
        "\n",
        "Retrieved article 494 at: http://blog.cluster-text.com/2013/08/05/what-is-a-near-dupe-really/"
       ]
      },
      {
       "output_type": "stream",
       "stream": "stdout",
       "text": [
        "\n",
        "Retrieved article 495 at: http://blog.cluster-text.com/2013/07/23/clustify-3-2-features/"
       ]
      },
      {
       "output_type": "stream",
       "stream": "stdout",
       "text": [
        "\n",
        "Retrieved article 496 at: http://blog.cluster-text.com/2013/05/22/iso-approves-ediscovery-standards-development/"
       ]
      },
      {
       "output_type": "stream",
       "stream": "stdout",
       "text": [
        "\n",
        "Retrieved article 497 at: http://blog.cluster-text.com/2013/05/17/highlights-from-are-controversial-changes-to-the-ediscovery-rules-regarding-preservation-and-proportionality-on-the-horizon/"
       ]
      },
      {
       "output_type": "stream",
       "stream": "stdout",
       "text": [
        "\n",
        "Retrieved article 498 at: http://blog.cluster-text.com/2013/05/08/predictive-coding-performance-and-the-silly-f1-score/"
       ]
      },
      {
       "output_type": "stream",
       "stream": "stdout",
       "text": [
        "\n",
        "Retrieved article 499 at: http://blog.cluster-text.com/2013/04/29/a-trap-when-looping-on-getelementsbyclassname/"
       ]
      },
      {
       "output_type": "stream",
       "stream": "stdout",
       "text": [
        "\n",
        "Retrieved article 500 at: http://feedproxy.google.com/~r/DataMining/~3/bFgSlc1hlmQ/hopper-new-in-the-travel-space.html"
       ]
      },
      {
       "output_type": "stream",
       "stream": "stdout",
       "text": [
        "\n",
        "Retrieved article 501 at: http://feedproxy.google.com/~r/DataMining/~3/IgzZ2UE5xJA/fitbit-a-great-product-with-an-even-better-website.html"
       ]
      },
      {
       "output_type": "stream",
       "stream": "stdout",
       "text": [
        "\n",
        "Retrieved article 502 at: http://feedproxy.google.com/~r/DataMining/~3/B0U-dIhwOAY/review-information-is-beautiful-by-david-mccandless.html"
       ]
      },
      {
       "output_type": "stream",
       "stream": "stdout",
       "text": [
        "\n",
        "Retrieved article 503 at: http://feedproxy.google.com/~r/DataMining/~3/8dxvyX2KvI4/knoema-yet-another-data-engine.html"
       ]
      },
      {
       "output_type": "stream",
       "stream": "stdout",
       "text": [
        "\n",
        "Retrieved article 504 at: http://feedproxy.google.com/~r/DataMining/~3/ItkoKTRy86E/quandl-the-data-engine.html"
       ]
      },
      {
       "output_type": "stream",
       "stream": "stdout",
       "text": [
        "\n",
        "Retrieved article 505 at: http://feedproxy.google.com/~r/DataMining/~3/rBS5PljLUyk/the-border-of-search.html"
       ]
      },
      {
       "output_type": "stream",
       "stream": "stdout",
       "text": [
        "\n",
        "Retrieved article 506 at: http://feedproxy.google.com/~r/DataMining/~3/oOdXOHQakHs/fairwell-to-d8taplexcom.html"
       ]
      },
      {
       "output_type": "stream",
       "stream": "stdout",
       "text": [
        "\n",
        "Retrieved article 507 at: http://feedproxy.google.com/~r/DataMining/~3/j8HN707aaSI/local-search-and-the-probability-of-failure.html"
       ]
      },
      {
       "output_type": "stream",
       "stream": "stdout",
       "text": [
        "\n",
        "Retrieved article 508 at: http://feedproxy.google.com/~r/DataMining/~3/3YA-W0u9bEA/strategy-metaphors-in-soccer.html"
       ]
      },
      {
       "output_type": "stream",
       "stream": "stdout",
       "text": [
        "\n",
        "Retrieved article 509 at: http://feedproxy.google.com/~r/DataMining/~3/h1nDO91-da4/importio-site-wrapping-for-the-masses.html"
       ]
      },
      {
       "output_type": "stream",
       "stream": "stdout",
       "text": [
        "\n",
        "Retrieved article 510 at: http://1.salford-systems.com/blog/bid/332990/Data-Mining-101-A-Beginners-Boot-Camp"
       ]
      },
      {
       "output_type": "stream",
       "stream": "stdout",
       "text": [
        "\n",
        "Retrieved article 511 at: http://1.salford-systems.com/blog/bid/333236/Buzzwords-De-buzzed-5-Varying-Definitions-for-Big-Data"
       ]
      },
      {
       "output_type": "stream",
       "stream": "stdout",
       "text": [
        "\n",
        "Retrieved article 512 at: http://1.salford-systems.com/blog/bid/332668/6-LinkedIn-Groups-Every-Data-Scientist-Should-Join"
       ]
      },
      {
       "output_type": "stream",
       "stream": "stdout",
       "text": [
        "\n",
        "Retrieved article 513 at: http://1.salford-systems.com/blog/bid/330182/Cost-Functions-101-The-Underpinnings-of-Model-Performance"
       ]
      },
      {
       "output_type": "stream",
       "stream": "stdout",
       "text": [
        "\n",
        "Retrieved article 514 at: http://1.salford-systems.com/blog/bid/330937/A-Data-Science-Prediction-for-2014-In-120-Words"
       ]
      },
      {
       "output_type": "stream",
       "stream": "stdout",
       "text": [
        "\n",
        "Retrieved article 515 at: http://1.salford-systems.com/blog/bid/327785/How-To-Build-Your-First-Predictive-Model-in-SPM-slideshare"
       ]
      },
      {
       "output_type": "stream",
       "stream": "stdout",
       "text": [
        "\n",
        "Retrieved article 516 at: http://1.salford-systems.com/blog/bid/326257/Sneak-Peak-New-Data-Mining-Video-Documentation"
       ]
      },
      {
       "output_type": "stream",
       "stream": "stdout",
       "text": [
        "\n",
        "Retrieved article 517 at: http://1.salford-systems.com/blog/bid/324960/How-To-Convince-Your-Boss-You-Need-Data-Mining-Training-infographic"
       ]
      },
      {
       "output_type": "stream",
       "stream": "stdout",
       "text": [
        "\n",
        "Retrieved article 518 at: http://1.salford-systems.com/blog/bid/324747/How-To-Win-A-Data-Mining-Challenge-DataLab-USA-Knows-customer-success"
       ]
      },
      {
       "output_type": "stream",
       "stream": "stdout",
       "text": [
        "\n",
        "Retrieved article 519 at: http://1.salford-systems.com/blog/bid/320217/Probabilities-in-CART-Trees-Yes-No-Response-Models"
       ]
      },
      {
       "output_type": "stream",
       "stream": "stdout",
       "text": [
        "\n",
        "Retrieved article 520 at: http://1.salford-systems.com/blog/bid/320037/Scoring-RandomForests-Models-Applying-Models-to-New-Data-tutorial"
       ]
      },
      {
       "output_type": "stream",
       "stream": "stdout",
       "text": [
        "\n",
        "Retrieved article 521 at: http://1.salford-systems.com/blog/bid/317550/Statistically-Significant-Words-of-Wisdom-slideshare"
       ]
      },
      {
       "output_type": "stream",
       "stream": "stdout",
       "text": [
        "\n",
        "Retrieved article 522 at: http://1.salford-systems.com/blog/bid/316395/Using-Predictive-Modeling-To-Understand-How-Marketing-Efforts-Impact-Sales-Customer-Story"
       ]
      },
      {
       "output_type": "stream",
       "stream": "stdout",
       "text": [
        "\n",
        "Retrieved article 523 at: http://1.salford-systems.com/blog/bid/314546/Data-Mining-Video-Search-Quick-Tip"
       ]
      },
      {
       "output_type": "stream",
       "stream": "stdout",
       "text": [
        "\n",
        "Retrieved article 524 at: http://1.salford-systems.com/blog/bid/312328/Why-Leave-One-Out-LOO-Cross-Validation-Does-Not-Work-For-Trees"
       ]
      },
      {
       "output_type": "stream",
       "stream": "stdout",
       "text": [
        "\n",
        "Retrieved article 525 at: http://1.salford-systems.com/blog/bid/310248/All-Train-and-No-Test-Build-Predictive-Models-Using-All-of-Your-Data"
       ]
      },
      {
       "output_type": "stream",
       "stream": "stdout",
       "text": [
        "\n",
        "Retrieved article 526 at: http://1.salford-systems.com/blog/bid/309993/A-Quick-Note-on-Multithreading-Capabilities-in-the-SPM-Software-Suite"
       ]
      },
      {
       "output_type": "stream",
       "stream": "stdout",
       "text": [
        "\n",
        "Retrieved article 527 at: http://1.salford-systems.com/blog/bid/307763/The-Elusive-Quest-To-Define-Big-Data"
       ]
      },
      {
       "output_type": "stream",
       "stream": "stdout",
       "text": [
        "\n",
        "Retrieved article 528 at: http://1.salford-systems.com/blog/bid/307519/Unlock-the-Key-to-Big-Data-Modern-Regression-Techniques-at-JSM-2013"
       ]
      },
      {
       "output_type": "stream",
       "stream": "stdout",
       "text": [
        "\n",
        "Retrieved article 529 at: http://1.salford-systems.com/blog/bid/305344/Confessions-of-a-Data-Scientist"
       ]
      },
      {
       "output_type": "stream",
       "stream": "stdout",
       "text": [
        "\n",
        "Retrieved article 530 at: http://1.salford-systems.com/blog/bid/305673/9-Data-Mining-Challenges-From-Data-Scientists-Like-You"
       ]
      },
      {
       "output_type": "stream",
       "stream": "stdout",
       "text": [
        "\n",
        "Retrieved article 531 at: http://1.salford-systems.com/blog/bid/305117/Using-CART-For-Beginners-With-A-Telco-Example"
       ]
      },
      {
       "output_type": "stream",
       "stream": "stdout",
       "text": [
        "\n",
        "Retrieved article 532 at: http://1.salford-systems.com/blog/bid/142420/The-History-Behind-Data-Mining-Train-Test-Performance"
       ]
      },
      {
       "output_type": "stream",
       "stream": "stdout",
       "text": [
        "\n",
        "Retrieved article 533 at: http://1.salford-systems.com/blog/bid/303298/The-Experienced-Data-Scientist-s-Guide-To-CART-Decision-Trees"
       ]
      },
      {
       "output_type": "stream",
       "stream": "stdout",
       "text": [
        "\n",
        "Retrieved article 534 at: http://1.salford-systems.com/blog/bid/301938/Requested-vs-Actual-Tree-Sizes-in-TreeNet-Models"
       ]
      },
      {
       "output_type": "stream",
       "stream": "stdout",
       "text": [
        "\n",
        "Retrieved article 535 at: http://1.salford-systems.com/blog/bid/300460/Introducing-Salford-Systems-Data-Mining-Video-Contest-slideshare"
       ]
      },
      {
       "output_type": "stream",
       "stream": "stdout",
       "text": [
        "\n",
        "Retrieved article 536 at: http://1.salford-systems.com/blog/bid/299775/Getting-Results-From-Out-Of-Bag-Cross-Validation-In-MARS"
       ]
      },
      {
       "output_type": "stream",
       "stream": "stdout",
       "text": [
        "\n",
        "Retrieved article 537 at: http://1.salford-systems.com/blog/bid/299814/How-to-Utilize-Out-Of-Bag-Predictions-with-Cross-Validation-in-CART"
       ]
      },
      {
       "output_type": "stream",
       "stream": "stdout",
       "text": [
        "\n",
        "Retrieved article 538 at: http://1.salford-systems.com/blog/bid/299327/A-Quick-Tip-on-Importing-and-Converting-Data-in-SPM"
       ]
      },
      {
       "output_type": "stream",
       "stream": "stdout",
       "text": [
        "\n",
        "Retrieved article 539 at: http://1.salford-systems.com/blog/bid/299181/How-Much-Time-Needs-to-be-Spent-Preparing-Data-for-Analysis"
       ]
      },
      {
       "output_type": "stream",
       "stream": "stdout",
       "text": [
        "\n",
        "Retrieved article 540 at: http://1.salford-systems.com/blog/bid/297746/Be-A-Winner-In-Salford-Systems-Data-Mining-Video-Contest"
       ]
      },
      {
       "output_type": "stream",
       "stream": "stdout",
       "text": [
        "\n",
        "Retrieved article 541 at: http://1.salford-systems.com/blog/bid/296509/Understanding-CART-Splits-Competitors-and-Surrogates-video"
       ]
      },
      {
       "output_type": "stream",
       "stream": "stdout",
       "text": [
        "\n",
        "Retrieved article 542 at: http://1.salford-systems.com/blog/bid/295210/The-Ultimate-How-To-Guide-For-Planning-A-Predictive-Analytics-Project"
       ]
      },
      {
       "output_type": "stream",
       "stream": "stdout",
       "text": [
        "\n",
        "Retrieved article 543 at: http://1.salford-systems.com/blog/bid/293508/A-Drilled-Down-Approach-To-Regression-Modeling"
       ]
      },
      {
       "output_type": "stream",
       "stream": "stdout",
       "text": [
        "\n",
        "Retrieved article 544 at: http://1.salford-systems.com/blog/bid/292895/How-to-Build-a-Random-Forests-Model-Using-TreeNet-video-tutorial"
       ]
      },
      {
       "output_type": "stream",
       "stream": "stdout",
       "text": [
        "\n",
        "Retrieved article 545 at: http://1.salford-systems.com/blog/bid/292267/How-Data-Mining-is-Being-Used-in-Higher-Education"
       ]
      },
      {
       "output_type": "stream",
       "stream": "stdout",
       "text": [
        "\n",
        "Retrieved article 546 at: http://1.salford-systems.com/blog/bid/290628/One-Tree-for-Several-Targets-Vector-CART-for-Regression"
       ]
      },
      {
       "output_type": "stream",
       "stream": "stdout",
       "text": [
        "\n",
        "Retrieved article 547 at: http://1.salford-systems.com/blog/bid/289646/Regression-Webinar-Feedback-You-Vote-We-Listen"
       ]
      },
      {
       "output_type": "stream",
       "stream": "stdout",
       "text": [
        "\n",
        "Retrieved article 548 at: http://1.salford-systems.com/blog/bid/289167/Unsupervised-Learning-and-Cluster-Analysis-with-CART"
       ]
      },
      {
       "output_type": "stream",
       "stream": "stdout",
       "text": [
        "\n",
        "Retrieved article 549 at: http://1.salford-systems.com/blog/bid/288278/Random-Forests-OOB-vs-Test-Partition-Performance"
       ]
      },
      {
       "output_type": "stream",
       "stream": "stdout",
       "text": [
        "\n",
        "Retrieved article 550 at: http://1.salford-systems.com/blog/bid/287552/Using-LAGS-for-Time-Series-Style-Modeling-in-SPM"
       ]
      },
      {
       "output_type": "stream",
       "stream": "stdout",
       "text": [
        "\n",
        "Retrieved article 551 at: http://1.salford-systems.com/blog/bid/285726/Supercharging-Predictive-Modeling-A-Beginners-Perspective"
       ]
      },
      {
       "output_type": "stream",
       "stream": "stdout",
       "text": [
        "\n",
        "Retrieved article 552 at: http://1.salford-systems.com/blog/bid/285831/Sanitizing-Data-Keep-the-Details-of-Your-Data-Mining-Project-Private"
       ]
      },
      {
       "output_type": "stream",
       "stream": "stdout",
       "text": [
        "\n",
        "Retrieved article 553 at: http://1.salford-systems.com/blog/bid/283558/Reuse-MARS-Regression-Spline-Basis-Functions-in-a-New-Dataset"
       ]
      },
      {
       "output_type": "stream",
       "stream": "stdout",
       "text": [
        "\n",
        "Retrieved article 554 at: http://1.salford-systems.com/blog/bid/280230/Best-Practices-for-Building-the-Optimal-CART-Tree-mini-tutorial"
       ]
      },
      {
       "output_type": "stream",
       "stream": "stdout",
       "text": [
        "\n",
        "Retrieved article 555 at: http://1.salford-systems.com/blog/bid/282268/Regression-Model-Building-via-Classification-Trees-tutorial"
       ]
      },
      {
       "output_type": "stream",
       "stream": "stdout",
       "text": [
        "\n",
        "Retrieved article 556 at: http://1.salford-systems.com/blog/bid/281372/Discussion-Questions-from-The-Evolution-of-Regression"
       ]
      },
      {
       "output_type": "stream",
       "stream": "stdout",
       "text": [
        "\n",
        "Retrieved article 557 at: http://1.salford-systems.com/blog/bid/280525/Data-Mining-Tutorial-TreeNet-For-Beginners-video"
       ]
      },
      {
       "output_type": "stream",
       "stream": "stdout",
       "text": [
        "\n",
        "Retrieved article 558 at: http://1.salford-systems.com/blog/bid/277891/Advantages-of-Running-SPM-on-Win7-vs-WinXP"
       ]
      },
      {
       "output_type": "stream",
       "stream": "stdout",
       "text": [
        "\n",
        "Retrieved article 559 at: http://1.salford-systems.com/blog/bid/256430/Navigating-the-New-Features-in-SPM-v7-0"
       ]
      },
      {
       "output_type": "stream",
       "stream": "stdout",
       "text": [
        "\n",
        "Retrieved article 560 at: http://1.salford-systems.com/blog/bid/275379/Hands-On-Webinar-The-Evolution-of-Regression-Modeling"
       ]
      },
      {
       "output_type": "stream",
       "stream": "stdout",
       "text": [
        "\n",
        "Retrieved article 561 at: http://1.salford-systems.com/blog/bid/273493/Video-The-Evolution-of-Regression-Part-1"
       ]
      },
      {
       "output_type": "stream",
       "stream": "stdout",
       "text": [
        "\n",
        "Retrieved article 562 at: http://1.salford-systems.com/blog/bid/272772/Supercharging-Prediction-Hands-On-Data-Mining-Workshop-Sponsored"
       ]
      },
      {
       "output_type": "stream",
       "stream": "stdout",
       "text": [
        "\n",
        "Retrieved article 563 at: http://1.salford-systems.com/blog/bid/270693/Utilizing-Variable-Importance-in-Random-Forests-Mini-Tutorial"
       ]
      },
      {
       "output_type": "stream",
       "stream": "stdout",
       "text": [
        "\n",
        "Retrieved article 564 at: http://1.salford-systems.com/blog/bid/270082/Finding-R-Squared-for-CART-Regression-Trees"
       ]
      },
      {
       "output_type": "stream",
       "stream": "stdout",
       "text": [
        "\n",
        "Retrieved article 565 at: http://1.salford-systems.com/blog/bid/268664/Benefits-of-Data-Mining-with-Model-Compression-Techniques-video"
       ]
      },
      {
       "output_type": "stream",
       "stream": "stdout",
       "text": [
        "\n",
        "Retrieved article 566 at: http://1.salford-systems.com/blog/bid/266071/Data-Mining-On-A-Budget-Choose-Wisely"
       ]
      },
      {
       "output_type": "stream",
       "stream": "stdout",
       "text": [
        "\n",
        "Retrieved article 567 at: http://1.salford-systems.com/blog/bid/265823/The-Power-of-TreeNet-Tree-Ensembles-Using-eBay-Data-Example"
       ]
      },
      {
       "output_type": "stream",
       "stream": "stdout",
       "text": [
        "\n",
        "Retrieved article 568 at: http://1.salford-systems.com/blog/bid/264619/The-Evolution-of-Regression-An-Upcoming-Webinar-Series"
       ]
      },
      {
       "output_type": "stream",
       "stream": "stdout",
       "text": [
        "\n",
        "Retrieved article 569 at: http://1.salford-systems.com/blog/bid/261213/Interview-with-Adele-Cutler-Remembering-Leo-Breiman"
       ]
      },
      {
       "output_type": "stream",
       "stream": "stdout",
       "text": [
        "\n",
        "Retrieved article 570 at: http://1.salford-systems.com/blog/bid/261754/An-Introduction-to-Random-Forests-By-Dr-Adele-Cutler"
       ]
      },
      {
       "output_type": "stream",
       "stream": "stdout",
       "text": [
        "\n",
        "Retrieved article 571 at: http://1.salford-systems.com/blog/bid/261855/SPM-Handling-of-Categorical-Variables-Stop-the-Confusion"
       ]
      },
      {
       "output_type": "stream",
       "stream": "stdout",
       "text": [
        "\n",
        "Retrieved article 572 at: http://1.salford-systems.com/blog/bid/258115/6-Tips-for-Optimizing-TreeNet-Gradient-Boosting-Models"
       ]
      },
      {
       "output_type": "stream",
       "stream": "stdout",
       "text": [
        "\n",
        "Retrieved article 573 at: http://1.salford-systems.com/blog/bid/257265/Random-Forest-are-they-all-created-equal"
       ]
      },
      {
       "output_type": "stream",
       "stream": "stdout",
       "text": [
        "\n",
        "Retrieved article 574 at: http://1.salford-systems.com/blog/bid/252861/A-Brief-Note-On-CART-and-Parallelization"
       ]
      },
      {
       "output_type": "stream",
       "stream": "stdout",
       "text": [
        "\n",
        "Retrieved article 575 at: http://1.salford-systems.com/blog/bid/250735/Handling-Missing-Values-in-MARS"
       ]
      },
      {
       "output_type": "stream",
       "stream": "stdout",
       "text": [
        "\n",
        "Retrieved article 576 at: http://1.salford-systems.com/blog/bid/250574/How-to-recover-the-your-session-logs-in-SPM"
       ]
      },
      {
       "output_type": "stream",
       "stream": "stdout",
       "text": [
        "\n",
        "Retrieved article 577 at: http://1.salford-systems.com/blog/bid/249547/Accurate-results-with-limited-data-in-CART-and-TreeNet"
       ]
      },
      {
       "output_type": "stream",
       "stream": "stdout",
       "text": [
        "\n",
        "Retrieved article 578 at: http://1.salford-systems.com/blog/bid/247482/How-to-Apply-CART-and-Logistic-Regression-to-Help-Diagnose-HIV"
       ]
      },
      {
       "output_type": "stream",
       "stream": "stdout",
       "text": [
        "\n",
        "Retrieved article 579 at: http://1.salford-systems.com/blog/bid/244815/Broadscale-Data-Mining-and-Predictive-Modeling-in-Marketing"
       ]
      },
      {
       "output_type": "stream",
       "stream": "stdout",
       "text": [
        "\n",
        "Retrieved article 580 at: http://1.salford-systems.com/blog/bid/243591/Using-CART-to-Unravel-Clusters-in-Asthma-Databases"
       ]
      },
      {
       "output_type": "stream",
       "stream": "stdout",
       "text": [
        "\n",
        "Retrieved article 581 at: http://1.salford-systems.com/blog/bid/240292/Paradigm-Shifts-in-Wildlife-Through-Data-Mining-and-Machine-Learning"
       ]
      },
      {
       "output_type": "stream",
       "stream": "stdout",
       "text": [
        "\n",
        "Retrieved article 582 at: http://1.salford-systems.com/blog/bid/238926/Tree-Ensembles-and-Decision-Trees-in-a-Financial-Services-Application"
       ]
      },
      {
       "output_type": "stream",
       "stream": "stdout",
       "text": [
        "\n",
        "Retrieved article 583 at: http://1.salford-systems.com/blog/bid/236201/TreeNet-vs-CART-Advantages"
       ]
      },
      {
       "output_type": "stream",
       "stream": "stdout",
       "text": [
        "\n",
        "Retrieved article 584 at: http://1.salford-systems.com/blog/bid/234302/Reading-and-Understanding-TreeNet-Dependency-Plots"
       ]
      },
      {
       "output_type": "stream",
       "stream": "stdout",
       "text": [
        "\n",
        "Retrieved article 585 at: http://1.salford-systems.com/blog/bid/230901/Case-Study-Making-Predictions-with-MARS"
       ]
      },
      {
       "output_type": "stream",
       "stream": "stdout",
       "text": [
        "\n",
        "Retrieved article 586 at: http://1.salford-systems.com/blog/bid/233357/Getting-started-with-TreeNet-stochastic-gradient-boosting"
       ]
      },
      {
       "output_type": "stream",
       "stream": "stdout",
       "text": [
        "\n",
        "Retrieved article 587 at: http://1.salford-systems.com/blog/bid/231427/A-Quick-Tip-on-Faster-Processing-in-SPM"
       ]
      },
      {
       "output_type": "stream",
       "stream": "stdout",
       "text": [
        "\n",
        "Retrieved article 588 at: http://1.salford-systems.com/blog/bid/229828/Using-Data-Mining-to-Interpret-Surveys"
       ]
      },
      {
       "output_type": "stream",
       "stream": "stdout",
       "text": [
        "\n",
        "Retrieved article 589 at: http://1.salford-systems.com/blog/bid/224778/Access-data-in-relational-databases-via-ODBC"
       ]
      },
      {
       "output_type": "stream",
       "stream": "stdout",
       "text": [
        "\n",
        "Retrieved article 590 at: http://1.salford-systems.com/blog/bid/213323/Unsupervised-Learning-in-CART"
       ]
      },
      {
       "output_type": "stream",
       "stream": "stdout",
       "text": [
        "\n",
        "Retrieved article 591 at: http://1.salford-systems.com/blog/bid/211183/Knowledge-Discovery-and-Data-Mining-KDD-2012-Beijing-Recap"
       ]
      },
      {
       "output_type": "stream",
       "stream": "stdout",
       "text": [
        "\n",
        "Retrieved article 592 at: http://1.salford-systems.com/blog/bid/203100/Data-Mining-for-What-If-Analysis"
       ]
      },
      {
       "output_type": "stream",
       "stream": "stdout",
       "text": [
        "\n",
        "Retrieved article 593 at: http://1.salford-systems.com/blog/bid/198800/Can-I-use-TreeNet-to-grow-One-decision-tree"
       ]
      },
      {
       "output_type": "stream",
       "stream": "stdout",
       "text": [
        "\n",
        "Retrieved article 594 at: http://1.salford-systems.com/blog/bid/193429/The-Art-of-Predictive-Analytics"
       ]
      },
      {
       "output_type": "stream",
       "stream": "stdout",
       "text": [
        "\n",
        "Retrieved article 595 at: http://1.salford-systems.com/blog/bid/192072/Leo-Breiman-s-Philosophy-of-Data-Analysis"
       ]
      },
      {
       "output_type": "stream",
       "stream": "stdout",
       "text": [
        "\n",
        "Retrieved article 596 at: http://1.salford-systems.com/blog/bid/187662/Is-my-dataset-too-big-to-build-a-model-in-SPM"
       ]
      },
      {
       "output_type": "stream",
       "stream": "stdout",
       "text": [
        "\n",
        "Retrieved article 597 at: http://1.salford-systems.com/blog/bid/166417/How-Many-Decision-Trees-are-Needed-for-a-TreeNet-Model"
       ]
      },
      {
       "output_type": "stream",
       "stream": "stdout",
       "text": [
        "\n",
        "Retrieved article 598 at: http://1.salford-systems.com/blog/bid/165504/Controlling-Model-Complexity-with-Added-Variable-Penalties"
       ]
      },
      {
       "output_type": "stream",
       "stream": "stdout",
       "text": [
        "\n",
        "Retrieved article 599 at: http://1.salford-systems.com/blog/bid/163925/How-to-Export-TreeNet-Plots-to-Other-Software"
       ]
      },
      {
       "output_type": "stream",
       "stream": "stdout",
       "text": [
        "\n",
        "Retrieved article 600 at: http://1.salford-systems.com/blog/bid/152469/Data-Mining-How-to-Partition-Data-into-Train-and-Test"
       ]
      },
      {
       "output_type": "stream",
       "stream": "stdout",
       "text": [
        "\n",
        "Retrieved article 601 at: http://1.salford-systems.com/blog/bid/145935/CART-on-Windows-Memory-Matters-Part-1"
       ]
      },
      {
       "output_type": "stream",
       "stream": "stdout",
       "text": [
        "\n",
        "Retrieved article 602 at: http://1.salford-systems.com/blog/bid/144117/How-to-Run-GUI-Data-Mining-Software-on-a-Mac"
       ]
      },
      {
       "output_type": "stream",
       "stream": "stdout",
       "text": [
        "\n",
        "Retrieved article 603 at: http://1.salford-systems.com/blog/bid/143434/The-Parametric-Bootstrap-for-Regression-Data-Mining-Models"
       ]
      },
      {
       "output_type": "stream",
       "stream": "stdout",
       "text": [
        "\n",
        "Retrieved article 604 at: http://1.salford-systems.com/blog/bid/142417/Finding-The-Automatically-Stored-Command-Log"
       ]
      },
      {
       "output_type": "stream",
       "stream": "stdout",
       "text": [
        "\n",
        "Retrieved article 605 at: http://1.salford-systems.com/blog/bid/142423/Displaying-and-Saving-Numerical-Results-in-Data-Mining"
       ]
      },
      {
       "output_type": "stream",
       "stream": "stdout",
       "text": [
        "\n",
        "Retrieved article 606 at: http://1.salford-systems.com/blog/bid/142416/CART-Why-Use-Cross-Validation"
       ]
      },
      {
       "output_type": "stream",
       "stream": "stdout",
       "text": [
        "\n",
        "Retrieved article 607 at: http://1.salford-systems.com/blog/bid/142415/A-Reminder-About-Missing-Values-In-Data-Mining"
       ]
      },
      {
       "output_type": "stream",
       "stream": "stdout",
       "text": [
        "\n",
        "Retrieved article 608 at: http://1.salford-systems.com/blog/bid/142414/Data-Mining-Help-Adding-Comments-to-your-saved-Grove-Files"
       ]
      },
      {
       "output_type": "stream",
       "stream": "stdout",
       "text": [
        "\n",
        "Retrieved article 609 at: http://1.salford-systems.com/blog/bid/142413/Prediction-Generation-in-the-Salford-Predictive-Modeler"
       ]
      },
      {
       "output_type": "stream",
       "stream": "stdout",
       "text": [
        "\n",
        "Retrieved article 610 at: http://1.salford-systems.com/blog/bid/142412/TreeNet-Are-Interactions-Relevant-To-Your-Data"
       ]
      },
      {
       "output_type": "stream",
       "stream": "stdout",
       "text": [
        "\n",
        "Retrieved article 611 at: http://1.salford-systems.com/blog/bid/142411/Data-Corresponding-to-one-or-more-CART-terminal-nodes"
       ]
      },
      {
       "output_type": "stream",
       "stream": "stdout",
       "text": [
        "\n",
        "Retrieved article 612 at: http://www.deep-data-mining.com/2014/01/impute-missing-value-using-clustering.html"
       ]
      },
      {
       "output_type": "stream",
       "stream": "stdout",
       "text": [
        "\n",
        "Retrieved article 613 at: http://www.deep-data-mining.com/2013/11/more-on-taking-randomly-sampled-records.html"
       ]
      },
      {
       "output_type": "stream",
       "stream": "stdout",
       "text": [
        "\n",
        "Retrieved article 614 at: http://www.deep-data-mining.com/2013/11/take-randomly-sampled-records-from-table.html"
       ]
      },
      {
       "output_type": "stream",
       "stream": "stdout",
       "text": [
        "\n",
        "Retrieved article 615 at: http://www.deep-data-mining.com/2013/11/calculate-standard-deviation-using-sql.html"
       ]
      },
      {
       "output_type": "stream",
       "stream": "stdout",
       "text": [
        "\n",
        "Retrieved article 616 at: http://www.deep-data-mining.com/2013/11/calculate-correlation-coefficient-using.html"
       ]
      },
      {
       "output_type": "stream",
       "stream": "stdout",
       "text": [
        "\n",
        "Retrieved article 617 at: http://www.deep-data-mining.com/2013/11/calculate-difference-of-purchase.html"
       ]
      },
      {
       "output_type": "stream",
       "stream": "stdout",
       "text": [
        "\n",
        "Retrieved article 618 at: http://www.deep-data-mining.com/2013/11/more-on-caculating-time-elapsed-between.html"
       ]
      },
      {
       "output_type": "stream",
       "stream": "stdout",
       "text": [
        "\n",
        "Retrieved article 619 at: http://www.deep-data-mining.com/2013/11/select-most-recent-n-transactions-for.html"
       ]
      },
      {
       "output_type": "stream",
       "stream": "stdout",
       "text": [
        "\n",
        "Retrieved article 620 at: http://www.deep-data-mining.com/2013/11/logically-merge-data-from-different.html"
       ]
      },
      {
       "output_type": "stream",
       "stream": "stdout",
       "text": [
        "\n",
        "Retrieved article 621 at: http://www.deep-data-mining.com/2013/11/how-to-calculate-stock-price-200-day.html"
       ]
      },
      {
       "output_type": "stream",
       "stream": "stdout",
       "text": [
        "\n",
        "Retrieved article 622 at: http://www.deep-data-mining.com/2013/11/more-on-calculating-z-score.html"
       ]
      },
      {
       "output_type": "stream",
       "stream": "stdout",
       "text": [
        "\n",
        "Retrieved article 623 at: http://www.deep-data-mining.com/2013/11/how-to-calculate-percentile.html"
       ]
      },
      {
       "output_type": "stream",
       "stream": "stdout",
       "text": [
        "\n",
        "Retrieved article 624 at: http://www.deep-data-mining.com/2013/11/more-on-finding-records-with.html"
       ]
      },
      {
       "output_type": "stream",
       "stream": "stdout",
       "text": [
        "\n",
        "Retrieved article 625 at: http://www.deep-data-mining.com/2013/11/find-records-with-highestlowest-values.html"
       ]
      },
      {
       "output_type": "stream",
       "stream": "stdout",
       "text": [
        "\n",
        "Retrieved article 626 at: http://www.deep-data-mining.com/2013/11/three-ways-of-calculating-percentage-of.html"
       ]
      },
      {
       "output_type": "stream",
       "stream": "stdout",
       "text": [
        "\n",
        "Retrieved article 627 at: http://www.deep-data-mining.com/2013/11/three-ways-of-calculating-percentage.html"
       ]
      },
      {
       "output_type": "stream",
       "stream": "stdout",
       "text": [
        "\n",
        "Retrieved article 628 at: http://www.deep-data-mining.com/2013/11/how-to-generate-globally-unique.html"
       ]
      },
      {
       "output_type": "stream",
       "stream": "stdout",
       "text": [
        "\n",
        "Retrieved article 629 at: http://www.deep-data-mining.com/2013/11/oracle-sqlplus-client-installation-on.html"
       ]
      },
      {
       "output_type": "stream",
       "stream": "stdout",
       "text": [
        "\n",
        "Retrieved article 630 at: http://www.deep-data-mining.com/2013/11/add-line-number-to-text-file.html"
       ]
      },
      {
       "output_type": "stream",
       "stream": "stdout",
       "text": [
        "\n",
        "Retrieved article 631 at: http://www.deep-data-mining.com/2013/11/how-to-find-out-cutoff-value-for.html"
       ]
      },
      {
       "output_type": "stream",
       "stream": "stdout",
       "text": [
        "\n",
        "Retrieved article 632 at: http://www.deep-data-mining.com/2013/11/how-to-change-delimiters-of-text-file.html"
       ]
      },
      {
       "output_type": "stream",
       "stream": "stdout",
       "text": [
        "\n",
        "Retrieved article 633 at: http://www.deep-data-mining.com/2013/11/caculate-time-lapsed-between-two-dates.html"
       ]
      },
      {
       "output_type": "stream",
       "stream": "stdout",
       "text": [
        "\n",
        "Retrieved article 634 at: http://www.deep-data-mining.com/2013/11/fix-text-file-that-is-in-unix-format.html"
       ]
      },
      {
       "output_type": "stream",
       "stream": "stdout",
       "text": [
        "\n",
        "Retrieved article 635 at: http://www.deep-data-mining.com/2013/11/five-ways-of-loading-text-files-into.html"
       ]
      },
      {
       "output_type": "stream",
       "stream": "stdout",
       "text": [
        "\n",
        "Retrieved article 636 at: http://www.deep-data-mining.com/2013/11/more-on-how-to-find-most-important.html"
       ]
      },
      {
       "output_type": "stream",
       "stream": "stdout",
       "text": [
        "\n",
        "Retrieved article 637 at: http://jeffjonas.typepad.com/jeff_jonas/2014/01/g2-sensemaking-and-its-7-secret-sauces.html"
       ]
      },
      {
       "output_type": "stream",
       "stream": "stdout",
       "text": [
        "\n",
        "Retrieved article 638 at: http://jeffjonas.typepad.com/jeff_jonas/2014/01/nsa-superheroes-help-fix-everyones-internet-wildideas-spyreboot.html"
       ]
      },
      {
       "output_type": "stream",
       "stream": "stdout",
       "text": [
        "\n",
        "Retrieved article 639 at: http://jeffjonas.typepad.com/jeff_jonas/2014/01/spyreboot.html"
       ]
      },
      {
       "output_type": "stream",
       "stream": "stdout",
       "text": [
        "\n",
        "Retrieved article 640 at: http://jeffjonas.typepad.com/jeff_jonas/2013/11/structuring-unstructured-data.html"
       ]
      },
      {
       "output_type": "stream",
       "stream": "stdout",
       "text": [
        "\n",
        "Retrieved article 641 at: http://jeffjonas.typepad.com/jeff_jonas/2013/01/g2-sensemaking-two-years-old-today.html"
       ]
      },
      {
       "output_type": "stream",
       "stream": "stdout",
       "text": [
        "\n",
        "Retrieved article 642 at: http://www.kxen.com/blog/2013/12/get-inspired-to-explore-new-possibilities-with-analytics/"
       ]
      },
      {
       "output_type": "stream",
       "stream": "stdout",
       "text": [
        "\n",
        "Retrieved article 643 at: http://www.kxen.com/blog/2013/12/making-analytics-work-harder-for-your-business/"
       ]
      },
      {
       "output_type": "stream",
       "stream": "stdout",
       "text": [
        "\n",
        "Retrieved article 644 at: http://www.kxen.com/blog/2013/11/get-more-customer-centric-with-enhanced-insight-through-predictive-analytics-in-banking/"
       ]
      },
      {
       "output_type": "stream",
       "stream": "stdout",
       "text": [
        "\n",
        "Retrieved article 645 at: http://www.kxen.com/blog/2013/10/kxens-now-an-sap-company/"
       ]
      },
      {
       "output_type": "stream",
       "stream": "stdout",
       "text": [
        "\n",
        "Retrieved article 646 at: http://www.kxen.com/blog/2013/07/tdwi-blog-three-ways-to-use-geospatial-data-in-analytics/"
       ]
      },
      {
       "output_type": "stream",
       "stream": "stdout",
       "text": [
        "\n",
        "Retrieved article 647 at: http://www.kxen.com/blog/2013/06/title-kxen-geo-location-like-and-dont-miss-our-upcoming-webinar/"
       ]
      },
      {
       "output_type": "stream",
       "stream": "stdout",
       "text": [
        "\n",
        "Retrieved article 648 at: http://www.kxen.com/blog/2013/05/live-webinar-personalized-offer-recommendations-in-salesforce-com/"
       ]
      },
      {
       "output_type": "stream",
       "stream": "stdout",
       "text": [
        "\n",
        "Retrieved article 649 at: http://www.kxen.com/blog/2013/05/next-best-activity-cross-sell-and-upsell-in-salesforce-com/"
       ]
      },
      {
       "output_type": "stream",
       "stream": "stdout",
       "text": [
        "\n",
        "Retrieved article 650 at: http://www.kxen.com/blog/2013/05/kxen-customer-aaa-named-silver-winner-in-gartner-1to1-media-crm-excellence-awards/"
       ]
      },
      {
       "output_type": "stream",
       "stream": "stdout",
       "text": [
        "\n",
        "Retrieved article 651 at: http://www.kxen.com/blog/2013/04/kxens-cto-interview-on-kdnuggets-big-data-predictive-analytics-and-game-of-thrones/"
       ]
      },
      {
       "output_type": "stream",
       "stream": "stdout",
       "text": [
        "\n",
        "Retrieved article 652 at: http://feedproxy.google.com/~r/DataDoghouse-PerformanceManagementBusinessIntelligenceAndDataWarehousing/~3/CrbeoaRnodM/spreadsheets-vs-analytical-nirvana.html"
       ]
      },
      {
       "output_type": "stream",
       "stream": "stdout",
       "text": [
        "\n",
        "Retrieved article 653 at: http://feedproxy.google.com/~r/DataDoghouse-PerformanceManagementBusinessIntelligenceAndDataWarehousing/~3/_a3gT0EDMVY/1-best-value-bi-trends-bi-embedded-into-business-processes-and-decision-making.html"
       ]
      },
      {
       "output_type": "stream",
       "stream": "stdout",
       "text": [
        "\n",
        "Retrieved article 654 at: http://feedproxy.google.com/~r/DataDoghouse-PerformanceManagementBusinessIntelligenceAndDataWarehousing/~3/ft7AU28aeKA/bi-trends-2014-lets-get-practical.html"
       ]
      },
      {
       "output_type": "stream",
       "stream": "stdout",
       "text": [
        "\n",
        "Retrieved article 655 at: http://feedproxy.google.com/~r/DataDoghouse-PerformanceManagementBusinessIntelligenceAndDataWarehousing/~3/5nCInYuWXEI/predictive-analytics-is-not-your-fathers-bi-project-part-2-battle-between-data-completeness-and-qual.html"
       ]
      },
      {
       "output_type": "stream",
       "stream": "stdout",
       "text": [
        "\n",
        "Retrieved article 656 at: http://feedproxy.google.com/~r/DataDoghouse-PerformanceManagementBusinessIntelligenceAndDataWarehousing/~3/ggBkoP3jZDQ/predictive-analytics-is-not-your-fathers-bi-project-part-1-who-does-what.html"
       ]
      },
      {
       "output_type": "stream",
       "stream": "stdout",
       "text": [
        "\n",
        "Retrieved article 657 at: http://feedproxy.google.com/~r/Talend/~3/J0eRzyZ6GwI/marketing-fueled-by-information-technologies"
       ]
      },
      {
       "output_type": "stream",
       "stream": "stdout",
       "text": [
        "\n",
        "Retrieved article 658 at: http://feedproxy.google.com/~r/Talend/~3/xxoekKnEU1w/thermostats-data-and-the-internet-of-things"
       ]
      },
      {
       "output_type": "stream",
       "stream": "stdout",
       "text": [
        "\n",
        "Retrieved article 659 at: http://feedproxy.google.com/~r/Talend/~3/34rgy0547ts/best-wishes-for-a-data-driven-2014"
       ]
      },
      {
       "output_type": "stream",
       "stream": "stdout",
       "text": [
        "\n",
        "Retrieved article 660 at: http://feedproxy.google.com/~r/Talend/~3/lJMGbqIXsAc/predicts-2014-big-data-everywhere"
       ]
      },
      {
       "output_type": "stream",
       "stream": "stdout",
       "text": [
        "\n",
        "Retrieved article 661 at: http://feedproxy.google.com/~r/Talend/~3/B2LLZ1IrTqk/predicts-2014-cloud-descends-on-the-data-center"
       ]
      },
      {
       "output_type": "stream",
       "stream": "stdout",
       "text": [
        "\n",
        "Retrieved article 662 at: http://feedproxy.google.com/~r/Talend/~3/Bhk3CrtSHkc/highlights-of-version-54"
       ]
      },
      {
       "output_type": "stream",
       "stream": "stdout",
       "text": [
        "\n",
        "Retrieved article 663 at: http://feedproxy.google.com/~r/Talend/~3/TTME2jFaMk0/predicts-2014-big-data-as-a-true-computing-platform"
       ]
      },
      {
       "output_type": "stream",
       "stream": "stdout",
       "text": [
        "\n",
        "Retrieved article 664 at: http://feedproxy.google.com/~r/Talend/~3/zIBMvCUvhMc/predicts-2014-cloud-will-be-a-big-data-enabler-but-not-as-you-expect-it"
       ]
      },
      {
       "output_type": "stream",
       "stream": "stdout",
       "text": [
        "\n",
        "Retrieved article 665 at: http://feedproxy.google.com/~r/Talend/~3/Sy6gPWn08Hg/talends-ceo-comments-on-funding-round"
       ]
      },
      {
       "output_type": "stream",
       "stream": "stdout",
       "text": [
        "\n",
        "Retrieved article 666 at: http://feedproxy.google.com/~r/Talend/~3/0z9_gQkuvbs/talend-wins-ow2con13-best-project-award"
       ]
      },
      {
       "output_type": "stream",
       "stream": "stdout",
       "text": [
        "\n",
        "Retrieved article 667 at: http://feedproxy.google.com/~r/jtonedm/~3/D5_pIFIFVSs/"
       ]
      },
      {
       "output_type": "stream",
       "stream": "stdout",
       "text": [
        "\n",
        "Retrieved article 668 at: http://feedproxy.google.com/~r/jtonedm/~3/F3mXtDQ7TIw/"
       ]
      },
      {
       "output_type": "stream",
       "stream": "stdout",
       "text": [
        "\n",
        "Retrieved article 669 at: http://feedproxy.google.com/~r/jtonedm/~3/qvqmou4E2Qw/"
       ]
      },
      {
       "output_type": "stream",
       "stream": "stdout",
       "text": [
        "\n",
        "Retrieved article 670 at: http://feedproxy.google.com/~r/jtonedm/~3/LzbgnGAAGe8/"
       ]
      },
      {
       "output_type": "stream",
       "stream": "stdout",
       "text": [
        "\n",
        "Retrieved article 671 at: http://feedproxy.google.com/~r/jtonedm/~3/Ia9857tFXms/"
       ]
      },
      {
       "output_type": "stream",
       "stream": "stdout",
       "text": [
        "\n",
        "Retrieved article 672 at: http://feedproxy.google.com/~r/jtonedm/~3/LfkRDb5M8XQ/"
       ]
      },
      {
       "output_type": "stream",
       "stream": "stdout",
       "text": [
        "\n",
        "Retrieved article 673 at: http://feedproxy.google.com/~r/jtonedm/~3/hpv5br85AIQ/"
       ]
      },
      {
       "output_type": "stream",
       "stream": "stdout",
       "text": [
        "\n",
        "Retrieved article 674 at: http://feedproxy.google.com/~r/jtonedm/~3/PnihzIFAKEs/"
       ]
      },
      {
       "output_type": "stream",
       "stream": "stdout",
       "text": [
        "\n",
        "Retrieved article 675 at: http://feedproxy.google.com/~r/jtonedm/~3/92zN-vv9v9w/"
       ]
      },
      {
       "output_type": "stream",
       "stream": "stdout",
       "text": [
        "\n",
        "Retrieved article 676 at: http://feedproxy.google.com/~r/jtonedm/~3/TskgvUR9zfM/"
       ]
      },
      {
       "output_type": "stream",
       "stream": "stdout",
       "text": [
        "\n",
        "Retrieved article 677 at: http://www.allanalytics.com/author.asp?section_id=3314&doc_id=271366&f_src=allanalytics_sitedefault"
       ]
      },
      {
       "output_type": "stream",
       "stream": "stdout",
       "text": [
        "\n",
        "Retrieved article 678 at: http://www.allanalytics.com/author.asp?section_id=1411&doc_id=271357&f_src=allanalytics_sitedefault"
       ]
      },
      {
       "output_type": "stream",
       "stream": "stdout",
       "text": [
        "\n",
        "Retrieved article 679 at: http://www.allanalytics.com/author.asp?section_id=3314&doc_id=271346&f_src=allanalytics_sitedefault"
       ]
      },
      {
       "output_type": "stream",
       "stream": "stdout",
       "text": [
        "\n",
        "Retrieved article 680 at: http://www.allanalytics.com/author.asp?section_id=1411&doc_id=271330&f_src=allanalytics_sitedefault"
       ]
      },
      {
       "output_type": "stream",
       "stream": "stdout",
       "text": [
        "\n",
        "Retrieved article 681 at: http://www.allanalytics.com/author.asp?section_id=2587&doc_id=271335&f_src=allanalytics_sitedefault"
       ]
      },
      {
       "output_type": "stream",
       "stream": "stdout",
       "text": [
        "\n",
        "Retrieved article 682 at: http://www.allanalytics.com/author.asp?section_id=3314&doc_id=271318&f_src=allanalytics_sitedefault"
       ]
      },
      {
       "output_type": "stream",
       "stream": "stdout",
       "text": [
        "\n",
        "Retrieved article 683 at: http://www.allanalytics.com/author.asp?section_id=1411&doc_id=271298&f_src=allanalytics_sitedefault"
       ]
      },
      {
       "output_type": "stream",
       "stream": "stdout",
       "text": [
        "\n",
        "Retrieved article 684 at: http://www.allanalytics.com/author.asp?section_id=3314&doc_id=271290&f_src=allanalytics_sitedefault"
       ]
      },
      {
       "output_type": "stream",
       "stream": "stdout",
       "text": [
        "\n",
        "Retrieved article 685 at: http://www.allanalytics.com/author.asp?section_id=1411&doc_id=271274&f_src=allanalytics_sitedefault"
       ]
      },
      {
       "output_type": "stream",
       "stream": "stdout",
       "text": [
        "\n",
        "Retrieved article 686 at: http://www.allanalytics.com/author.asp?section_id=3346&doc_id=271279&f_src=allanalytics_sitedefault"
       ]
      },
      {
       "output_type": "stream",
       "stream": "stdout",
       "text": [
        "\n",
        "Retrieved article 687 at: http://www.allanalytics.com/author.asp?section_id=1411&doc_id=271242&f_src=allanalytics_sitedefault"
       ]
      },
      {
       "output_type": "stream",
       "stream": "stdout",
       "text": [
        "\n",
        "Retrieved article 688 at: http://www.allanalytics.com/author.asp?section_id=2386&doc_id=271251&f_src=allanalytics_sitedefault"
       ]
      },
      {
       "output_type": "stream",
       "stream": "stdout",
       "text": [
        "\n",
        "Retrieved article 689 at: http://www.allanalytics.com/author.asp?section_id=3314&doc_id=271241&f_src=allanalytics_sitedefault"
       ]
      },
      {
       "output_type": "stream",
       "stream": "stdout",
       "text": [
        "\n",
        "Retrieved article 690 at: http://www.allanalytics.com/author.asp?section_id=1411&doc_id=271225&f_src=allanalytics_sitedefault"
       ]
      },
      {
       "output_type": "stream",
       "stream": "stdout",
       "text": [
        "\n",
        "Retrieved article 691 at: http://www.allanalytics.com/author.asp?section_id=3163&doc_id=271226&f_src=allanalytics_sitedefault"
       ]
      },
      {
       "output_type": "stream",
       "stream": "stdout",
       "text": [
        "\n",
        "Retrieved article 692 at: http://www.allanalytics.com/author.asp?section_id=3314&doc_id=271198&f_src=allanalytics_sitedefault"
       ]
      },
      {
       "output_type": "stream",
       "stream": "stdout",
       "text": [
        "\n",
        "Retrieved article 693 at: http://www.allanalytics.com/author.asp?section_id=1411&doc_id=271179&f_src=allanalytics_sitedefault"
       ]
      },
      {
       "output_type": "stream",
       "stream": "stdout",
       "text": [
        "\n",
        "Retrieved article 694 at: http://www.allanalytics.com/author.asp?section_id=3314&doc_id=271169&f_src=allanalytics_sitedefault"
       ]
      },
      {
       "output_type": "stream",
       "stream": "stdout",
       "text": [
        "\n",
        "Retrieved article 695 at: http://www.allanalytics.com/author.asp?section_id=1442&doc_id=271167&f_src=allanalytics_sitedefault"
       ]
      },
      {
       "output_type": "stream",
       "stream": "stdout",
       "text": [
        "\n",
        "Retrieved article 696 at: http://www.allanalytics.com/author.asp?section_id=3068&doc_id=271163&f_src=allanalytics_sitedefault"
       ]
      },
      {
       "output_type": "stream",
       "stream": "stdout",
       "text": [
        "\n",
        "Retrieved article 697 at: http://feeds.arstechnica.com/~r/arstechnica/business/~3/dIS83gjPl6Q/story01.htm"
       ]
      },
      {
       "output_type": "stream",
       "stream": "stdout",
       "text": [
        "\n",
        "Retrieved article 698 at: http://feeds.arstechnica.com/~r/arstechnica/business/~3/UVZHuIPDmyQ/story01.htm"
       ]
      },
      {
       "output_type": "stream",
       "stream": "stdout",
       "text": [
        "\n",
        "Retrieved article 699 at: http://feeds.arstechnica.com/~r/arstechnica/business/~3/BDQxv7l80RQ/story01.htm"
       ]
      },
      {
       "output_type": "stream",
       "stream": "stdout",
       "text": [
        "\n",
        "Retrieved article 700 at: http://feeds.arstechnica.com/~r/arstechnica/business/~3/F8ac3FBmovI/story01.htm"
       ]
      },
      {
       "output_type": "stream",
       "stream": "stdout",
       "text": [
        "\n",
        "Retrieved article 701 at: http://feeds.arstechnica.com/~r/arstechnica/business/~3/7GwNOGhG8Hg/story01.htm"
       ]
      },
      {
       "output_type": "stream",
       "stream": "stdout",
       "text": [
        "\n",
        "Retrieved article 702 at: http://feeds.arstechnica.com/~r/arstechnica/business/~3/VvEZaP4drm8/story01.htm"
       ]
      },
      {
       "output_type": "stream",
       "stream": "stdout",
       "text": [
        "\n",
        "Retrieved article 703 at: http://feeds.arstechnica.com/~r/arstechnica/business/~3/p0jQfQrtBvc/story01.htm"
       ]
      },
      {
       "output_type": "stream",
       "stream": "stdout",
       "text": [
        "\n",
        "Retrieved article 704 at: http://feeds.arstechnica.com/~r/arstechnica/business/~3/z-D5x8gr72E/story01.htm"
       ]
      },
      {
       "output_type": "stream",
       "stream": "stdout",
       "text": [
        "\n",
        "Retrieved article 705 at: http://feeds.arstechnica.com/~r/arstechnica/business/~3/APc1eEH93q8/story01.htm"
       ]
      },
      {
       "output_type": "stream",
       "stream": "stdout",
       "text": [
        "\n",
        "Retrieved article 706 at: http://feeds.arstechnica.com/~r/arstechnica/business/~3/WB4KVX99F2s/story01.htm"
       ]
      },
      {
       "output_type": "stream",
       "stream": "stdout",
       "text": [
        "\n",
        "Retrieved article 707 at: http://feeds.arstechnica.com/~r/arstechnica/business/~3/csx9rMtIyDs/story01.htm"
       ]
      },
      {
       "output_type": "stream",
       "stream": "stdout",
       "text": [
        "\n",
        "Retrieved article 708 at: http://feeds.arstechnica.com/~r/arstechnica/business/~3/y3Pt2xZ6fF8/story01.htm"
       ]
      },
      {
       "output_type": "stream",
       "stream": "stdout",
       "text": [
        "\n",
        "Retrieved article 709 at: http://feeds.arstechnica.com/~r/arstechnica/business/~3/1RtEXbO5BiQ/story01.htm"
       ]
      },
      {
       "output_type": "stream",
       "stream": "stdout",
       "text": [
        "\n",
        "Retrieved article 710 at: http://feeds.arstechnica.com/~r/arstechnica/business/~3/jPHz9Clo_kQ/story01.htm"
       ]
      },
      {
       "output_type": "stream",
       "stream": "stdout",
       "text": [
        "\n",
        "Retrieved article 711 at: http://feeds.arstechnica.com/~r/arstechnica/business/~3/VN8rLbtPDjE/story01.htm"
       ]
      },
      {
       "output_type": "stream",
       "stream": "stdout",
       "text": [
        "\n",
        "Retrieved article 712 at: http://feeds.arstechnica.com/~r/arstechnica/business/~3/lGShLugtoPo/story01.htm"
       ]
      },
      {
       "output_type": "stream",
       "stream": "stdout",
       "text": [
        "\n",
        "Retrieved article 713 at: http://feeds.arstechnica.com/~r/arstechnica/business/~3/c9IiL-gmkxQ/story01.htm"
       ]
      },
      {
       "output_type": "stream",
       "stream": "stdout",
       "text": [
        "\n",
        "Retrieved article 714 at: http://feeds.arstechnica.com/~r/arstechnica/business/~3/HuSmeU_vGx4/story01.htm"
       ]
      },
      {
       "output_type": "stream",
       "stream": "stdout",
       "text": [
        "\n",
        "Retrieved article 715 at: http://feeds.arstechnica.com/~r/arstechnica/business/~3/o-N1BRrU8ag/story01.htm"
       ]
      },
      {
       "output_type": "stream",
       "stream": "stdout",
       "text": [
        "\n",
        "Retrieved article 716 at: http://feeds.arstechnica.com/~r/arstechnica/business/~3/CwLM-SemgIM/story01.htm"
       ]
      },
      {
       "output_type": "stream",
       "stream": "stdout",
       "text": [
        "\n",
        "Retrieved article 717 at: http://feeds.arstechnica.com/~r/arstechnica/business/~3/7BI_PMxNY_w/story01.htm"
       ]
      },
      {
       "output_type": "stream",
       "stream": "stdout",
       "text": [
        "\n",
        "Retrieved article 718 at: http://feeds.arstechnica.com/~r/arstechnica/business/~3/TmJ4jvdutQc/story01.htm"
       ]
      },
      {
       "output_type": "stream",
       "stream": "stdout",
       "text": [
        "\n",
        "Retrieved article 719 at: http://feeds.arstechnica.com/~r/arstechnica/business/~3/NMtDb96-PxU/story01.htm"
       ]
      },
      {
       "output_type": "stream",
       "stream": "stdout",
       "text": [
        "\n",
        "Retrieved article 720 at: http://feeds.arstechnica.com/~r/arstechnica/business/~3/06nsRm8AdRg/story01.htm"
       ]
      },
      {
       "output_type": "stream",
       "stream": "stdout",
       "text": [
        "\n",
        "Retrieved article 721 at: http://feeds.arstechnica.com/~r/arstechnica/business/~3/UvdBeSogV8M/story01.htm"
       ]
      },
      {
       "output_type": "stream",
       "stream": "stdout",
       "text": [
        "\n",
        "Retrieved article 722 at: http://freakonomics.com/2014/01/30/the-effects-of-for-profit-microloans/"
       ]
      },
      {
       "output_type": "stream",
       "stream": "stdout",
       "text": [
        "\n",
        "Retrieved article 723 at: http://freakonomics.com/2014/01/30/who-drinks-more-liberals-or-conservatives/"
       ]
      },
      {
       "output_type": "stream",
       "stream": "stdout",
       "text": [
        "\n",
        "Retrieved article 724 at: http://freakonomics.com/2014/01/30/reasons-to-not-be-ugly-a-new-freakonomics-radio-podcast/"
       ]
      },
      {
       "output_type": "stream",
       "stream": "stdout",
       "text": [
        "\n",
        "Retrieved article 725 at: http://freakonomics.com/2014/01/30/reasons-to-not-be-ugly-full-transcript/"
       ]
      },
      {
       "output_type": "stream",
       "stream": "stdout",
       "text": [
        "\n",
        "Retrieved article 726 at: http://freakonomics.com/2014/01/28/more-talk-about-why-we-dont-wear-hats-anymore/"
       ]
      },
      {
       "output_type": "stream",
       "stream": "stdout",
       "text": [
        "\n",
        "Retrieved article 727 at: http://freakonomics.com/2014/01/27/why-do-we-vote-so-we-can-tell-people-we-voted/"
       ]
      },
      {
       "output_type": "stream",
       "stream": "stdout",
       "text": [
        "\n",
        "Retrieved article 728 at: http://freakonomics.com/2014/01/27/gossip-and-the-founding-fathers/"
       ]
      },
      {
       "output_type": "stream",
       "stream": "stdout",
       "text": [
        "\n",
        "Retrieved article 729 at: http://freakonomics.com/2014/01/27/when-demand-elicits-fake-supply/"
       ]
      },
      {
       "output_type": "stream",
       "stream": "stdout",
       "text": [
        "\n",
        "Retrieved article 730 at: http://freakonomics.com/2014/01/24/reducing-recidivism-through-incentives/"
       ]
      },
      {
       "output_type": "stream",
       "stream": "stdout",
       "text": [
        "\n",
        "Retrieved article 731 at: http://freakonomics.com/2014/01/24/can-economic-growth-continue-forever-of-course/"
       ]
      },
      {
       "output_type": "stream",
       "stream": "stdout",
       "text": [
        "\n",
        "Retrieved article 732 at: http://feedproxy.google.com/~r/OccamsRazorByAvinash/~3/eYRzB3bCM4w/"
       ]
      },
      {
       "output_type": "stream",
       "stream": "stdout",
       "text": [
        "\n",
        "Retrieved article 733 at: http://feedproxy.google.com/~r/OccamsRazorByAvinash/~3/UalnKyHIhLE/"
       ]
      },
      {
       "output_type": "stream",
       "stream": "stdout",
       "text": [
        "\n",
        "Retrieved article 734 at: http://feedproxy.google.com/~r/OccamsRazorByAvinash/~3/g6LHCPq3jig/"
       ]
      },
      {
       "output_type": "stream",
       "stream": "stdout",
       "text": [
        "\n",
        "Retrieved article 735 at: http://feedproxy.google.com/~r/OccamsRazorByAvinash/~3/aOm1BHQexFY/"
       ]
      },
      {
       "output_type": "stream",
       "stream": "stdout",
       "text": [
        "\n",
        "Retrieved article 736 at: http://feedproxy.google.com/~r/OccamsRazorByAvinash/~3/wQaAziuZumo/"
       ]
      },
      {
       "output_type": "stream",
       "stream": "stdout",
       "text": [
        "\n",
        "Retrieved article 737 at: http://feedproxy.google.com/~r/OccamsRazorByAvinash/~3/XYiCZVop8tw/"
       ]
      },
      {
       "output_type": "stream",
       "stream": "stdout",
       "text": [
        "\n",
        "Retrieved article 738 at: http://lingpipe-blog.com/2014/01/10/help-build-a-watson-clone-participants-sought-for-lingpipe-code-camp/"
       ]
      },
      {
       "output_type": "stream",
       "stream": "stdout",
       "text": [
        "\n",
        "Retrieved article 739 at: http://lingpipe-blog.com/2013/12/19/limits-of-floating-point-and-the-asymmetry-of-0-and-1/"
       ]
      },
      {
       "output_type": "stream",
       "stream": "stdout",
       "text": [
        "\n",
        "Retrieved article 740 at: http://lingpipe-blog.com/2013/09/25/fokkens-et-al-on-reproduction-replication-failure/"
       ]
      },
      {
       "output_type": "stream",
       "stream": "stdout",
       "text": [
        "\n",
        "Retrieved article 741 at: http://lingpipe-blog.com/2013/09/09/lingpipe-incubator-welcomes-getseer/"
       ]
      },
      {
       "output_type": "stream",
       "stream": "stdout",
       "text": [
        "\n",
        "Retrieved article 742 at: http://lingpipe-blog.com/2013/08/21/tokenization-lumpers-splitters-superman-spider-man/"
       ]
      },
      {
       "output_type": "stream",
       "stream": "stdout",
       "text": [
        "\n",
        "Retrieved article 743 at: http://lingpipe-blog.com/2013/07/04/verbcorner-another-game-with-words/"
       ]
      },
      {
       "output_type": "stream",
       "stream": "stdout",
       "text": [
        "\n",
        "Retrieved article 744 at: http://lingpipe-blog.com/2013/05/23/all-bayesian-models-are-generative-in-theory/"
       ]
      },
      {
       "output_type": "stream",
       "stream": "stdout",
       "text": [
        "\n",
        "Retrieved article 745 at: http://lingpipe-blog.com/2013/04/21/the-latin1-transcoding-trick-for-ant/"
       ]
      },
      {
       "output_type": "stream",
       "stream": "stdout",
       "text": [
        "\n",
        "Retrieved article 746 at: http://lingpipe-blog.com/2013/04/12/generative-vs-discriminative-bayesian-vs-frequentist/"
       ]
      },
      {
       "output_type": "stream",
       "stream": "stdout",
       "text": [
        "\n",
        "Retrieved article 747 at: http://lingpipe-blog.com/2013/03/25/mean-field-variational-inference-made-easy/"
       ]
      },
      {
       "output_type": "stream",
       "stream": "stdout",
       "text": [
        "\n",
        "Retrieved article 748 at: http://feedproxy.google.com/~r/statsblogs/~3/TtgOq1HUi-c/"
       ]
      },
      {
       "output_type": "stream",
       "stream": "stdout",
       "text": [
        "\n",
        "Retrieved article 749 at: http://feedproxy.google.com/~r/statsblogs/~3/dBNAVpLTaOU/"
       ]
      },
      {
       "output_type": "stream",
       "stream": "stdout",
       "text": [
        "\n",
        "Retrieved article 750 at: http://feedproxy.google.com/~r/statsblogs/~3/moT_gV2LbJE/"
       ]
      },
      {
       "output_type": "stream",
       "stream": "stdout",
       "text": [
        "\n",
        "Retrieved article 751 at: http://feedproxy.google.com/~r/statsblogs/~3/xmrQtVjvS0Y/"
       ]
      },
      {
       "output_type": "stream",
       "stream": "stdout",
       "text": [
        "\n",
        "Retrieved article 752 at: http://feedproxy.google.com/~r/statsblogs/~3/0e6ehKLRhdw/"
       ]
      },
      {
       "output_type": "stream",
       "stream": "stdout",
       "text": [
        "\n",
        "Retrieved article 753 at: http://feedproxy.google.com/~r/statsblogs/~3/n_g3ShG8NsA/"
       ]
      },
      {
       "output_type": "stream",
       "stream": "stdout",
       "text": [
        "\n",
        "Retrieved article 754 at: http://feedproxy.google.com/~r/statsblogs/~3/j-XorsNiWEA/"
       ]
      },
      {
       "output_type": "stream",
       "stream": "stdout",
       "text": [
        "\n",
        "Retrieved article 755 at: http://feedproxy.google.com/~r/statsblogs/~3/V36h21kAeQw/"
       ]
      },
      {
       "output_type": "stream",
       "stream": "stdout",
       "text": [
        "\n",
        "Retrieved article 756 at: http://feedproxy.google.com/~r/statsblogs/~3/ibz29R9Cw0U/"
       ]
      },
      {
       "output_type": "stream",
       "stream": "stdout",
       "text": [
        "\n",
        "Retrieved article 757 at: http://feedproxy.google.com/~r/statsblogs/~3/lkpFskB6Tmg/"
       ]
      },
      {
       "output_type": "stream",
       "stream": "stdout",
       "text": [
        "\n",
        "Retrieved article 758 at: http://feedproxy.google.com/~r/big-data-hub-blog/~3/wN47Vxl9qmE/autonomic-planet-distributed-intelligence-self-healing-ecosystem"
       ]
      },
      {
       "output_type": "stream",
       "stream": "stdout",
       "text": [
        "\n",
        "Retrieved article 759 at: http://feedproxy.google.com/~r/big-data-hub-blog/~3/gbfYJZaU83w/how-unlikely-was-wawrinkas-australian-open-victory"
       ]
      },
      {
       "output_type": "stream",
       "stream": "stdout",
       "text": [
        "\n",
        "Retrieved article 760 at: http://feedproxy.google.com/~r/big-data-hub-blog/~3/Uo2h7x5L2b0/big-data-analytics-heroes-michael-cavaretta"
       ]
      },
      {
       "output_type": "stream",
       "stream": "stdout",
       "text": [
        "\n",
        "Retrieved article 761 at: http://feedproxy.google.com/~r/big-data-hub-blog/~3/J0XkN3sqdg4/big-data-big-outcomes"
       ]
      },
      {
       "output_type": "stream",
       "stream": "stdout",
       "text": [
        "\n",
        "Retrieved article 762 at: http://feedproxy.google.com/~r/big-data-hub-blog/~3/DIXV6388BUY/big-data-twelfth-man"
       ]
      },
      {
       "output_type": "stream",
       "stream": "stdout",
       "text": [
        "\n",
        "Retrieved article 763 at: http://feedproxy.google.com/~r/big-data-hub-blog/~3/MjuGRHDoYTA/bigdatamgmt-twitter-chat-automated-telematics%E2%80%94when-cars-talk"
       ]
      },
      {
       "output_type": "stream",
       "stream": "stdout",
       "text": [
        "\n",
        "Retrieved article 764 at: http://feedproxy.google.com/~r/big-data-hub-blog/~3/yYQ4ITWKhcs/ibv-study-analytics-part-seven-trust"
       ]
      },
      {
       "output_type": "stream",
       "stream": "stdout",
       "text": [
        "\n",
        "Retrieved article 765 at: http://feedproxy.google.com/~r/big-data-hub-blog/~3/nb2j_QlM1PI/big-data-little-privacy-leads-sizable-discussion"
       ]
      },
      {
       "output_type": "stream",
       "stream": "stdout",
       "text": [
        "\n",
        "Retrieved article 766 at: http://feedproxy.google.com/~r/big-data-hub-blog/~3/pxLRNtxgLlk/confusing-busy-effective"
       ]
      },
      {
       "output_type": "stream",
       "stream": "stdout",
       "text": [
        "\n",
        "Retrieved article 767 at: http://feedproxy.google.com/~r/big-data-hub-blog/~3/NnvA2-mWUNE/we-dont-have-algorithm-problem%E2%80%94we-have-data-problem"
       ]
      },
      {
       "output_type": "stream",
       "stream": "stdout",
       "text": [
        "\n",
        "Retrieved article 768 at: http://feedproxy.google.com/~r/big-data-hub-blog/~3/aRUSGA2HVOU/big-data-overkill-can-stunt-scientific-rigor"
       ]
      },
      {
       "output_type": "stream",
       "stream": "stdout",
       "text": [
        "\n",
        "Retrieved article 769 at: http://feedproxy.google.com/~r/big-data-hub-blog/~3/jjGZwHaMwRo/big-data-analytics-heroes-kirk-borne"
       ]
      },
      {
       "output_type": "stream",
       "stream": "stdout",
       "text": [
        "\n",
        "Retrieved article 770 at: http://feedproxy.google.com/~r/big-data-hub-blog/~3/1NX9wi2b7oU/big-data-all-data"
       ]
      },
      {
       "output_type": "stream",
       "stream": "stdout",
       "text": [
        "\n",
        "Retrieved article 771 at: http://feedproxy.google.com/~r/big-data-hub-blog/~3/JPgONLIUQgc/bigdatamgmt-chat-big-data-little-privacy"
       ]
      },
      {
       "output_type": "stream",
       "stream": "stdout",
       "text": [
        "\n",
        "Retrieved article 772 at: http://feedproxy.google.com/~r/big-data-hub-blog/~3/j-fIMH2C-GE/what-mdm-stakeholders-want-know-part-four"
       ]
      },
      {
       "output_type": "stream",
       "stream": "stdout",
       "text": [
        "\n",
        "Retrieved article 773 at: http://feedproxy.google.com/~r/big-data-hub-blog/~3/hPz_KoZYAeM/cxo-chat-recap-innovation-banking"
       ]
      },
      {
       "output_type": "stream",
       "stream": "stdout",
       "text": [
        "\n",
        "Retrieved article 774 at: http://feedproxy.google.com/~r/big-data-hub-blog/~3/HchCzlMvxwg/keys-match-tennis-it-advantage-serve-first"
       ]
      },
      {
       "output_type": "stream",
       "stream": "stdout",
       "text": [
        "\n",
        "Retrieved article 775 at: http://feedproxy.google.com/~r/big-data-hub-blog/~3/znFP3SwrXr0/next-best-expert-collaboration-people-and-machines-big-data-and-analytics"
       ]
      },
      {
       "output_type": "stream",
       "stream": "stdout",
       "text": [
        "\n",
        "Retrieved article 776 at: http://feedproxy.google.com/~r/big-data-hub-blog/~3/btagPhAeaLc/world%E2%80%99s-most-revolutionary-technology"
       ]
      },
      {
       "output_type": "stream",
       "stream": "stdout",
       "text": [
        "\n",
        "Retrieved article 777 at: http://feedproxy.google.com/~r/big-data-hub-blog/~3/i9UflH2aHdM/big-data-analytics-heroes-pamela-peele"
       ]
      },
      {
       "output_type": "stream",
       "stream": "stdout",
       "text": [
        "\n",
        "Retrieved article 778 at: http://feedproxy.google.com/~r/big-data-hub-blog/~3/Q-YQf_X9IUk/govern-big-data-sandbox-high-performers-say-yes"
       ]
      },
      {
       "output_type": "stream",
       "stream": "stdout",
       "text": [
        "\n",
        "Retrieved article 779 at: http://feedproxy.google.com/~r/big-data-hub-blog/~3/PoYqDRcuFyU/bigdatamgmt-twitter-chat-debunking-big-data-myths"
       ]
      },
      {
       "output_type": "stream",
       "stream": "stdout",
       "text": [
        "\n",
        "Retrieved article 780 at: http://feedproxy.google.com/~r/big-data-hub-blog/~3/UfPovT_7S5k/35-big-brained-leaders-big-data-and-analytics"
       ]
      },
      {
       "output_type": "stream",
       "stream": "stdout",
       "text": [
        "\n",
        "Retrieved article 781 at: http://feedproxy.google.com/~r/big-data-hub-blog/~3/B95L-o9Djmw/approaching-big-data-starting-line-quick-start-program"
       ]
      },
      {
       "output_type": "stream",
       "stream": "stdout",
       "text": [
        "\n",
        "Retrieved article 782 at: http://feedproxy.google.com/~r/big-data-hub-blog/~3/iDWxLncW2wA/kobys-predictions-internet-things-2014-and-beyond"
       ]
      },
      {
       "output_type": "stream",
       "stream": "stdout",
       "text": [
        "\n",
        "Retrieved article 783 at: http://blog.okcupid.com/index.php/10-charts-about-sex/"
       ]
      },
      {
       "output_type": "stream",
       "stream": "stdout",
       "text": [
        "\n",
        "Retrieved article 784 at: http://blog.okcupid.com/index.php/the-best-questions-for-first-dates/"
       ]
      },
      {
       "output_type": "stream",
       "stream": "stdout",
       "text": [
        "\n",
        "Retrieved article 785 at: http://blog.okcupid.com/index.php/the-mathematics-of-beauty/"
       ]
      },
      {
       "output_type": "stream",
       "stream": "stdout",
       "text": [
        "\n",
        "Retrieved article 786 at: http://blog.okcupid.com/index.php/gay-sex-vs-straight-sex/"
       ]
      },
      {
       "output_type": "stream",
       "stream": "stdout",
       "text": [
        "\n",
        "Retrieved article 787 at: http://blog.okcupid.com/index.php/the-real-stuff-white-people-like/"
       ]
      },
      {
       "output_type": "stream",
       "stream": "stdout",
       "text": [
        "\n",
        "Retrieved article 788 at: http://blog.okcupid.com/index.php/dont-be-ugly-by-accident/"
       ]
      },
      {
       "output_type": "stream",
       "stream": "stdout",
       "text": [
        "\n",
        "Retrieved article 789 at: http://blog.okcupid.com/index.php/the-biggest-lies-in-online-dating/"
       ]
      },
      {
       "output_type": "stream",
       "stream": "stdout",
       "text": [
        "\n",
        "Retrieved article 790 at: http://blog.okcupid.com/index.php/my-best-face/"
       ]
      },
      {
       "output_type": "stream",
       "stream": "stdout",
       "text": [
        "\n",
        "Retrieved article 791 at: http://blog.okcupid.com/index.php/the-democrats-are-doomed-or-how-a-big-tent-can-be-too-big/"
       ]
      },
      {
       "output_type": "stream",
       "stream": "stdout",
       "text": [
        "\n",
        "Retrieved article 792 at: http://blog.okcupid.com/index.php/the-case-for-an-older-woman/"
       ]
      },
      {
       "output_type": "stream",
       "stream": "stdout",
       "text": [
        "\n",
        "Retrieved article 793 at: http://decisionstats.com/2014/01/26/interview-linkurious-aims-to-simplify-graph-databases/"
       ]
      },
      {
       "output_type": "stream",
       "stream": "stdout",
       "text": [
        "\n",
        "Retrieved article 794 at: http://decisionstats.com/2014/01/23/interview-anne-milley-jmp-3/"
       ]
      },
      {
       "output_type": "stream",
       "stream": "stdout",
       "text": [
        "\n",
        "Retrieved article 795 at: http://decisionstats.com/2014/01/09/the-seven-cs-of-viral-content-what-makes-content-viral-online/"
       ]
      },
      {
       "output_type": "stream",
       "stream": "stdout",
       "text": [
        "\n",
        "Retrieved article 796 at: http://decisionstats.com/2014/01/08/2013-in-review/"
       ]
      },
      {
       "output_type": "stream",
       "stream": "stdout",
       "text": [
        "\n",
        "Retrieved article 797 at: http://decisionstats.com/2013/12/29/2013-thank-you-note/"
       ]
      },
      {
       "output_type": "stream",
       "stream": "stdout",
       "text": [
        "\n",
        "Retrieved article 798 at: http://decisionstats.com/2013/12/28/desi-movie-review-dhoom-3/"
       ]
      },
      {
       "output_type": "stream",
       "stream": "stdout",
       "text": [
        "\n",
        "Retrieved article 799 at: http://decisionstats.com/2013/12/25/karl-rexer-interview-on-the-state-of-analytics/"
       ]
      },
      {
       "output_type": "stream",
       "stream": "stdout",
       "text": [
        "\n",
        "Retrieved article 800 at: http://rss.slashdot.org/~r/Slashdot/slashdotScience/~3/ILRAA7DMAMQ/story01.htm"
       ]
      },
      {
       "output_type": "stream",
       "stream": "stdout",
       "text": [
        "\n",
        "Retrieved article 801 at: http://rss.slashdot.org/~r/Slashdot/slashdotScience/~3/_QRYkcCpN5E/story01.htm"
       ]
      },
      {
       "output_type": "stream",
       "stream": "stdout",
       "text": [
        "\n",
        "Retrieved article 802 at: http://rss.slashdot.org/~r/Slashdot/slashdotScience/~3/Fpl_-uTtGJg/story01.htm"
       ]
      },
      {
       "output_type": "stream",
       "stream": "stdout",
       "text": [
        "\n",
        "Retrieved article 803 at: http://rss.slashdot.org/~r/Slashdot/slashdotScience/~3/TfLMjh-foDg/story01.htm"
       ]
      },
      {
       "output_type": "stream",
       "stream": "stdout",
       "text": [
        "\n",
        "Retrieved article 804 at: http://rss.slashdot.org/~r/Slashdot/slashdotScience/~3/XXuhXwCttsE/story01.htm"
       ]
      },
      {
       "output_type": "stream",
       "stream": "stdout",
       "text": [
        "\n",
        "Retrieved article 805 at: http://rss.slashdot.org/~r/Slashdot/slashdotScience/~3/34hKKYdQ8_U/story01.htm"
       ]
      },
      {
       "output_type": "stream",
       "stream": "stdout",
       "text": [
        "\n",
        "Retrieved article 806 at: http://rss.slashdot.org/~r/Slashdot/slashdotScience/~3/VZ5FL4q81WQ/story01.htm"
       ]
      },
      {
       "output_type": "stream",
       "stream": "stdout",
       "text": [
        "\n",
        "Retrieved article 807 at: http://rss.slashdot.org/~r/Slashdot/slashdotScience/~3/8GgxY9fVthY/story01.htm"
       ]
      },
      {
       "output_type": "stream",
       "stream": "stdout",
       "text": [
        "\n",
        "Retrieved article 808 at: http://rss.slashdot.org/~r/Slashdot/slashdotScience/~3/u0RHF2HvQfM/story01.htm"
       ]
      },
      {
       "output_type": "stream",
       "stream": "stdout",
       "text": [
        "\n",
        "Retrieved article 809 at: http://rss.slashdot.org/~r/Slashdot/slashdotScience/~3/KqeoDS2t6Ow/story01.htm"
       ]
      },
      {
       "output_type": "stream",
       "stream": "stdout",
       "text": [
        "\n",
        "Retrieved article 810 at: http://rss.slashdot.org/~r/Slashdot/slashdotScience/~3/hVMeXnWDzHo/story01.htm"
       ]
      },
      {
       "output_type": "stream",
       "stream": "stdout",
       "text": [
        "\n",
        "Retrieved article 811 at: http://rss.slashdot.org/~r/Slashdot/slashdotScience/~3/_zcxEqLKKUE/story01.htm"
       ]
      },
      {
       "output_type": "stream",
       "stream": "stdout",
       "text": [
        "\n",
        "Retrieved article 812 at: http://rss.slashdot.org/~r/Slashdot/slashdotScience/~3/HpIxeRiqGag/story01.htm"
       ]
      },
      {
       "output_type": "stream",
       "stream": "stdout",
       "text": [
        "\n",
        "Retrieved article 813 at: http://rss.slashdot.org/~r/Slashdot/slashdotScience/~3/h_qw7rG3Ej0/story01.htm"
       ]
      },
      {
       "output_type": "stream",
       "stream": "stdout",
       "text": [
        "\n",
        "Retrieved article 814 at: http://rss.slashdot.org/~r/Slashdot/slashdotScience/~3/x9XIrztxCKw/story01.htm"
       ]
      },
      {
       "output_type": "stream",
       "stream": "stdout",
       "text": [
        "\n",
        "Retrieved article 815 at: http://rss.slashdot.org/~r/Slashdot/slashdotScience/~3/GoziMFeGSEw/story01.htm"
       ]
      },
      {
       "output_type": "stream",
       "stream": "stdout",
       "text": [
        "\n",
        "Retrieved article 816 at: http://rss.slashdot.org/~r/Slashdot/slashdotScience/~3/dGFfxE7oF1c/story01.htm"
       ]
      },
      {
       "output_type": "stream",
       "stream": "stdout",
       "text": [
        "\n",
        "Retrieved article 817 at: http://rss.slashdot.org/~r/Slashdot/slashdotScience/~3/JgdVp1q99zE/story01.htm"
       ]
      },
      {
       "output_type": "stream",
       "stream": "stdout",
       "text": [
        "\n",
        "Retrieved article 818 at: http://rss.slashdot.org/~r/Slashdot/slashdotScience/~3/QMl-5GSfF14/story01.htm"
       ]
      },
      {
       "output_type": "stream",
       "stream": "stdout",
       "text": [
        "\n",
        "Retrieved article 819 at: http://rss.slashdot.org/~r/Slashdot/slashdotScience/~3/1oJn8NwcriU/story01.htm"
       ]
      },
      {
       "output_type": "stream",
       "stream": "stdout",
       "text": [
        "\n",
        "Retrieved article 820 at: http://rss.slashdot.org/~r/Slashdot/slashdotScience/~3/t2w4nqikbLw/story01.htm"
       ]
      },
      {
       "output_type": "stream",
       "stream": "stdout",
       "text": [
        "\n",
        "Retrieved article 821 at: http://rss.slashdot.org/~r/Slashdot/slashdotScience/~3/9x95o9PEg60/story01.htm"
       ]
      },
      {
       "output_type": "stream",
       "stream": "stdout",
       "text": [
        "\n",
        "Retrieved article 822 at: http://rss.slashdot.org/~r/Slashdot/slashdotScience/~3/r8YKTCo-xbw/story01.htm"
       ]
      },
      {
       "output_type": "stream",
       "stream": "stdout",
       "text": [
        "\n",
        "Retrieved article 823 at: http://rss.slashdot.org/~r/Slashdot/slashdotScience/~3/h7XFqHGoqSM/story01.htm"
       ]
      },
      {
       "output_type": "stream",
       "stream": "stdout",
       "text": [
        "\n",
        "Retrieved article 824 at: http://rss.slashdot.org/~r/Slashdot/slashdotScience/~3/cv-K8_-PPAQ/story01.htm"
       ]
      },
      {
       "output_type": "stream",
       "stream": "stdout",
       "text": [
        "\n",
        "Retrieved article 825 at: http://feedproxy.google.com/~r/SasProgramming/~3/SvGIZnYEtgI/sas-is-abandend-by-market-for-advanced.html"
       ]
      },
      {
       "output_type": "stream",
       "stream": "stdout",
       "text": [
        "\n",
        "Retrieved article 826 at: http://feedproxy.google.com/~r/SasProgramming/~3/2GPggthjaPw/i-dont-always-do-regression-but-when-i.html"
       ]
      },
      {
       "output_type": "stream",
       "stream": "stdout",
       "text": [
        "\n",
        "Retrieved article 827 at: http://feedproxy.google.com/~r/SasProgramming/~3/b7bSizKerxY/finding-closest-pair-in-dataset-using.html"
       ]
      },
      {
       "output_type": "stream",
       "stream": "stdout",
       "text": [
        "\n",
        "Retrieved article 828 at: http://feedproxy.google.com/~r/SasProgramming/~3/x9ROdOZj_QA/large-scale-linear-mixed-model.html"
       ]
      },
      {
       "output_type": "stream",
       "stream": "stdout",
       "text": [
        "\n",
        "Retrieved article 829 at: http://feedproxy.google.com/~r/SasProgramming/~3/Qr5ERilNxKs/poor-mans-hpqlim.html"
       ]
      },
      {
       "output_type": "stream",
       "stream": "stdout",
       "text": [
        "\n",
        "Retrieved article 830 at: http://feedproxy.google.com/~r/SasProgramming/~3/taq3khvxRPI/kaggle-digit-recoginizer-sas-k-nearest.html"
       ]
      },
      {
       "output_type": "stream",
       "stream": "stdout",
       "text": [
        "\n",
        "Retrieved article 831 at: http://feedproxy.google.com/~r/SasProgramming/~3/CUcIhQ04lM4/knn-classification-and-regression-in-sas.html"
       ]
      },
      {
       "output_type": "stream",
       "stream": "stdout",
       "text": [
        "\n",
        "Retrieved article 832 at: http://feedproxy.google.com/~r/SasProgramming/~3/OZAurq5LwcA/finite-mixture-model-for-loss-given.html"
       ]
      },
      {
       "output_type": "stream",
       "stream": "stdout",
       "text": [
        "\n",
        "Retrieved article 833 at: http://feedproxy.google.com/~r/SasProgramming/~3/IwJSJnHzweE/sas-functions-for-computing-parameters.html"
       ]
      },
      {
       "output_type": "stream",
       "stream": "stdout",
       "text": [
        "\n",
        "Retrieved article 834 at: http://feedproxy.google.com/~r/SasProgramming/~3/d_1rR80APks/test-stochastic-gradient-decending.html"
       ]
      },
      {
       "output_type": "stream",
       "stream": "stdout",
       "text": [
        "\n",
        "Retrieved article 835 at: http://feedproxy.google.com/~r/SasProgramming/~3/GUoIlOc0y8U/multi-threaded-principle-component.html"
       ]
      },
      {
       "output_type": "stream",
       "stream": "stdout",
       "text": [
        "\n",
        "Retrieved article 836 at: http://feedproxy.google.com/~r/SasProgramming/~3/E2VhkyIM6Rk/today-rick-blog-here-wrote-article.html"
       ]
      },
      {
       "output_type": "stream",
       "stream": "stdout",
       "text": [
        "\n",
        "Retrieved article 837 at: http://feedproxy.google.com/~r/SasProgramming/~3/5ixEz_Y5cX8/using-proc-cancorr-to-solve-large-scale.html"
       ]
      },
      {
       "output_type": "stream",
       "stream": "stdout",
       "text": [
        "\n",
        "Retrieved article 838 at: http://feedproxy.google.com/~r/SasProgramming/~3/dOZW72rneFE/bayesian-computation-3.html"
       ]
      },
      {
       "output_type": "stream",
       "stream": "stdout",
       "text": [
        "\n",
        "Retrieved article 839 at: http://feedproxy.google.com/~r/SasProgramming/~3/YlSd0NVVhqA/obtain-trace-of-projection-matrix-in.html"
       ]
      },
      {
       "output_type": "stream",
       "stream": "stdout",
       "text": [
        "\n",
        "Retrieved article 840 at: http://feedproxy.google.com/~r/SasProgramming/~3/PSNCKHRnfKU/benchmark-regression-procedures-using.html"
       ]
      },
      {
       "output_type": "stream",
       "stream": "stdout",
       "text": [
        "\n",
        "Retrieved article 841 at: http://feedproxy.google.com/~r/SasProgramming/~3/U17omOEqbEs/rolling-analysis-of-time-series.html"
       ]
      },
      {
       "output_type": "stream",
       "stream": "stdout",
       "text": [
        "\n",
        "Retrieved article 842 at: http://feedproxy.google.com/~r/SasProgramming/~3/dfZtXEEs4Vg/numerical-variables-profiling-in-very.html"
       ]
      },
      {
       "output_type": "stream",
       "stream": "stdout",
       "text": [
        "\n",
        "Retrieved article 843 at: http://feedproxy.google.com/~r/SasProgramming/~3/jnm4OPM160s/hpglimmix-sas-macro.html"
       ]
      },
      {
       "output_type": "stream",
       "stream": "stdout",
       "text": [
        "\n",
        "Retrieved article 844 at: http://feedproxy.google.com/~r/SasProgramming/~3/H5AE7AesYwc/regularized-discriminant-analysis.html"
       ]
      },
      {
       "output_type": "stream",
       "stream": "stdout",
       "text": [
        "\n",
        "Retrieved article 845 at: http://feedproxy.google.com/~r/SasProgramming/~3/DKF3DAsCHOs/elasticnet-in-sas.html"
       ]
      },
      {
       "output_type": "stream",
       "stream": "stdout",
       "text": [
        "\n",
        "Retrieved article 846 at: http://feedproxy.google.com/~r/SasProgramming/~3/1wEPb0UVKbE/bayesian-computation-with-sas-2.html"
       ]
      },
      {
       "output_type": "stream",
       "stream": "stdout",
       "text": [
        "\n",
        "Retrieved article 847 at: http://feedproxy.google.com/~r/SasProgramming/~3/yL6bIedyqD4/bayesian-computation-with-sas-1.html"
       ]
      },
      {
       "output_type": "stream",
       "stream": "stdout",
       "text": [
        "\n",
        "Retrieved article 848 at: http://feedproxy.google.com/~r/SasProgramming/~3/NqmgAIBcq6E/summary-numerical-data-in-rolling.html"
       ]
      },
      {
       "output_type": "stream",
       "stream": "stdout",
       "text": [
        "\n",
        "Retrieved article 849 at: http://feedproxy.google.com/~r/SasProgramming/~3/NoRFHK2z6l4/low-rank-radial-smoothing-using-glimmix.html"
       ]
      },
      {
       "output_type": "stream",
       "stream": "stdout",
       "text": [
        "\n",
        "Retrieved article 850 at: http://flowingdata.com/2014/01/30/how-r-came-to-be/"
       ]
      },
      {
       "output_type": "stream",
       "stream": "stdout",
       "text": [
        "\n",
        "Retrieved article 851 at: http://flowingdata.com/2014/01/30/history-through-the-presidents-words/"
       ]
      },
      {
       "output_type": "stream",
       "stream": "stdout",
       "text": [
        "\n",
        "Retrieved article 852 at: http://flowingdata.com/2014/01/29/last-day-to-pre-order-quotes-poster/"
       ]
      },
      {
       "output_type": "stream",
       "stream": "stdout",
       "text": [
        "\n",
        "Retrieved article 853 at: http://flowingdata.com/2014/01/29/learn-r-interactively-with-the-swirl-package/"
       ]
      },
      {
       "output_type": "stream",
       "stream": "stdout",
       "text": [
        "\n",
        "Retrieved article 854 at: http://flowingdata.com/2014/01/28/what-a-computer-sees-while-watching-movies/"
       ]
      },
      {
       "output_type": "stream",
       "stream": "stdout",
       "text": [
        "\n",
        "Retrieved article 855 at: http://flowingdata.com/2014/01/28/how-to-map-geographic-paths-in-r/"
       ]
      },
      {
       "output_type": "stream",
       "stream": "stdout",
       "text": [
        "\n",
        "Retrieved article 856 at: http://flowingdata.com/2014/01/28/flowingdata-job-board-january-2014/"
       ]
      },
      {
       "output_type": "stream",
       "stream": "stdout",
       "text": [
        "\n",
        "Retrieved article 857 at: http://flowingdata.com/2014/01/27/public-transit-times-in-major-cities/"
       ]
      },
      {
       "output_type": "stream",
       "stream": "stdout",
       "text": [
        "\n",
        "Retrieved article 858 at: http://flowingdata.com/2014/01/24/facebook-debunks-princeton-study/"
       ]
      },
      {
       "output_type": "stream",
       "stream": "stdout",
       "text": [
        "\n",
        "Retrieved article 859 at: http://flowingdata.com/2014/01/23/bird-flight-paths/"
       ]
      },
      {
       "output_type": "stream",
       "stream": "stdout",
       "text": [
        "\n",
        "Retrieved article 860 at: http://feedproxy.google.com/~r/GeekingWithGreg/~3/OYfLXxArNaU/shouldnt-wearable-computing-let-you-be.html"
       ]
      },
      {
       "output_type": "stream",
       "stream": "stdout",
       "text": [
        "\n",
        "Retrieved article 861 at: http://feedproxy.google.com/~r/GeekingWithGreg/~3/7pWOrSSNSxs/quick-links.html"
       ]
      },
      {
       "output_type": "stream",
       "stream": "stdout",
       "text": [
        "\n",
        "Retrieved article 862 at: http://feedproxy.google.com/~r/GeekingWithGreg/~3/0b50Le9icQQ/game-maven-learn-to-code-by-writing.html"
       ]
      },
      {
       "output_type": "stream",
       "stream": "stdout",
       "text": [
        "\n",
        "Retrieved article 863 at: http://feedproxy.google.com/~r/GeekingWithGreg/~3/JFD93LjSh0I/quick-links.html"
       ]
      },
      {
       "output_type": "stream",
       "stream": "stdout",
       "text": [
        "\n",
        "Retrieved article 864 at: http://feedproxy.google.com/~r/GeekingWithGreg/~3/R6E2jNQPGIo/i-was-wrong-on-netflix.html"
       ]
      },
      {
       "output_type": "stream",
       "stream": "stdout",
       "text": [
        "\n",
        "Retrieved article 865 at: http://feedproxy.google.com/~r/GeekingWithGreg/~3/RnWwGdye76o/quick-links.html"
       ]
      },
      {
       "output_type": "stream",
       "stream": "stdout",
       "text": [
        "\n",
        "Retrieved article 866 at: http://feedproxy.google.com/~r/GeekingWithGreg/~3/1brRzcwNNSk/more-quick-links.html"
       ]
      },
      {
       "output_type": "stream",
       "stream": "stdout",
       "text": [
        "\n",
        "Retrieved article 867 at: http://feedproxy.google.com/~r/GeekingWithGreg/~3/pTlV_B6u7HQ/quick-links.html"
       ]
      },
      {
       "output_type": "stream",
       "stream": "stdout",
       "text": [
        "\n",
        "Retrieved article 868 at: http://feedproxy.google.com/~r/GeekingWithGreg/~3/Qb-CqCPLSQk/blogging-is-dead-but-have-we-fixed.html"
       ]
      },
      {
       "output_type": "stream",
       "stream": "stdout",
       "text": [
        "\n",
        "Retrieved article 869 at: http://feedproxy.google.com/~r/GeekingWithGreg/~3/OhlxeBipH90/more-quick-links.html"
       ]
      },
      {
       "output_type": "stream",
       "stream": "stdout",
       "text": [
        "\n",
        "Retrieved article 870 at: http://feedproxy.google.com/~r/GeekingWithGreg/~3/wcBHy083Nmo/quick-links.html"
       ]
      },
      {
       "output_type": "stream",
       "stream": "stdout",
       "text": [
        "\n",
        "Retrieved article 871 at: http://feedproxy.google.com/~r/GeekingWithGreg/~3/bLi9Qrs0l7U/kids-programming-and-doing-more.html"
       ]
      },
      {
       "output_type": "stream",
       "stream": "stdout",
       "text": [
        "\n",
        "Retrieved article 872 at: http://feedproxy.google.com/~r/GeekingWithGreg/~3/YqT5iDAIPgg/google-and-right-database-for-job.html"
       ]
      },
      {
       "output_type": "stream",
       "stream": "stdout",
       "text": [
        "\n",
        "Retrieved article 873 at: http://feedproxy.google.com/~r/GeekingWithGreg/~3/ZvG6NAP-xxE/quick-links.html"
       ]
      },
      {
       "output_type": "stream",
       "stream": "stdout",
       "text": [
        "\n",
        "Retrieved article 874 at: http://feedproxy.google.com/~r/GeekingWithGreg/~3/8-tX53KlT1A/code-maven-and-programming-for-teens.html"
       ]
      },
      {
       "output_type": "stream",
       "stream": "stdout",
       "text": [
        "\n",
        "Retrieved article 875 at: http://feedproxy.google.com/~r/GeekingWithGreg/~3/WXYaiVMZ2CU/quick-links.html"
       ]
      },
      {
       "output_type": "stream",
       "stream": "stdout",
       "text": [
        "\n",
        "Retrieved article 876 at: http://feedproxy.google.com/~r/GeekingWithGreg/~3/N8Js0h1e4Rk/code-monster-and-teaching-programming.html"
       ]
      },
      {
       "output_type": "stream",
       "stream": "stdout",
       "text": [
        "\n",
        "Retrieved article 877 at: http://feedproxy.google.com/~r/GeekingWithGreg/~3/X8EMzzYgX-o/will-tablets-replace-pcs.html"
       ]
      },
      {
       "output_type": "stream",
       "stream": "stdout",
       "text": [
        "\n",
        "Retrieved article 878 at: http://feedproxy.google.com/~r/GeekingWithGreg/~3/IKGPTrpCBFM/quick-links.html"
       ]
      },
      {
       "output_type": "stream",
       "stream": "stdout",
       "text": [
        "\n",
        "Retrieved article 879 at: http://feedproxy.google.com/~r/GeekingWithGreg/~3/jSVv-1kYaM4/the-computer-scientist-ceo.html"
       ]
      },
      {
       "output_type": "stream",
       "stream": "stdout",
       "text": [
        "\n",
        "Retrieved article 880 at: http://feedproxy.google.com/~r/GeekingWithGreg/~3/t8pBr9Nx4us/puzzling-outcomes-in-ab-testing.html"
       ]
      },
      {
       "output_type": "stream",
       "stream": "stdout",
       "text": [
        "\n",
        "Retrieved article 881 at: http://feedproxy.google.com/~r/GeekingWithGreg/~3/Jh7qocqfAtw/quick-links.html"
       ]
      },
      {
       "output_type": "stream",
       "stream": "stdout",
       "text": [
        "\n",
        "Retrieved article 882 at: http://feedproxy.google.com/~r/GeekingWithGreg/~3/94nH4XvGwxc/game-stick-portal.html"
       ]
      },
      {
       "output_type": "stream",
       "stream": "stdout",
       "text": [
        "\n",
        "Retrieved article 883 at: http://feedproxy.google.com/~r/GeekingWithGreg/~3/e6xcG2Z893I/more-quick-links.html"
       ]
      },
      {
       "output_type": "stream",
       "stream": "stdout",
       "text": [
        "\n",
        "Retrieved article 884 at: http://feedproxy.google.com/~r/GeekingWithGreg/~3/2B5WzgK4Itw/quick-links.html"
       ]
      },
      {
       "output_type": "stream",
       "stream": "stdout",
       "text": [
        "\n",
        "Retrieved article 885 at: http://feedproxy.google.com/~r/SasAnalysis/~3/W5lijYm5krs/test-drive-for-proc-hadoop-and-pig.html"
       ]
      },
      {
       "output_type": "stream",
       "stream": "stdout",
       "text": [
        "\n",
        "Retrieved article 886 at: http://feedproxy.google.com/~r/SasAnalysis/~3/ShHb0WLLgQA/an-alternative-way-to-use-sas-and.html"
       ]
      },
      {
       "output_type": "stream",
       "stream": "stdout",
       "text": [
        "\n",
        "Retrieved article 887 at: http://feedproxy.google.com/~r/SasAnalysis/~3/HGygsMa17OU/proc-pls-and-multicollinearity.html"
       ]
      },
      {
       "output_type": "stream",
       "stream": "stdout",
       "text": [
        "\n",
        "Retrieved article 888 at: http://feedproxy.google.com/~r/SasAnalysis/~3/K543BwPoCvk/use-r-in-hadoop-by-streaming.html"
       ]
      },
      {
       "output_type": "stream",
       "stream": "stdout",
       "text": [
        "\n",
        "Retrieved article 889 at: http://feedproxy.google.com/~r/SasAnalysis/~3/tvRsrEzft94/a-cheat-sheet-for-linear-regression.html"
       ]
      },
      {
       "output_type": "stream",
       "stream": "stdout",
       "text": [
        "\n",
        "Retrieved article 890 at: http://feedproxy.google.com/~r/SasAnalysis/~3/s-PRryTlUEU/kernel-selection-in-proc-svm.html"
       ]
      },
      {
       "output_type": "stream",
       "stream": "stdout",
       "text": [
        "\n",
        "Retrieved article 891 at: http://feedproxy.google.com/~r/SasAnalysis/~3/pims_GLsbQc/when-roc-fails-logistic-regression-for.html"
       ]
      },
      {
       "output_type": "stream",
       "stream": "stdout",
       "text": [
        "\n",
        "Retrieved article 892 at: http://feedproxy.google.com/~r/SasAnalysis/~3/uED769VlUaQ/some-popular-regression-procedures-in.html"
       ]
      },
      {
       "output_type": "stream",
       "stream": "stdout",
       "text": [
        "\n",
        "Retrieved article 893 at: http://feedproxy.google.com/~r/SasAnalysis/~3/Ed59rVWNgM8/the-kfc-toy-problem-perspectives-from.html"
       ]
      },
      {
       "output_type": "stream",
       "stream": "stdout",
       "text": [
        "\n",
        "Retrieved article 894 at: http://feedproxy.google.com/~r/SasAnalysis/~3/j1PsZgyLJcI/use-mongodb-as-json-factory.html"
       ]
      },
      {
       "output_type": "stream",
       "stream": "stdout",
       "text": [
        "\n",
        "Retrieved article 895 at: http://feedproxy.google.com/~r/SasAnalysis/~3/3BudaKvtxZI/a-macro-to-export-data-to-mongodb.html"
       ]
      },
      {
       "output_type": "stream",
       "stream": "stdout",
       "text": [
        "\n",
        "Retrieved article 896 at: http://feedproxy.google.com/~r/SasAnalysis/~3/0ImIhZXib_Q/bubble-plot-by-sas-and-highchartsjs.html"
       ]
      },
      {
       "output_type": "stream",
       "stream": "stdout",
       "text": [
        "\n",
        "Retrieved article 897 at: http://feedproxy.google.com/~r/SasAnalysis/~3/zZDc9YEtkDM/more-sql-taste-in-sas-94.html"
       ]
      },
      {
       "output_type": "stream",
       "stream": "stdout",
       "text": [
        "\n",
        "Retrieved article 898 at: http://feedproxy.google.com/~r/SasAnalysis/~3/tievTdRz8kU/regularization-adjustment-for-proc-svm.html"
       ]
      },
      {
       "output_type": "stream",
       "stream": "stdout",
       "text": [
        "\n",
        "Retrieved article 899 at: http://feedproxy.google.com/~r/SasAnalysis/~3/tfQPDap-Kz0/cluster-analysis-on-pivot-table.html"
       ]
      },
      {
       "output_type": "stream",
       "stream": "stdout",
       "text": [
        "\n",
        "Retrieved article 900 at: http://feedproxy.google.com/~r/SasAnalysis/~3/FqGBJkYr9LU/why-sometimes-use-data-step-instead-of.html"
       ]
      },
      {
       "output_type": "stream",
       "stream": "stdout",
       "text": [
        "\n",
        "Retrieved article 901 at: http://feedproxy.google.com/~r/SasAnalysis/~3/x2_LRx97yeQ/the-complexity-for-fibonacci-numbers-in.html"
       ]
      },
      {
       "output_type": "stream",
       "stream": "stdout",
       "text": [
        "\n",
        "Retrieved article 902 at: http://feedproxy.google.com/~r/SasAnalysis/~3/I2A8CrjA6vQ/use-doparallel-for-rolling-regression.html"
       ]
      },
      {
       "output_type": "stream",
       "stream": "stdout",
       "text": [
        "\n",
        "Retrieved article 903 at: http://feedproxy.google.com/~r/SasAnalysis/~3/OPUoQuHTF0E/the-us-airports-with-most-flight-routes.html"
       ]
      },
      {
       "output_type": "stream",
       "stream": "stdout",
       "text": [
        "\n",
        "Retrieved article 904 at: http://feedproxy.google.com/~r/SasAnalysis/~3/KtuYAIiows0/the-newest-success-story-about-data.html"
       ]
      },
      {
       "output_type": "stream",
       "stream": "stdout",
       "text": [
        "\n",
        "Retrieved article 905 at: http://feedproxy.google.com/~r/SasAnalysis/~3/QuHmPYKJXB4/why-principle-component-analysis-is.html"
       ]
      },
      {
       "output_type": "stream",
       "stream": "stdout",
       "text": [
        "\n",
        "Retrieved article 906 at: http://feedproxy.google.com/~r/SasAnalysis/~3/R-hdMS8wH_4/some-differences-of-data-frames-between.html"
       ]
      },
      {
       "output_type": "stream",
       "stream": "stdout",
       "text": [
        "\n",
        "Retrieved article 907 at: http://feedproxy.google.com/~r/SasAnalysis/~3/BDYOytMfY2c/make-all-sas-tables-sortable-in-output.html"
       ]
      },
      {
       "output_type": "stream",
       "stream": "stdout",
       "text": [
        "\n",
        "Retrieved article 908 at: http://feedproxy.google.com/~r/SasAnalysis/~3/Re9uEsfBJZw/sas-and-d3js-3-draw-map-to-display-us.html"
       ]
      },
      {
       "output_type": "stream",
       "stream": "stdout",
       "text": [
        "\n",
        "Retrieved article 909 at: http://feedproxy.google.com/~r/SasAnalysis/~3/AkoadnWwMRE/sas-and-d3js-1-macro-to-draw-dynamic-bar.html"
       ]
      },
      {
       "output_type": "stream",
       "stream": "stdout",
       "text": [
        "\n",
        "Retrieved article 910 at: http://feedproxy.google.com/~r/InformationIsBeautiful/~3/Om6-JrqyDEU/"
       ]
      },
      {
       "output_type": "stream",
       "stream": "stdout",
       "text": [
        "\n",
        "Retrieved article 911 at: http://feedproxy.google.com/~r/InformationIsBeautiful/~3/bxeWqTUnArc/"
       ]
      },
      {
       "output_type": "stream",
       "stream": "stdout",
       "text": [
        "\n",
        "Retrieved article 912 at: http://feedproxy.google.com/~r/InformationIsBeautiful/~3/mjyGUltHXWc/"
       ]
      },
      {
       "output_type": "stream",
       "stream": "stdout",
       "text": [
        "\n",
        "Retrieved article 913 at: http://feedproxy.google.com/~r/InformationIsBeautiful/~3/_y80kuypZcQ/"
       ]
      },
      {
       "output_type": "stream",
       "stream": "stdout",
       "text": [
        "\n",
        "Retrieved article 914 at: http://feedproxy.google.com/~r/InformationIsBeautiful/~3/OIA78d9T1Ts/"
       ]
      },
      {
       "output_type": "stream",
       "stream": "stdout",
       "text": [
        "\n",
        "Retrieved article 915 at: http://feedproxy.google.com/~r/InformationIsBeautiful/~3/ZVJeX7FYImw/"
       ]
      },
      {
       "output_type": "stream",
       "stream": "stdout",
       "text": [
        "\n",
        "Retrieved article 916 at: http://feedproxy.google.com/~r/InformationIsBeautiful/~3/oum0ZaBh3Yk/"
       ]
      },
      {
       "output_type": "stream",
       "stream": "stdout",
       "text": [
        "\n",
        "Retrieved article 917 at: http://feedproxy.google.com/~r/InformationIsBeautiful/~3/8kYwuX67J20/"
       ]
      },
      {
       "output_type": "stream",
       "stream": "stdout",
       "text": [
        "\n",
        "Retrieved article 918 at: http://feedproxy.google.com/~r/InformationIsBeautiful/~3/h-qlmTXL9q8/"
       ]
      },
      {
       "output_type": "stream",
       "stream": "stdout",
       "text": [
        "\n",
        "Retrieved article 919 at: http://feedproxy.google.com/~r/InformationIsBeautiful/~3/gBZXInPJW2A/"
       ]
      },
      {
       "output_type": "stream",
       "stream": "stdout",
       "text": [
        "\n",
        "Retrieved article 920 at: http://feedproxy.google.com/~r/MineThatData/~3/O1VVZqhm4fw/change.html"
       ]
      },
      {
       "output_type": "stream",
       "stream": "stdout",
       "text": [
        "\n",
        "Retrieved article 921 at: http://feedproxy.google.com/~r/MineThatData/~3/zvuarAfSYzg/story-omnichannel-and-discounts.html"
       ]
      },
      {
       "output_type": "stream",
       "stream": "stdout",
       "text": [
        "\n",
        "Retrieved article 922 at: http://feedproxy.google.com/~r/MineThatData/~3/bdhoMLn5yoc/and-it-you-are-discounting-fewer-emails.html"
       ]
      },
      {
       "output_type": "stream",
       "stream": "stdout",
       "text": [
        "\n",
        "Retrieved article 923 at: http://feedproxy.google.com/~r/MineThatData/~3/6ds6Ot1bHAU/marginal-email-subscribers-less-is-more.html"
       ]
      },
      {
       "output_type": "stream",
       "stream": "stdout",
       "text": [
        "\n",
        "Retrieved article 924 at: http://feedproxy.google.com/~r/MineThatData/~3/SmGPZy2-QeQ/monday-mailbag_26.html"
       ]
      },
      {
       "output_type": "stream",
       "stream": "stdout",
       "text": [
        "\n",
        "Retrieved article 925 at: http://feedproxy.google.com/~r/MineThatData/~3/Rki_eGEgXME/story-dimensions-of-warmth.html"
       ]
      },
      {
       "output_type": "stream",
       "stream": "stdout",
       "text": [
        "\n",
        "Retrieved article 926 at: http://feedproxy.google.com/~r/MineThatData/~3/j3hvqKH2fQ4/its-here-hillstroms-contact-strategy.html"
       ]
      },
      {
       "output_type": "stream",
       "stream": "stdout",
       "text": [
        "\n",
        "Retrieved article 927 at: http://feedproxy.google.com/~r/MineThatData/~3/Ki_ou6a5eDY/reminder-london-february-20-21.html"
       ]
      },
      {
       "output_type": "stream",
       "stream": "stdout",
       "text": [
        "\n",
        "Retrieved article 928 at: http://feedproxy.google.com/~r/MineThatData/~3/VlB-SRsstFs/microsoft.html"
       ]
      },
      {
       "output_type": "stream",
       "stream": "stdout",
       "text": [
        "\n",
        "Retrieved article 929 at: http://feedproxy.google.com/~r/MineThatData/~3/_2Ro0F0e9tE/monday-mailbag_19.html"
       ]
      },
      {
       "output_type": "stream",
       "stream": "stdout",
       "text": [
        "\n",
        "Retrieved article 930 at: http://feedproxy.google.com/~r/MineThatData/~3/ggQjyAfFK8I/hillstroms-contact-strategy-management.html"
       ]
      },
      {
       "output_type": "stream",
       "stream": "stdout",
       "text": [
        "\n",
        "Retrieved article 931 at: http://feedproxy.google.com/~r/MineThatData/~3/IcsGri_Utec/service-looping-through-contact.html"
       ]
      },
      {
       "output_type": "stream",
       "stream": "stdout",
       "text": [
        "\n",
        "Retrieved article 932 at: http://feedproxy.google.com/~r/MineThatData/~3/6HEb4K3ai4M/service-contact-strategy-management_14.html"
       ]
      },
      {
       "output_type": "stream",
       "stream": "stdout",
       "text": [
        "\n",
        "Retrieved article 933 at: http://feedproxy.google.com/~r/MineThatData/~3/fVkvLczyA8M/service-contact-strategy-management.html"
       ]
      },
      {
       "output_type": "stream",
       "stream": "stdout",
       "text": [
        "\n",
        "Retrieved article 934 at: http://feedproxy.google.com/~r/MineThatData/~3/RHY2X-OpPJ8/monday-mailbag_12.html"
       ]
      },
      {
       "output_type": "stream",
       "stream": "stdout",
       "text": [
        "\n",
        "Retrieved article 935 at: http://feedproxy.google.com/~r/MineThatData/~3/5iOuVgbk-48/a-walk-through-mall.html"
       ]
      },
      {
       "output_type": "stream",
       "stream": "stdout",
       "text": [
        "\n",
        "Retrieved article 936 at: http://feedproxy.google.com/~r/MineThatData/~3/iLkzFMQYPKo/pricing-strategy-at-amazon-zappos.html"
       ]
      },
      {
       "output_type": "stream",
       "stream": "stdout",
       "text": [
        "\n",
        "Retrieved article 937 at: http://feedproxy.google.com/~r/MineThatData/~3/JnlWW3Vr6Xc/a-diet-for-new-year.html"
       ]
      },
      {
       "output_type": "stream",
       "stream": "stdout",
       "text": [
        "\n",
        "Retrieved article 938 at: http://feedproxy.google.com/~r/MineThatData/~3/c4l7styWHy4/story.html"
       ]
      },
      {
       "output_type": "stream",
       "stream": "stdout",
       "text": [
        "\n",
        "Retrieved article 939 at: http://feedproxy.google.com/~r/MineThatData/~3/BmYIOchipLE/merchandise-service-story.html"
       ]
      },
      {
       "output_type": "stream",
       "stream": "stdout",
       "text": [
        "\n",
        "Retrieved article 940 at: http://feedproxy.google.com/~r/MineThatData/~3/Oe2IDllQXPg/monday-mailbag.html"
       ]
      },
      {
       "output_type": "stream",
       "stream": "stdout",
       "text": [
        "\n",
        "Retrieved article 941 at: http://feedproxy.google.com/~r/MineThatData/~3/X_Zb37h6ZdQ/project-focus-2014.html"
       ]
      },
      {
       "output_type": "stream",
       "stream": "stdout",
       "text": [
        "\n",
        "Retrieved article 942 at: http://feedproxy.google.com/~r/MineThatData/~3/dHqmwInHStA/social-media.html"
       ]
      },
      {
       "output_type": "stream",
       "stream": "stdout",
       "text": [
        "\n",
        "Retrieved article 943 at: http://feedproxy.google.com/~r/MineThatData/~3/v1xeieiKyi8/new-years-resolutions-or-predictions-or.html"
       ]
      },
      {
       "output_type": "stream",
       "stream": "stdout",
       "text": [
        "\n",
        "Retrieved article 944 at: http://feedproxy.google.com/~r/MineThatData/~3/s1XwqNGU5vY/monday-mailbag.html"
       ]
      },
      {
       "output_type": "stream",
       "stream": "stdout",
       "text": [
        "\n",
        "Retrieved article 945 at: https://radicaldatascience.wordpress.com/2014/01/04/ucla-extension-intro-to-r-programming/"
       ]
      },
      {
       "output_type": "stream",
       "stream": "stdout",
       "text": [
        "\n",
        "Retrieved article 946 at: https://radicaldatascience.wordpress.com/2014/01/03/insidebigdata/"
       ]
      },
      {
       "output_type": "stream",
       "stream": "stdout",
       "text": [
        "\n",
        "Retrieved article 947 at: https://radicaldatascience.wordpress.com/2013/08/02/los-angeles-area-r-user-group-user-2013-highlights/"
       ]
      },
      {
       "output_type": "stream",
       "stream": "stdout",
       "text": [
        "\n",
        "Retrieved article 948 at: https://radicaldatascience.wordpress.com/2013/07/18/big-data-ticket-bots/"
       ]
      },
      {
       "output_type": "stream",
       "stream": "stdout",
       "text": [
        "\n",
        "Retrieved article 949 at: https://radicaldatascience.wordpress.com/2013/05/11/free-data-science-education/"
       ]
      },
      {
       "output_type": "stream",
       "stream": "stdout",
       "text": [
        "\n",
        "Retrieved article 950 at: https://radicaldatascience.wordpress.com/2013/04/27/what-is-prediction-linear-regression-speaks/"
       ]
      },
      {
       "output_type": "stream",
       "stream": "stdout",
       "text": [
        "\n",
        "Retrieved article 951 at: https://radicaldatascience.wordpress.com/2013/02/23/p-values-or-not/"
       ]
      },
      {
       "output_type": "stream",
       "stream": "stdout",
       "text": [
        "\n",
        "Retrieved article 952 at: https://radicaldatascience.wordpress.com/2013/02/18/introduction-to-r-for-data-mining/"
       ]
      },
      {
       "output_type": "stream",
       "stream": "stdout",
       "text": [
        "\n",
        "Retrieved article 953 at: https://radicaldatascience.wordpress.com/2013/02/02/larug-data-science-panel/"
       ]
      },
      {
       "output_type": "stream",
       "stream": "stdout",
       "text": [
        "\n",
        "Retrieved article 954 at: https://radicaldatascience.wordpress.com/2012/12/28/do-you-have-a-statistically-significant-other/"
       ]
      },
      {
       "output_type": "stream",
       "stream": "stdout",
       "text": [
        "\n",
        "Retrieved article 955 at: https://cooldata.wordpress.com/2013/12/23/new-from-case-books-score/"
       ]
      },
      {
       "output_type": "stream",
       "stream": "stdout",
       "text": [
        "\n",
        "Retrieved article 956 at: https://cooldata.wordpress.com/2013/12/02/how-to-learn-data-analysis-focus-on-the-business/"
       ]
      },
      {
       "output_type": "stream",
       "stream": "stdout",
       "text": [
        "\n",
        "Retrieved article 957 at: https://cooldata.wordpress.com/2013/11/04/census-zip-code-data-versus-internal-data-as-predictors-of-alumni-giving/"
       ]
      },
      {
       "output_type": "stream",
       "stream": "stdout",
       "text": [
        "\n",
        "Retrieved article 958 at: https://cooldata.wordpress.com/2013/09/08/blogging-from-the-tableau-customer-conference-why-you-should-care-about-bi/"
       ]
      },
      {
       "output_type": "stream",
       "stream": "stdout",
       "text": [
        "\n",
        "Retrieved article 959 at: https://cooldata.wordpress.com/2013/08/20/a-book-cover-for-score/"
       ]
      },
      {
       "output_type": "stream",
       "stream": "stdout",
       "text": [
        "\n",
        "Retrieved article 960 at: https://cooldata.wordpress.com/2013/07/30/getting-bitten-by-python/"
       ]
      },
      {
       "output_type": "stream",
       "stream": "stdout",
       "text": [
        "\n",
        "Retrieved article 961 at: https://cooldata.wordpress.com/2013/07/16/alumni-engagement-scoring-vs-predictive-modelling/"
       ]
      },
      {
       "output_type": "stream",
       "stream": "stdout",
       "text": [
        "\n",
        "Retrieved article 962 at: https://cooldata.wordpress.com/2013/06/27/time-management-for-data-analysts/"
       ]
      },
      {
       "output_type": "stream",
       "stream": "stdout",
       "text": [
        "\n",
        "Retrieved article 963 at: https://cooldata.wordpress.com/2013/05/28/targeting-rare-behavior/"
       ]
      },
      {
       "output_type": "stream",
       "stream": "stdout",
       "text": [
        "\n",
        "Retrieved article 964 at: https://cooldata.wordpress.com/2013/05/02/new-twists-on-inferring-age-from-first-name/"
       ]
      },
      {
       "output_type": "stream",
       "stream": "stdout",
       "text": [
        "\n",
        "Retrieved article 965 at: http://feedproxy.google.com/~r/TheTextFrontier/~3/7U_7rOgZizM/"
       ]
      },
      {
       "output_type": "stream",
       "stream": "stdout",
       "text": [
        "\n",
        "Retrieved article 966 at: http://feedproxy.google.com/~r/TheTextFrontier/~3/KhQabchNUN0/"
       ]
      },
      {
       "output_type": "stream",
       "stream": "stdout",
       "text": [
        "\n",
        "Retrieved article 967 at: http://feedproxy.google.com/~r/TheTextFrontier/~3/cYlkR9Deze4/"
       ]
      },
      {
       "output_type": "stream",
       "stream": "stdout",
       "text": [
        "\n",
        "Retrieved article 968 at: http://feedproxy.google.com/~r/TheTextFrontier/~3/WQq3AFz3ixU/"
       ]
      },
      {
       "output_type": "stream",
       "stream": "stdout",
       "text": [
        "\n",
        "Retrieved article 969 at: http://feedproxy.google.com/~r/TheTextFrontier/~3/NvZ3JEYOCuE/"
       ]
      },
      {
       "output_type": "stream",
       "stream": "stdout",
       "text": [
        "\n",
        "Retrieved article 970 at: http://feedproxy.google.com/~r/TheTextFrontier/~3/S9rmGstRzbM/"
       ]
      },
      {
       "output_type": "stream",
       "stream": "stdout",
       "text": [
        "\n",
        "Retrieved article 971 at: http://feedproxy.google.com/~r/TheTextFrontier/~3/UckHROd4Iiw/"
       ]
      },
      {
       "output_type": "stream",
       "stream": "stdout",
       "text": [
        "\n",
        "Retrieved article 972 at: http://feedproxy.google.com/~r/TheTextFrontier/~3/njAtvfLrBdA/"
       ]
      },
      {
       "output_type": "stream",
       "stream": "stdout",
       "text": [
        "\n",
        "Retrieved article 973 at: http://feedproxy.google.com/~r/TheTextFrontier/~3/nsiE2Q9K9IM/"
       ]
      },
      {
       "output_type": "stream",
       "stream": "stdout",
       "text": [
        "\n",
        "Retrieved article 974 at: http://feedproxy.google.com/~r/TheTextFrontier/~3/Tr3MgiFneCo/"
       ]
      },
      {
       "output_type": "stream",
       "stream": "stdout",
       "text": [
        "\n",
        "Retrieved article 975 at: https://www-304.ibm.com/connections/blogs/predictiveanalytics/entry/how_much_data_can_we_visualize_on_a_single_screen?lang=en_us"
       ]
      },
      {
       "output_type": "stream",
       "stream": "stdout",
       "text": [
        "\n",
        "Retrieved article 976 at: https://www-304.ibm.com/connections/blogs/predictiveanalytics/entry/5w1h_the_social_zip_code?lang=en_us"
       ]
      },
      {
       "output_type": "stream",
       "stream": "stdout",
       "text": [
        "\n",
        "Retrieved article 977 at: https://www-304.ibm.com/connections/blogs/predictiveanalytics/entry/data_natural_resource_and_byproduct_of_our_age?lang=en_us"
       ]
      },
      {
       "output_type": "stream",
       "stream": "stdout",
       "text": [
        "\n",
        "Retrieved article 978 at: https://www-304.ibm.com/connections/blogs/predictiveanalytics/entry/the_six_ingredient_recipe_for_a_winning_bake_off?lang=en_us"
       ]
      },
      {
       "output_type": "stream",
       "stream": "stdout",
       "text": [
        "\n",
        "Retrieved article 979 at: https://www-304.ibm.com/connections/blogs/predictiveanalytics/entry/mirror_mirror_on_the_wall?lang=en_us"
       ]
      },
      {
       "output_type": "stream",
       "stream": "stdout",
       "text": [
        "\n",
        "Retrieved article 980 at: https://www-304.ibm.com/connections/blogs/predictiveanalytics/entry/the_rookie_analyst_series_lessons_in_double_counting_3_and_4?lang=en_us"
       ]
      },
      {
       "output_type": "stream",
       "stream": "stdout",
       "text": [
        "\n",
        "Retrieved article 981 at: https://www-304.ibm.com/connections/blogs/predictiveanalytics/entry/ibm_leaders_recognized_at_gartner_midsize_enterprise_summit?lang=en_us"
       ]
      },
      {
       "output_type": "stream",
       "stream": "stdout",
       "text": [
        "\n",
        "Retrieved article 982 at: https://www-304.ibm.com/connections/blogs/predictiveanalytics/entry/the_why_of_the_visualization?lang=en_us"
       ]
      },
      {
       "output_type": "stream",
       "stream": "stdout",
       "text": [
        "\n",
        "Retrieved article 983 at: https://www-304.ibm.com/connections/blogs/predictiveanalytics/entry/the_rookie_analyst_series_lessons_in_double_counting_1_and_2?lang=en_us"
       ]
      },
      {
       "output_type": "stream",
       "stream": "stdout",
       "text": [
        "\n",
        "Retrieved article 984 at: https://www-304.ibm.com/connections/blogs/predictiveanalytics/entry/the_rookie_analyst_series_lessons_in_double_counting_introduction?lang=en_us"
       ]
      },
      {
       "output_type": "stream",
       "stream": "stdout",
       "text": [
        "\n",
        "Retrieved article 985 at: https://www-304.ibm.com/connections/blogs/predictiveanalytics/entry/linking_performance_budgeting_and_analytics?lang=en_us"
       ]
      },
      {
       "output_type": "stream",
       "stream": "stdout",
       "text": [
        "\n",
        "Retrieved article 986 at: https://www-304.ibm.com/connections/blogs/predictiveanalytics/entry/purpose_the_bedrock_of_an_effective_visualization?lang=en_us"
       ]
      },
      {
       "output_type": "stream",
       "stream": "stdout",
       "text": [
        "\n",
        "Retrieved article 987 at: https://www-304.ibm.com/connections/blogs/predictiveanalytics/entry/new_business_analytics_client_care_center?lang=en_us"
       ]
      },
      {
       "output_type": "stream",
       "stream": "stdout",
       "text": [
        "\n",
        "Retrieved article 988 at: https://www-304.ibm.com/connections/blogs/predictiveanalytics/entry/check_out_information_on_demand_road_maps?lang=en_us"
       ]
      },
      {
       "output_type": "stream",
       "stream": "stdout",
       "text": [
        "\n",
        "Retrieved article 989 at: https://www-304.ibm.com/connections/blogs/predictiveanalytics/entry/predictive_policing_myths?lang=en_us"
       ]
      },
      {
       "output_type": "stream",
       "stream": "stdout",
       "text": [
        "\n",
        "Retrieved article 990 at: http://www.bytemining.com/2013/02/summary-of-my-first-trip-to-strata-strataconf/"
       ]
      },
      {
       "output_type": "stream",
       "stream": "stdout",
       "text": [
        "\n",
        "Retrieved article 991 at: http://www.bytemining.com/2012/12/merry-christmas-and-happy-holidays/"
       ]
      },
      {
       "output_type": "stream",
       "stream": "stdout",
       "text": [
        "\n",
        "Retrieved article 992 at: http://www.bytemining.com/2012/10/a-new-data-toy-unboxing-the-raspberry-pi/"
       ]
      },
      {
       "output_type": "stream",
       "stream": "stdout",
       "text": [
        "\n",
        "Retrieved article 993 at: http://www.bytemining.com/2012/08/adventures-at-my-first-jsm-joint-statistical-meetings-jsm2012/"
       ]
      },
      {
       "output_type": "stream",
       "stream": "stdout",
       "text": [
        "\n",
        "Retrieved article 994 at: http://www.bytemining.com/2012/07/openpaths-and-a-progressive-approach-to-privacy/"
       ]
      },
      {
       "output_type": "stream",
       "stream": "stdout",
       "text": [
        "\n",
        "Retrieved article 995 at: http://www.bytemining.com/2012/05/siam-data-mining-2012-conference/"
       ]
      },
      {
       "output_type": "stream",
       "stream": "stdout",
       "text": [
        "\n",
        "Retrieved article 996 at: http://www.bytemining.com/2012/03/my-interview-about-the-statistics-major/"
       ]
      },
      {
       "output_type": "stream",
       "stream": "stdout",
       "text": [
        "\n",
        "Retrieved article 997 at: http://www.bytemining.com/2012/01/hold-only-that-pair-of-2s-studying-a-video-poker-hand-with-r/"
       ]
      },
      {
       "output_type": "stream",
       "stream": "stdout",
       "text": [
        "\n",
        "Retrieved article 998 at: http://www.bytemining.com/2011/12/merry-christmas-2011-from-byte-mining/"
       ]
      },
      {
       "output_type": "stream",
       "stream": "stdout",
       "text": [
        "\n",
        "Retrieved article 999 at: http://www.bytemining.com/2011/11/parsing-wikipedia-articles-wikipedia-extractor-and-cloud9/"
       ]
      },
      {
       "output_type": "stream",
       "stream": "stdout",
       "text": [
        "\n",
        "Retrieved article 1000 at: http://www.bytemining.com/2011/09/lexisnexis-open-sources-its-hadoop-alternative/"
       ]
      },
      {
       "output_type": "stream",
       "stream": "stdout",
       "text": [
        "\n",
        "Retrieved article 1001 at: http://www.bytemining.com/2011/08/sigkdd-2011-conference-days-234-summary-3/"
       ]
      },
      {
       "output_type": "stream",
       "stream": "stdout",
       "text": [
        "\n",
        "Retrieved article 1002 at: http://www.bytemining.com/2011/08/sigkdd-2011-conference-day-1-graph-mining-and-david-bleitopic-models/"
       ]
      },
      {
       "output_type": "stream",
       "stream": "stdout",
       "text": [
        "\n",
        "Retrieved article 1003 at: http://www.bytemining.com/2011/08/hadoop-fatigue-alternatives-to-hadoop/"
       ]
      },
      {
       "output_type": "stream",
       "stream": "stdout",
       "text": [
        "\n",
        "Retrieved article 1004 at: http://www.bytemining.com/2011/06/my-review-of-hadoop-summit-2011-hadoopsummit/"
       ]
      },
      {
       "output_type": "stream",
       "stream": "stdout",
       "text": [
        "\n",
        "Retrieved article 1005 at: http://www.bytemining.com/2011/06/big-data-camp-2011-bigdatacamp/"
       ]
      },
      {
       "output_type": "stream",
       "stream": "stdout",
       "text": [
        "\n",
        "Retrieved article 1006 at: http://www.bytemining.com/2011/06/google-is-search-by-multimedia-on-the-way/"
       ]
      },
      {
       "output_type": "stream",
       "stream": "stdout",
       "text": [
        "\n",
        "Retrieved article 1007 at: http://www.bytemining.com/2011/05/want-to-build-a-research-server-6/"
       ]
      },
      {
       "output_type": "stream",
       "stream": "stdout",
       "text": [
        "\n",
        "Retrieved article 1008 at: http://www.bytemining.com/2011/05/review-of-2011-data-scientist-summit/"
       ]
      },
      {
       "output_type": "stream",
       "stream": "stdout",
       "text": [
        "\n",
        "Retrieved article 1009 at: http://www.bytemining.com/2011/05/ec2-trials-and-tribulations-part-1-web-crawling/"
       ]
      },
      {
       "output_type": "stream",
       "stream": "stdout",
       "text": [
        "\n",
        "Retrieved article 1010 at: http://www.bytemining.com/2011/04/location-tracking-on-android-too/"
       ]
      },
      {
       "output_type": "stream",
       "stream": "stdout",
       "text": [
        "\n",
        "Retrieved article 1011 at: http://www.bytemining.com/2011/03/instructions-for-installing-64bit-scipy-python-2-7-1-on-macos-x-10-6/"
       ]
      },
      {
       "output_type": "stream",
       "stream": "stdout",
       "text": [
        "\n",
        "Retrieved article 1012 at: http://www.bytemining.com/2011/03/my-first-few-days-with-rstudio/"
       ]
      },
      {
       "output_type": "stream",
       "stream": "stdout",
       "text": [
        "\n",
        "Retrieved article 1013 at: http://www.bytemining.com/2011/02/web-mining-pitfalls/"
       ]
      },
      {
       "output_type": "stream",
       "stream": "stdout",
       "text": [
        "\n",
        "Retrieved article 1014 at: http://www.bytemining.com/2011/01/40-fascinating-blogs-for-the-ultimate-statistics-geek/"
       ]
      },
      {
       "output_type": "stream",
       "stream": "stdout",
       "text": [
        "\n",
        "Retrieved article 1015 at: http://blog.kaggle.com/2014/01/15/kaggle-newsletter-up-at-the-presents-down-on-the-map-out-to-galaxy/"
       ]
      },
      {
       "output_type": "stream",
       "stream": "stdout",
       "text": [
        "\n",
        "Retrieved article 1016 at: http://blog.kaggle.com/2014/01/07/qa-with-bryan-miroslaw-2nd-place-in-the-see-click-predict-fix-competition/"
       ]
      },
      {
       "output_type": "stream",
       "stream": "stdout",
       "text": [
        "\n",
        "Retrieved article 1017 at: http://blog.kaggle.com/2014/01/07/qa-with-james-petterson-3rd-place-winner-see-click-predict-fix-competition/"
       ]
      },
      {
       "output_type": "stream",
       "stream": "stdout",
       "text": [
        "\n",
        "Retrieved article 1018 at: http://blog.kaggle.com/2014/01/02/three-years-and-growing/"
       ]
      },
      {
       "output_type": "stream",
       "stream": "stdout",
       "text": [
        "\n",
        "Retrieved article 1019 at: http://blog.kaggle.com/2014/01/01/happy-2014-new-year/"
       ]
      },
      {
       "output_type": "stream",
       "stream": "stdout",
       "text": [
        "\n",
        "Retrieved article 1020 at: http://blog.kaggle.com/2013/12/23/qa-with-jose-guerrero-1st-place-winner-see-click-predict-fix-competition/"
       ]
      },
      {
       "output_type": "stream",
       "stream": "stdout",
       "text": [
        "\n",
        "Retrieved article 1021 at: http://blog.kaggle.com/2013/12/03/newsletter-non-denominational-seasonal-convex-optimization-problem/"
       ]
      },
      {
       "output_type": "stream",
       "stream": "stdout",
       "text": [
        "\n",
        "Retrieved article 1022 at: http://blog.kaggle.com/2013/11/08/mining-the-data-on-the-top-100/"
       ]
      },
      {
       "output_type": "stream",
       "stream": "stdout",
       "text": [
        "\n",
        "Retrieved article 1023 at: http://blog.kaggle.com/2013/10/11/newsletter-chemistry-crowds/"
       ]
      },
      {
       "output_type": "stream",
       "stream": "stdout",
       "text": [
        "\n",
        "Retrieved article 1024 at: http://www.datasciencecentral.com/xn/detail/6448529%3ABlogPost%3A132624"
       ]
      },
      {
       "output_type": "stream",
       "stream": "stdout",
       "text": [
        "\n",
        "Retrieved article 1025 at: http://www.datasciencecentral.com/xn/detail/6448529%3ABlogPost%3A128556"
       ]
      },
      {
       "output_type": "stream",
       "stream": "stdout",
       "text": [
        "\n",
        "Retrieved article 1026 at: http://www.datasciencecentral.com/xn/detail/6448529%3ATopic%3A130760"
       ]
      },
      {
       "output_type": "stream",
       "stream": "stdout",
       "text": [
        "\n",
        "Retrieved article 1027 at: http://www.datasciencecentral.com/xn/detail/6448529%3ABlogPost%3A134617"
       ]
      },
      {
       "output_type": "stream",
       "stream": "stdout",
       "text": [
        "\n",
        "Retrieved article 1028 at: http://www.datasciencecentral.com/xn/detail/6448529%3ABlogPost%3A119840"
       ]
      },
      {
       "output_type": "stream",
       "stream": "stdout",
       "text": [
        "\n",
        "Retrieved article 1029 at: http://www.datasciencecentral.com/xn/detail/6448529%3ABlogPost%3A134188"
       ]
      },
      {
       "output_type": "stream",
       "stream": "stdout",
       "text": [
        "\n",
        "Retrieved article 1030 at: http://www.datasciencecentral.com/xn/detail/6448529%3AEvent%3A137005"
       ]
      },
      {
       "output_type": "stream",
       "stream": "stdout",
       "text": [
        "\n",
        "Retrieved article 1031 at: http://www.datasciencecentral.com/xn/detail/6448529%3ABlogPost%3A97755"
       ]
      },
      {
       "output_type": "stream",
       "stream": "stdout",
       "text": [
        "\n",
        "Retrieved article 1032 at: http://www.datasciencecentral.com/xn/detail/6448529%3ABlogPost%3A132629"
       ]
      },
      {
       "output_type": "stream",
       "stream": "stdout",
       "text": [
        "\n",
        "Retrieved article 1033 at: http://www.datasciencecentral.com/xn/detail/6448529%3ABlogPost%3A134270"
       ]
      },
      {
       "output_type": "stream",
       "stream": "stdout",
       "text": [
        "\n",
        "Retrieved article 1034 at: http://www.datasciencecentral.com/xn/detail/6448529%3ABlogPost%3A135825"
       ]
      },
      {
       "output_type": "stream",
       "stream": "stdout",
       "text": [
        "\n",
        "Retrieved article 1035 at: http://www.datasciencecentral.com/xn/detail/6448529%3ABlogPost%3A130142"
       ]
      },
      {
       "output_type": "stream",
       "stream": "stdout",
       "text": [
        "\n",
        "Retrieved article 1036 at: http://www.datasciencecentral.com/xn/detail/6448529%3ABlogPost%3A137032"
       ]
      },
      {
       "output_type": "stream",
       "stream": "stdout",
       "text": [
        "\n",
        "Retrieved article 1037 at: http://www.datasciencecentral.com/xn/detail/6448529%3ABlogPost%3A128610"
       ]
      },
      {
       "output_type": "stream",
       "stream": "stdout",
       "text": [
        "\n",
        "Retrieved article 1038 at: http://www.datasciencecentral.com/xn/detail/6448529%3ABlogPost%3A129067"
       ]
      },
      {
       "output_type": "stream",
       "stream": "stdout",
       "text": [
        "\n",
        "Retrieved article 1039 at: http://www.datasciencecentral.com/xn/detail/6448529%3ABlogPost%3A132436"
       ]
      },
      {
       "output_type": "stream",
       "stream": "stdout",
       "text": [
        "\n",
        "Retrieved article 1040 at: http://www.datasciencecentral.com/xn/detail/6448529%3ABlogPost%3A133935"
       ]
      },
      {
       "output_type": "stream",
       "stream": "stdout",
       "text": [
        "\n",
        "Retrieved article 1041 at: http://www.datasciencecentral.com/xn/detail/6448529%3ABlogPost%3A135706"
       ]
      },
      {
       "output_type": "stream",
       "stream": "stdout",
       "text": [
        "\n",
        "Retrieved article 1042 at: http://www.datasciencecentral.com/xn/detail/6448529%3ABlogPost%3A130341"
       ]
      },
      {
       "output_type": "stream",
       "stream": "stdout",
       "text": [
        "\n",
        "Retrieved article 1043 at: http://www.datasciencecentral.com/xn/detail/6448529%3ATopic%3A61092"
       ]
      },
      {
       "output_type": "stream",
       "stream": "stdout",
       "text": [
        "\n",
        "Retrieved article 1044 at: http://feeds.arstechnica.com/~r/arstechnica/technology-lab/~3/r4GM_aoA7_U/story01.htm"
       ]
      },
      {
       "output_type": "stream",
       "stream": "stdout",
       "text": [
        "\n",
        "Retrieved article 1045 at: http://feeds.arstechnica.com/~r/arstechnica/technology-lab/~3/cyewesGbYGA/story01.htm"
       ]
      },
      {
       "output_type": "stream",
       "stream": "stdout",
       "text": [
        "\n",
        "Retrieved article 1046 at: http://feeds.arstechnica.com/~r/arstechnica/technology-lab/~3/sQ5uuZTsXOw/story01.htm"
       ]
      },
      {
       "output_type": "stream",
       "stream": "stdout",
       "text": [
        "\n",
        "Retrieved article 1047 at: http://feeds.arstechnica.com/~r/arstechnica/technology-lab/~3/xyR90-yaNzQ/story01.htm"
       ]
      },
      {
       "output_type": "stream",
       "stream": "stdout",
       "text": [
        "\n",
        "Retrieved article 1048 at: http://feeds.arstechnica.com/~r/arstechnica/technology-lab/~3/_KoSZ8QgVwc/story01.htm"
       ]
      },
      {
       "output_type": "stream",
       "stream": "stdout",
       "text": [
        "\n",
        "Retrieved article 1049 at: http://feeds.arstechnica.com/~r/arstechnica/technology-lab/~3/G56OJxw8uXk/story01.htm"
       ]
      },
      {
       "output_type": "stream",
       "stream": "stdout",
       "text": [
        "\n",
        "Retrieved article 1050 at: http://feeds.arstechnica.com/~r/arstechnica/technology-lab/~3/lQPyovcajAo/story01.htm"
       ]
      },
      {
       "output_type": "stream",
       "stream": "stdout",
       "text": [
        "\n",
        "Retrieved article 1051 at: http://feeds.arstechnica.com/~r/arstechnica/technology-lab/~3/dOl_q391lW4/story01.htm"
       ]
      },
      {
       "output_type": "stream",
       "stream": "stdout",
       "text": [
        "\n",
        "Retrieved article 1052 at: http://feeds.arstechnica.com/~r/arstechnica/technology-lab/~3/ULlIctNlVds/story01.htm"
       ]
      },
      {
       "output_type": "stream",
       "stream": "stdout",
       "text": [
        "\n",
        "Retrieved article 1053 at: http://feeds.arstechnica.com/~r/arstechnica/technology-lab/~3/SioiZrY1GxU/story01.htm"
       ]
      },
      {
       "output_type": "stream",
       "stream": "stdout",
       "text": [
        "\n",
        "Retrieved article 1054 at: http://feeds.arstechnica.com/~r/arstechnica/technology-lab/~3/o6iarVG8JbU/story01.htm"
       ]
      },
      {
       "output_type": "stream",
       "stream": "stdout",
       "text": [
        "\n",
        "Retrieved article 1055 at: http://feeds.arstechnica.com/~r/arstechnica/technology-lab/~3/5qNCoZGTo1U/story01.htm"
       ]
      },
      {
       "output_type": "stream",
       "stream": "stdout",
       "text": [
        "\n",
        "Retrieved article 1056 at: http://feeds.arstechnica.com/~r/arstechnica/technology-lab/~3/n1MY5Sq3cB4/story01.htm"
       ]
      },
      {
       "output_type": "stream",
       "stream": "stdout",
       "text": [
        "\n",
        "Retrieved article 1057 at: http://feeds.arstechnica.com/~r/arstechnica/technology-lab/~3/ulZGD71d_70/story01.htm"
       ]
      },
      {
       "output_type": "stream",
       "stream": "stdout",
       "text": [
        "\n",
        "Retrieved article 1058 at: http://feeds.arstechnica.com/~r/arstechnica/technology-lab/~3/1ziVCIHEirY/story01.htm"
       ]
      },
      {
       "output_type": "stream",
       "stream": "stdout",
       "text": [
        "\n",
        "Retrieved article 1059 at: http://feeds.arstechnica.com/~r/arstechnica/technology-lab/~3/zcJBYFmERLQ/story01.htm"
       ]
      },
      {
       "output_type": "stream",
       "stream": "stdout",
       "text": [
        "\n",
        "Retrieved article 1060 at: http://feeds.arstechnica.com/~r/arstechnica/technology-lab/~3/LpgwqAkDNV4/story01.htm"
       ]
      },
      {
       "output_type": "stream",
       "stream": "stdout",
       "text": [
        "\n",
        "Retrieved article 1061 at: http://feeds.arstechnica.com/~r/arstechnica/technology-lab/~3/e0rGK2jJD1g/story01.htm"
       ]
      },
      {
       "output_type": "stream",
       "stream": "stdout",
       "text": [
        "\n",
        "Retrieved article 1062 at: http://feeds.arstechnica.com/~r/arstechnica/technology-lab/~3/QemgPSvjIuE/story01.htm"
       ]
      },
      {
       "output_type": "stream",
       "stream": "stdout",
       "text": [
        "\n",
        "Retrieved article 1063 at: http://feeds.arstechnica.com/~r/arstechnica/technology-lab/~3/PvkU9eWWB1s/story01.htm"
       ]
      },
      {
       "output_type": "stream",
       "stream": "stdout",
       "text": [
        "\n",
        "Retrieved article 1064 at: http://feeds.arstechnica.com/~r/arstechnica/technology-lab/~3/pq2_RGA6nao/story01.htm"
       ]
      },
      {
       "output_type": "stream",
       "stream": "stdout",
       "text": [
        "\n",
        "Retrieved article 1065 at: http://feeds.arstechnica.com/~r/arstechnica/technology-lab/~3/EqoLz7LzqjM/story01.htm"
       ]
      },
      {
       "output_type": "stream",
       "stream": "stdout",
       "text": [
        "\n",
        "Retrieved article 1066 at: http://feeds.arstechnica.com/~r/arstechnica/technology-lab/~3/imao06x24oo/story01.htm"
       ]
      },
      {
       "output_type": "stream",
       "stream": "stdout",
       "text": [
        "\n",
        "Retrieved article 1067 at: http://feeds.arstechnica.com/~r/arstechnica/technology-lab/~3/N78V0xJ9VUQ/story01.htm"
       ]
      },
      {
       "output_type": "stream",
       "stream": "stdout",
       "text": [
        "\n",
        "Retrieved article 1068 at: http://feeds.arstechnica.com/~r/arstechnica/technology-lab/~3/NP1a5GX1l_A/story01.htm"
       ]
      },
      {
       "output_type": "stream",
       "stream": "stdout",
       "text": [
        "\n",
        "Retrieved article 1069 at: http://marktab.net/datamining/2013/09/30/sas-performance-compare-julia/"
       ]
      },
      {
       "output_type": "stream",
       "stream": "stdout",
       "text": [
        "\n",
        "Retrieved article 1070 at: http://marktab.net/datamining/2013/09/29/free-ebooks-microsoft/"
       ]
      },
      {
       "output_type": "stream",
       "stream": "stdout",
       "text": [
        "\n",
        "Retrieved article 1071 at: http://marktab.net/datamining/2013/09/28/spss-sql-server-data-mining/"
       ]
      },
      {
       "output_type": "stream",
       "stream": "stdout",
       "text": [
        "\n",
        "Retrieved article 1072 at: http://marktab.net/datamining/2013/09/16/presenting-sql-saturday-charlotte-october-19/"
       ]
      },
      {
       "output_type": "stream",
       "stream": "stdout",
       "text": [
        "\n",
        "Retrieved article 1073 at: http://marktab.net/datamining/2013/09/16/presenting-silicon-valley-code-camp-october-5-6/"
       ]
      },
      {
       "output_type": "stream",
       "stream": "stdout",
       "text": [
        "\n",
        "Retrieved article 1074 at: http://marktab.net/datamining/2013/06/24/sponsoring-presenting-sql-saturday-226-south-florida-june-29/"
       ]
      },
      {
       "output_type": "stream",
       "stream": "stdout",
       "text": [
        "\n",
        "Retrieved article 1075 at: http://marktab.net/datamining/2013/06/24/presenting-practices-framework-data-mining-june-2013/"
       ]
      },
      {
       "output_type": "stream",
       "stream": "stdout",
       "text": [
        "\n",
        "Retrieved article 1076 at: http://marktab.net/datamining/2013/05/14/sponsoring-presenting-sql-saturday-220-atlanta-ga-18/"
       ]
      },
      {
       "output_type": "stream",
       "stream": "stdout",
       "text": [
        "\n",
        "Retrieved article 1077 at: http://marktab.net/datamining/2013/05/06/presenting-data-analysis-julia-pass-virtual-business-analytics-9/"
       ]
      },
      {
       "output_type": "stream",
       "stream": "stdout",
       "text": [
        "\n",
        "Retrieved article 1078 at: http://marktab.net/datamining/2013/03/20/tips-improving-wordpress-3-51-speed-godaddy-shared-hosting/"
       ]
      },
      {
       "output_type": "stream",
       "stream": "stdout",
       "text": [
        "\n",
        "Retrieved article 1079 at: http://marktab.net/datamining/2013/03/20/tips-improving-dotnetnuke-5-7-godaddy-shared-hosting/"
       ]
      },
      {
       "output_type": "stream",
       "stream": "stdout",
       "text": [
        "\n",
        "Retrieved article 1080 at: http://marktab.net/datamining/2013/03/20/speaking-atlanta-net-user-group-march-25-2013/"
       ]
      },
      {
       "output_type": "stream",
       "stream": "stdout",
       "text": [
        "\n",
        "Retrieved article 1081 at: http://www.dataminingblog.com/think-you-need-hadoop-think-again/"
       ]
      },
      {
       "output_type": "stream",
       "stream": "stdout",
       "text": [
        "\n",
        "Retrieved article 1082 at: http://www.dataminingblog.com/data-mining-book-review-assessing-and-improving-prediction-and-classification/"
       ]
      },
      {
       "output_type": "stream",
       "stream": "stdout",
       "text": [
        "\n",
        "Retrieved article 1083 at: http://www.dataminingblog.com/3rd-swiss-analytics-event-january-30th-lausanne/"
       ]
      },
      {
       "output_type": "stream",
       "stream": "stdout",
       "text": [
        "\n",
        "Retrieved article 1084 at: http://www.dataminingblog.com/data-mining-research-in-2013/"
       ]
      },
      {
       "output_type": "stream",
       "stream": "stdout",
       "text": [
        "\n",
        "Retrieved article 1085 at: http://www.dataminingblog.com/data-mining-book-review-visualize-this/"
       ]
      },
      {
       "output_type": "stream",
       "stream": "stdout",
       "text": [
        "\n",
        "Retrieved article 1086 at: http://www.dataminingblog.com/data-mining-soft-skills/"
       ]
      },
      {
       "output_type": "stream",
       "stream": "stdout",
       "text": [
        "\n",
        "Retrieved article 1087 at: http://www.dataminingblog.com/5-data-mining-whitepapers-to-read/"
       ]
      },
      {
       "output_type": "stream",
       "stream": "stdout",
       "text": [
        "\n",
        "Retrieved article 1088 at: http://www.dataminingblog.com/big-data-requirements/"
       ]
      },
      {
       "output_type": "stream",
       "stream": "stdout",
       "text": [
        "\n",
        "Retrieved article 1089 at: http://www.dataminingblog.com/2nd-swiss-association-for-analytics-event-2/"
       ]
      },
      {
       "output_type": "stream",
       "stream": "stdout",
       "text": [
        "\n",
        "Retrieved article 1090 at: http://www.dataminingblog.com/data-mining-book-review-how-to-lie-with-statistics/"
       ]
      },
      {
       "output_type": "stream",
       "stream": "stdout",
       "text": [
        "\n",
        "Retrieved article 1091 at: http://data-virtualization.com/2013/11/11/announcing-the-2013-data-virtualization-innovative-solutions-award-winner/"
       ]
      },
      {
       "output_type": "stream",
       "stream": "stdout",
       "text": [
        "\n",
        "Retrieved article 1092 at: http://data-virtualization.com/2013/10/28/announcing-the-2013-data-virtualization-champion/"
       ]
      },
      {
       "output_type": "stream",
       "stream": "stdout",
       "text": [
        "\n",
        "Retrieved article 1093 at: http://data-virtualization.com/2013/10/21/the-biggest-day-in-data-virtualization/"
       ]
      },
      {
       "output_type": "stream",
       "stream": "stdout",
       "text": [
        "\n",
        "Retrieved article 1094 at: http://data-virtualization.com/2013/09/30/when-data-virtualization-meets-the-network/"
       ]
      },
      {
       "output_type": "stream",
       "stream": "stdout",
       "text": [
        "\n",
        "Retrieved article 1095 at: http://data-virtualization.com/2013/09/23/big-data-analytics-better-with-data-virtualization/"
       ]
      },
      {
       "output_type": "stream",
       "stream": "stdout",
       "text": [
        "\n",
        "Retrieved article 1096 at: http://data-virtualization.com/2013/09/04/archiving-with-big-data-better-business-results/"
       ]
      },
      {
       "output_type": "stream",
       "stream": "stdout",
       "text": [
        "\n",
        "Retrieved article 1097 at: http://data-virtualization.com/2013/08/27/counting-down-to-data-virtualization-day-2013/"
       ]
      },
      {
       "output_type": "stream",
       "stream": "stdout",
       "text": [
        "\n",
        "Retrieved article 1098 at: http://data-virtualization.com/2013/08/16/forrester-information-fabric-3-0-a-fresh-take-on-data-virtualization/"
       ]
      },
      {
       "output_type": "stream",
       "stream": "stdout",
       "text": [
        "\n",
        "Retrieved article 1099 at: http://data-virtualization.com/2013/07/30/pacific-northwest-bi-summit-2013/"
       ]
      },
      {
       "output_type": "stream",
       "stream": "stdout",
       "text": [
        "\n",
        "Retrieved article 1100 at: http://data-virtualization.com/2013/07/23/the-future-of-data-virtualization/"
       ]
      },
      {
       "output_type": "stream",
       "stream": "stdout",
       "text": [
        "\n",
        "Retrieved article 1101 at: http://andrewgelman.com/2014/01/30/history-important-left-history-professors-part-2/"
       ]
      },
      {
       "output_type": "stream",
       "stream": "stdout",
       "text": [
        "\n",
        "Retrieved article 1102 at: http://andrewgelman.com/2014/01/29/stupid-r-tricks-random-scope/"
       ]
      },
      {
       "output_type": "stream",
       "stream": "stdout",
       "text": [
        "\n",
        "Retrieved article 1103 at: http://andrewgelman.com/2014/01/29/questioning-lancet-plos-surveys-iraqi-deaths-interview-univ-london-professor-michael-spagat/"
       ]
      },
      {
       "output_type": "stream",
       "stream": "stdout",
       "text": [
        "\n",
        "Retrieved article 1104 at: http://andrewgelman.com/2014/01/28/history-important-left-history-professors/"
       ]
      },
      {
       "output_type": "stream",
       "stream": "stdout",
       "text": [
        "\n",
        "Retrieved article 1105 at: http://andrewgelman.com/2014/01/27/disappointed-results-boost-scientific-paper/"
       ]
      },
      {
       "output_type": "stream",
       "stream": "stdout",
       "text": [
        "\n",
        "Retrieved article 1106 at: http://andrewgelman.com/2014/01/27/best-blog-comment-ever/"
       ]
      },
      {
       "output_type": "stream",
       "stream": "stdout",
       "text": [
        "\n",
        "Retrieved article 1107 at: http://andrewgelman.com/2014/01/26/twitter-sucks-people-gullible-f/"
       ]
      },
      {
       "output_type": "stream",
       "stream": "stdout",
       "text": [
        "\n",
        "Retrieved article 1108 at: http://andrewgelman.com/2014/01/26/infoviz-top-stat-graphic-top-spreadsheet/"
       ]
      },
      {
       "output_type": "stream",
       "stream": "stdout",
       "text": [
        "\n",
        "Retrieved article 1109 at: http://andrewgelman.com/2014/01/25/sparsity-density/"
       ]
      },
      {
       "output_type": "stream",
       "stream": "stdout",
       "text": [
        "\n",
        "Retrieved article 1110 at: http://andrewgelman.com/2014/01/24/parables-vs-data/"
       ]
      },
      {
       "output_type": "stream",
       "stream": "stdout",
       "text": [
        "\n",
        "Retrieved article 1111 at: http://andrewgelman.com/2014/01/23/discussion-preregistration-research-studies/"
       ]
      },
      {
       "output_type": "stream",
       "stream": "stdout",
       "text": [
        "\n",
        "Retrieved article 1112 at: http://andrewgelman.com/2014/01/22/spell-checking-example/"
       ]
      },
      {
       "output_type": "stream",
       "stream": "stdout",
       "text": [
        "\n",
        "Retrieved article 1113 at: http://andrewgelman.com/2014/01/21/everything-need-know-bayesian-statistics-learned-eight-schools/"
       ]
      },
      {
       "output_type": "stream",
       "stream": "stdout",
       "text": [
        "\n",
        "Retrieved article 1114 at: http://andrewgelman.com/2014/01/21/commissar-traffic-presents-latest-five-year-plan/"
       ]
      },
      {
       "output_type": "stream",
       "stream": "stdout",
       "text": [
        "\n",
        "Retrieved article 1115 at: http://andrewgelman.com/2014/01/20/mailing-list-degree-of-difficulty-difficulty/"
       ]
      },
      {
       "output_type": "stream",
       "stream": "stdout",
       "text": [
        "\n",
        "Retrieved article 1116 at: http://andrewgelman.com/2014/01/20/aaa-tranche-subprime-science/"
       ]
      },
      {
       "output_type": "stream",
       "stream": "stdout",
       "text": [
        "\n",
        "Retrieved article 1117 at: http://andrewgelman.com/2014/01/19/british-amateur-debunked-mathematics-happiness/"
       ]
      },
      {
       "output_type": "stream",
       "stream": "stdout",
       "text": [
        "\n",
        "Retrieved article 1118 at: http://andrewgelman.com/2014/01/19/transformations-for-non-normal-data/"
       ]
      },
      {
       "output_type": "stream",
       "stream": "stdout",
       "text": [
        "\n",
        "Retrieved article 1119 at: http://andrewgelman.com/2014/01/18/course-sample-surveys-political-science/"
       ]
      },
      {
       "output_type": "stream",
       "stream": "stdout",
       "text": [
        "\n",
        "Retrieved article 1120 at: http://andrewgelman.com/2014/01/17/think-statistical-evidence-statistical-evidence-cant-conclusive/"
       ]
      },
      {
       "output_type": "stream",
       "stream": "stdout",
       "text": [
        "\n",
        "Retrieved article 1121 at: http://andrewgelman.com/2014/01/16/22571/"
       ]
      },
      {
       "output_type": "stream",
       "stream": "stdout",
       "text": [
        "\n",
        "Retrieved article 1122 at: http://andrewgelman.com/2014/01/15/postdoc-involving-pathbreaking-work-mrp-stan-2014-election/"
       ]
      },
      {
       "output_type": "stream",
       "stream": "stdout",
       "text": [
        "\n",
        "Retrieved article 1123 at: http://andrewgelman.com/2014/01/14/advice-writing-research-articles/"
       ]
      },
      {
       "output_type": "stream",
       "stream": "stdout",
       "text": [
        "\n",
        "Retrieved article 1124 at: http://andrewgelman.com/2014/01/13/postdoc-liz-stuart-propensity-score-methods-covariates-measured-error/"
       ]
      },
      {
       "output_type": "stream",
       "stream": "stdout",
       "text": [
        "\n",
        "Retrieved article 1125 at: http://andrewgelman.com/2014/01/13/judea-pearl-overview-causal-inference-general-thoughts-reexpression-existing-methods-considering-implicit-assumptions/"
       ]
      },
      {
       "output_type": "stream",
       "stream": "stdout",
       "text": [
        "\n",
        "Retrieved article 1126 at: http://andrewgelman.com/2014/01/12/things-like-almost-nobody-else-interested/"
       ]
      },
      {
       "output_type": "stream",
       "stream": "stdout",
       "text": [
        "\n",
        "Retrieved article 1127 at: http://andrewgelman.com/2014/01/12/risk-deviating-standards-close-reading-requires-context/"
       ]
      },
      {
       "output_type": "stream",
       "stream": "stdout",
       "text": [
        "\n",
        "Retrieved article 1128 at: http://andrewgelman.com/2014/01/10/look-whos-3-years-date-whole-dennis-dentist-thing/"
       ]
      },
      {
       "output_type": "stream",
       "stream": "stdout",
       "text": [
        "\n",
        "Retrieved article 1129 at: http://andrewgelman.com/2014/01/10/believe-humans-living-things-evolved-time/"
       ]
      },
      {
       "output_type": "stream",
       "stream": "stdout",
       "text": [
        "\n",
        "Retrieved article 1130 at: http://andrewgelman.com/2014/01/09/san-fernando-valley-cityscapes-example-benefits-fractal-devastation/"
       ]
      },
      {
       "output_type": "stream",
       "stream": "stdout",
       "text": [
        "\n",
        "Retrieved article 1131 at: http://andrewgelman.com/2014/01/09/hermann-goering-jane-jacobs-together-last/"
       ]
      },
      {
       "output_type": "stream",
       "stream": "stdout",
       "text": [
        "\n",
        "Retrieved article 1132 at: http://andrewgelman.com/2014/01/08/belief-aggregation/"
       ]
      },
      {
       "output_type": "stream",
       "stream": "stdout",
       "text": [
        "\n",
        "Retrieved article 1133 at: http://andrewgelman.com/2014/01/08/how-to-display-multinominal-logit-results-graphically/"
       ]
      },
      {
       "output_type": "stream",
       "stream": "stdout",
       "text": [
        "\n",
        "Retrieved article 1134 at: http://andrewgelman.com/2014/01/07/recent-debugging-experience/"
       ]
      },
      {
       "output_type": "stream",
       "stream": "stdout",
       "text": [
        "\n",
        "Retrieved article 1135 at: http://andrewgelman.com/2014/01/06/spam-names/"
       ]
      },
      {
       "output_type": "stream",
       "stream": "stdout",
       "text": [
        "\n",
        "Retrieved article 1136 at: http://andrewgelman.com/2014/01/04/dogs-sensitive-small-variations-earths-magnetic-field/"
       ]
      },
      {
       "output_type": "stream",
       "stream": "stdout",
       "text": [
        "\n",
        "Retrieved article 1137 at: http://andrewgelman.com/2014/01/03/booze-done/"
       ]
      },
      {
       "output_type": "stream",
       "stream": "stdout",
       "text": [
        "\n",
        "Retrieved article 1138 at: http://andrewgelman.com/2014/01/02/2013/"
       ]
      },
      {
       "output_type": "stream",
       "stream": "stdout",
       "text": [
        "\n",
        "Retrieved article 1139 at: http://andrewgelman.com/2014/01/01/though-may-unaware-newlyweds-implicitly-know-whether-marriage-will-satisfying/"
       ]
      },
      {
       "output_type": "stream",
       "stream": "stdout",
       "text": [
        "\n",
        "Retrieved article 1140 at: http://andrewgelman.com/2013/12/31/yesno-decisions/"
       ]
      },
      {
       "output_type": "stream",
       "stream": "stdout",
       "text": [
        "\n",
        "Retrieved article 1141 at: http://andrewgelman.com/2013/12/30/bill-gatess-favorite-graph-year/"
       ]
      },
      {
       "output_type": "stream",
       "stream": "stdout",
       "text": [
        "\n",
        "Retrieved article 1142 at: http://andrewgelman.com/2013/12/29/statistics-done-wrong/"
       ]
      },
      {
       "output_type": "stream",
       "stream": "stdout",
       "text": [
        "\n",
        "Retrieved article 1143 at: http://andrewgelman.com/2013/12/28/using-randomized-incentives-instrument-survey-nonresponse/"
       ]
      },
      {
       "output_type": "stream",
       "stream": "stdout",
       "text": [
        "\n",
        "Retrieved article 1144 at: http://andrewgelman.com/2013/12/27/rpycmdstan-2-1-0/"
       ]
      },
      {
       "output_type": "stream",
       "stream": "stdout",
       "text": [
        "\n",
        "Retrieved article 1145 at: http://andrewgelman.com/2013/12/27/statistics-nobel-prize/"
       ]
      },
      {
       "output_type": "stream",
       "stream": "stdout",
       "text": [
        "\n",
        "Retrieved article 1146 at: http://andrewgelman.com/2013/12/26/statistical-evidence-revised-standards/"
       ]
      },
      {
       "output_type": "stream",
       "stream": "stdout",
       "text": [
        "\n",
        "Retrieved article 1147 at: http://andrewgelman.com/2013/12/25/measuring-beauty/"
       ]
      },
      {
       "output_type": "stream",
       "stream": "stdout",
       "text": [
        "\n",
        "Retrieved article 1148 at: http://andrewgelman.com/2013/12/25/spam/"
       ]
      },
      {
       "output_type": "stream",
       "stream": "stdout",
       "text": [
        "\n",
        "Retrieved article 1149 at: http://andrewgelman.com/2013/12/24/nyt-version-birthday-graph/"
       ]
      },
      {
       "output_type": "stream",
       "stream": "stdout",
       "text": [
        "\n",
        "Retrieved article 1150 at: http://andrewgelman.com/2013/12/24/22214/"
       ]
      },
      {
       "output_type": "stream",
       "stream": "stdout",
       "text": [
        "\n",
        "Retrieved article 1151 at: http://www.aboutdm.com/2014/01/statistics-and-data-mining.html"
       ]
      },
      {
       "output_type": "stream",
       "stream": "stdout",
       "text": [
        "\n",
        "Retrieved article 1152 at: http://www.aboutdm.com/2014/01/data-mining-conferences-in-2014.html"
       ]
      },
      {
       "output_type": "stream",
       "stream": "stdout",
       "text": [
        "\n",
        "Retrieved article 1153 at: http://www.aboutdm.com/2014/01/hiring-data-scientists.html"
       ]
      },
      {
       "output_type": "stream",
       "stream": "stdout",
       "text": [
        "\n",
        "Retrieved article 1154 at: http://www.aboutdm.com/2013/11/overview-of-data-mining.html"
       ]
      },
      {
       "output_type": "stream",
       "stream": "stdout",
       "text": [
        "\n",
        "Retrieved article 1155 at: http://www.aboutdm.com/2013/09/how-casinos-are-betting-on-big-data.html"
       ]
      },
      {
       "output_type": "stream",
       "stream": "stdout",
       "text": [
        "\n",
        "Retrieved article 1156 at: http://www.aboutdm.com/2013/09/machine-learning-as-service.html"
       ]
      },
      {
       "output_type": "stream",
       "stream": "stdout",
       "text": [
        "\n",
        "Retrieved article 1157 at: http://www.aboutdm.com/2013/07/learning-to-rank-and-recommender-systems.html"
       ]
      },
      {
       "output_type": "stream",
       "stream": "stdout",
       "text": [
        "\n",
        "Retrieved article 1158 at: http://www.aboutdm.com/2013/07/text-mining-name-entity-detection-2.html"
       ]
      },
      {
       "output_type": "stream",
       "stream": "stdout",
       "text": [
        "\n",
        "Retrieved article 1159 at: http://www.aboutdm.com/2013/07/text-mining-named-entity-detection.html"
       ]
      },
      {
       "output_type": "stream",
       "stream": "stdout",
       "text": [
        "\n",
        "Retrieved article 1160 at: http://www.aboutdm.com/2013/04/the-future-of-video-mining.html"
       ]
      },
      {
       "output_type": "stream",
       "stream": "stdout",
       "text": [
        "\n",
        "Retrieved article 1161 at: http://www.aboutdm.com/2013/04/stroke-prediction.html"
       ]
      },
      {
       "output_type": "stream",
       "stream": "stdout",
       "text": [
        "\n",
        "Retrieved article 1162 at: http://www.aboutdm.com/2013/04/history-of-machine-learning.html"
       ]
      },
      {
       "output_type": "stream",
       "stream": "stdout",
       "text": [
        "\n",
        "Retrieved article 1163 at: http://www.aboutdm.com/2013/04/yelp-and-big-data.html"
       ]
      },
      {
       "output_type": "stream",
       "stream": "stdout",
       "text": [
        "\n",
        "Retrieved article 1164 at: http://www.aboutdm.com/2013/04/machine-learning-for-anti-virus-software.html"
       ]
      },
      {
       "output_type": "stream",
       "stream": "stdout",
       "text": [
        "\n",
        "Retrieved article 1165 at: http://www.aboutdm.com/2013/03/basic-steps-of-applying-machine.html"
       ]
      },
      {
       "output_type": "stream",
       "stream": "stdout",
       "text": [
        "\n",
        "Retrieved article 1166 at: http://www.aboutdm.com/2013/02/data-mining-and-neuroscience.html"
       ]
      },
      {
       "output_type": "stream",
       "stream": "stdout",
       "text": [
        "\n",
        "Retrieved article 1167 at: http://www.aboutdm.com/2013/02/data-mining-vs-machine-learning.html"
       ]
      },
      {
       "output_type": "stream",
       "stream": "stdout",
       "text": [
        "\n",
        "Retrieved article 1168 at: http://www.aboutdm.com/2013/02/the-future-of-genome-data-mining.html"
       ]
      },
      {
       "output_type": "stream",
       "stream": "stdout",
       "text": [
        "\n",
        "Retrieved article 1169 at: http://www.aboutdm.com/2013/02/graph-mining.html"
       ]
      },
      {
       "output_type": "stream",
       "stream": "stdout",
       "text": [
        "\n",
        "Retrieved article 1170 at: http://www.aboutdm.com/2013/01/smart-tv-and-data-mining.html"
       ]
      },
      {
       "output_type": "stream",
       "stream": "stdout",
       "text": [
        "\n",
        "Retrieved article 1171 at: http://www.aboutdm.com/2013/01/product-recommendation-by-amazon.html"
       ]
      },
      {
       "output_type": "stream",
       "stream": "stdout",
       "text": [
        "\n",
        "Retrieved article 1172 at: http://www.aboutdm.com/2013/01/applications-of-supervised-learning.html"
       ]
      },
      {
       "output_type": "stream",
       "stream": "stdout",
       "text": [
        "\n",
        "Retrieved article 1173 at: http://www.aboutdm.com/2012/12/natural-language-processing-in-patent.html"
       ]
      },
      {
       "output_type": "stream",
       "stream": "stdout",
       "text": [
        "\n",
        "Retrieved article 1174 at: http://www.aboutdm.com/2012/12/how-big-data-become-word-of-year.html"
       ]
      },
      {
       "output_type": "stream",
       "stream": "stdout",
       "text": [
        "\n",
        "Retrieved article 1175 at: http://www.aboutdm.com/2012/12/user-click-prediction.html"
       ]
      },
      {
       "output_type": "stream",
       "stream": "stdout",
       "text": [
        "\n",
        "Retrieved article 1176 at: http://junkcharts.typepad.com/numbersruleyourworld/2014/01/introducing-the-statistical-parable.html"
       ]
      },
      {
       "output_type": "stream",
       "stream": "stdout",
       "text": [
        "\n",
        "Retrieved article 1177 at: http://junkcharts.typepad.com/numbersruleyourworld/2014/01/numbersense-on-mailchimps-gmail-study.html"
       ]
      },
      {
       "output_type": "stream",
       "stream": "stdout",
       "text": [
        "\n",
        "Retrieved article 1178 at: http://junkcharts.typepad.com/numbersruleyourworld/2014/01/my-business-statistics-and-data-visualization-courses.html"
       ]
      },
      {
       "output_type": "stream",
       "stream": "stdout",
       "text": [
        "\n",
        "Retrieved article 1179 at: http://junkcharts.typepad.com/numbersruleyourworld/2014/01/real-scientists-make-their-own-data.html"
       ]
      },
      {
       "output_type": "stream",
       "stream": "stdout",
       "text": [
        "\n",
        "Retrieved article 1180 at: http://feedproxy.google.com/~r/TextDataMiningByPracticalMeans/~3/rbebQjCPDms/document-as-stochastic-process-my.html"
       ]
      },
      {
       "output_type": "stream",
       "stream": "stdout",
       "text": [
        "\n",
        "Retrieved article 1181 at: http://feedproxy.google.com/~r/TextDataMiningByPracticalMeans/~3/jeIAxSRl3hs/image-objects-recognition-basic-approach.html"
       ]
      },
      {
       "output_type": "stream",
       "stream": "stdout",
       "text": [
        "\n",
        "Retrieved article 1182 at: http://feedproxy.google.com/~r/TextDataMiningByPracticalMeans/~3/eDJ0WGgwejA/image-comparison-surf-algorithm.html"
       ]
      },
      {
       "output_type": "stream",
       "stream": "stdout",
       "text": [
        "\n",
        "Retrieved article 1183 at: http://feedproxy.google.com/~r/TextDataMiningByPracticalMeans/~3/iz3Tn0wMAks/image-comparison-for-dummies-easy-and.html"
       ]
      },
      {
       "output_type": "stream",
       "stream": "stdout",
       "text": [
        "\n",
        "Retrieved article 1184 at: http://feedproxy.google.com/~r/TextDataMiningByPracticalMeans/~3/LlevmXmHnRI/mind-maps-of-textanalytics-automatic.html"
       ]
      },
      {
       "output_type": "stream",
       "stream": "stdout",
       "text": [
        "\n",
        "Retrieved article 1185 at: http://feedproxy.google.com/~r/TextDataMiningByPracticalMeans/~3/-jkm2mS3--M/graph-clustering-through-prominent.html"
       ]
      },
      {
       "output_type": "stream",
       "stream": "stdout",
       "text": [
        "\n",
        "Retrieved article 1186 at: http://feedproxy.google.com/~r/TextDataMiningByPracticalMeans/~3/BV_s7PF47Ao/graph-clustering-approach-based-on.html"
       ]
      },
      {
       "output_type": "stream",
       "stream": "stdout",
       "text": [
        "\n",
        "Retrieved article 1187 at: http://feedproxy.google.com/~r/TextDataMiningByPracticalMeans/~3/CQyDppknk1k/document-clustering-and-graph.html"
       ]
      },
      {
       "output_type": "stream",
       "stream": "stdout",
       "text": [
        "\n",
        "Retrieved article 1188 at: http://feedproxy.google.com/~r/TextDataMiningByPracticalMeans/~3/_FdaTn6LYcs/key-words-through-graph-entropy.html"
       ]
      },
      {
       "output_type": "stream",
       "stream": "stdout",
       "text": [
        "\n",
        "Retrieved article 1189 at: http://feedproxy.google.com/~r/TextDataMiningByPracticalMeans/~3/inxOX5Z6Vow/graph-entropy-to-extract-relevant-words.html"
       ]
      },
      {
       "output_type": "stream",
       "stream": "stdout",
       "text": [
        "\n",
        "Retrieved article 1190 at: http://feedproxy.google.com/~r/TextDataMiningByPracticalMeans/~3/i8fat6rT2Iw/function-minimization-simulated.html"
       ]
      },
      {
       "output_type": "stream",
       "stream": "stdout",
       "text": [
        "\n",
        "Retrieved article 1191 at: http://feedproxy.google.com/~r/TextDataMiningByPracticalMeans/~3/wLV5K9wPqU4/data-mining-tools-and-certificates.html"
       ]
      },
      {
       "output_type": "stream",
       "stream": "stdout",
       "text": [
        "\n",
        "Retrieved article 1192 at: http://feedproxy.google.com/~r/TextDataMiningByPracticalMeans/~3/KmKh9WjOor0/simulated-annealing-how-to-boost.html"
       ]
      },
      {
       "output_type": "stream",
       "stream": "stdout",
       "text": [
        "\n",
        "Retrieved article 1193 at: http://feedproxy.google.com/~r/TextDataMiningByPracticalMeans/~3/MBotJlBknJM/outlier-analysis-chebyschev-criteria-vs.html"
       ]
      },
      {
       "output_type": "stream",
       "stream": "stdout",
       "text": [
        "\n",
        "Retrieved article 1194 at: http://feedproxy.google.com/~r/TextDataMiningByPracticalMeans/~3/Xx_dzsALPXE/uncertainty-coefficients-for-features.html"
       ]
      },
      {
       "output_type": "stream",
       "stream": "stdout",
       "text": [
        "\n",
        "Retrieved article 1195 at: http://feedproxy.google.com/~r/TextDataMiningByPracticalMeans/~3/WV89AzfeM3s/earthquake-prediction-through-sunspots.html"
       ]
      },
      {
       "output_type": "stream",
       "stream": "stdout",
       "text": [
        "\n",
        "Retrieved article 1196 at: http://feedproxy.google.com/~r/TextDataMiningByPracticalMeans/~3/qGOCnt6kPQs/support-vector-regression-svr-predict.html"
       ]
      },
      {
       "output_type": "stream",
       "stream": "stdout",
       "text": [
        "\n",
        "Retrieved article 1197 at: http://feedproxy.google.com/~r/TextDataMiningByPracticalMeans/~3/LLGQLvVRNnQ/features-extraction-co-occurrences-and.html"
       ]
      },
      {
       "output_type": "stream",
       "stream": "stdout",
       "text": [
        "\n",
        "Retrieved article 1198 at: http://feedproxy.google.com/~r/TextDataMiningByPracticalMeans/~3/WsY7snuSCbg/document-classification-latent-semantic.html"
       ]
      },
      {
       "output_type": "stream",
       "stream": "stdout",
       "text": [
        "\n",
        "Retrieved article 1199 at: http://feedproxy.google.com/~r/TextDataMiningByPracticalMeans/~3/X3lN6pu4FRU/document-classification-how-to-boost.html"
       ]
      },
      {
       "output_type": "stream",
       "stream": "stdout",
       "text": [
        "\n",
        "Retrieved article 1200 at: http://feedproxy.google.com/~r/TextDataMiningByPracticalMeans/~3/tB3trOZOTRU/extract-meta-concepts-through-co.html"
       ]
      },
      {
       "output_type": "stream",
       "stream": "stdout",
       "text": [
        "\n",
        "Retrieved article 1201 at: http://feedproxy.google.com/~r/TextDataMiningByPracticalMeans/~3/GNxJzOecRsw/clustering-algorithm-to-approximate.html"
       ]
      },
      {
       "output_type": "stream",
       "stream": "stdout",
       "text": [
        "\n",
        "Retrieved article 1202 at: http://feedproxy.google.com/~r/TextDataMiningByPracticalMeans/~3/6GQYWP8vA84/power-real-polynomial-to-approximate.html"
       ]
      },
      {
       "output_type": "stream",
       "stream": "stdout",
       "text": [
        "\n",
        "Retrieved article 1203 at: http://feedproxy.google.com/~r/TextDataMiningByPracticalMeans/~3/Hpqs_qNI0fw/neural-nets-tips-and-tricks-add-recall.html"
       ]
      },
      {
       "output_type": "stream",
       "stream": "stdout",
       "text": [
        "\n",
        "Retrieved article 1204 at: http://feedproxy.google.com/~r/TextDataMiningByPracticalMeans/~3/n9UUpJIN4dc/buy-or-build-practical-example-to.html"
       ]
      },
      {
       "output_type": "stream",
       "stream": "stdout",
       "text": [
        "\n",
        "Retrieved article 1205 at: http://openbookonbi.blogspot.com/2014/01/trend-4-follow-money-business-led-tech.html"
       ]
      },
      {
       "output_type": "stream",
       "stream": "stdout",
       "text": [
        "\n",
        "Retrieved article 1206 at: http://openbookonbi.blogspot.com/2014/01/trend-3-from-schema-constrained-to-idea.html"
       ]
      },
      {
       "output_type": "stream",
       "stream": "stdout",
       "text": [
        "\n",
        "Retrieved article 1207 at: http://openbookonbi.blogspot.com/2014/01/trend-2-cloud-based-delivery-will.html"
       ]
      },
      {
       "output_type": "stream",
       "stream": "stdout",
       "text": [
        "\n",
        "Retrieved article 1208 at: http://openbookonbi.blogspot.com/2013/12/four-trends-that-will-shape-2014.html"
       ]
      },
      {
       "output_type": "stream",
       "stream": "stdout",
       "text": [
        "\n",
        "Retrieved article 1209 at: http://openbookonbi.blogspot.com/2013/04/amazon-jaspersoft-and-future-of-cloud.html"
       ]
      },
      {
       "output_type": "stream",
       "stream": "stdout",
       "text": [
        "\n",
        "Retrieved article 1210 at: http://openbookonbi.blogspot.com/2012/11/the-intelligence-inside-jaspersoft-5.html"
       ]
      },
      {
       "output_type": "stream",
       "stream": "stdout",
       "text": [
        "\n",
        "Retrieved article 1211 at: http://openbookonbi.blogspot.com/2012/07/big-data-approaches-myths-skills.html"
       ]
      },
      {
       "output_type": "stream",
       "stream": "stdout",
       "text": [
        "\n",
        "Retrieved article 1212 at: http://openbookonbi.blogspot.com/2012/03/cloud-bi-progress-pitfalls.html"
       ]
      },
      {
       "output_type": "stream",
       "stream": "stdout",
       "text": [
        "\n",
        "Retrieved article 1213 at: http://openbookonbi.blogspot.com/2012/03/got-big-data.html"
       ]
      },
      {
       "output_type": "stream",
       "stream": "stdout",
       "text": [
        "\n",
        "Retrieved article 1214 at: http://openbookonbi.blogspot.com/2012/01/new-factors-of-production-and-rise-of.html"
       ]
      },
      {
       "output_type": "stream",
       "stream": "stdout",
       "text": [
        "\n",
        "Retrieved article 1215 at: http://openbookonbi.blogspot.com/2011/11/making-sense-of-it-all.html"
       ]
      },
      {
       "output_type": "stream",
       "stream": "stdout",
       "text": [
        "\n",
        "Retrieved article 1216 at: http://openbookonbi.blogspot.com/2011/10/too-big-data-to-fail.html"
       ]
      },
      {
       "output_type": "stream",
       "stream": "stdout",
       "text": [
        "\n",
        "Retrieved article 1217 at: http://openbookonbi.blogspot.com/2011/10/three-fundamental-lessons-from-steve.html"
       ]
      },
      {
       "output_type": "stream",
       "stream": "stdout",
       "text": [
        "\n",
        "Retrieved article 1218 at: http://openbookonbi.blogspot.com/2011/09/advancing-mobile-business-intelligence.html"
       ]
      },
      {
       "output_type": "stream",
       "stream": "stdout",
       "text": [
        "\n",
        "Retrieved article 1219 at: http://openbookonbi.blogspot.com/2011/08/normal.html"
       ]
      },
      {
       "output_type": "stream",
       "stream": "stdout",
       "text": [
        "\n",
        "Retrieved article 1220 at: http://openbookonbi.blogspot.com/2011/08/new-community-leader-for-new-age.html"
       ]
      },
      {
       "output_type": "stream",
       "stream": "stdout",
       "text": [
        "\n",
        "Retrieved article 1221 at: http://openbookonbi.blogspot.com/2011/07/finally-reporting-for-eclipse.html"
       ]
      },
      {
       "output_type": "stream",
       "stream": "stdout",
       "text": [
        "\n",
        "Retrieved article 1222 at: http://openbookonbi.blogspot.com/2011/07/future-of-bi-is-now.html"
       ]
      },
      {
       "output_type": "stream",
       "stream": "stdout",
       "text": [
        "\n",
        "Retrieved article 1223 at: http://openbookonbi.blogspot.com/2011/06/sin-in-open-source.html"
       ]
      },
      {
       "output_type": "stream",
       "stream": "stdout",
       "text": [
        "\n",
        "Retrieved article 1224 at: http://openbookonbi.blogspot.com/2011/05/insight-into-any-data-source.html"
       ]
      },
      {
       "output_type": "stream",
       "stream": "stdout",
       "text": [
        "\n",
        "Retrieved article 1225 at: http://openbookonbi.blogspot.com/2011/03/meet-jaspersoft-business-intelligence.html"
       ]
      },
      {
       "output_type": "stream",
       "stream": "stdout",
       "text": [
        "\n",
        "Retrieved article 1226 at: http://openbookonbi.blogspot.com/2011/01/business-intelligence-2011-toward-new.html"
       ]
      },
      {
       "output_type": "stream",
       "stream": "stdout",
       "text": [
        "\n",
        "Retrieved article 1227 at: http://openbookonbi.blogspot.com/2011/01/bi-platform-to-tame-big-data.html"
       ]
      },
      {
       "output_type": "stream",
       "stream": "stdout",
       "text": [
        "\n",
        "Retrieved article 1228 at: http://openbookonbi.blogspot.com/2011/01/jaspersoft-4-new-foundation_11.html"
       ]
      },
      {
       "output_type": "stream",
       "stream": "stdout",
       "text": [
        "\n",
        "Retrieved article 1229 at: http://openbookonbi.blogspot.com/2010/12/new-day-new-forge-jasperforge-that-is.html"
       ]
      },
      {
       "output_type": "stream",
       "stream": "stdout",
       "text": [
        "\n",
        "Retrieved article 1230 at: http://feedproxy.google.com/~r/predictiveanalyticsworld/GXRy/~3/ggKB1tPaHkA/"
       ]
      },
      {
       "output_type": "stream",
       "stream": "stdout",
       "text": [
        "\n",
        "Retrieved article 1231 at: http://feedproxy.google.com/~r/predictiveanalyticsworld/GXRy/~3/Cm4GmoolIt8/"
       ]
      },
      {
       "output_type": "stream",
       "stream": "stdout",
       "text": [
        "\n",
        "Retrieved article 1232 at: http://feedproxy.google.com/~r/predictiveanalyticsworld/GXRy/~3/tfZXe-KmJxM/"
       ]
      },
      {
       "output_type": "stream",
       "stream": "stdout",
       "text": [
        "\n",
        "Retrieved article 1233 at: http://feedproxy.google.com/~r/predictiveanalyticsworld/GXRy/~3/96K5-rTGg4I/"
       ]
      },
      {
       "output_type": "stream",
       "stream": "stdout",
       "text": [
        "\n",
        "Retrieved article 1234 at: http://feedproxy.google.com/~r/predictiveanalyticsworld/GXRy/~3/OmIiYTQld4Q/"
       ]
      },
      {
       "output_type": "stream",
       "stream": "stdout",
       "text": [
        "\n",
        "Retrieved article 1235 at: http://feedproxy.google.com/~r/predictiveanalyticsworld/GXRy/~3/86MkzFM3hXs/"
       ]
      },
      {
       "output_type": "stream",
       "stream": "stdout",
       "text": [
        "\n",
        "Retrieved article 1236 at: http://feedproxy.google.com/~r/predictiveanalyticsworld/GXRy/~3/9WlUi4yX5MU/"
       ]
      },
      {
       "output_type": "stream",
       "stream": "stdout",
       "text": [
        "\n",
        "Retrieved article 1237 at: http://feedproxy.google.com/~r/predictiveanalyticsworld/GXRy/~3/72Wk6z4yeOw/"
       ]
      },
      {
       "output_type": "stream",
       "stream": "stdout",
       "text": [
        "\n",
        "Retrieved article 1238 at: http://feedproxy.google.com/~r/predictiveanalyticsworld/GXRy/~3/w87r5PFV7fE/"
       ]
      },
      {
       "output_type": "stream",
       "stream": "stdout",
       "text": [
        "\n",
        "Retrieved article 1239 at: http://feedproxy.google.com/~r/predictiveanalyticsworld/GXRy/~3/1I8sF0h2gZo/"
       ]
      },
      {
       "output_type": "stream",
       "stream": "stdout",
       "text": [
        "\n",
        "Retrieved article 1240 at: https://www.jaspersoft.com/bi-industry-news/bolster-productivity-and-cut-costs-simultaneously%C3%A2%C2%A0with-bi-platforms"
       ]
      },
      {
       "output_type": "stream",
       "stream": "stdout",
       "text": [
        "\n",
        "Retrieved article 1241 at: https://www.jaspersoft.com/bi-industry-news/company-executives-positively-impacted-by-bi-solutions"
       ]
      },
      {
       "output_type": "stream",
       "stream": "stdout",
       "text": [
        "\n",
        "Retrieved article 1242 at: https://www.jaspersoft.com/bi-industry-news/construct-an-efficient-company-with-bi-platforms"
       ]
      },
      {
       "output_type": "stream",
       "stream": "stdout",
       "text": [
        "\n",
        "Retrieved article 1243 at: https://www.jaspersoft.com/bi-industry-news/bi-software-is-among-most-wanted-solutions-for-company-officials"
       ]
      },
      {
       "output_type": "stream",
       "stream": "stdout",
       "text": [
        "\n",
        "Retrieved article 1244 at: https://www.jaspersoft.com/bi-industry-news/school-leaders-could-target-bi-solutions"
       ]
      },
      {
       "output_type": "stream",
       "stream": "stdout",
       "text": [
        "\n",
        "Retrieved article 1245 at: https://www.jaspersoft.com/bi-industry-news/how-can-big-data-analytics-help-healthcare-firms-assist-patients"
       ]
      },
      {
       "output_type": "stream",
       "stream": "stdout",
       "text": [
        "\n",
        "Retrieved article 1246 at: https://www.jaspersoft.com/bi-industry-news/how-can-banks-reap-the-rewards-of-big-data-analytics"
       ]
      },
      {
       "output_type": "stream",
       "stream": "stdout",
       "text": [
        "\n",
        "Retrieved article 1247 at: https://www.jaspersoft.com/bi-industry-news/make-fact-based-decisions-with-bi-software"
       ]
      },
      {
       "output_type": "stream",
       "stream": "stdout",
       "text": [
        "\n",
        "Retrieved article 1248 at: https://www.jaspersoft.com/bi-industry-news/why-are-more-employers-investing-in-cloud-bi-software"
       ]
      },
      {
       "output_type": "stream",
       "stream": "stdout",
       "text": [
        "\n",
        "Retrieved article 1249 at: https://www.jaspersoft.com/bi-industry-news/include-mobile-bi-in-a-long-term-business-plan"
       ]
      },
      {
       "output_type": "stream",
       "stream": "stdout",
       "text": [
        "\n",
        "Retrieved article 1250 at: https://www.jaspersoft.com/bi-industry-news/big-data-analytics-provide-significant-opportunities-for-business-officials"
       ]
      },
      {
       "output_type": "stream",
       "stream": "stdout",
       "text": [
        "\n",
        "Retrieved article 1251 at: https://www.jaspersoft.com/bi-industry-news/gain-a-competitive-advantage-with-bi-software"
       ]
      },
      {
       "output_type": "stream",
       "stream": "stdout",
       "text": [
        "\n",
        "Retrieved article 1252 at: https://www.jaspersoft.com/bi-industry-news/visualize-data-with-bi-platforms"
       ]
      },
      {
       "output_type": "stream",
       "stream": "stdout",
       "text": [
        "\n",
        "Retrieved article 1253 at: https://www.jaspersoft.com/bi-industry-news/why-are-big-data-analytics-ideal-to-improve-performance-management"
       ]
      },
      {
       "output_type": "stream",
       "stream": "stdout",
       "text": [
        "\n",
        "Retrieved article 1254 at: https://www.jaspersoft.com/bi-industry-news/receive-instant-access-to-decision-making-tools-with-mobile-bi"
       ]
      },
      {
       "output_type": "stream",
       "stream": "stdout",
       "text": [
        "\n",
        "Retrieved article 1255 at: https://www.jaspersoft.com/bi-industry-news/use-cloud-bi-to-improve-everyday-operations"
       ]
      },
      {
       "output_type": "stream",
       "stream": "stdout",
       "text": [
        "\n",
        "Retrieved article 1256 at: https://www.jaspersoft.com/bi-industry-news/what-are-the-benefits-of-interactive-reporting-software"
       ]
      },
      {
       "output_type": "stream",
       "stream": "stdout",
       "text": [
        "\n",
        "Retrieved article 1257 at: https://www.jaspersoft.com/bi-industry-news/how-can-big-data-analytics-help-businesses-streamline-research"
       ]
      },
      {
       "output_type": "stream",
       "stream": "stdout",
       "text": [
        "\n",
        "Retrieved article 1258 at: https://www.jaspersoft.com/bi-industry-news/where-will-the-bi-market-go-in-2013"
       ]
      },
      {
       "output_type": "stream",
       "stream": "stdout",
       "text": [
        "\n",
        "Retrieved article 1259 at: https://www.jaspersoft.com/bi-industry-news/why-is-bi-crucial-for-small-business-owners"
       ]
      },
      {
       "output_type": "stream",
       "stream": "stdout",
       "text": [
        "\n",
        "Retrieved article 1260 at: https://www.jaspersoft.com/bi-industry-news/how-can-bi-help-insurance-providers"
       ]
      },
      {
       "output_type": "stream",
       "stream": "stdout",
       "text": [
        "\n",
        "Retrieved article 1261 at: https://www.jaspersoft.com/bi-industry-news/make-informed-decisions-remotely-with-mobile-bi"
       ]
      },
      {
       "output_type": "stream",
       "stream": "stdout",
       "text": [
        "\n",
        "Retrieved article 1262 at: https://www.jaspersoft.com/bi-industry-news/company-officials-provide-bi-solutions-to-meet-employees-demands"
       ]
      },
      {
       "output_type": "stream",
       "stream": "stdout",
       "text": [
        "\n",
        "Retrieved article 1263 at: https://www.jaspersoft.com/bi-industry-news/bi-software-revenues-could-significantly-rise"
       ]
      },
      {
       "output_type": "stream",
       "stream": "stdout",
       "text": [
        "\n",
        "Retrieved article 1264 at: https://www.jaspersoft.com/bi-industry-news/bi-experts-predict-interest-in-quality-reporting-platforms-will-grow"
       ]
      },
      {
       "output_type": "stream",
       "stream": "stdout",
       "text": [
        "\n",
        "Retrieved article 1265 at: https://www.jaspersoft.com/bi-industry-news/can-big-data-analytics-impact-a-political-campaign"
       ]
      },
      {
       "output_type": "stream",
       "stream": "stdout",
       "text": [
        "\n",
        "Retrieved article 1266 at: https://www.jaspersoft.com/bi-industry-news/why-are-user-driven-bi-solutions-popular-options-for-companies"
       ]
      },
      {
       "output_type": "stream",
       "stream": "stdout",
       "text": [
        "\n",
        "Retrieved article 1267 at: https://www.jaspersoft.com/bi-industry-news/how-can-bi-help-a-company-become-smarter"
       ]
      },
      {
       "output_type": "stream",
       "stream": "stdout",
       "text": [
        "\n",
        "Retrieved article 1268 at: https://www.jaspersoft.com/bi-industry-news/take-action-with-mobile-bi-software"
       ]
      },
      {
       "output_type": "stream",
       "stream": "stdout",
       "text": [
        "\n",
        "Retrieved article 1269 at: https://www.jaspersoft.com/bi-industry-news/engage-employees-in-business-activities-with-cloud-bi"
       ]
      },
      {
       "output_type": "stream",
       "stream": "stdout",
       "text": [
        "\n",
        "Retrieved article 1270 at: https://www.jaspersoft.com/bi-industry-news/more-business-leaders-plan-big-data-projects"
       ]
      },
      {
       "output_type": "stream",
       "stream": "stdout",
       "text": [
        "\n",
        "Retrieved article 1271 at: https://www.jaspersoft.com/bi-industry-news/consumer-goods-provider-targets-bi-solutions"
       ]
      },
      {
       "output_type": "stream",
       "stream": "stdout",
       "text": [
        "\n",
        "Retrieved article 1272 at: https://www.jaspersoft.com/bi-industry-news/business-process-innovation-could-lead-to-increased-emphasis-on-mobile-bi"
       ]
      },
      {
       "output_type": "stream",
       "stream": "stdout",
       "text": [
        "\n",
        "Retrieved article 1273 at: https://www.jaspersoft.com/bi-industry-news/how-can-big-data-analytics-help-advertisers"
       ]
      },
      {
       "output_type": "stream",
       "stream": "stdout",
       "text": [
        "\n",
        "Retrieved article 1274 at: https://www.jaspersoft.com/bi-industry-news/it-job-market-reflects-rising-value-of-cloud-bi-among-employers"
       ]
      },
      {
       "output_type": "stream",
       "stream": "stdout",
       "text": [
        "\n",
        "Retrieved article 1275 at: https://www.jaspersoft.com/bi-industry-news/will-big-data-analytics-drive-firms-it-spending-in-2013"
       ]
      },
      {
       "output_type": "stream",
       "stream": "stdout",
       "text": [
        "\n",
        "Retrieved article 1276 at: https://www.jaspersoft.com/bi-industry-news/provide-reliable-support-to-customers-with-bi-software"
       ]
      },
      {
       "output_type": "stream",
       "stream": "stdout",
       "text": [
        "\n",
        "Retrieved article 1277 at: https://www.jaspersoft.com/bi-industry-news/cios-place-high-value-on-bi"
       ]
      },
      {
       "output_type": "stream",
       "stream": "stdout",
       "text": [
        "\n",
        "Retrieved article 1278 at: https://www.jaspersoft.com/bi-industry-news/study-shows-few-csps-have-big-data-analytics-strategies"
       ]
      },
      {
       "output_type": "stream",
       "stream": "stdout",
       "text": [
        "\n",
        "Retrieved article 1279 at: https://www.jaspersoft.com/bi-industry-news/why-is-cloud-bi-a-high-performance-solution-for-companies"
       ]
      },
      {
       "output_type": "stream",
       "stream": "stdout",
       "text": [
        "\n",
        "Retrieved article 1280 at: https://www.jaspersoft.com/bi-industry-news/how-can-big-data-analytics-help-improve-health-outcomes"
       ]
      },
      {
       "output_type": "stream",
       "stream": "stdout",
       "text": [
        "\n",
        "Retrieved article 1281 at: https://www.jaspersoft.com/bi-industry-news/solidify-a-business-reputation-by-using-bi"
       ]
      },
      {
       "output_type": "stream",
       "stream": "stdout",
       "text": [
        "\n",
        "Retrieved article 1282 at: https://www.jaspersoft.com/bi-industry-news/make-timely-business-decisions-with-mobile-bi"
       ]
      },
      {
       "output_type": "stream",
       "stream": "stdout",
       "text": [
        "\n",
        "Retrieved article 1283 at: https://www.jaspersoft.com/bi-industry-news/companies-target-strategies-to-maximize-the-value-of-their-research"
       ]
      },
      {
       "output_type": "stream",
       "stream": "stdout",
       "text": [
        "\n",
        "Retrieved article 1284 at: https://www.jaspersoft.com/bi-industry-news/how-can-company-leaders-conduct-bi-training-sessions"
       ]
      },
      {
       "output_type": "stream",
       "stream": "stdout",
       "text": [
        "\n",
        "Retrieved article 1285 at: https://www.jaspersoft.com/bi-industry-news/how-will-mobile-bi-help-business-leaders-stay-up-to-date"
       ]
      },
      {
       "output_type": "stream",
       "stream": "stdout",
       "text": [
        "\n",
        "Retrieved article 1286 at: https://www.jaspersoft.com/bi-industry-news/how-can-bi-help-factory-workers"
       ]
      },
      {
       "output_type": "stream",
       "stream": "stdout",
       "text": [
        "\n",
        "Retrieved article 1287 at: https://www.jaspersoft.com/bi-industry-news/why-are-more-credit-unions-using-big-data-analytics"
       ]
      },
      {
       "output_type": "stream",
       "stream": "stdout",
       "text": [
        "\n",
        "Retrieved article 1288 at: https://www.jaspersoft.com/bi-industry-news/how-can-bi-help-firms-save-money"
       ]
      },
      {
       "output_type": "stream",
       "stream": "stdout",
       "text": [
        "\n",
        "Retrieved article 1289 at: https://www.jaspersoft.com/bi-industry-news/build-a-data-warehouse-with-bi"
       ]
      },
      {
       "output_type": "stream",
       "stream": "stdout",
       "text": [
        "\n",
        "Retrieved article 1290 at: https://www.jaspersoft.com/bi-industry-news/why-is-bi-software-an-affordable-option-for-business-operators"
       ]
      },
      {
       "output_type": "stream",
       "stream": "stdout",
       "text": [
        "\n",
        "Retrieved article 1291 at: https://www.jaspersoft.com/bi-industry-news/how-can-big-data-analytics-help-business-leaders-make-informed-decisions"
       ]
      },
      {
       "output_type": "stream",
       "stream": "stdout",
       "text": [
        "\n",
        "Retrieved article 1292 at: https://www.jaspersoft.com/bi-industry-news/complete-comprehensive-assessments-on-mobile-devices"
       ]
      },
      {
       "output_type": "stream",
       "stream": "stdout",
       "text": [
        "\n",
        "Retrieved article 1293 at: https://www.jaspersoft.com/bi-industry-news/how-can-business-leaders-use-big-data-analytics-to-eliminate-security-threats"
       ]
      },
      {
       "output_type": "stream",
       "stream": "stdout",
       "text": [
        "\n",
        "Retrieved article 1294 at: https://www.jaspersoft.com/bi-industry-news/manage-increasing-volumes-of-resources-with-bi"
       ]
      },
      {
       "output_type": "stream",
       "stream": "stdout",
       "text": [
        "\n",
        "Retrieved article 1295 at: https://www.jaspersoft.com/bi-industry-news/bis-scalability-makes-it-ideal-for-businesses-of-all-sizes"
       ]
      },
      {
       "output_type": "stream",
       "stream": "stdout",
       "text": [
        "\n",
        "Retrieved article 1296 at: https://www.jaspersoft.com/bi-industry-news/how-to-succeed-with-big-data-analytics-programs"
       ]
      },
      {
       "output_type": "stream",
       "stream": "stdout",
       "text": [
        "\n",
        "Retrieved article 1297 at: https://www.jaspersoft.com/bi-industry-news/conduct-business-on-the-go-with-mobile-bi"
       ]
      },
      {
       "output_type": "stream",
       "stream": "stdout",
       "text": [
        "\n",
        "Retrieved article 1298 at: https://www.jaspersoft.com/bi-industry-news/why-are-more-companies-depending-on-cloud-bi"
       ]
      },
      {
       "output_type": "stream",
       "stream": "stdout",
       "text": [
        "\n",
        "Retrieved article 1299 at: https://www.jaspersoft.com/bi-industry-news/the-importance-of-goals-with-big-data-analytics"
       ]
      },
      {
       "output_type": "stream",
       "stream": "stdout",
       "text": [
        "\n",
        "Retrieved article 1300 at: https://www.jaspersoft.com/bi-industry-news/resolve-research-issues-with-bi"
       ]
      },
      {
       "output_type": "stream",
       "stream": "stdout",
       "text": [
        "\n",
        "Retrieved article 1301 at: https://www.jaspersoft.com/bi-industry-news/why-is-bi-a-dynamic-option-for-business-operators"
       ]
      },
      {
       "output_type": "stream",
       "stream": "stdout",
       "text": [
        "\n",
        "Retrieved article 1302 at: https://www.jaspersoft.com/bi-industry-news/how-can-big-data-analytics-impact-major-corporations"
       ]
      },
      {
       "output_type": "stream",
       "stream": "stdout",
       "text": [
        "\n",
        "Retrieved article 1303 at: https://www.jaspersoft.com/bi-industry-news/how-could-big-data-analytics-affect-an-automotive-supplier"
       ]
      },
      {
       "output_type": "stream",
       "stream": "stdout",
       "text": [
        "\n",
        "Retrieved article 1304 at: https://www.jaspersoft.com/bi-industry-news/does-bi-deliver-significant-return-on-investment-for-companies"
       ]
      },
      {
       "output_type": "stream",
       "stream": "stdout",
       "text": [
        "\n",
        "Retrieved article 1305 at: https://www.jaspersoft.com/bi-industry-news/why-is-bi-a-simple-option-for-business-leaders"
       ]
      },
      {
       "output_type": "stream",
       "stream": "stdout",
       "text": [
        "\n",
        "Retrieved article 1306 at: https://www.jaspersoft.com/bi-industry-news/what-is-the-state-of-the-mobile-bi-market"
       ]
      },
      {
       "output_type": "stream",
       "stream": "stdout",
       "text": [
        "\n",
        "Retrieved article 1307 at: https://www.jaspersoft.com/bi-industry-news/why-are-more-companies-enjoying-the-three-vs-of-big-data-analytics"
       ]
      },
      {
       "output_type": "stream",
       "stream": "stdout",
       "text": [
        "\n",
        "Retrieved article 1308 at: https://www.jaspersoft.com/bi-industry-news/will-more-companies-in-india-embrace-cloud-bi-in-2013"
       ]
      },
      {
       "output_type": "stream",
       "stream": "stdout",
       "text": [
        "\n",
        "Retrieved article 1309 at: https://www.jaspersoft.com/bi-industry-news/enjoy-real-time-decision-making-with-mobile-bi-solutions"
       ]
      },
      {
       "output_type": "stream",
       "stream": "stdout",
       "text": [
        "\n",
        "Retrieved article 1310 at: https://www.jaspersoft.com/bi-industry-news/how-can-big-data-analytics-speed-up-database-management-operations"
       ]
      },
      {
       "output_type": "stream",
       "stream": "stdout",
       "text": [
        "\n",
        "Retrieved article 1311 at: https://www.jaspersoft.com/bi-industry-news/bi-supports-businesses-with-large-data-sets"
       ]
      },
      {
       "output_type": "stream",
       "stream": "stdout",
       "text": [
        "\n",
        "Retrieved article 1312 at: https://www.jaspersoft.com/bi-industry-news/how-can-bi-solutions-help-managers"
       ]
      },
      {
       "output_type": "stream",
       "stream": "stdout",
       "text": [
        "\n",
        "Retrieved article 1313 at: https://www.jaspersoft.com/bi-industry-news/why-are-more-companies-willing-to-invest-in-cloud-bi"
       ]
      },
      {
       "output_type": "stream",
       "stream": "stdout",
       "text": [
        "\n",
        "Retrieved article 1314 at: https://www.jaspersoft.com/bi-industry-news/how-can-bi-help-companies-with-data-support"
       ]
      },
      {
       "output_type": "stream",
       "stream": "stdout",
       "text": [
        "\n",
        "Retrieved article 1315 at: https://www.jaspersoft.com/bi-industry-news/researchers-expect-major-increase-in-use-of-big-data-analytics"
       ]
      },
      {
       "output_type": "stream",
       "stream": "stdout",
       "text": [
        "\n",
        "Retrieved article 1316 at: https://www.jaspersoft.com/bi-industry-news/how-can-bi-help-with-supply-chain-management"
       ]
      },
      {
       "output_type": "stream",
       "stream": "stdout",
       "text": [
        "\n",
        "Retrieved article 1317 at: https://www.jaspersoft.com/bi-industry-news/why-is-interest-growing-in-bi-solutions-in-the-united-states"
       ]
      },
      {
       "output_type": "stream",
       "stream": "stdout",
       "text": [
        "\n",
        "Retrieved article 1318 at: https://www.jaspersoft.com/bi-industry-news/how-can-global-firms-benefit-from-mobile-bi"
       ]
      },
      {
       "output_type": "stream",
       "stream": "stdout",
       "text": [
        "\n",
        "Retrieved article 1319 at: https://www.jaspersoft.com/bi-industry-news/stay-ahead-of-rivals-with-bi-solutions"
       ]
      },
      {
       "output_type": "stream",
       "stream": "stdout",
       "text": [
        "\n",
        "Retrieved article 1320 at: https://www.jaspersoft.com/bi-industry-news/how-will-cloud-bi-impact-businesses-in-2013"
       ]
      },
      {
       "output_type": "stream",
       "stream": "stdout",
       "text": [
        "\n",
        "Retrieved article 1321 at: https://www.jaspersoft.com/bi-industry-news/why-are-more-healthcare-firms-focusing-on-big-data-analytics"
       ]
      },
      {
       "output_type": "stream",
       "stream": "stdout",
       "text": [
        "\n",
        "Retrieved article 1322 at: https://www.jaspersoft.com/bi-industry-news/how-can-bi-solutions-help-travel-industry"
       ]
      },
      {
       "output_type": "stream",
       "stream": "stdout",
       "text": [
        "\n",
        "Retrieved article 1323 at: https://www.jaspersoft.com/bi-industry-news/what-does-the-future-hold-for-big-data-analytics"
       ]
      },
      {
       "output_type": "stream",
       "stream": "stdout",
       "text": [
        "\n",
        "Retrieved article 1324 at: https://www.jaspersoft.com/bi-industry-news/streamline-business-reporting-with-bi-solutions"
       ]
      },
      {
       "output_type": "stream",
       "stream": "stdout",
       "text": [
        "\n",
        "Retrieved article 1325 at: https://www.jaspersoft.com/bi-industry-news/how-does-bi-help-business-operators-complete-evaluations-in-real-time"
       ]
      },
      {
       "output_type": "stream",
       "stream": "stdout",
       "text": [
        "\n",
        "Retrieved article 1326 at: https://www.jaspersoft.com/bi-industry-news/how-do-chief-executives-respond-to-bi-solutions"
       ]
      },
      {
       "output_type": "stream",
       "stream": "stdout",
       "text": [
        "\n",
        "Retrieved article 1327 at: https://www.jaspersoft.com/bi-industry-news/big-data-analytics-are-important-for-business-leaders-in-2013"
       ]
      },
      {
       "output_type": "stream",
       "stream": "stdout",
       "text": [
        "\n",
        "Retrieved article 1328 at: https://www.jaspersoft.com/bi-industry-news/cloud-bi-skills-are-valuable-to-it-employers-in-2013"
       ]
      },
      {
       "output_type": "stream",
       "stream": "stdout",
       "text": [
        "\n",
        "Retrieved article 1329 at: https://www.jaspersoft.com/bi-industry-news/will-big-data-analytics-expand-over-the-next-few-years"
       ]
      },
      {
       "output_type": "stream",
       "stream": "stdout",
       "text": [
        "\n",
        "Retrieved article 1330 at: https://www.jaspersoft.com/bi-industry-news/how-can-bi-help-automate-a-business-workflow"
       ]
      },
      {
       "output_type": "stream",
       "stream": "stdout",
       "text": [
        "\n",
        "Retrieved article 1331 at: https://www.jaspersoft.com/bi-industry-news/companies-can-use-business-intelligence-to-address-telecommunications-needs"
       ]
      },
      {
       "output_type": "stream",
       "stream": "stdout",
       "text": [
        "\n",
        "Retrieved article 1332 at: https://www.jaspersoft.com/bi-industry-news/could-mobile-bi-become-a-popular-option-for-company-leaders-in-2013"
       ]
      },
      {
       "output_type": "stream",
       "stream": "stdout",
       "text": [
        "\n",
        "Retrieved article 1333 at: https://www.jaspersoft.com/bi-industry-news/understanding-the-real-value-of-big-data"
       ]
      },
      {
       "output_type": "stream",
       "stream": "stdout",
       "text": [
        "\n",
        "Retrieved article 1334 at: https://www.jaspersoft.com/bi-industry-news/big-data-needs-to-bring-substantial-roi"
       ]
      },
      {
       "output_type": "stream",
       "stream": "stdout",
       "text": [
        "\n",
        "Retrieved article 1335 at: https://www.jaspersoft.com/bi-industry-news/enterprises-cannot-ignore-bi-solutions"
       ]
      },
      {
       "output_type": "stream",
       "stream": "stdout",
       "text": [
        "\n",
        "Retrieved article 1336 at: https://www.jaspersoft.com/bi-industry-news/top-cities-for-big-data-could-the-biggest-be-boston"
       ]
      },
      {
       "output_type": "stream",
       "stream": "stdout",
       "text": [
        "\n",
        "Retrieved article 1337 at: https://www.jaspersoft.com/bi-industry-news/hotels-turn-to-bi-solutions-to-improve-operations"
       ]
      },
      {
       "output_type": "stream",
       "stream": "stdout",
       "text": [
        "\n",
        "Retrieved article 1338 at: https://www.jaspersoft.com/bi-industry-news/hospitals-turn-to-big-data-to-provide-better-care"
       ]
      },
      {
       "output_type": "stream",
       "stream": "stdout",
       "text": [
        "\n",
        "Retrieved article 1339 at: https://www.jaspersoft.com/bi-industry-news/big-data-helps-nasas-mars-rover"
       ]
      },
      {
       "output_type": "stream",
       "stream": "stdout",
       "text": [
        "\n",
        "Retrieved article 1340 at: https://www.jaspersoft.com/bi-industry-news/growth-of-big-data-market-expected-in-coming-years"
       ]
      },
      {
       "output_type": "stream",
       "stream": "stdout",
       "text": [
        "\n",
        "Retrieved article 1341 at: https://www.jaspersoft.com/bi-industry-news/manufacturers-turn-to-bi-tools-to-improve-processes"
       ]
      },
      {
       "output_type": "stream",
       "stream": "stdout",
       "text": [
        "\n",
        "Retrieved article 1342 at: https://www.jaspersoft.com/bi-industry-news/mobile-bi-and-big-data-work-together"
       ]
      },
      {
       "output_type": "stream",
       "stream": "stdout",
       "text": [
        "\n",
        "Retrieved article 1343 at: https://www.jaspersoft.com/bi-industry-news/big-data-skills-are-needed-to-build-savvy-enterprises"
       ]
      },
      {
       "output_type": "stream",
       "stream": "stdout",
       "text": [
        "\n",
        "Retrieved article 1344 at: https://www.jaspersoft.com/bi-industry-news/bi-and-big-data-trends-for-the-coming-year"
       ]
      },
      {
       "output_type": "stream",
       "stream": "stdout",
       "text": [
        "\n",
        "Retrieved article 1345 at: https://www.jaspersoft.com/bi-industry-news/ethics-experts-may-be-needed-when-it-comes-to-big-data"
       ]
      },
      {
       "output_type": "stream",
       "stream": "stdout",
       "text": [
        "\n",
        "Retrieved article 1346 at: https://www.jaspersoft.com/bi-industry-news/the-marketing-challenge-of-big-data-in-2013"
       ]
      },
      {
       "output_type": "stream",
       "stream": "stdout",
       "text": [
        "\n",
        "Retrieved article 1347 at: https://www.jaspersoft.com/bi-industry-news/big-data-solutions-to-revolutionize-healthcare"
       ]
      },
      {
       "output_type": "stream",
       "stream": "stdout",
       "text": [
        "\n",
        "Retrieved article 1348 at: https://www.jaspersoft.com/bi-industry-news/is-big-data-more-challenging-for-business-executives-or-it-leaders"
       ]
      },
      {
       "output_type": "stream",
       "stream": "stdout",
       "text": [
        "\n",
        "Retrieved article 1349 at: https://www.jaspersoft.com/bi-industry-news/was-2012-the-year-of-the-big-data-election"
       ]
      },
      {
       "output_type": "stream",
       "stream": "stdout",
       "text": [
        "\n",
        "Retrieved article 1350 at: https://www.jaspersoft.com/bi-industry-news/big-data-analytics-combines-analysis-and-intuition"
       ]
      },
      {
       "output_type": "stream",
       "stream": "stdout",
       "text": [
        "\n",
        "Retrieved article 1351 at: https://www.jaspersoft.com/bi-industry-news/self-service-bi-for-small-businesses"
       ]
      },
      {
       "output_type": "stream",
       "stream": "stdout",
       "text": [
        "\n",
        "Retrieved article 1352 at: https://www.jaspersoft.com/bi-industry-news/federal-government-to-use-big-data-in-2013"
       ]
      },
      {
       "output_type": "stream",
       "stream": "stdout",
       "text": [
        "\n",
        "Retrieved article 1353 at: https://www.jaspersoft.com/bi-industry-news/the-growing-trend-of-visual-bi-discovery"
       ]
      },
      {
       "output_type": "stream",
       "stream": "stdout",
       "text": [
        "\n",
        "Retrieved article 1354 at: https://www.jaspersoft.com/bi-industry-news/big-data-being-used-to-fight-terrorism"
       ]
      },
      {
       "output_type": "stream",
       "stream": "stdout",
       "text": [
        "\n",
        "Retrieved article 1355 at: https://www.jaspersoft.com/bi-industry-news/small-businesses-can-gain-insights-from-big-data-too"
       ]
      },
      {
       "output_type": "stream",
       "stream": "stdout",
       "text": [
        "\n",
        "Retrieved article 1356 at: https://www.jaspersoft.com/bi-industry-news/big-data-analytics-surges-and-continues-to-grow"
       ]
      },
      {
       "output_type": "stream",
       "stream": "stdout",
       "text": [
        "\n",
        "Retrieved article 1357 at: https://www.jaspersoft.com/bi-industry-news/government-harnesses-big-data-analytics-for-positive-gain"
       ]
      },
      {
       "output_type": "stream",
       "stream": "stdout",
       "text": [
        "\n",
        "Retrieved article 1358 at: https://www.jaspersoft.com/bi-industry-news/todays-world-dependent-on-big-data-analytics"
       ]
      },
      {
       "output_type": "stream",
       "stream": "stdout",
       "text": [
        "\n",
        "Retrieved article 1359 at: https://www.jaspersoft.com/bi-industry-news/the-intersection-of-cloud-computing-and-big-data"
       ]
      },
      {
       "output_type": "stream",
       "stream": "stdout",
       "text": [
        "\n",
        "Retrieved article 1360 at: https://www.jaspersoft.com/bi-industry-news/uncovering-the-facts-about-data-scientists-in-the-us"
       ]
      },
      {
       "output_type": "stream",
       "stream": "stdout",
       "text": [
        "\n",
        "Retrieved article 1361 at: https://www.jaspersoft.com/bi-industry-news/big-data-for-business-executives-can-ease-strategy"
       ]
      },
      {
       "output_type": "stream",
       "stream": "stdout",
       "text": [
        "\n",
        "Retrieved article 1362 at: https://www.jaspersoft.com/bi-industry-news/big-data-goes-unused-untapped"
       ]
      },
      {
       "output_type": "stream",
       "stream": "stdout",
       "text": [
        "\n",
        "Retrieved article 1363 at: https://www.jaspersoft.com/bi-industry-news/big-data-spells-out-success-for-marketers"
       ]
      },
      {
       "output_type": "stream",
       "stream": "stdout",
       "text": [
        "\n",
        "Retrieved article 1364 at: https://www.jaspersoft.com/bi-industry-news/big-data-the-phrase-of-the-year"
       ]
      },
      {
       "output_type": "stream",
       "stream": "stdout",
       "text": [
        "\n",
        "Retrieved article 1365 at: https://www.jaspersoft.com/bi-industry-news/developers-begin-to-add-big-data-skills-to-their-tool-set-0"
       ]
      },
      {
       "output_type": "stream",
       "stream": "stdout",
       "text": [
        "\n",
        "Retrieved article 1366 at: https://www.jaspersoft.com/bi-industry-news/what-does-big-data-mean-for-consumers"
       ]
      },
      {
       "output_type": "stream",
       "stream": "stdout",
       "text": [
        "\n",
        "Retrieved article 1367 at: https://www.jaspersoft.com/bi-industry-news/business-intelligence-grows-alongside-demand"
       ]
      },
      {
       "output_type": "stream",
       "stream": "stdout",
       "text": [
        "\n",
        "Retrieved article 1368 at: https://www.jaspersoft.com/bi-industry-news/developers-begin-to-add-big-data-skills-to-their-tool-set"
       ]
      },
      {
       "output_type": "stream",
       "stream": "stdout",
       "text": [
        "\n",
        "Retrieved article 1369 at: https://www.jaspersoft.com/bi-industry-news/customer-focus-for-big-data-initiatives"
       ]
      },
      {
       "output_type": "stream",
       "stream": "stdout",
       "text": [
        "\n",
        "Retrieved article 1370 at: https://www.jaspersoft.com/bi-industry-news/big-data-use-in-healthcare-could-save-lives"
       ]
      },
      {
       "output_type": "stream",
       "stream": "stdout",
       "text": [
        "\n",
        "Retrieved article 1371 at: https://www.jaspersoft.com/bi-industry-news/big-data-is-not-just-for-large-enterprises"
       ]
      },
      {
       "output_type": "stream",
       "stream": "stdout",
       "text": [
        "\n",
        "Retrieved article 1372 at: https://www.jaspersoft.com/bi-industry-news/enterprises-consider-using-open-source-bi"
       ]
      },
      {
       "output_type": "stream",
       "stream": "stdout",
       "text": [
        "\n",
        "Retrieved article 1373 at: https://www.jaspersoft.com/bi-industry-news/finance-and-accounting-firms-see-opportunities-thanks-to-data"
       ]
      },
      {
       "output_type": "stream",
       "stream": "stdout",
       "text": [
        "\n",
        "Retrieved article 1374 at: https://www.jaspersoft.com/bi-industry-news/big-data-analytics-help-hire-the-best-and-brightest"
       ]
      },
      {
       "output_type": "stream",
       "stream": "stdout",
       "text": [
        "\n",
        "Retrieved article 1375 at: https://www.jaspersoft.com/bi-industry-news/big-data-begins-to-define-organizations"
       ]
      },
      {
       "output_type": "stream",
       "stream": "stdout",
       "text": [
        "\n",
        "Retrieved article 1376 at: https://www.jaspersoft.com/bi-industry-news/mobile-bi-set-to-take-center-stage-in-2013"
       ]
      },
      {
       "output_type": "stream",
       "stream": "stdout",
       "text": [
        "\n",
        "Retrieved article 1377 at: https://www.jaspersoft.com/bi-industry-news/bi-tools-used-in-healthcare"
       ]
      },
      {
       "output_type": "stream",
       "stream": "stdout",
       "text": [
        "\n",
        "Retrieved article 1378 at: https://www.jaspersoft.com/bi-industry-news/mobile-bi-develops-alongside-smartphone-and-tablet-growth"
       ]
      },
      {
       "output_type": "stream",
       "stream": "stdout",
       "text": [
        "\n",
        "Retrieved article 1379 at: https://www.jaspersoft.com/bi-industry-news/retailers-turn-to-big-data-this-holiday-season"
       ]
      },
      {
       "output_type": "stream",
       "stream": "stdout",
       "text": [
        "\n",
        "Retrieved article 1380 at: https://www.jaspersoft.com/bi-industry-news/big-data-analytics-to-aid-online-job-boards"
       ]
      },
      {
       "output_type": "stream",
       "stream": "stdout",
       "text": [
        "\n",
        "Retrieved article 1381 at: https://www.jaspersoft.com/bi-industry-news/will-big-data-ever-get-too-big"
       ]
      },
      {
       "output_type": "stream",
       "stream": "stdout",
       "text": [
        "\n",
        "Retrieved article 1382 at: https://www.jaspersoft.com/bi-industry-news/big-data-analytics-spreads-organically"
       ]
      },
      {
       "output_type": "stream",
       "stream": "stdout",
       "text": [
        "\n",
        "Retrieved article 1383 at: https://www.jaspersoft.com/bi-industry-news/telcos-improve-thanks-to-big-data"
       ]
      },
      {
       "output_type": "stream",
       "stream": "stdout",
       "text": [
        "\n",
        "Retrieved article 1384 at: https://www.jaspersoft.com/bi-industry-news/how-much-of-big-data-do-enterprises-understand"
       ]
      },
      {
       "output_type": "stream",
       "stream": "stdout",
       "text": [
        "\n",
        "Retrieved article 1385 at: https://www.jaspersoft.com/bi-industry-news/big-data-with-a-human-face-for-people-not-computers"
       ]
      },
      {
       "output_type": "stream",
       "stream": "stdout",
       "text": [
        "\n",
        "Retrieved article 1386 at: https://www.jaspersoft.com/bi-industry-news/identifying-and-understanding-the-importance-of-big-data"
       ]
      },
      {
       "output_type": "stream",
       "stream": "stdout",
       "text": [
        "\n",
        "Retrieved article 1387 at: https://www.jaspersoft.com/bi-industry-news/business-intelligence-spending-to-increase-in-2013"
       ]
      },
      {
       "output_type": "stream",
       "stream": "stdout",
       "text": [
        "\n",
        "Retrieved article 1388 at: https://www.jaspersoft.com/bi-industry-news/big-data-spells-out-a-life-for-the-royal-baby"
       ]
      },
      {
       "output_type": "stream",
       "stream": "stdout",
       "text": [
        "\n",
        "Retrieved article 1389 at: https://www.jaspersoft.com/bi-industry-news/big-data-analytics-the-good-and-the-bad"
       ]
      },
      {
       "output_type": "stream",
       "stream": "stdout",
       "text": [
        "\n",
        "Retrieved article 1390 at: https://www.jaspersoft.com/bi-industry-news/mobile-bi-offers-flexibility-control"
       ]
      },
      {
       "output_type": "stream",
       "stream": "stdout",
       "text": [
        "\n",
        "Retrieved article 1391 at: https://www.jaspersoft.com/bi-industry-news/indiana-university-improving-big-data-analytics"
       ]
      },
      {
       "output_type": "stream",
       "stream": "stdout",
       "text": [
        "\n",
        "Retrieved article 1392 at: https://www.jaspersoft.com/bi-industry-news/big-data-community-suffers-from-lack-of-scientists"
       ]
      },
      {
       "output_type": "stream",
       "stream": "stdout",
       "text": [
        "\n",
        "Retrieved article 1393 at: https://www.jaspersoft.com/bi-industry-news/true-status-of-big-data-in-enterprise-revealed"
       ]
      },
      {
       "output_type": "stream",
       "stream": "stdout",
       "text": [
        "\n",
        "Retrieved article 1394 at: https://www.jaspersoft.com/bi-industry-news/marriage-of-big-data-and-cloud-based-services-underway"
       ]
      },
      {
       "output_type": "stream",
       "stream": "stdout",
       "text": [
        "\n",
        "Retrieved article 1395 at: https://www.jaspersoft.com/bi-industry-news/security-gets-a-boost-from-big-data-analytics"
       ]
      },
      {
       "output_type": "stream",
       "stream": "stdout",
       "text": [
        "\n",
        "Retrieved article 1396 at: https://www.jaspersoft.com/bi-industry-news/big-data-analytics-seeing-success"
       ]
      },
      {
       "output_type": "stream",
       "stream": "stdout",
       "text": [
        "\n",
        "Retrieved article 1397 at: https://www.jaspersoft.com/bi-industry-news/as-big-data-grows-questions-remain"
       ]
      },
      {
       "output_type": "stream",
       "stream": "stdout",
       "text": [
        "\n",
        "Retrieved article 1398 at: https://www.jaspersoft.com/bi-industry-news/carscom-proves-results-of-big-data-analytics"
       ]
      },
      {
       "output_type": "stream",
       "stream": "stdout",
       "text": [
        "\n",
        "Retrieved article 1399 at: https://www.jaspersoft.com/bi-industry-news/increased-mobile-use-changes-bi-and-big-data"
       ]
      },
      {
       "output_type": "stream",
       "stream": "stdout",
       "text": [
        "\n",
        "Retrieved article 1400 at: https://www.jaspersoft.com/bi-industry-news/avoiding-mistakes-when-deploying-new-bi-solutions"
       ]
      },
      {
       "output_type": "stream",
       "stream": "stdout",
       "text": [
        "\n",
        "Retrieved article 1401 at: https://www.jaspersoft.com/bi-industry-news/center-for-big-data-to-open-at-ohio-state-university"
       ]
      },
      {
       "output_type": "stream",
       "stream": "stdout",
       "text": [
        "\n",
        "Retrieved article 1402 at: https://www.jaspersoft.com/bi-industry-news/big-data-and-cloud-computing-used-in-legal-industry"
       ]
      },
      {
       "output_type": "stream",
       "stream": "stdout",
       "text": [
        "\n",
        "Retrieved article 1403 at: https://www.jaspersoft.com/bi-industry-news/will-big-data-disrupt-it-departments"
       ]
      },
      {
       "output_type": "stream",
       "stream": "stdout",
       "text": [
        "\n",
        "Retrieved article 1404 at: https://www.jaspersoft.com/bi-industry-news/cmos-in-the-age-of-big-data"
       ]
      },
      {
       "output_type": "stream",
       "stream": "stdout",
       "text": [
        "\n",
        "Retrieved article 1405 at: https://www.jaspersoft.com/bi-industry-news/energy-efficiency-with-help-from-big-data"
       ]
      },
      {
       "output_type": "stream",
       "stream": "stdout",
       "text": [
        "\n",
        "Retrieved article 1406 at: https://www.jaspersoft.com/bi-industry-news/defining-bi-to-help-enterprises-select-solutions"
       ]
      },
      {
       "output_type": "stream",
       "stream": "stdout",
       "text": [
        "\n",
        "Retrieved article 1407 at: https://www.jaspersoft.com/bi-industry-news/self-service-bi-should-be-implemented-with-care"
       ]
      },
      {
       "output_type": "stream",
       "stream": "stdout",
       "text": [
        "\n",
        "Retrieved article 1408 at: https://www.jaspersoft.com/bi-industry-news/big-data-crucial-to-cern-project"
       ]
      },
      {
       "output_type": "stream",
       "stream": "stdout",
       "text": [
        "\n",
        "Retrieved article 1409 at: https://www.jaspersoft.com/bi-industry-news/european-bankers-using-big-data-to-analyze-customers"
       ]
      },
      {
       "output_type": "stream",
       "stream": "stdout",
       "text": [
        "\n",
        "Retrieved article 1410 at: https://www.jaspersoft.com/bi-industry-news/turn-to-big-data-analytics-before-its-too-late"
       ]
      },
      {
       "output_type": "stream",
       "stream": "stdout",
       "text": [
        "\n",
        "Retrieved article 1411 at: https://www.jaspersoft.com/bi-industry-news/holiday-sales-ushered-in-with-big-data-analytics"
       ]
      },
      {
       "output_type": "stream",
       "stream": "stdout",
       "text": [
        "\n",
        "Retrieved article 1412 at: https://www.jaspersoft.com/bi-industry-news/big-data-analytics-set-for-use-this-holiday-season"
       ]
      },
      {
       "output_type": "stream",
       "stream": "stdout",
       "text": [
        "\n",
        "Retrieved article 1413 at: https://www.jaspersoft.com/bi-industry-news/mobile-bi-solutions-abound"
       ]
      },
      {
       "output_type": "stream",
       "stream": "stdout",
       "text": [
        "\n",
        "Retrieved article 1414 at: https://www.jaspersoft.com/bi-industry-news/big-data-retails-game-changer"
       ]
      },
      {
       "output_type": "stream",
       "stream": "stdout",
       "text": [
        "\n",
        "Retrieved article 1415 at: https://www.jaspersoft.com/bi-industry-news/how-to-approach-big-data-analytics"
       ]
      },
      {
       "output_type": "stream",
       "stream": "stdout",
       "text": [
        "\n",
        "Retrieved article 1416 at: https://www.jaspersoft.com/bi-industry-news/president-obama-believes-in-big-data"
       ]
      },
      {
       "output_type": "stream",
       "stream": "stdout",
       "text": [
        "\n",
        "Retrieved article 1417 at: https://www.jaspersoft.com/bi-industry-news/big-data-aids-enterprise-security"
       ]
      },
      {
       "output_type": "stream",
       "stream": "stdout",
       "text": [
        "\n",
        "Retrieved article 1418 at: https://www.jaspersoft.com/bi-industry-news/business-intelligence-market-set-to-double"
       ]
      },
      {
       "output_type": "stream",
       "stream": "stdout",
       "text": [
        "\n",
        "Retrieved article 1419 at: https://www.jaspersoft.com/bi-industry-news/universities-recognize-use-of-big-data"
       ]
      },
      {
       "output_type": "stream",
       "stream": "stdout",
       "text": [
        "\n",
        "Retrieved article 1420 at: https://www.jaspersoft.com/bi-industry-news/use-big-data-to-analyze-customer-loyalty"
       ]
      },
      {
       "output_type": "stream",
       "stream": "stdout",
       "text": [
        "\n",
        "Retrieved article 1421 at: https://www.jaspersoft.com/bi-industry-news/bi-solutions-get-packed-with-visualization-engines"
       ]
      },
      {
       "output_type": "stream",
       "stream": "stdout",
       "text": [
        "\n",
        "Retrieved article 1422 at: https://www.jaspersoft.com/bi-industry-news/the-rising-trend-of-big-data-analytics"
       ]
      },
      {
       "output_type": "stream",
       "stream": "stdout",
       "text": [
        "\n",
        "Retrieved article 1423 at: https://www.jaspersoft.com/bi-industry-news/government-turns-to-big-data"
       ]
      },
      {
       "output_type": "stream",
       "stream": "stdout",
       "text": [
        "\n",
        "Retrieved article 1424 at: https://www.jaspersoft.com/bi-industry-news/big-data-and-bi-to-revolutionize-india"
       ]
      },
      {
       "output_type": "stream",
       "stream": "stdout",
       "text": [
        "\n",
        "Retrieved article 1425 at: https://www.jaspersoft.com/bi-industry-news/big-data-analytics-effectiveness-proven-thanks-to-nate-silver"
       ]
      },
      {
       "output_type": "stream",
       "stream": "stdout",
       "text": [
        "\n",
        "Retrieved article 1426 at: https://www.jaspersoft.com/bi-industry-news/facebook-looks-to-implement-more-customized-big-data-tech"
       ]
      },
      {
       "output_type": "stream",
       "stream": "stdout",
       "text": [
        "\n",
        "Retrieved article 1427 at: https://www.jaspersoft.com/bi-industry-news/e-scoring-in-todays-big-data-focused-world"
       ]
      },
      {
       "output_type": "stream",
       "stream": "stdout",
       "text": [
        "\n",
        "Retrieved article 1428 at: https://www.jaspersoft.com/bi-industry-news/silvers-election-predictions-bring-attention-to-big-data"
       ]
      },
      {
       "output_type": "stream",
       "stream": "stdout",
       "text": [
        "\n",
        "Retrieved article 1429 at: https://www.jaspersoft.com/bi-industry-news/big-data-can-help-boost-revenue-for-small-businesses"
       ]
      },
      {
       "output_type": "stream",
       "stream": "stdout",
       "text": [
        "\n",
        "Retrieved article 1430 at: https://www.jaspersoft.com/bi-industry-news/protect-information-in-the-age-of-big-data-analytics"
       ]
      },
      {
       "output_type": "stream",
       "stream": "stdout",
       "text": [
        "\n",
        "Retrieved article 1431 at: https://www.jaspersoft.com/bi-industry-news/big-data-to-inform-retailers-this-holiday-season"
       ]
      },
      {
       "output_type": "stream",
       "stream": "stdout",
       "text": [
        "\n",
        "Retrieved article 1432 at: https://www.jaspersoft.com/bi-industry-news/useful-applications-of-bi"
       ]
      },
      {
       "output_type": "stream",
       "stream": "stdout",
       "text": [
        "\n",
        "Retrieved article 1433 at: https://www.jaspersoft.com/bi-industry-news/banks-to-benefit-from-business-intelligence-solutions"
       ]
      },
      {
       "output_type": "stream",
       "stream": "stdout",
       "text": [
        "\n",
        "Retrieved article 1434 at: https://www.jaspersoft.com/bi-industry-news/big-data-sees-use-in-surprising-places"
       ]
      },
      {
       "output_type": "stream",
       "stream": "stdout",
       "text": [
        "\n",
        "Retrieved article 1435 at: https://www.jaspersoft.com/bi-industry-news/big-data-to-increase-alongside-mobile-rise"
       ]
      },
      {
       "output_type": "stream",
       "stream": "stdout",
       "text": [
        "\n",
        "Retrieved article 1436 at: https://www.jaspersoft.com/bi-industry-news/big-data-could-change-elections"
       ]
      },
      {
       "output_type": "stream",
       "stream": "stdout",
       "text": [
        "\n",
        "Retrieved article 1437 at: https://www.jaspersoft.com/bi-industry-news/australian-government-uses-big-data-to-find-immigrants"
       ]
      },
      {
       "output_type": "stream",
       "stream": "stdout",
       "text": [
        "\n",
        "Retrieved article 1438 at: https://www.jaspersoft.com/bi-industry-news/customer-conversations-changed-by-big-data"
       ]
      },
      {
       "output_type": "stream",
       "stream": "stdout",
       "text": [
        "\n",
        "Retrieved article 1439 at: https://www.jaspersoft.com/bi-industry-news/australia-slow-to-implement-big-data-strategy"
       ]
      },
      {
       "output_type": "stream",
       "stream": "stdout",
       "text": [
        "\n",
        "Retrieved article 1440 at: https://www.jaspersoft.com/bi-industry-news/consider-big-data-in-the-wake-of-hurricane-sandy"
       ]
      },
      {
       "output_type": "stream",
       "stream": "stdout",
       "text": [
        "\n",
        "Retrieved article 1441 at: https://www.jaspersoft.com/bi-industry-news/telco-in-southeast-asia-believes-in-big-data-analytics"
       ]
      },
      {
       "output_type": "stream",
       "stream": "stdout",
       "text": [
        "\n",
        "Retrieved article 1442 at: https://www.jaspersoft.com/bi-industry-news/despite-terminology-big-data-sees-success"
       ]
      },
      {
       "output_type": "stream",
       "stream": "stdout",
       "text": [
        "\n",
        "Retrieved article 1443 at: https://www.jaspersoft.com/bi-industry-news/embedded-bi-mobile-bi-and-big-data-lead-trends"
       ]
      },
      {
       "output_type": "stream",
       "stream": "stdout",
       "text": [
        "\n",
        "Retrieved article 1444 at: https://www.jaspersoft.com/bi-industry-news/big-data-changing-healthcare-industry"
       ]
      },
      {
       "output_type": "stream",
       "stream": "stdout",
       "text": [
        "\n",
        "Retrieved article 1445 at: https://www.jaspersoft.com/bi-industry-news/big-data-is-for-mainstream-companies"
       ]
      },
      {
       "output_type": "stream",
       "stream": "stdout",
       "text": [
        "\n",
        "Retrieved article 1446 at: https://www.jaspersoft.com/bi-industry-news/leaders-should-look-deeper-than-big-data-labels"
       ]
      },
      {
       "output_type": "stream",
       "stream": "stdout",
       "text": [
        "\n",
        "Retrieved article 1447 at: https://www.jaspersoft.com/bi-industry-news/big-data-changing-the-world"
       ]
      },
      {
       "output_type": "stream",
       "stream": "stdout",
       "text": [
        "\n",
        "Retrieved article 1448 at: https://www.jaspersoft.com/bi-industry-news/retail-use-of-big-data-explained"
       ]
      },
      {
       "output_type": "stream",
       "stream": "stdout",
       "text": [
        "\n",
        "Retrieved article 1449 at: https://www.jaspersoft.com/bi-industry-news/geographic-information-linked-to-big-data"
       ]
      },
      {
       "output_type": "stream",
       "stream": "stdout",
       "text": [
        "\n",
        "Retrieved article 1450 at: https://www.jaspersoft.com/bi-industry-news/integration-of-big-data-and-bi"
       ]
      },
      {
       "output_type": "stream",
       "stream": "stdout",
       "text": [
        "\n",
        "Retrieved article 1451 at: https://www.jaspersoft.com/bi-industry-news/big-data-has-detonated-companies-should-use-wisely"
       ]
      },
      {
       "output_type": "stream",
       "stream": "stdout",
       "text": [
        "\n",
        "Retrieved article 1452 at: https://www.jaspersoft.com/bi-industry-news/market-for-mobile-bi-growing"
       ]
      },
      {
       "output_type": "stream",
       "stream": "stdout",
       "text": [
        "\n",
        "Retrieved article 1453 at: https://www.jaspersoft.com/bi-industry-news/the-changing-face-of-bi"
       ]
      },
      {
       "output_type": "stream",
       "stream": "stdout",
       "text": [
        "\n",
        "Retrieved article 1454 at: https://www.jaspersoft.com/bi-industry-news/business-intelligence-helps-retailers-cope-with-big-data"
       ]
      },
      {
       "output_type": "stream",
       "stream": "stdout",
       "text": [
        "\n",
        "Retrieved article 1455 at: https://www.jaspersoft.com/bi-industry-news/relationship-between-big-data-and-hpc-explicated"
       ]
      },
      {
       "output_type": "stream",
       "stream": "stdout",
       "text": [
        "\n",
        "Retrieved article 1456 at: https://www.jaspersoft.com/bi-industry-news/business-intelligence-and-big-data-software-become-accessible"
       ]
      },
      {
       "output_type": "stream",
       "stream": "stdout",
       "text": [
        "\n",
        "Retrieved article 1457 at: https://www.jaspersoft.com/bi-industry-news/a-solution-for-big-data-storage"
       ]
      },
      {
       "output_type": "stream",
       "stream": "stdout",
       "text": [
        "\n",
        "Retrieved article 1458 at: https://www.jaspersoft.com/bi-industry-news/us-government-holds-big-data-sets"
       ]
      },
      {
       "output_type": "stream",
       "stream": "stdout",
       "text": [
        "\n",
        "Retrieved article 1459 at: https://www.jaspersoft.com/bi-industry-news/tangible-benefits-of-big-data-analytics"
       ]
      },
      {
       "output_type": "stream",
       "stream": "stdout",
       "text": [
        "\n",
        "Retrieved article 1460 at: https://www.jaspersoft.com/bi-industry-news/big-data-jobs-are-recession-proof"
       ]
      },
      {
       "output_type": "stream",
       "stream": "stdout",
       "text": [
        "\n",
        "Retrieved article 1461 at: https://www.jaspersoft.com/bi-industry-news/big-data-creates-jobs-for-specialists"
       ]
      },
      {
       "output_type": "stream",
       "stream": "stdout",
       "text": [
        "\n",
        "Retrieved article 1462 at: https://www.jaspersoft.com/bi-industry-news/big-data-analytics-to-aid-government-with-parking-spaces"
       ]
      },
      {
       "output_type": "stream",
       "stream": "stdout",
       "text": [
        "\n",
        "Retrieved article 1463 at: https://www.jaspersoft.com/bi-industry-news/health-systems-to-incorporate-big-data-analytics"
       ]
      },
      {
       "output_type": "stream",
       "stream": "stdout",
       "text": [
        "\n",
        "Retrieved article 1464 at: https://www.jaspersoft.com/bi-industry-news/the-challenge-in-big-data-deployment"
       ]
      },
      {
       "output_type": "stream",
       "stream": "stdout",
       "text": [
        "\n",
        "Retrieved article 1465 at: https://www.jaspersoft.com/bi-industry-news/big-data-analytics-and-storage-in-the-cloud"
       ]
      },
      {
       "output_type": "stream",
       "stream": "stdout",
       "text": [
        "\n",
        "Retrieved article 1466 at: https://www.jaspersoft.com/bi-industry-news/new-bi-trends-on-the-horizon"
       ]
      },
      {
       "output_type": "stream",
       "stream": "stdout",
       "text": [
        "\n",
        "Retrieved article 1467 at: https://www.jaspersoft.com/bi-industry-news/new-considerations-emerge-in-big-data-storage"
       ]
      },
      {
       "output_type": "stream",
       "stream": "stdout",
       "text": [
        "\n",
        "Retrieved article 1468 at: https://www.jaspersoft.com/bi-industry-news/cloud-bi-and-mobile-bi-solutions-gain-popularity"
       ]
      },
      {
       "output_type": "stream",
       "stream": "stdout",
       "text": [
        "\n",
        "Retrieved article 1469 at: https://www.jaspersoft.com/bi-industry-news/big-data-journeys-into-the-travel-industry"
       ]
      },
      {
       "output_type": "stream",
       "stream": "stdout",
       "text": [
        "\n",
        "Retrieved article 1470 at: https://www.jaspersoft.com/bi-industry-news/big-data-analytics-can-improve-healthcare"
       ]
      },
      {
       "output_type": "stream",
       "stream": "stdout",
       "text": [
        "\n",
        "Retrieved article 1471 at: https://www.jaspersoft.com/bi-industry-news/new-survey-shows-the-need-for-big-data-access"
       ]
      },
      {
       "output_type": "stream",
       "stream": "stdout",
       "text": [
        "\n",
        "Retrieved article 1472 at: https://www.jaspersoft.com/bi-industry-news/big-data-analytics-job-market-calls-for-more-specialists"
       ]
      },
      {
       "output_type": "stream",
       "stream": "stdout",
       "text": [
        "\n",
        "Retrieved article 1473 at: https://www.jaspersoft.com/bi-industry-news/insurers-turning-to-big-data-for-underwriting"
       ]
      },
      {
       "output_type": "stream",
       "stream": "stdout",
       "text": [
        "\n",
        "Retrieved article 1474 at: https://www.jaspersoft.com/bi-industry-news/data-insider-huge-breakthroughs-near"
       ]
      },
      {
       "output_type": "stream",
       "stream": "stdout",
       "text": [
        "\n",
        "Retrieved article 1475 at: https://www.jaspersoft.com/bi-industry-news/trash-receptacles-built-using-big-data"
       ]
      },
      {
       "output_type": "stream",
       "stream": "stdout",
       "text": [
        "\n",
        "Retrieved article 1476 at: https://www.jaspersoft.com/bi-industry-news/big-data-analytics-initiatives-aided-by-the-pencil"
       ]
      },
      {
       "output_type": "stream",
       "stream": "stdout",
       "text": [
        "\n",
        "Retrieved article 1477 at: https://www.jaspersoft.com/bi-industry-news/companies-must-prevent-business-intelligence-solutions-from-failing"
       ]
      },
      {
       "output_type": "stream",
       "stream": "stdout",
       "text": [
        "\n",
        "Retrieved article 1478 at: https://www.jaspersoft.com/bi-industry-news/analytics-programs-slip-traditional-bounds"
       ]
      },
      {
       "output_type": "stream",
       "stream": "stdout",
       "text": [
        "\n",
        "Retrieved article 1479 at: https://www.jaspersoft.com/bi-industry-news/self-service-bi-wins-hearts-of-business-executives-and-it-specialists"
       ]
      },
      {
       "output_type": "stream",
       "stream": "stdout",
       "text": [
        "\n",
        "Retrieved article 1480 at: https://www.jaspersoft.com/bi-industry-news/big-data-analytics-can-help-countries-in-need"
       ]
      },
      {
       "output_type": "stream",
       "stream": "stdout",
       "text": [
        "\n",
        "Retrieved article 1481 at: https://www.jaspersoft.com/bi-industry-news/embedded-bi-is-helpful-to-banks"
       ]
      },
      {
       "output_type": "stream",
       "stream": "stdout",
       "text": [
        "\n",
        "Retrieved article 1482 at: https://www.jaspersoft.com/bi-industry-news/report-on-government-business-intelligence-defines-big-data-analytics"
       ]
      },
      {
       "output_type": "stream",
       "stream": "stdout",
       "text": [
        "\n",
        "Retrieved article 1483 at: https://www.jaspersoft.com/bi-industry-news/cloud-bi-embedded-bi-and-big-data-analytics-thrive-during-recession"
       ]
      },
      {
       "output_type": "stream",
       "stream": "stdout",
       "text": [
        "\n",
        "Retrieved article 1484 at: https://www.jaspersoft.com/bi-industry-news/big-data-analytics-set-to-revolutionize-healthcare"
       ]
      },
      {
       "output_type": "stream",
       "stream": "stdout",
       "text": [
        "\n",
        "Retrieved article 1485 at: https://www.jaspersoft.com/bi-industry-news/big-data-analytics-takes-hold-in-healthcare"
       ]
      },
      {
       "output_type": "stream",
       "stream": "stdout",
       "text": [
        "\n",
        "Retrieved article 1486 at: https://www.jaspersoft.com/bi-industry-news/business-intelligence-awards-is-calling-for-entries"
       ]
      },
      {
       "output_type": "stream",
       "stream": "stdout",
       "text": [
        "\n",
        "Retrieved article 1487 at: https://www.jaspersoft.com/bi-industry-news/international-maturity-of-bi-in-canadian-and-russian-markets"
       ]
      },
      {
       "output_type": "stream",
       "stream": "stdout",
       "text": [
        "\n",
        "Retrieved article 1488 at: https://www.jaspersoft.com/bi-industry-news/big-data-analytics-impacts-marketing-and-customer-relationships"
       ]
      },
      {
       "output_type": "stream",
       "stream": "stdout",
       "text": [
        "\n",
        "Retrieved article 1489 at: https://www.jaspersoft.com/bi-industry-news/big-data-analytics-and-business-intelligence-step-into-government"
       ]
      },
      {
       "output_type": "stream",
       "stream": "stdout",
       "text": [
        "\n",
        "Retrieved article 1490 at: https://www.jaspersoft.com/bi-industry-news/business-intelligence-dashboards-are-useful-components"
       ]
      },
      {
       "output_type": "stream",
       "stream": "stdout",
       "text": [
        "\n",
        "Retrieved article 1491 at: https://www.jaspersoft.com/bi-industry-news/big-data-growth-challenges-companies-to-find-solutions"
       ]
      },
      {
       "output_type": "stream",
       "stream": "stdout",
       "text": [
        "\n",
        "Retrieved article 1492 at: https://www.jaspersoft.com/bi-industry-news/big-data-analytics-causing-shifts-for-company-employees"
       ]
      },
      {
       "output_type": "stream",
       "stream": "stdout",
       "text": [
        "\n",
        "Retrieved article 1493 at: https://www.jaspersoft.com/bi-industry-news/market-growing-as-companies-invest-in-cloud-computing-and-business-intelligence"
       ]
      },
      {
       "output_type": "stream",
       "stream": "stdout",
       "text": [
        "\n",
        "Retrieved article 1494 at: https://www.jaspersoft.com/bi-industry-news/big-retailers-use-big-data-analytics-while-small-sellers-may-miss-out"
       ]
      },
      {
       "output_type": "stream",
       "stream": "stdout",
       "text": [
        "\n",
        "Retrieved article 1495 at: https://www.jaspersoft.com/bi-industry-news/business-intelligence-and-big-data-can-work-together-to-provide-solutions"
       ]
      },
      {
       "output_type": "stream",
       "stream": "stdout",
       "text": [
        "\n",
        "Retrieved article 1496 at: https://www.jaspersoft.com/bi-industry-news/changes-have-made-big-data-relevant-as-businesses-consider-how-to-use-it"
       ]
      },
      {
       "output_type": "stream",
       "stream": "stdout",
       "text": [
        "\n",
        "Retrieved article 1497 at: https://www.jaspersoft.com/bi-industry-news/big-data-analytics-allows-for-assessment-of-populations-migration-and-elections"
       ]
      },
      {
       "output_type": "stream",
       "stream": "stdout",
       "text": [
        "\n",
        "Retrieved article 1498 at: https://www.jaspersoft.com/bi-industry-news/big-data-analytics-is-for-people-not-computers"
       ]
      },
      {
       "output_type": "stream",
       "stream": "stdout",
       "text": [
        "\n",
        "Retrieved article 1499 at: https://www.jaspersoft.com/bi-industry-news/big-data-analytics-and-business-intelligence-to-aid-large-companies"
       ]
      },
      {
       "output_type": "stream",
       "stream": "stdout",
       "text": [
        "\n",
        "Retrieved article 1500 at: https://www.jaspersoft.com/bi-industry-news/business-intelligence-a-priority-for-cios-in-asia"
       ]
      },
      {
       "output_type": "stream",
       "stream": "stdout",
       "text": [
        "\n",
        "Retrieved article 1501 at: https://www.jaspersoft.com/bi-industry-news/big-data-will-impact-our-world-going-beyond-the-internet"
       ]
      },
      {
       "output_type": "stream",
       "stream": "stdout",
       "text": [
        "\n",
        "Retrieved article 1502 at: https://www.jaspersoft.com/bi-industry-news/executives-could-understand-more-about-big-data-benefits"
       ]
      },
      {
       "output_type": "stream",
       "stream": "stdout",
       "text": [
        "\n",
        "Retrieved article 1503 at: https://www.jaspersoft.com/bi-industry-news/city-of-boston-at-forefront-of-big-data-analytics"
       ]
      },
      {
       "output_type": "stream",
       "stream": "stdout",
       "text": [
        "\n",
        "Retrieved article 1504 at: https://www.jaspersoft.com/bi-industry-news/big-data-useful-in-government-discussed-in-conference"
       ]
      },
      {
       "output_type": "stream",
       "stream": "stdout",
       "text": [
        "\n",
        "Retrieved article 1505 at: https://www.jaspersoft.com/bi-industry-news/cloud-bi-helps-ngos-not-just-for-corporations"
       ]
      },
      {
       "output_type": "stream",
       "stream": "stdout",
       "text": [
        "\n",
        "Retrieved article 1506 at: https://www.jaspersoft.com/bi-industry-news/cios-important-in-big-data-analytics-bi"
       ]
      },
      {
       "output_type": "stream",
       "stream": "stdout",
       "text": [
        "\n",
        "Retrieved article 1507 at: https://www.jaspersoft.com/bi-industry-news/study-shows-outsourcing-it-is-a-better-strategy-for-businesses"
       ]
      },
      {
       "output_type": "stream",
       "stream": "stdout",
       "text": [
        "\n",
        "Retrieved article 1508 at: https://www.jaspersoft.com/bi-industry-news/companies-invest-in-business-intelligence-new-tech-hires"
       ]
      },
      {
       "output_type": "stream",
       "stream": "stdout",
       "text": [
        "\n",
        "Retrieved article 1509 at: https://www.jaspersoft.com/bi-industry-news/recent-research-reveals-that-big-data-has-a-learning-curve"
       ]
      },
      {
       "output_type": "stream",
       "stream": "stdout",
       "text": [
        "\n",
        "Retrieved article 1510 at: https://www.jaspersoft.com/bi-industry-news/harvard-researches-big-data-in-business-and-biology"
       ]
      },
      {
       "output_type": "stream",
       "stream": "stdout",
       "text": [
        "\n",
        "Retrieved article 1511 at: https://www.jaspersoft.com/bi-industry-news/large-datasets-create-issues-in-big-data-analytics-software-offers-solutions"
       ]
      },
      {
       "output_type": "stream",
       "stream": "stdout",
       "text": [
        "\n",
        "Retrieved article 1512 at: https://www.jaspersoft.com/bi-industry-news/cloud-computing-a-hot-trend-raising-revenue-worth-understanding"
       ]
      },
      {
       "output_type": "stream",
       "stream": "stdout",
       "text": [
        "\n",
        "Retrieved article 1513 at: https://www.jaspersoft.com/bi-industry-news/big-data-in-baseball-billy-beane-to-speak-at-big-data-forum"
       ]
      },
      {
       "output_type": "stream",
       "stream": "stdout",
       "text": [
        "\n",
        "Retrieved article 1514 at: https://www.jaspersoft.com/bi-industry-news/chipotle-mexican-grill-and-papa-ginos-turn-to-business-intelligence-to-drive-succ-0"
       ]
      },
      {
       "output_type": "stream",
       "stream": "stdout",
       "text": [
        "\n",
        "Retrieved article 1515 at: https://www.jaspersoft.com/bi-industry-news/security-is-crucial-for-open-source-business-intelligence"
       ]
      },
      {
       "output_type": "stream",
       "stream": "stdout",
       "text": [
        "\n",
        "Retrieved article 1516 at: https://www.jaspersoft.com/bi-industry-news/chipotle-mexican-grill-and-papa-ginos-turn-to-business-intelligence-to-drive-succes"
       ]
      },
      {
       "output_type": "stream",
       "stream": "stdout",
       "text": [
        "\n",
        "Retrieved article 1517 at: https://www.jaspersoft.com/bi-industry-news/2012-big-data-conference-at-mit-will-bring-industry-leaders-together-0"
       ]
      },
      {
       "output_type": "stream",
       "stream": "stdout",
       "text": [
        "\n",
        "Retrieved article 1518 at: https://www.jaspersoft.com/bi-industry-news/bi-and-big-data-analytics-benefit-school-systems"
       ]
      },
      {
       "output_type": "stream",
       "stream": "stdout",
       "text": [
        "\n",
        "Retrieved article 1519 at: https://www.jaspersoft.com/bi-industry-news/big-data-valuable-to-organizations-discoveries-make-positive-impact"
       ]
      },
      {
       "output_type": "stream",
       "stream": "stdout",
       "text": [
        "\n",
        "Retrieved article 1520 at: https://www.jaspersoft.com/bi-industry-news/cloud-bi-becoming-essential-on-the-road"
       ]
      },
      {
       "output_type": "stream",
       "stream": "stdout",
       "text": [
        "\n",
        "Retrieved article 1521 at: https://www.jaspersoft.com/bi-industry-news/small-businesses-can-benefit-from-cloud-computing-but-lag-behind"
       ]
      },
      {
       "output_type": "stream",
       "stream": "stdout",
       "text": [
        "\n",
        "Retrieved article 1522 at: https://www.jaspersoft.com/bi-industry-news/2012-big-data-conference-at-mit-will-bring-industry-leaders-together"
       ]
      },
      {
       "output_type": "stream",
       "stream": "stdout",
       "text": [
        "\n",
        "Retrieved article 1523 at: https://www.jaspersoft.com/bi-industry-news/the-walt-disney-corporation-is-a-beacon-for-big-data-analytics-evident-from-its-ann"
       ]
      },
      {
       "output_type": "stream",
       "stream": "stdout",
       "text": [
        "\n",
        "Retrieved article 1524 at: https://www.jaspersoft.com/bi-industry-news/recent-survey-shows-companies-outsource-big-data-analytics"
       ]
      },
      {
       "output_type": "stream",
       "stream": "stdout",
       "text": [
        "\n",
        "Retrieved article 1525 at: https://www.jaspersoft.com/bi-industry-news/big-data-prevalent-in-agriculture-aiding-crop-insurers-and-farmers"
       ]
      },
      {
       "output_type": "stream",
       "stream": "stdout",
       "text": [
        "\n",
        "Retrieved article 1526 at: https://www.jaspersoft.com/bi-industry-news/business-intelligence-catches-on-with-wide-audience"
       ]
      },
      {
       "output_type": "stream",
       "stream": "stdout",
       "text": [
        "\n",
        "Retrieved article 1527 at: https://www.jaspersoft.com/bi-industry-news/big-data-processes-become-mainstream"
       ]
      },
      {
       "output_type": "stream",
       "stream": "stdout",
       "text": [
        "\n",
        "Retrieved article 1528 at: https://www.jaspersoft.com/bi-industry-news/using-big-data-goes-beyond-corporations-benefiting-healthcare-and-government-progra"
       ]
      },
      {
       "output_type": "stream",
       "stream": "stdout",
       "text": [
        "\n",
        "Retrieved article 1529 at: https://www.jaspersoft.com/bi-industry-news/dashboard-makes-business-intelligence-accessible-to-small-businesses"
       ]
      },
      {
       "output_type": "stream",
       "stream": "stdout",
       "text": [
        "\n",
        "Retrieved article 1530 at: https://www.jaspersoft.com/bi-industry-news/pabst-brewing-company-shifts-to-embedded-business-intelligence-system"
       ]
      },
      {
       "output_type": "stream",
       "stream": "stdout",
       "text": [
        "\n",
        "Retrieved article 1531 at: https://www.jaspersoft.com/bi-industry-news/big-data-analytics-growing-rapidly-ripe-with-potential-for-companies"
       ]
      },
      {
       "output_type": "stream",
       "stream": "stdout",
       "text": [
        "\n",
        "Retrieved article 1532 at: https://www.jaspersoft.com/bi-industry-news/business-intelligence-brings-potential-solutions-to-africa"
       ]
      },
      {
       "output_type": "stream",
       "stream": "stdout",
       "text": [
        "\n",
        "Retrieved article 1533 at: https://www.jaspersoft.com/bi-industry-news/big-data-can-be-consumer-warning-system"
       ]
      },
      {
       "output_type": "stream",
       "stream": "stdout",
       "text": [
        "\n",
        "Retrieved article 1534 at: https://www.jaspersoft.com/bi-industry-news/big-data-could-change-education"
       ]
      },
      {
       "output_type": "stream",
       "stream": "stdout",
       "text": [
        "\n",
        "Retrieved article 1535 at: https://www.jaspersoft.com/bi-industry-news/big-data-becomes-central-to-business-infrastructures"
       ]
      },
      {
       "output_type": "stream",
       "stream": "stdout",
       "text": [
        "\n",
        "Retrieved article 1536 at: https://www.jaspersoft.com/bi-industry-news/banks-can-harness-self-service-bi"
       ]
      },
      {
       "output_type": "stream",
       "stream": "stdout",
       "text": [
        "\n",
        "Retrieved article 1537 at: https://www.jaspersoft.com/bi-industry-news/utilities-providers-can-harness-data"
       ]
      },
      {
       "output_type": "stream",
       "stream": "stdout",
       "text": [
        "\n",
        "Retrieved article 1538 at: https://www.jaspersoft.com/bi-industry-news/expert-time-to-focus-on-big-data"
       ]
      },
      {
       "output_type": "stream",
       "stream": "stdout",
       "text": [
        "\n",
        "Retrieved article 1539 at: https://www.jaspersoft.com/bi-industry-news/cloud-based-apps-go-beyond-one-third-of-firms"
       ]
      },
      {
       "output_type": "stream",
       "stream": "stdout",
       "text": [
        "\n",
        "Retrieved article 1540 at: https://www.jaspersoft.com/bi-industry-news/analysts-thrive-when-allowed-to-explore-data"
       ]
      },
      {
       "output_type": "stream",
       "stream": "stdout",
       "text": [
        "\n",
        "Retrieved article 1541 at: https://www.jaspersoft.com/bi-industry-news/marketers-boost-speed-through-data"
       ]
      },
      {
       "output_type": "stream",
       "stream": "stdout",
       "text": [
        "\n",
        "Retrieved article 1542 at: https://www.jaspersoft.com/bi-industry-news/financial-decision-makers-want-bi"
       ]
      },
      {
       "output_type": "stream",
       "stream": "stdout",
       "text": [
        "\n",
        "Retrieved article 1543 at: https://www.jaspersoft.com/bi-industry-news/conference-demonstrates-big-data-excitement"
       ]
      },
      {
       "output_type": "stream",
       "stream": "stdout",
       "text": [
        "\n",
        "Retrieved article 1544 at: https://www.jaspersoft.com/bi-industry-news/facebook-contributes-to-open-source-data-use"
       ]
      },
      {
       "output_type": "stream",
       "stream": "stdout",
       "text": [
        "\n",
        "Retrieved article 1545 at: https://www.jaspersoft.com/bi-industry-news/roi-fears-keeping-business-out-of-social-analytics"
       ]
      },
      {
       "output_type": "stream",
       "stream": "stdout",
       "text": [
        "\n",
        "Retrieved article 1546 at: https://www.jaspersoft.com/bi-industry-news/mobile-bi-users-can-collaborate-easily"
       ]
      },
      {
       "output_type": "stream",
       "stream": "stdout",
       "text": [
        "\n",
        "Retrieved article 1547 at: https://www.jaspersoft.com/bi-industry-news/big-data-permeates-culture"
       ]
      },
      {
       "output_type": "stream",
       "stream": "stdout",
       "text": [
        "\n",
        "Retrieved article 1548 at: https://www.jaspersoft.com/bi-industry-news/new-use-cases-suggest-big-data-sharing"
       ]
      },
      {
       "output_type": "stream",
       "stream": "stdout",
       "text": [
        "\n",
        "Retrieved article 1549 at: https://www.jaspersoft.com/bi-industry-news/cios-can-enable-data-value"
       ]
      },
      {
       "output_type": "stream",
       "stream": "stdout",
       "text": [
        "\n",
        "Retrieved article 1550 at: https://www.jaspersoft.com/bi-industry-news/big-data-could-transform-government"
       ]
      },
      {
       "output_type": "stream",
       "stream": "stdout",
       "text": [
        "\n",
        "Retrieved article 1551 at: https://www.jaspersoft.com/bi-industry-news/medical-providers-eager-for-bi"
       ]
      },
      {
       "output_type": "stream",
       "stream": "stdout",
       "text": [
        "\n",
        "Retrieved article 1552 at: https://www.jaspersoft.com/bi-industry-news/small-development-companies-can-make-analytics-work"
       ]
      },
      {
       "output_type": "stream",
       "stream": "stdout",
       "text": [
        "\n",
        "Retrieved article 1553 at: https://www.jaspersoft.com/bi-industry-news/big-data-university-to-offer-hadoop-course"
       ]
      },
      {
       "output_type": "stream",
       "stream": "stdout",
       "text": [
        "\n",
        "Retrieved article 1554 at: https://www.jaspersoft.com/bi-industry-news/police-harness-big-data-analytics"
       ]
      },
      {
       "output_type": "stream",
       "stream": "stdout",
       "text": [
        "\n",
        "Retrieved article 1555 at: https://www.jaspersoft.com/bi-industry-news/companies-seek-consumer-feedback-in-new-ways"
       ]
      },
      {
       "output_type": "stream",
       "stream": "stdout",
       "text": [
        "\n",
        "Retrieved article 1556 at: https://www.jaspersoft.com/bi-industry-news/big-data-and-traditional-bi-can-and-should-integrate-well"
       ]
      },
      {
       "output_type": "stream",
       "stream": "stdout",
       "text": [
        "\n",
        "Retrieved article 1557 at: https://www.jaspersoft.com/bi-industry-news/big-data-goes-to-trial-through-e-discovery"
       ]
      },
      {
       "output_type": "stream",
       "stream": "stdout",
       "text": [
        "\n",
        "Retrieved article 1558 at: https://www.jaspersoft.com/bi-industry-news/expert-highlights-big-data-questions"
       ]
      },
      {
       "output_type": "stream",
       "stream": "stdout",
       "text": [
        "\n",
        "Retrieved article 1559 at: https://www.jaspersoft.com/bi-industry-news/financial-teams-with-analytics-expertise-shine"
       ]
      },
      {
       "output_type": "stream",
       "stream": "stdout",
       "text": [
        "\n",
        "Retrieved article 1560 at: https://www.jaspersoft.com/bi-industry-news/marketers-not-yet-maximizing-analytics"
       ]
      },
      {
       "output_type": "stream",
       "stream": "stdout",
       "text": [
        "\n",
        "Retrieved article 1561 at: https://www.jaspersoft.com/bi-industry-news/it-trend-tracker-includes-bi-friendly-concepts"
       ]
      },
      {
       "output_type": "stream",
       "stream": "stdout",
       "text": [
        "\n",
        "Retrieved article 1562 at: https://www.jaspersoft.com/bi-industry-news/cloud-and-business-intelligence-converge"
       ]
      },
      {
       "output_type": "stream",
       "stream": "stdout",
       "text": [
        "\n",
        "Retrieved article 1563 at: https://www.jaspersoft.com/bi-industry-news/business-intelligence-on-the-rise-in-healthcare"
       ]
      },
      {
       "output_type": "stream",
       "stream": "stdout",
       "text": [
        "\n",
        "Retrieved article 1564 at: https://www.jaspersoft.com/bi-industry-news/big-data-reserves-call-for-new-strategies"
       ]
      },
      {
       "output_type": "stream",
       "stream": "stdout",
       "text": [
        "\n",
        "Retrieved article 1565 at: https://www.jaspersoft.com/bi-industry-news/new-report-describes-big-data-market"
       ]
      },
      {
       "output_type": "stream",
       "stream": "stdout",
       "text": [
        "\n",
        "Retrieved article 1566 at: https://www.jaspersoft.com/bi-industry-news/warehouses-embrace-analytics"
       ]
      },
      {
       "output_type": "stream",
       "stream": "stdout",
       "text": [
        "\n",
        "Retrieved article 1567 at: https://www.jaspersoft.com/bi-industry-news/analytics-linked-to-productivity"
       ]
      },
      {
       "output_type": "stream",
       "stream": "stdout",
       "text": [
        "\n",
        "Retrieved article 1568 at: https://www.jaspersoft.com/bi-industry-news/mobility-set-to-alter-bi-landscape"
       ]
      },
      {
       "output_type": "stream",
       "stream": "stdout",
       "text": [
        "\n",
        "Retrieved article 1569 at: https://www.jaspersoft.com/bi-industry-news/bi-expert-ponders-future-of-data-scientists"
       ]
      },
      {
       "output_type": "stream",
       "stream": "stdout",
       "text": [
        "\n",
        "Retrieved article 1570 at: https://www.jaspersoft.com/bi-industry-news/big-data-becomes-widely-known"
       ]
      },
      {
       "output_type": "stream",
       "stream": "stdout",
       "text": [
        "\n",
        "Retrieved article 1571 at: https://www.jaspersoft.com/bi-industry-news/nypd-harnesses-big-data-analyics"
       ]
      },
      {
       "output_type": "stream",
       "stream": "stdout",
       "text": [
        "\n",
        "Retrieved article 1572 at: https://www.jaspersoft.com/bi-industry-news/advanced-analytics-take-unique-forms"
       ]
      },
      {
       "output_type": "stream",
       "stream": "stdout",
       "text": [
        "\n",
        "Retrieved article 1573 at: https://www.jaspersoft.com/bi-industry-news/netflix-staffer-gives-data-opinions"
       ]
      },
      {
       "output_type": "stream",
       "stream": "stdout",
       "text": [
        "\n",
        "Retrieved article 1574 at: https://www.jaspersoft.com/bi-industry-news/online-retail-thrives-on-bi-data"
       ]
      },
      {
       "output_type": "stream",
       "stream": "stdout",
       "text": [
        "\n",
        "Retrieved article 1575 at: https://www.jaspersoft.com/bi-industry-news/money-launderers-tracked-through-bi"
       ]
      },
      {
       "output_type": "stream",
       "stream": "stdout",
       "text": [
        "\n",
        "Retrieved article 1576 at: https://www.jaspersoft.com/bi-industry-news/new-data-needs-lead-to-storage-efforts"
       ]
      },
      {
       "output_type": "stream",
       "stream": "stdout",
       "text": [
        "\n",
        "Retrieved article 1577 at: https://www.jaspersoft.com/bi-industry-news/big-data-requires-careful-management"
       ]
      },
      {
       "output_type": "stream",
       "stream": "stdout",
       "text": [
        "\n",
        "Retrieved article 1578 at: https://www.jaspersoft.com/bi-industry-news/big-data-analytics-represents-bi-evolution"
       ]
      },
      {
       "output_type": "stream",
       "stream": "stdout",
       "text": [
        "\n",
        "Retrieved article 1579 at: https://www.jaspersoft.com/bi-industry-news/retailers-rely-on-mobile-outreach-and-customer-data"
       ]
      },
      {
       "output_type": "stream",
       "stream": "stdout",
       "text": [
        "\n",
        "Retrieved article 1580 at: https://www.jaspersoft.com/bi-industry-news/insight-lurks-in-big-data"
       ]
      },
      {
       "output_type": "stream",
       "stream": "stdout",
       "text": [
        "\n",
        "Retrieved article 1581 at: https://www.jaspersoft.com/bi-industry-news/customer-experiences-shaped-with-big-data"
       ]
      },
      {
       "output_type": "stream",
       "stream": "stdout",
       "text": [
        "\n",
        "Retrieved article 1582 at: https://www.jaspersoft.com/bi-industry-news/business-intelligence-fills-new-supply-role"
       ]
      },
      {
       "output_type": "stream",
       "stream": "stdout",
       "text": [
        "\n",
        "Retrieved article 1583 at: https://www.jaspersoft.com/bi-industry-news/usage-cases-explain-advanced-analytics"
       ]
      },
      {
       "output_type": "stream",
       "stream": "stdout",
       "text": [
        "\n",
        "Retrieved article 1584 at: https://www.jaspersoft.com/bi-industry-news/information-use-calls-for-creativity"
       ]
      },
      {
       "output_type": "stream",
       "stream": "stdout",
       "text": [
        "\n",
        "Retrieved article 1585 at: https://www.jaspersoft.com/bi-industry-news/big-data-in-demand-with-marketers"
       ]
      },
      {
       "output_type": "stream",
       "stream": "stdout",
       "text": [
        "\n",
        "Retrieved article 1586 at: https://www.jaspersoft.com/bi-industry-news/it-attitudes-toward-big-data-varied"
       ]
      },
      {
       "output_type": "stream",
       "stream": "stdout",
       "text": [
        "\n",
        "Retrieved article 1587 at: https://www.jaspersoft.com/bi-industry-news/ambitious-retailers-harness-big-data"
       ]
      },
      {
       "output_type": "stream",
       "stream": "stdout",
       "text": [
        "\n",
        "Retrieved article 1588 at: https://www.jaspersoft.com/bi-industry-news/widespread-mobility-coming-soon-to-bi"
       ]
      },
      {
       "output_type": "stream",
       "stream": "stdout",
       "text": [
        "\n",
        "Retrieved article 1589 at: https://www.jaspersoft.com/bi-industry-news/big-data-can-help-universities"
       ]
      },
      {
       "output_type": "stream",
       "stream": "stdout",
       "text": [
        "\n",
        "Retrieved article 1590 at: https://www.jaspersoft.com/bi-industry-news/authors-uncover-business-intelligence-strategies"
       ]
      },
      {
       "output_type": "stream",
       "stream": "stdout",
       "text": [
        "\n",
        "Retrieved article 1591 at: https://www.jaspersoft.com/bi-industry-news/big-data-analytics-thrives-with-hadoop"
       ]
      },
      {
       "output_type": "stream",
       "stream": "stdout",
       "text": [
        "\n",
        "Retrieved article 1592 at: https://www.jaspersoft.com/bi-industry-news/retailers-in-new-areas-harness-data"
       ]
      },
      {
       "output_type": "stream",
       "stream": "stdout",
       "text": [
        "\n",
        "Retrieved article 1593 at: https://www.jaspersoft.com/bi-industry-news/big-data-users-search-for-new-storage-methods"
       ]
      },
      {
       "output_type": "stream",
       "stream": "stdout",
       "text": [
        "\n",
        "Retrieved article 1594 at: https://www.jaspersoft.com/bi-industry-news/advanced-bi-strategies-thrive-among-power-users"
       ]
      },
      {
       "output_type": "stream",
       "stream": "stdout",
       "text": [
        "\n",
        "Retrieved article 1595 at: https://www.jaspersoft.com/bi-industry-news/cloud-becomes-hub-for-business-intelligence"
       ]
      },
      {
       "output_type": "stream",
       "stream": "stdout",
       "text": [
        "\n",
        "Retrieved article 1596 at: https://www.jaspersoft.com/bi-industry-news/smb-users-can-harness-business-intelligence"
       ]
      },
      {
       "output_type": "stream",
       "stream": "stdout",
       "text": [
        "\n",
        "Retrieved article 1597 at: https://www.jaspersoft.com/bi-industry-news/analytics-could-boost-contact-centers"
       ]
      },
      {
       "output_type": "stream",
       "stream": "stdout",
       "text": [
        "\n",
        "Retrieved article 1598 at: https://www.jaspersoft.com/bi-industry-news/supply-chain-thrives-through-bi"
       ]
      },
      {
       "output_type": "stream",
       "stream": "stdout",
       "text": [
        "\n",
        "Retrieved article 1599 at: https://www.jaspersoft.com/bi-industry-news/smbs-can-harness-data"
       ]
      },
      {
       "output_type": "stream",
       "stream": "stdout",
       "text": [
        "\n",
        "Retrieved article 1600 at: https://www.jaspersoft.com/bi-industry-news/bi-uses-could-include-sustainability"
       ]
      },
      {
       "output_type": "stream",
       "stream": "stdout",
       "text": [
        "\n",
        "Retrieved article 1601 at: https://www.jaspersoft.com/bi-industry-news/tech-insider-helps-explain-big-data-benefits"
       ]
      },
      {
       "output_type": "stream",
       "stream": "stdout",
       "text": [
        "\n",
        "Retrieved article 1602 at: https://www.jaspersoft.com/bi-industry-news/with-analytics-affordable-no-excuse-not-to-use-it"
       ]
      },
      {
       "output_type": "stream",
       "stream": "stdout",
       "text": [
        "\n",
        "Retrieved article 1603 at: https://www.jaspersoft.com/bi-industry-news/banking-industry-finds-exciting-bi-use-cases"
       ]
      },
      {
       "output_type": "stream",
       "stream": "stdout",
       "text": [
        "\n",
        "Retrieved article 1604 at: https://www.jaspersoft.com/bi-industry-news/project-managers-can-use-bi"
       ]
      },
      {
       "output_type": "stream",
       "stream": "stdout",
       "text": [
        "\n",
        "Retrieved article 1605 at: https://www.jaspersoft.com/bi-industry-news/bi-experts-push-big-vision-of-future"
       ]
      },
      {
       "output_type": "stream",
       "stream": "stdout",
       "text": [
        "\n",
        "Retrieved article 1606 at: https://www.jaspersoft.com/bi-industry-news/global-bi-needs-specific-strategies"
       ]
      },
      {
       "output_type": "stream",
       "stream": "stdout",
       "text": [
        "\n",
        "Retrieved article 1607 at: https://www.jaspersoft.com/bi-industry-news/marketing-evolves-to-support-big-data"
       ]
      },
      {
       "output_type": "stream",
       "stream": "stdout",
       "text": [
        "\n",
        "Retrieved article 1608 at: https://www.jaspersoft.com/bi-industry-news/employee-education-could-be-big-data-key"
       ]
      },
      {
       "output_type": "stream",
       "stream": "stdout",
       "text": [
        "\n",
        "Retrieved article 1609 at: https://www.jaspersoft.com/bi-industry-news/analytics-needs-plans-more-than-volume"
       ]
      },
      {
       "output_type": "stream",
       "stream": "stdout",
       "text": [
        "\n",
        "Retrieved article 1610 at: https://www.jaspersoft.com/bi-industry-news/decisions-should-be-bi-focus"
       ]
      },
      {
       "output_type": "stream",
       "stream": "stdout",
       "text": [
        "\n",
        "Retrieved article 1611 at: https://www.jaspersoft.com/bi-industry-news/repetition-and-focus-breed-bi-success"
       ]
      },
      {
       "output_type": "stream",
       "stream": "stdout",
       "text": [
        "\n",
        "Retrieved article 1612 at: https://www.jaspersoft.com/bi-industry-news/new-apps-promise-bi-future"
       ]
      },
      {
       "output_type": "stream",
       "stream": "stdout",
       "text": [
        "\n",
        "Retrieved article 1613 at: https://www.jaspersoft.com/bi-industry-news/medical-leaders-discuss-bi"
       ]
      },
      {
       "output_type": "stream",
       "stream": "stdout",
       "text": [
        "\n",
        "Retrieved article 1614 at: https://www.jaspersoft.com/bi-industry-news/in-big-data-analytics-problems-become-focus-points"
       ]
      },
      {
       "output_type": "stream",
       "stream": "stdout",
       "text": [
        "\n",
        "Retrieved article 1615 at: https://www.jaspersoft.com/bi-industry-news/data-management-and-big-data-not-integrated-yet"
       ]
      },
      {
       "output_type": "stream",
       "stream": "stdout",
       "text": [
        "\n",
        "Retrieved article 1616 at: https://www.jaspersoft.com/bi-industry-news/analytics-insights-come-from-facebook-insider"
       ]
      },
      {
       "output_type": "stream",
       "stream": "stdout",
       "text": [
        "\n",
        "Retrieved article 1617 at: https://www.jaspersoft.com/bi-industry-news/new-technology-unlocks-bi-info-sources"
       ]
      },
      {
       "output_type": "stream",
       "stream": "stdout",
       "text": [
        "\n",
        "Retrieved article 1618 at: https://www.jaspersoft.com/bi-industry-news/mobility-trends-impact-bi"
       ]
      },
      {
       "output_type": "stream",
       "stream": "stdout",
       "text": [
        "\n",
        "Retrieved article 1619 at: https://www.jaspersoft.com/bi-industry-news/future-of-security-processes-to-be-based-on-analytics"
       ]
      },
      {
       "output_type": "stream",
       "stream": "stdout",
       "text": [
        "\n",
        "Retrieved article 1620 at: https://www.jaspersoft.com/bi-industry-news/multiple-tiers-of-analysis-grant-knowledge"
       ]
      },
      {
       "output_type": "stream",
       "stream": "stdout",
       "text": [
        "\n",
        "Retrieved article 1621 at: https://www.jaspersoft.com/bi-industry-news/business-intelligence-choices-abound-in-manufacturing"
       ]
      },
      {
       "output_type": "stream",
       "stream": "stdout",
       "text": [
        "\n",
        "Retrieved article 1622 at: https://www.jaspersoft.com/bi-industry-news/buzzwords-give-way-to-bi-value"
       ]
      },
      {
       "output_type": "stream",
       "stream": "stdout",
       "text": [
        "\n",
        "Retrieved article 1623 at: https://www.jaspersoft.com/bi-industry-news/self-service-rises-in-bi-marketplace"
       ]
      },
      {
       "output_type": "stream",
       "stream": "stdout",
       "text": [
        "\n",
        "Retrieved article 1624 at: https://www.jaspersoft.com/bi-industry-news/data-stored-in-hadoop-delivers-unique-results"
       ]
      },
      {
       "output_type": "stream",
       "stream": "stdout",
       "text": [
        "\n",
        "Retrieved article 1625 at: https://www.jaspersoft.com/bi-industry-news/potential-and-needs-accompany-big-data"
       ]
      },
      {
       "output_type": "stream",
       "stream": "stdout",
       "text": [
        "\n",
        "Retrieved article 1626 at: https://www.jaspersoft.com/bi-industry-news/new-research-business-intelligence-thrives"
       ]
      },
      {
       "output_type": "stream",
       "stream": "stdout",
       "text": [
        "\n",
        "Retrieved article 1627 at: https://www.jaspersoft.com/bi-industry-news/analytic-success-comes-from-culture-shift"
       ]
      },
      {
       "output_type": "stream",
       "stream": "stdout",
       "text": [
        "\n",
        "Retrieved article 1628 at: https://www.jaspersoft.com/bi-industry-news/nosql-databases-become-key-bi-component"
       ]
      },
      {
       "output_type": "stream",
       "stream": "stdout",
       "text": [
        "\n",
        "Retrieved article 1629 at: https://www.jaspersoft.com/bi-industry-news/big-data-has-begun-to-change-enterprise"
       ]
      },
      {
       "output_type": "stream",
       "stream": "stdout",
       "text": [
        "\n",
        "Retrieved article 1630 at: https://www.jaspersoft.com/bi-industry-news/big-data-management-sometimes-overlooked"
       ]
      },
      {
       "output_type": "stream",
       "stream": "stdout",
       "text": [
        "\n",
        "Retrieved article 1631 at: https://www.jaspersoft.com/bi-industry-news/analytics-project-saves-water"
       ]
      },
      {
       "output_type": "stream",
       "stream": "stdout",
       "text": [
        "\n",
        "Retrieved article 1632 at: https://www.jaspersoft.com/bi-industry-news/big-data-summit-shows-industry-insights"
       ]
      },
      {
       "output_type": "stream",
       "stream": "stdout",
       "text": [
        "\n",
        "Retrieved article 1633 at: https://www.jaspersoft.com/bi-industry-news/business-intelligence-extends-its-reach"
       ]
      },
      {
       "output_type": "stream",
       "stream": "stdout",
       "text": [
        "\n",
        "Retrieved article 1634 at: https://www.jaspersoft.com/bi-industry-news/south-american-bi-consumption-stays-high"
       ]
      },
      {
       "output_type": "stream",
       "stream": "stdout",
       "text": [
        "\n",
        "Retrieved article 1635 at: https://www.jaspersoft.com/bi-industry-news/mobile-bis-impact-to-come-soon"
       ]
      },
      {
       "output_type": "stream",
       "stream": "stdout",
       "text": [
        "\n",
        "Retrieved article 1636 at: https://www.jaspersoft.com/bi-industry-news/certain-organizations-best-suited-to-analytics"
       ]
      },
      {
       "output_type": "stream",
       "stream": "stdout",
       "text": [
        "\n",
        "Retrieved article 1637 at: https://www.jaspersoft.com/bi-industry-news/big-data-analytics-helps-secure-loans"
       ]
      },
      {
       "output_type": "stream",
       "stream": "stdout",
       "text": [
        "\n",
        "Retrieved article 1638 at: https://www.jaspersoft.com/bi-industry-news/simplicity-helps-analytics"
       ]
      },
      {
       "output_type": "stream",
       "stream": "stdout",
       "text": [
        "\n",
        "Retrieved article 1639 at: https://www.jaspersoft.com/bi-industry-news/differences-between-big-data-analytics-and-classic-bi-measured"
       ]
      },
      {
       "output_type": "stream",
       "stream": "stdout",
       "text": [
        "\n",
        "Retrieved article 1640 at: https://www.jaspersoft.com/bi-industry-news/hr-departments-need-bi-strategies"
       ]
      },
      {
       "output_type": "stream",
       "stream": "stdout",
       "text": [
        "\n",
        "Retrieved article 1641 at: https://www.jaspersoft.com/bi-industry-news/business-intelligence-changes-procurement"
       ]
      },
      {
       "output_type": "stream",
       "stream": "stdout",
       "text": [
        "\n",
        "Retrieved article 1642 at: https://www.jaspersoft.com/bi-industry-news/cloud-bi-becomes-widespread-increases-in-complexity"
       ]
      },
      {
       "output_type": "stream",
       "stream": "stdout",
       "text": [
        "\n",
        "Retrieved article 1643 at: https://www.jaspersoft.com/bi-industry-news/cloud-proves-popular-for-bi"
       ]
      },
      {
       "output_type": "stream",
       "stream": "stdout",
       "text": [
        "\n",
        "Retrieved article 1644 at: https://www.jaspersoft.com/bi-industry-news/big-data-can-lead-to-profit-immediately"
       ]
      },
      {
       "output_type": "stream",
       "stream": "stdout",
       "text": [
        "\n",
        "Retrieved article 1645 at: https://www.jaspersoft.com/bi-industry-news/bi-shines-in-embedded-model"
       ]
      },
      {
       "output_type": "stream",
       "stream": "stdout",
       "text": [
        "\n",
        "Retrieved article 1646 at: https://www.jaspersoft.com/bi-industry-news/smbs-harness-big-data-analytics"
       ]
      },
      {
       "output_type": "stream",
       "stream": "stdout",
       "text": [
        "\n",
        "Retrieved article 1647 at: https://www.jaspersoft.com/bi-industry-news/big-data-analytics-changes-priorities"
       ]
      },
      {
       "output_type": "stream",
       "stream": "stdout",
       "text": [
        "\n",
        "Retrieved article 1648 at: https://www.jaspersoft.com/bi-industry-news/executive-praises-retails-bi-embrace"
       ]
      },
      {
       "output_type": "stream",
       "stream": "stdout",
       "text": [
        "\n",
        "Retrieved article 1649 at: https://www.jaspersoft.com/bi-industry-news/data-stored-for-compliance-can-be-bi-goldmine"
       ]
      },
      {
       "output_type": "stream",
       "stream": "stdout",
       "text": [
        "\n",
        "Retrieved article 1650 at: https://www.jaspersoft.com/bi-industry-news/current-big-data-users-will-be-future-leaders"
       ]
      },
      {
       "output_type": "stream",
       "stream": "stdout",
       "text": [
        "\n",
        "Retrieved article 1651 at: https://www.jaspersoft.com/bi-industry-news/cloud-future-includes-big-data"
       ]
      },
      {
       "output_type": "stream",
       "stream": "stdout",
       "text": [
        "\n",
        "Retrieved article 1652 at: https://www.jaspersoft.com/bi-industry-news/business-intelligence-named-as-it-spending-priority"
       ]
      },
      {
       "output_type": "stream",
       "stream": "stdout",
       "text": [
        "\n",
        "Retrieved article 1653 at: https://www.jaspersoft.com/bi-industry-news/big-data-analytics-enters-the-mainstream"
       ]
      },
      {
       "output_type": "stream",
       "stream": "stdout",
       "text": [
        "\n",
        "Retrieved article 1654 at: https://www.jaspersoft.com/bi-industry-news/clinical-labs-embrace-bi"
       ]
      },
      {
       "output_type": "stream",
       "stream": "stdout",
       "text": [
        "\n",
        "Retrieved article 1655 at: https://www.jaspersoft.com/bi-industry-news/business-intelligence-thrives-in-new-departments"
       ]
      },
      {
       "output_type": "stream",
       "stream": "stdout",
       "text": [
        "\n",
        "Retrieved article 1656 at: https://www.jaspersoft.com/bi-industry-news/call-centers-can-perform-business-intelligence"
       ]
      },
      {
       "output_type": "stream",
       "stream": "stdout",
       "text": [
        "\n",
        "Retrieved article 1657 at: https://www.jaspersoft.com/bi-industry-news/low-level-employees-know-best-in-it"
       ]
      },
      {
       "output_type": "stream",
       "stream": "stdout",
       "text": [
        "\n",
        "Retrieved article 1658 at: https://www.jaspersoft.com/bi-industry-news/high-profile-organizations-choose-hadoop-based-big-data"
       ]
      },
      {
       "output_type": "stream",
       "stream": "stdout",
       "text": [
        "\n",
        "Retrieved article 1659 at: https://www.jaspersoft.com/bi-industry-news/privacy-both-possible-and-important-in-marketing-big-data"
       ]
      },
      {
       "output_type": "stream",
       "stream": "stdout",
       "text": [
        "\n",
        "Retrieved article 1660 at: https://www.jaspersoft.com/bi-industry-news/companies-want-to-leverage-data"
       ]
      },
      {
       "output_type": "stream",
       "stream": "stdout",
       "text": [
        "\n",
        "Retrieved article 1661 at: https://www.jaspersoft.com/bi-industry-news/business-intelligence-takes-hold-in-insurance"
       ]
      },
      {
       "output_type": "stream",
       "stream": "stdout",
       "text": [
        "\n",
        "Retrieved article 1662 at: https://www.jaspersoft.com/bi-industry-news/big-data-expert-unravels-myths"
       ]
      },
      {
       "output_type": "stream",
       "stream": "stdout",
       "text": [
        "\n",
        "Retrieved article 1663 at: https://www.jaspersoft.com/bi-industry-news/databases-evolve-in-new-ways"
       ]
      },
      {
       "output_type": "stream",
       "stream": "stdout",
       "text": [
        "\n",
        "Retrieved article 1664 at: https://www.jaspersoft.com/bi-industry-news/big-data-empowers-new-industries"
       ]
      },
      {
       "output_type": "stream",
       "stream": "stdout",
       "text": [
        "\n",
        "Retrieved article 1665 at: https://www.jaspersoft.com/bi-industry-news/colleges-could-boost-bi-workforce"
       ]
      },
      {
       "output_type": "stream",
       "stream": "stdout",
       "text": [
        "\n",
        "Retrieved article 1666 at: https://www.jaspersoft.com/bi-industry-news/hadoop-usage-cases-explained"
       ]
      },
      {
       "output_type": "stream",
       "stream": "stdout",
       "text": [
        "\n",
        "Retrieved article 1667 at: https://www.jaspersoft.com/bi-industry-news/microsoft-excel-still-a-business-intelligence-scourge"
       ]
      },
      {
       "output_type": "stream",
       "stream": "stdout",
       "text": [
        "\n",
        "Retrieved article 1668 at: https://www.jaspersoft.com/bi-industry-news/big-data-becomes-economic-asset"
       ]
      },
      {
       "output_type": "stream",
       "stream": "stdout",
       "text": [
        "\n",
        "Retrieved article 1669 at: https://www.jaspersoft.com/bi-industry-news/three-key-sectors-embrace-analytics"
       ]
      },
      {
       "output_type": "stream",
       "stream": "stdout",
       "text": [
        "\n",
        "Retrieved article 1670 at: https://www.jaspersoft.com/bi-industry-news/finding-a-department-for-bi-use"
       ]
      },
      {
       "output_type": "stream",
       "stream": "stdout",
       "text": [
        "\n",
        "Retrieved article 1671 at: https://www.jaspersoft.com/bi-industry-news/business-intelligence-aligns-with-tech-trends"
       ]
      },
      {
       "output_type": "stream",
       "stream": "stdout",
       "text": [
        "\n",
        "Retrieved article 1672 at: https://www.jaspersoft.com/bi-industry-news/integrating-bi-data-must-be-done-carefully"
       ]
      },
      {
       "output_type": "stream",
       "stream": "stdout",
       "text": [
        "\n",
        "Retrieved article 1673 at: https://www.jaspersoft.com/bi-industry-news/big-data-analytics-leads-to-decisions"
       ]
      },
      {
       "output_type": "stream",
       "stream": "stdout",
       "text": [
        "\n",
        "Retrieved article 1674 at: https://www.jaspersoft.com/bi-industry-news/retail-bi-guides-expansion-plans"
       ]
      },
      {
       "output_type": "stream",
       "stream": "stdout",
       "text": [
        "\n",
        "Retrieved article 1675 at: https://www.jaspersoft.com/bi-industry-news/bi-and-erp-go-well-together"
       ]
      },
      {
       "output_type": "stream",
       "stream": "stdout",
       "text": [
        "\n",
        "Retrieved article 1676 at: https://www.jaspersoft.com/bi-industry-news/multifaceted-business-problems-call-for-diverse-bi"
       ]
      },
      {
       "output_type": "stream",
       "stream": "stdout",
       "text": [
        "\n",
        "Retrieved article 1677 at: https://www.jaspersoft.com/bi-industry-news/big-data-index-shows-acute-interest"
       ]
      },
      {
       "output_type": "stream",
       "stream": "stdout",
       "text": [
        "\n",
        "Retrieved article 1678 at: https://www.jaspersoft.com/bi-industry-news/info-security-and-data-management-come-together"
       ]
      },
      {
       "output_type": "stream",
       "stream": "stdout",
       "text": [
        "\n",
        "Retrieved article 1679 at: https://www.jaspersoft.com/bi-industry-news/analytics-to-become-part-of-management-tools"
       ]
      },
      {
       "output_type": "stream",
       "stream": "stdout",
       "text": [
        "\n",
        "Retrieved article 1680 at: https://www.jaspersoft.com/bi-industry-news/utilities-contend-with-big-data"
       ]
      },
      {
       "output_type": "stream",
       "stream": "stdout",
       "text": [
        "\n",
        "Retrieved article 1681 at: https://www.jaspersoft.com/bi-industry-news/big-data-makes-mass-customization-real"
       ]
      },
      {
       "output_type": "stream",
       "stream": "stdout",
       "text": [
        "\n",
        "Retrieved article 1682 at: https://www.jaspersoft.com/bi-industry-news/marketers-seize-upon-big-data"
       ]
      },
      {
       "output_type": "stream",
       "stream": "stdout",
       "text": [
        "\n",
        "Retrieved article 1683 at: https://www.jaspersoft.com/bi-industry-news/sel-service-bi-big-data-on-the-horizon"
       ]
      },
      {
       "output_type": "stream",
       "stream": "stdout",
       "text": [
        "\n",
        "Retrieved article 1684 at: https://www.jaspersoft.com/bi-industry-news/new-wave-of-bi-tools-opens-new-possibilities"
       ]
      },
      {
       "output_type": "stream",
       "stream": "stdout",
       "text": [
        "\n",
        "Retrieved article 1685 at: https://www.jaspersoft.com/bi-industry-news/marketers-want-support-from-data-data-scientists"
       ]
      },
      {
       "output_type": "stream",
       "stream": "stdout",
       "text": [
        "\n",
        "Retrieved article 1686 at: https://www.jaspersoft.com/bi-industry-news/self-service-bi-enters-spotlight"
       ]
      },
      {
       "output_type": "stream",
       "stream": "stdout",
       "text": [
        "\n",
        "Retrieved article 1687 at: https://www.jaspersoft.com/bi-industry-news/advanced-analytics-moves-into-healthcare"
       ]
      },
      {
       "output_type": "stream",
       "stream": "stdout",
       "text": [
        "\n",
        "Retrieved article 1688 at: https://www.jaspersoft.com/bi-industry-news/return-on-investment-from-big-data"
       ]
      },
      {
       "output_type": "stream",
       "stream": "stdout",
       "text": [
        "\n",
        "Retrieved article 1689 at: https://www.jaspersoft.com/bi-industry-news/buildings-test-big-data-tech"
       ]
      },
      {
       "output_type": "stream",
       "stream": "stdout",
       "text": [
        "\n",
        "Retrieved article 1690 at: https://www.jaspersoft.com/bi-industry-news/diverse-experience-forms-successful-bi-teams"
       ]
      },
      {
       "output_type": "stream",
       "stream": "stdout",
       "text": [
        "\n",
        "Retrieved article 1691 at: https://www.jaspersoft.com/bi-industry-news/analytics-professionals-improve-with-storytelling-skills"
       ]
      },
      {
       "output_type": "stream",
       "stream": "stdout",
       "text": [
        "\n",
        "Retrieved article 1692 at: https://www.jaspersoft.com/bi-industry-news/business-intelligence-sees-new-usage-cases"
       ]
      },
      {
       "output_type": "stream",
       "stream": "stdout",
       "text": [
        "\n",
        "Retrieved article 1693 at: https://www.jaspersoft.com/bi-industry-news/dashboards-help-the-supply-chain"
       ]
      },
      {
       "output_type": "stream",
       "stream": "stdout",
       "text": [
        "\n",
        "Retrieved article 1694 at: https://www.jaspersoft.com/bi-industry-news/analytics-desired-at-us-navy"
       ]
      },
      {
       "output_type": "stream",
       "stream": "stdout",
       "text": [
        "\n",
        "Retrieved article 1695 at: https://www.jaspersoft.com/bi-industry-news/big-data-to-power-the-olympics"
       ]
      },
      {
       "output_type": "stream",
       "stream": "stdout",
       "text": [
        "\n",
        "Retrieved article 1696 at: https://www.jaspersoft.com/bi-industry-news/big-data-dominated-by-open-source"
       ]
      },
      {
       "output_type": "stream",
       "stream": "stdout",
       "text": [
        "\n",
        "Retrieved article 1697 at: https://www.jaspersoft.com/bi-industry-news/time-has-come-for-insurance-bi-upgrades"
       ]
      },
      {
       "output_type": "stream",
       "stream": "stdout",
       "text": [
        "\n",
        "Retrieved article 1698 at: https://www.jaspersoft.com/bi-industry-news/bankers-want-big-data-analytics"
       ]
      },
      {
       "output_type": "stream",
       "stream": "stdout",
       "text": [
        "\n",
        "Retrieved article 1699 at: https://www.jaspersoft.com/bi-industry-news/students-master-bi-while-in-school"
       ]
      },
      {
       "output_type": "stream",
       "stream": "stdout",
       "text": [
        "\n",
        "Retrieved article 1700 at: https://www.jaspersoft.com/bi-industry-news/advanced-organizational-structures-benefit-bi"
       ]
      },
      {
       "output_type": "stream",
       "stream": "stdout",
       "text": [
        "\n",
        "Retrieved article 1701 at: https://www.jaspersoft.com/bi-industry-news/experts-define-big-datas-new-rules"
       ]
      },
      {
       "output_type": "stream",
       "stream": "stdout",
       "text": [
        "\n",
        "Retrieved article 1702 at: https://www.jaspersoft.com/bi-industry-news/australian-companies-want-bi-talent"
       ]
      },
      {
       "output_type": "stream",
       "stream": "stdout",
       "text": [
        "\n",
        "Retrieved article 1703 at: https://www.jaspersoft.com/bi-industry-news/cfo-priorities-include-analytics"
       ]
      },
      {
       "output_type": "stream",
       "stream": "stdout",
       "text": [
        "\n",
        "Retrieved article 1704 at: https://www.jaspersoft.com/bi-industry-news/bi-systems-generate-customer-profiles"
       ]
      },
      {
       "output_type": "stream",
       "stream": "stdout",
       "text": [
        "\n",
        "Retrieved article 1705 at: https://www.jaspersoft.com/bi-industry-news/business-intelligence-spreads-through-organizations"
       ]
      },
      {
       "output_type": "stream",
       "stream": "stdout",
       "text": [
        "\n",
        "Retrieved article 1706 at: https://www.jaspersoft.com/bi-industry-news/open-source-software-becomes-it-focus"
       ]
      },
      {
       "output_type": "stream",
       "stream": "stdout",
       "text": [
        "\n",
        "Retrieved article 1707 at: https://www.jaspersoft.com/bi-industry-news/radiology-practices-find-efficiency-in-analytics"
       ]
      },
      {
       "output_type": "stream",
       "stream": "stdout",
       "text": [
        "\n",
        "Retrieved article 1708 at: https://www.jaspersoft.com/bi-industry-news/salary-bump-on-the-horizon-for-bi-professionals"
       ]
      },
      {
       "output_type": "stream",
       "stream": "stdout",
       "text": [
        "\n",
        "Retrieved article 1709 at: https://www.jaspersoft.com/bi-industry-news/self-service-bi-fits-collaborative-trends"
       ]
      },
      {
       "output_type": "stream",
       "stream": "stdout",
       "text": [
        "\n",
        "Retrieved article 1710 at: https://www.jaspersoft.com/bi-industry-news/embedding-bi-revolutionizes-crm"
       ]
      },
      {
       "output_type": "stream",
       "stream": "stdout",
       "text": [
        "\n",
        "Retrieved article 1711 at: https://www.jaspersoft.com/bi-industry-news/business-intelligence-processes-evolve"
       ]
      },
      {
       "output_type": "stream",
       "stream": "stdout",
       "text": [
        "\n",
        "Retrieved article 1712 at: https://www.jaspersoft.com/bi-industry-news/online-game-makers-provide-bi-example"
       ]
      },
      {
       "output_type": "stream",
       "stream": "stdout",
       "text": [
        "\n",
        "Retrieved article 1713 at: https://www.jaspersoft.com/bi-industry-news/hadoop-becomes-business-cornerstone"
       ]
      },
      {
       "output_type": "stream",
       "stream": "stdout",
       "text": [
        "\n",
        "Retrieved article 1714 at: https://www.jaspersoft.com/bi-industry-news/social-media-data-can-help-the-knowledgeable"
       ]
      },
      {
       "output_type": "stream",
       "stream": "stdout",
       "text": [
        "\n",
        "Retrieved article 1715 at: https://www.jaspersoft.com/bi-industry-news/expert-big-data-solutions-new-problems-not"
       ]
      },
      {
       "output_type": "stream",
       "stream": "stdout",
       "text": [
        "\n",
        "Retrieved article 1716 at: https://www.jaspersoft.com/bi-industry-news/hospitals-find-novel-answers-through-analytics"
       ]
      },
      {
       "output_type": "stream",
       "stream": "stdout",
       "text": [
        "\n",
        "Retrieved article 1717 at: https://www.jaspersoft.com/bi-industry-news/in-los-angeles-bi-processes-battle-fraud"
       ]
      },
      {
       "output_type": "stream",
       "stream": "stdout",
       "text": [
        "\n",
        "Retrieved article 1718 at: https://www.jaspersoft.com/bi-industry-news/analytics-speeds-increase-rapidly"
       ]
      },
      {
       "output_type": "stream",
       "stream": "stdout",
       "text": [
        "\n",
        "Retrieved article 1719 at: https://www.jaspersoft.com/bi-industry-news/social-media-valued-for-insight"
       ]
      },
      {
       "output_type": "stream",
       "stream": "stdout",
       "text": [
        "\n",
        "Retrieved article 1720 at: https://www.jaspersoft.com/bi-industry-news/keeping-information-organized-helps-bi"
       ]
      },
      {
       "output_type": "stream",
       "stream": "stdout",
       "text": [
        "\n",
        "Retrieved article 1721 at: https://www.jaspersoft.com/bi-industry-news/gartner-researcher-shares-analytic-insights"
       ]
      },
      {
       "output_type": "stream",
       "stream": "stdout",
       "text": [
        "\n",
        "Retrieved article 1722 at: https://www.jaspersoft.com/bi-industry-news/tips-offered-to-avoid-bi-pitfalls"
       ]
      },
      {
       "output_type": "stream",
       "stream": "stdout",
       "text": [
        "\n",
        "Retrieved article 1723 at: https://www.jaspersoft.com/bi-industry-news/business-intelligence-techniques-help-drill-for-oil"
       ]
      },
      {
       "output_type": "stream",
       "stream": "stdout",
       "text": [
        "\n",
        "Retrieved article 1724 at: https://www.jaspersoft.com/bi-industry-news/new-nyu-campus-to-train-business-intelligence-professionals"
       ]
      },
      {
       "output_type": "stream",
       "stream": "stdout",
       "text": [
        "\n",
        "Retrieved article 1725 at: https://www.jaspersoft.com/bi-industry-news/open-source-bi-scores-award"
       ]
      },
      {
       "output_type": "stream",
       "stream": "stdout",
       "text": [
        "\n",
        "Retrieved article 1726 at: https://www.jaspersoft.com/bi-industry-news/business-intelligence-transforms-retail-supply"
       ]
      },
      {
       "output_type": "stream",
       "stream": "stdout",
       "text": [
        "\n",
        "Retrieved article 1727 at: https://www.jaspersoft.com/bi-industry-news/big-data-requisite-new-knowledge-needed"
       ]
      },
      {
       "output_type": "stream",
       "stream": "stdout",
       "text": [
        "\n",
        "Retrieved article 1728 at: https://www.jaspersoft.com/bi-industry-news/careful-businesses-manage-bi-spending"
       ]
      },
      {
       "output_type": "stream",
       "stream": "stdout",
       "text": [
        "\n",
        "Retrieved article 1729 at: https://www.jaspersoft.com/bi-industry-news/companies-see-opportunity-in-big-data"
       ]
      },
      {
       "output_type": "stream",
       "stream": "stdout",
       "text": [
        "\n",
        "Retrieved article 1730 at: https://www.jaspersoft.com/bi-industry-news/convention-to-explore-bi-future"
       ]
      },
      {
       "output_type": "stream",
       "stream": "stdout",
       "text": [
        "\n",
        "Retrieved article 1731 at: https://www.jaspersoft.com/bi-industry-news/bi-experts-explain-adding-mobility"
       ]
      },
      {
       "output_type": "stream",
       "stream": "stdout",
       "text": [
        "\n",
        "Retrieved article 1732 at: https://www.jaspersoft.com/bi-industry-news/australia-moves-into-big-data-space"
       ]
      },
      {
       "output_type": "stream",
       "stream": "stdout",
       "text": [
        "\n",
        "Retrieved article 1733 at: https://www.jaspersoft.com/bi-industry-news/experts-offer-tips-for-effective-big-data-analytics"
       ]
      },
      {
       "output_type": "stream",
       "stream": "stdout",
       "text": [
        "\n",
        "Retrieved article 1734 at: https://www.jaspersoft.com/bi-industry-news/bis-endgame-involves-smarter-companies"
       ]
      },
      {
       "output_type": "stream",
       "stream": "stdout",
       "text": [
        "\n",
        "Retrieved article 1735 at: https://www.jaspersoft.com/bi-industry-news/miller-big-data-is-bad-terminology-useful-technology"
       ]
      },
      {
       "output_type": "stream",
       "stream": "stdout",
       "text": [
        "\n",
        "Retrieved article 1736 at: https://www.jaspersoft.com/bi-industry-news/analyst-predicts-future-of-bi"
       ]
      },
      {
       "output_type": "stream",
       "stream": "stdout",
       "text": [
        "\n",
        "Retrieved article 1737 at: https://www.jaspersoft.com/bi-industry-news/buoyed-by-cost-benefits-open-source-bi-takes-india"
       ]
      },
      {
       "output_type": "stream",
       "stream": "stdout",
       "text": [
        "\n",
        "Retrieved article 1738 at: https://www.jaspersoft.com/bi-industry-news/retail-users-increasingly-rely-on-bi"
       ]
      },
      {
       "output_type": "stream",
       "stream": "stdout",
       "text": [
        "\n",
        "Retrieved article 1739 at: https://www.jaspersoft.com/bi-industry-news/new-bi-enabled-products-aid-businesses"
       ]
      },
      {
       "output_type": "stream",
       "stream": "stdout",
       "text": [
        "\n",
        "Retrieved article 1740 at: https://www.jaspersoft.com/bi-industry-news/report-big-data-still-underused"
       ]
      },
      {
       "output_type": "stream",
       "stream": "stdout",
       "text": [
        "\n",
        "Retrieved article 1741 at: https://www.jaspersoft.com/bi-industry-news/big-data-analytics-drives-diverse-fields"
       ]
      },
      {
       "output_type": "stream",
       "stream": "stdout",
       "text": [
        "\n",
        "Retrieved article 1742 at: https://www.jaspersoft.com/bi-industry-news/medium-companies-succeed-with-business-intelligence"
       ]
      },
      {
       "output_type": "stream",
       "stream": "stdout",
       "text": [
        "\n",
        "Retrieved article 1743 at: https://www.jaspersoft.com/bi-industry-news/research-half-of-healthcare-organizations-want-more-bi"
       ]
      },
      {
       "output_type": "stream",
       "stream": "stdout",
       "text": [
        "\n",
        "Retrieved article 1744 at: https://www.jaspersoft.com/bi-industry-news/medium-businesses-want-big-data-analytics"
       ]
      },
      {
       "output_type": "stream",
       "stream": "stdout",
       "text": [
        "\n",
        "Retrieved article 1745 at: https://www.jaspersoft.com/bi-industry-news/advanced-bi-gets-showcase-in-rugby"
       ]
      },
      {
       "output_type": "stream",
       "stream": "stdout",
       "text": [
        "\n",
        "Retrieved article 1746 at: https://www.jaspersoft.com/bi-industry-news/noa-conference-details-bi-for-sourcing"
       ]
      },
      {
       "output_type": "stream",
       "stream": "stdout",
       "text": [
        "\n",
        "Retrieved article 1747 at: https://www.jaspersoft.com/bi-industry-news/new-survey-supports-bi-as-moneymaker"
       ]
      },
      {
       "output_type": "stream",
       "stream": "stdout",
       "text": [
        "\n",
        "Retrieved article 1748 at: https://www.jaspersoft.com/bi-industry-news/embedded-bi-adoption-explained"
       ]
      },
      {
       "output_type": "stream",
       "stream": "stdout",
       "text": [
        "\n",
        "Retrieved article 1749 at: https://www.jaspersoft.com/bi-industry-news/government-agencies-see-value-of-bi"
       ]
      },
      {
       "output_type": "stream",
       "stream": "stdout",
       "text": [
        "\n",
        "Retrieved article 1750 at: https://www.jaspersoft.com/bi-industry-news/gartner-analysts-describe-mobile-bis-rise"
       ]
      },
      {
       "output_type": "stream",
       "stream": "stdout",
       "text": [
        "\n",
        "Retrieved article 1751 at: https://www.jaspersoft.com/bi-industry-news/simple-embedded-bi-shines"
       ]
      },
      {
       "output_type": "stream",
       "stream": "stdout",
       "text": [
        "\n",
        "Retrieved article 1752 at: https://www.jaspersoft.com/bi-industry-news/new-technology-environment-favors-big-data"
       ]
      },
      {
       "output_type": "stream",
       "stream": "stdout",
       "text": [
        "\n",
        "Retrieved article 1753 at: https://www.jaspersoft.com/bi-industry-news/retail-test-cases-prove-bi-benefits"
       ]
      },
      {
       "output_type": "stream",
       "stream": "stdout",
       "text": [
        "\n",
        "Retrieved article 1754 at: https://www.jaspersoft.com/bi-industry-news/data-enables-advanced-healthcare-projects"
       ]
      },
      {
       "output_type": "stream",
       "stream": "stdout",
       "text": [
        "\n",
        "Retrieved article 1755 at: https://www.jaspersoft.com/bi-industry-news/embedding-bi-key-to-predictive-analytics"
       ]
      },
      {
       "output_type": "stream",
       "stream": "stdout",
       "text": [
        "\n",
        "Retrieved article 1756 at: https://www.jaspersoft.com/bi-industry-news/business-intelligence-showcased-in-sports"
       ]
      },
      {
       "output_type": "stream",
       "stream": "stdout",
       "text": [
        "\n",
        "Retrieved article 1757 at: https://www.jaspersoft.com/bi-industry-news/research-firm-predicts-innovative-bi"
       ]
      },
      {
       "output_type": "stream",
       "stream": "stdout",
       "text": [
        "\n",
        "Retrieved article 1758 at: https://www.jaspersoft.com/bi-industry-news/experts-assess-big-data-market"
       ]
      },
      {
       "output_type": "stream",
       "stream": "stdout",
       "text": [
        "\n",
        "Retrieved article 1759 at: https://www.jaspersoft.com/bi-industry-news/self-service-empowers-european-bi-use"
       ]
      },
      {
       "output_type": "stream",
       "stream": "stdout",
       "text": [
        "\n",
        "Retrieved article 1760 at: https://www.jaspersoft.com/bi-industry-news/gartner-analyst-millenials-in-workforce-will-shape-bi-market"
       ]
      },
      {
       "output_type": "stream",
       "stream": "stdout",
       "text": [
        "\n",
        "Retrieved article 1761 at: https://www.jaspersoft.com/bi-industry-news/getting-data-faster-helps-bi"
       ]
      },
      {
       "output_type": "stream",
       "stream": "stdout",
       "text": [
        "\n",
        "Retrieved article 1762 at: https://www.jaspersoft.com/bi-industry-news/popular-bi-system-adapted-for-amazon-web-services"
       ]
      },
      {
       "output_type": "stream",
       "stream": "stdout",
       "text": [
        "\n",
        "Retrieved article 1763 at: https://www.jaspersoft.com/bi-industry-news/in-wake-of-big-data-analytics-cios-seek-large-scale-business-changes"
       ]
      },
      {
       "output_type": "stream",
       "stream": "stdout",
       "text": [
        "\n",
        "Retrieved article 1764 at: https://www.jaspersoft.com/bi-industry-news/new-data-sources-empower-healthcare-bi"
       ]
      },
      {
       "output_type": "stream",
       "stream": "stdout",
       "text": [
        "\n",
        "Retrieved article 1765 at: https://www.jaspersoft.com/bi-industry-news/big-data-can-transcend-hype-help-many-fields"
       ]
      },
      {
       "output_type": "stream",
       "stream": "stdout",
       "text": [
        "\n",
        "Retrieved article 1766 at: https://www.jaspersoft.com/bi-industry-news/mobile-bi-attractive-to-industrial-sector"
       ]
      },
      {
       "output_type": "stream",
       "stream": "stdout",
       "text": [
        "\n",
        "Retrieved article 1767 at: https://www.jaspersoft.com/bi-industry-news/hr-technology-evolves-incorporates-bi"
       ]
      },
      {
       "output_type": "stream",
       "stream": "stdout",
       "text": [
        "\n",
        "Retrieved article 1768 at: https://www.jaspersoft.com/bi-industry-news/the-workplace-becomes-app-based"
       ]
      },
      {
       "output_type": "stream",
       "stream": "stdout",
       "text": [
        "\n",
        "Retrieved article 1769 at: https://www.jaspersoft.com/bi-industry-news/business-intelligence-forecasting-holds-tangible-value"
       ]
      },
      {
       "output_type": "stream",
       "stream": "stdout",
       "text": [
        "\n",
        "Retrieved article 1770 at: https://www.jaspersoft.com/bi-industry-news/healthcare-industry-ready-for-better-analytics"
       ]
      },
      {
       "output_type": "stream",
       "stream": "stdout",
       "text": [
        "\n",
        "Retrieved article 1771 at: https://www.jaspersoft.com/bi-industry-news/sports-teams-make-heavy-use-of-business-intelligence"
       ]
      },
      {
       "output_type": "stream",
       "stream": "stdout",
       "text": [
        "\n",
        "Retrieved article 1772 at: https://www.jaspersoft.com/bi-industry-news/self-service-bi-boosts-bank-business"
       ]
      },
      {
       "output_type": "stream",
       "stream": "stdout",
       "text": [
        "\n",
        "Retrieved article 1773 at: https://www.jaspersoft.com/bi-industry-news/small-to-medium-businesses-use-bi-to-boost-efficiency"
       ]
      },
      {
       "output_type": "stream",
       "stream": "stdout",
       "text": [
        "\n",
        "Retrieved article 1774 at: https://www.jaspersoft.com/bi-industry-news/clients-expect-more-from-modern-business-intelligence"
       ]
      },
      {
       "output_type": "stream",
       "stream": "stdout",
       "text": [
        "\n",
        "Retrieved article 1775 at: https://www.jaspersoft.com/bi-industry-news/mobile-bi-rises-to-prominence"
       ]
      },
      {
       "output_type": "stream",
       "stream": "stdout",
       "text": [
        "\n",
        "Retrieved article 1776 at: https://www.jaspersoft.com/bi-industry-news/big-data-definition-emerges-evolves"
       ]
      },
      {
       "output_type": "stream",
       "stream": "stdout",
       "text": [
        "\n",
        "Retrieved article 1777 at: https://www.jaspersoft.com/bi-industry-news/restaurant-enhances-operations-with-bi"
       ]
      },
      {
       "output_type": "stream",
       "stream": "stdout",
       "text": [
        "\n",
        "Retrieved article 1778 at: https://www.jaspersoft.com/bi-industry-news/mobile-bi-on-the-rise-in-the-uk"
       ]
      },
      {
       "output_type": "stream",
       "stream": "stdout",
       "text": [
        "\n",
        "Retrieved article 1779 at: https://www.jaspersoft.com/bi-industry-news/industry-and-government-make-big-data-progress"
       ]
      },
      {
       "output_type": "stream",
       "stream": "stdout",
       "text": [
        "\n",
        "Retrieved article 1780 at: https://www.jaspersoft.com/bi-industry-news/big-data-could-answer-diverse-questions"
       ]
      },
      {
       "output_type": "stream",
       "stream": "stdout",
       "text": [
        "\n",
        "Retrieved article 1781 at: https://www.jaspersoft.com/bi-industry-news/manufacturing-firms-seek-cloud-bi"
       ]
      },
      {
       "output_type": "stream",
       "stream": "stdout",
       "text": [
        "\n",
        "Retrieved article 1782 at: https://www.jaspersoft.com/bi-industry-news/bi-projects-benefit-from-open-minded-approach"
       ]
      },
      {
       "output_type": "stream",
       "stream": "stdout",
       "text": [
        "\n",
        "Retrieved article 1783 at: https://www.jaspersoft.com/bi-industry-news/advanced-bi-needs-advanced-infrastructure"
       ]
      },
      {
       "output_type": "stream",
       "stream": "stdout",
       "text": [
        "\n",
        "Retrieved article 1784 at: https://www.jaspersoft.com/bi-industry-news/degree-in-bi-highlights-technologys-rise"
       ]
      },
      {
       "output_type": "stream",
       "stream": "stdout",
       "text": [
        "\n",
        "Retrieved article 1785 at: https://www.jaspersoft.com/bi-industry-news/data-warehouse-consolidation-gives-a-bi-boost"
       ]
      },
      {
       "output_type": "stream",
       "stream": "stdout",
       "text": [
        "\n",
        "Retrieved article 1786 at: https://www.jaspersoft.com/bi-industry-news/analytics-technology-finds-use-in-medicine"
       ]
      },
      {
       "output_type": "stream",
       "stream": "stdout",
       "text": [
        "\n",
        "Retrieved article 1787 at: https://www.jaspersoft.com/bi-industry-news/survey-big-data-to-transform-uk"
       ]
      },
      {
       "output_type": "stream",
       "stream": "stdout",
       "text": [
        "\n",
        "Retrieved article 1788 at: https://www.jaspersoft.com/bi-industry-news/bi-summit-urges-back-to-basics-programs"
       ]
      },
      {
       "output_type": "stream",
       "stream": "stdout",
       "text": [
        "\n",
        "Retrieved article 1789 at: https://www.jaspersoft.com/bi-industry-news/australian-it-market-places-high-value-on-bi"
       ]
      },
      {
       "output_type": "stream",
       "stream": "stdout",
       "text": [
        "\n",
        "Retrieved article 1790 at: https://www.jaspersoft.com/bi-industry-news/big-data-shows-new-insights-in-travel"
       ]
      },
      {
       "output_type": "stream",
       "stream": "stdout",
       "text": [
        "\n",
        "Retrieved article 1791 at: https://www.jaspersoft.com/bi-industry-news/analytics-firm-strengthens-offerings-through-partnership"
       ]
      },
      {
       "output_type": "stream",
       "stream": "stdout",
       "text": [
        "\n",
        "Retrieved article 1792 at: https://www.jaspersoft.com/bi-industry-news/new-big-data-source-suggested-in-maps"
       ]
      },
      {
       "output_type": "stream",
       "stream": "stdout",
       "text": [
        "\n",
        "Retrieved article 1793 at: https://www.jaspersoft.com/bi-industry-news/bi-future-devoted-to-high-tech-solutions"
       ]
      },
      {
       "output_type": "stream",
       "stream": "stdout",
       "text": [
        "\n",
        "Retrieved article 1794 at: https://www.jaspersoft.com/bi-industry-news/software-partnership-extends-big-data-functionality"
       ]
      },
      {
       "output_type": "stream",
       "stream": "stdout",
       "text": [
        "\n",
        "Retrieved article 1795 at: https://www.jaspersoft.com/bi-industry-news/enterprise-use-spurs-tablet-growth"
       ]
      },
      {
       "output_type": "stream",
       "stream": "stdout",
       "text": [
        "\n",
        "Retrieved article 1796 at: https://www.jaspersoft.com/bi-industry-news/federal-government-investigates-big-data"
       ]
      },
      {
       "output_type": "stream",
       "stream": "stdout",
       "text": [
        "\n",
        "Retrieved article 1797 at: https://www.jaspersoft.com/bi-industry-news/real-world-data-skills-seen-as-big-data-difference-maker"
       ]
      },
      {
       "output_type": "stream",
       "stream": "stdout",
       "text": [
        "\n",
        "Retrieved article 1798 at: https://www.jaspersoft.com/bi-industry-news/customer-insight-cited-as-retail-advantage"
       ]
      },
      {
       "output_type": "stream",
       "stream": "stdout",
       "text": [
        "\n",
        "Retrieved article 1799 at: https://www.jaspersoft.com/bi-industry-news/experts-extend-smb-business-intelligence-strategies"
       ]
      },
      {
       "output_type": "stream",
       "stream": "stdout",
       "text": [
        "\n",
        "Retrieved article 1800 at: https://www.jaspersoft.com/bi-industry-news/new-big-data-analytics-projects-attend-sxsw"
       ]
      },
      {
       "output_type": "stream",
       "stream": "stdout",
       "text": [
        "\n",
        "Retrieved article 1801 at: https://www.jaspersoft.com/bi-industry-news/data-warehouse-ceo-observes-big-datas-rise"
       ]
      },
      {
       "output_type": "stream",
       "stream": "stdout",
       "text": [
        "\n",
        "Retrieved article 1802 at: https://www.jaspersoft.com/bi-industry-news/companies-eager-to-retain-bi-talent"
       ]
      },
      {
       "output_type": "stream",
       "stream": "stdout",
       "text": [
        "\n",
        "Retrieved article 1803 at: https://www.jaspersoft.com/bi-industry-news/software-as-a-service-rises-dramatically-worldwide"
       ]
      },
      {
       "output_type": "stream",
       "stream": "stdout",
       "text": [
        "\n",
        "Retrieved article 1804 at: https://www.jaspersoft.com/bi-industry-news/survey-finds-predictive-analytics-needs-training"
       ]
      },
      {
       "output_type": "stream",
       "stream": "stdout",
       "text": [
        "\n",
        "Retrieved article 1805 at: https://www.jaspersoft.com/bi-industry-news/data-warehousing-evolves-to-accommodate-big-data"
       ]
      },
      {
       "output_type": "stream",
       "stream": "stdout",
       "text": [
        "\n",
        "Retrieved article 1806 at: https://www.jaspersoft.com/bi-industry-news/uncertain-manufacturing-conditions-bested-by-bi"
       ]
      },
      {
       "output_type": "stream",
       "stream": "stdout",
       "text": [
        "\n",
        "Retrieved article 1807 at: https://www.jaspersoft.com/bi-industry-news/business-intelligence-to-aid-marketing-firm-growth"
       ]
      },
      {
       "output_type": "stream",
       "stream": "stdout",
       "text": [
        "\n",
        "Retrieved article 1808 at: https://www.jaspersoft.com/bi-industry-news/tech-exec-treat-big-data-like-a-puzzle"
       ]
      },
      {
       "output_type": "stream",
       "stream": "stdout",
       "text": [
        "\n",
        "Retrieved article 1809 at: https://www.jaspersoft.com/bi-industry-news/oil-and-gas-companies-invest-in-it"
       ]
      },
      {
       "output_type": "stream",
       "stream": "stdout",
       "text": [
        "\n",
        "Retrieved article 1810 at: https://www.jaspersoft.com/bi-industry-news/open-source-bi-boosts-city-planning"
       ]
      },
      {
       "output_type": "stream",
       "stream": "stdout",
       "text": [
        "\n",
        "Retrieved article 1811 at: https://www.jaspersoft.com/bi-industry-news/hadoop-integration-affords-new-business-possibilities"
       ]
      },
      {
       "output_type": "stream",
       "stream": "stdout",
       "text": [
        "\n",
        "Retrieved article 1812 at: https://www.jaspersoft.com/bi-industry-news/big-data-systems-lead-to-need-for-real-time-data"
       ]
      },
      {
       "output_type": "stream",
       "stream": "stdout",
       "text": [
        "\n",
        "Retrieved article 1813 at: https://www.jaspersoft.com/bi-industry-news/security-providers-arm-themselves-with-big-data"
       ]
      },
      {
       "output_type": "stream",
       "stream": "stdout",
       "text": [
        "\n",
        "Retrieved article 1814 at: https://www.jaspersoft.com/bi-industry-news/hadoop-spawns-new-strategies"
       ]
      },
      {
       "output_type": "stream",
       "stream": "stdout",
       "text": [
        "\n",
        "Retrieved article 1815 at: https://www.jaspersoft.com/bi-industry-news/cloud-based-bi-provides-unique-properties"
       ]
      },
      {
       "output_type": "stream",
       "stream": "stdout",
       "text": [
        "\n",
        "Retrieved article 1816 at: https://www.jaspersoft.com/bi-industry-news/survey-cloud-will-grow-rapidly-big-data-social-and-mobile-key"
       ]
      },
      {
       "output_type": "stream",
       "stream": "stdout",
       "text": [
        "\n",
        "Retrieved article 1817 at: https://www.jaspersoft.com/bi-industry-news/saas-and-cloud-entice-companies-of-all-sizes"
       ]
      },
      {
       "output_type": "stream",
       "stream": "stdout",
       "text": [
        "\n",
        "Retrieved article 1818 at: https://www.jaspersoft.com/bi-industry-news/new-roles-new-paths-to-success-with-big-data-analytics"
       ]
      },
      {
       "output_type": "stream",
       "stream": "stdout",
       "text": [
        "\n",
        "Retrieved article 1819 at: https://www.jaspersoft.com/bi-industry-news/business-intelligence-boosts-education"
       ]
      },
      {
       "output_type": "stream",
       "stream": "stdout",
       "text": [
        "\n",
        "Retrieved article 1820 at: https://www.jaspersoft.com/bi-industry-news/soccer-team-gathers-business-intelligence-data"
       ]
      },
      {
       "output_type": "stream",
       "stream": "stdout",
       "text": [
        "\n",
        "Retrieved article 1821 at: https://www.jaspersoft.com/bi-industry-news/companies-prepare-for-big-data"
       ]
      },
      {
       "output_type": "stream",
       "stream": "stdout",
       "text": [
        "\n",
        "Retrieved article 1822 at: https://www.jaspersoft.com/bi-industry-news/retail-champion-outlines-bis-role-in-the-warehouse"
       ]
      },
      {
       "output_type": "stream",
       "stream": "stdout",
       "text": [
        "\n",
        "Retrieved article 1823 at: https://www.jaspersoft.com/bi-industry-news/overriding-tech-trends-lead-to-self-service-bi"
       ]
      },
      {
       "output_type": "stream",
       "stream": "stdout",
       "text": [
        "\n",
        "Retrieved article 1824 at: https://www.jaspersoft.com/bi-industry-news/it-departments-to-demand-more-bi-this-year"
       ]
      },
      {
       "output_type": "stream",
       "stream": "stdout",
       "text": [
        "\n",
        "Retrieved article 1825 at: https://www.jaspersoft.com/bi-industry-news/bi-dashboards-a-boon-to-the-cfo"
       ]
      },
      {
       "output_type": "stream",
       "stream": "stdout",
       "text": [
        "\n",
        "Retrieved article 1826 at: https://www.jaspersoft.com/bi-industry-news/business-intelligence-enjoys-popular-recognition"
       ]
      },
      {
       "output_type": "stream",
       "stream": "stdout",
       "text": [
        "\n",
        "Retrieved article 1827 at: https://www.jaspersoft.com/bi-industry-news/twitter-provides-large-data-stores"
       ]
      },
      {
       "output_type": "stream",
       "stream": "stdout",
       "text": [
        "\n",
        "Retrieved article 1828 at: https://www.jaspersoft.com/bi-industry-news/predictive-models-move-into-new-fields"
       ]
      },
      {
       "output_type": "stream",
       "stream": "stdout",
       "text": [
        "\n",
        "Retrieved article 1829 at: https://www.jaspersoft.com/bi-industry-news/new-third-platform-tech-includes-bi"
       ]
      },
      {
       "output_type": "stream",
       "stream": "stdout",
       "text": [
        "\n",
        "Retrieved article 1830 at: https://www.jaspersoft.com/bi-industry-news/saas-bi-targets-new-types-of-businesses"
       ]
      },
      {
       "output_type": "stream",
       "stream": "stdout",
       "text": [
        "\n",
        "Retrieved article 1831 at: https://www.jaspersoft.com/bi-industry-news/cebit-conference-focuses-on-analytics"
       ]
      },
      {
       "output_type": "stream",
       "stream": "stdout",
       "text": [
        "\n",
        "Retrieved article 1832 at: https://www.jaspersoft.com/bi-industry-news/big-data-boosts-the-healthcare-sector"
       ]
      },
      {
       "output_type": "stream",
       "stream": "stdout",
       "text": [
        "\n",
        "Retrieved article 1833 at: https://www.jaspersoft.com/bi-industry-news/embedding-bi-adds-business-value"
       ]
      },
      {
       "output_type": "stream",
       "stream": "stdout",
       "text": [
        "\n",
        "Retrieved article 1834 at: https://www.jaspersoft.com/bi-industry-news/big-data-enters-the-public-sphere"
       ]
      },
      {
       "output_type": "stream",
       "stream": "stdout",
       "text": [
        "\n",
        "Retrieved article 1835 at: https://www.jaspersoft.com/bi-industry-news/retail-loyalty-unlocked-through-big-data"
       ]
      },
      {
       "output_type": "stream",
       "stream": "stdout",
       "text": [
        "\n",
        "Retrieved article 1836 at: https://www.jaspersoft.com/bi-industry-news/bi-boosts-supply-chains"
       ]
      },
      {
       "output_type": "stream",
       "stream": "stdout",
       "text": [
        "\n",
        "Retrieved article 1837 at: https://www.jaspersoft.com/bi-industry-news/big-data-can-predict-the-business-future"
       ]
      },
      {
       "output_type": "stream",
       "stream": "stdout",
       "text": [
        "\n",
        "Retrieved article 1838 at: https://www.jaspersoft.com/bi-industry-news/new-ipad-could-flourish-as-bi-tool"
       ]
      },
      {
       "output_type": "stream",
       "stream": "stdout",
       "text": [
        "\n",
        "Retrieved article 1839 at: https://www.jaspersoft.com/bi-industry-news/new-surveys-note-rise-of-mobile-bi"
       ]
      },
      {
       "output_type": "stream",
       "stream": "stdout",
       "text": [
        "\n",
        "Retrieved article 1840 at: https://www.jaspersoft.com/bi-industry-news/researchers-plumb-bis-retail-benefits"
       ]
      },
      {
       "output_type": "stream",
       "stream": "stdout",
       "text": [
        "\n",
        "Retrieved article 1841 at: https://www.jaspersoft.com/bi-industry-news/large-organizations-leverage-self-serve-bi"
       ]
      },
      {
       "output_type": "stream",
       "stream": "stdout",
       "text": [
        "\n",
        "Retrieved article 1842 at: https://www.jaspersoft.com/bi-industry-news/hadoop-scales-up-as-big-data-gets-bigger"
       ]
      },
      {
       "output_type": "stream",
       "stream": "stdout",
       "text": [
        "\n",
        "Retrieved article 1843 at: https://www.jaspersoft.com/bi-industry-news/centralized-data-a-friend-to-bi"
       ]
      },
      {
       "output_type": "stream",
       "stream": "stdout",
       "text": [
        "\n",
        "Retrieved article 1844 at: https://www.jaspersoft.com/bi-industry-news/bi-can-make-use-of-existing-data-infrastructure"
       ]
      },
      {
       "output_type": "stream",
       "stream": "stdout",
       "text": [
        "\n",
        "Retrieved article 1845 at: https://www.jaspersoft.com/bi-industry-news/experts-see-value-in-bi-collaboration"
       ]
      },
      {
       "output_type": "stream",
       "stream": "stdout",
       "text": [
        "\n",
        "Retrieved article 1846 at: https://www.jaspersoft.com/bi-industry-news/an-unconventional-adopter-for-cloud-analytics"
       ]
      },
      {
       "output_type": "stream",
       "stream": "stdout",
       "text": [
        "\n",
        "Retrieved article 1847 at: https://www.jaspersoft.com/bi-industry-news/insurers-leverage-advanced-bi"
       ]
      },
      {
       "output_type": "stream",
       "stream": "stdout",
       "text": [
        "\n",
        "Retrieved article 1848 at: https://www.jaspersoft.com/bi-industry-news/small-businesses-find-bi-success-in-the-cloud"
       ]
      },
      {
       "output_type": "stream",
       "stream": "stdout",
       "text": [
        "\n",
        "Retrieved article 1849 at: https://www.jaspersoft.com/bi-industry-news/retail-bi-now-vital"
       ]
      },
      {
       "output_type": "stream",
       "stream": "stdout",
       "text": [
        "\n",
        "Retrieved article 1850 at: https://www.jaspersoft.com/bi-industry-news/businesses-take-varied-big-data-approaches"
       ]
      },
      {
       "output_type": "stream",
       "stream": "stdout",
       "text": [
        "\n",
        "Retrieved article 1851 at: https://www.jaspersoft.com/bi-industry-news/big-data-experts-dig-for-valuable-insight"
       ]
      },
      {
       "output_type": "stream",
       "stream": "stdout",
       "text": [
        "\n",
        "Retrieved article 1852 at: https://www.jaspersoft.com/bi-industry-news/big-data-seeks-widespread-understanding"
       ]
      },
      {
       "output_type": "stream",
       "stream": "stdout",
       "text": [
        "\n",
        "Retrieved article 1853 at: https://www.jaspersoft.com/bi-industry-news/facing-new-challenges-bi-gets-faster"
       ]
      },
      {
       "output_type": "stream",
       "stream": "stdout",
       "text": [
        "\n",
        "Retrieved article 1854 at: https://www.jaspersoft.com/bi-industry-news/bi-trends-converge-in-ipad"
       ]
      },
      {
       "output_type": "stream",
       "stream": "stdout",
       "text": [
        "\n",
        "Retrieved article 1855 at: https://www.jaspersoft.com/bi-industry-news/successful-big-data-projects-combine-know-how-tech"
       ]
      },
      {
       "output_type": "stream",
       "stream": "stdout",
       "text": [
        "\n",
        "Retrieved article 1856 at: https://www.jaspersoft.com/bi-industry-news/it-departments-ready-to-spend-innovate"
       ]
      },
      {
       "output_type": "stream",
       "stream": "stdout",
       "text": [
        "\n",
        "Retrieved article 1857 at: https://www.jaspersoft.com/bi-industry-news/at-summit-financial-executives-value-new-tech"
       ]
      },
      {
       "output_type": "stream",
       "stream": "stdout",
       "text": [
        "\n",
        "Retrieved article 1858 at: https://www.jaspersoft.com/bi-industry-news/as-big-data-rises-so-does-the-data-scientist"
       ]
      },
      {
       "output_type": "stream",
       "stream": "stdout",
       "text": [
        "\n",
        "Retrieved article 1859 at: https://www.jaspersoft.com/bi-industry-news/smart-grid-can-emulate-other-bi-users"
       ]
      },
      {
       "output_type": "stream",
       "stream": "stdout",
       "text": [
        "\n",
        "Retrieved article 1860 at: https://www.jaspersoft.com/bi-industry-news/bi-planning-spreads-to-business-department"
       ]
      },
      {
       "output_type": "stream",
       "stream": "stdout",
       "text": [
        "\n",
        "Retrieved article 1861 at: https://www.jaspersoft.com/bi-industry-news/businesses-learn-to-harness-big-data"
       ]
      },
      {
       "output_type": "stream",
       "stream": "stdout",
       "text": [
        "\n",
        "Retrieved article 1862 at: https://www.jaspersoft.com/bi-industry-news/companies-set-bi-goal-predictive-analytics"
       ]
      },
      {
       "output_type": "stream",
       "stream": "stdout",
       "text": [
        "\n",
        "Retrieved article 1863 at: https://www.jaspersoft.com/bi-industry-news/bi-dashboards-hold-benefits"
       ]
      },
      {
       "output_type": "stream",
       "stream": "stdout",
       "text": [
        "\n",
        "Retrieved article 1864 at: https://www.jaspersoft.com/bi-industry-news/new-tablet-projections-500-million-in-sales-by-2015"
       ]
      },
      {
       "output_type": "stream",
       "stream": "stdout",
       "text": [
        "\n",
        "Retrieved article 1865 at: https://www.jaspersoft.com/bi-industry-news/experts-explain-how-hadoop-helps"
       ]
      },
      {
       "output_type": "stream",
       "stream": "stdout",
       "text": [
        "\n",
        "Retrieved article 1866 at: https://www.jaspersoft.com/bi-industry-news/experts-outline-cloud-bi-adoption-process"
       ]
      },
      {
       "output_type": "stream",
       "stream": "stdout",
       "text": [
        "\n",
        "Retrieved article 1867 at: https://www.jaspersoft.com/bi-industry-news/hiring-trends-show-business-desire-for-analytics"
       ]
      },
      {
       "output_type": "stream",
       "stream": "stdout",
       "text": [
        "\n",
        "Retrieved article 1868 at: https://www.jaspersoft.com/bi-industry-news/analysts-break-down-holiday-data"
       ]
      },
      {
       "output_type": "stream",
       "stream": "stdout",
       "text": [
        "\n",
        "Retrieved article 1869 at: https://www.jaspersoft.com/bi-industry-news/retailers-leverage-social-bi-for-competitive-advantage"
       ]
      },
      {
       "output_type": "stream",
       "stream": "stdout",
       "text": [
        "\n",
        "Retrieved article 1870 at: https://www.jaspersoft.com/bi-industry-news/bi-cited-as-supply-chain-booster"
       ]
      },
      {
       "output_type": "stream",
       "stream": "stdout",
       "text": [
        "\n",
        "Retrieved article 1871 at: https://www.jaspersoft.com/bi-industry-news/new-technology-requires-new-cio-tactics"
       ]
      },
      {
       "output_type": "stream",
       "stream": "stdout",
       "text": [
        "\n",
        "Retrieved article 1872 at: https://www.jaspersoft.com/bi-industry-news/green-projects-explain-their-benefits-through-big-data"
       ]
      },
      {
       "output_type": "stream",
       "stream": "stdout",
       "text": [
        "\n",
        "Retrieved article 1873 at: https://www.jaspersoft.com/bi-industry-news/saas-bi-finding-favor-among-businesses"
       ]
      },
      {
       "output_type": "stream",
       "stream": "stdout",
       "text": [
        "\n",
        "Retrieved article 1874 at: https://www.jaspersoft.com/bi-industry-news/big-data-analytics-on-minds-at-industry-conference"
       ]
      },
      {
       "output_type": "stream",
       "stream": "stdout",
       "text": [
        "\n",
        "Retrieved article 1875 at: https://www.jaspersoft.com/bi-industry-news/australia-faces-its-bi-moment-in-2012"
       ]
      },
      {
       "output_type": "stream",
       "stream": "stdout",
       "text": [
        "\n",
        "Retrieved article 1876 at: https://www.jaspersoft.com/bi-industry-news/new-bi-ideas-set-to-shine-at-singapore-seminar"
       ]
      },
      {
       "output_type": "stream",
       "stream": "stdout",
       "text": [
        "\n",
        "Retrieved article 1877 at: https://www.jaspersoft.com/bi-industry-news/modern-bi-replaces-well-worn-tools"
       ]
      },
      {
       "output_type": "stream",
       "stream": "stdout",
       "text": [
        "\n",
        "Retrieved article 1878 at: https://www.jaspersoft.com/bi-industry-news/businesses-finding-varied-paths-to-hadoop"
       ]
      },
      {
       "output_type": "stream",
       "stream": "stdout",
       "text": [
        "\n",
        "Retrieved article 1879 at: https://www.jaspersoft.com/bi-industry-news/experts-give-prep-tips-for-big-data-integration"
       ]
      },
      {
       "output_type": "stream",
       "stream": "stdout",
       "text": [
        "\n",
        "Retrieved article 1880 at: https://www.jaspersoft.com/bi-industry-news/complex-business-models-boosted-with-specialized-bi"
       ]
      },
      {
       "output_type": "stream",
       "stream": "stdout",
       "text": [
        "\n",
        "Retrieved article 1881 at: https://www.jaspersoft.com/bi-industry-news/utilities-modernize-with-big-data-procedures"
       ]
      },
      {
       "output_type": "stream",
       "stream": "stdout",
       "text": [
        "\n",
        "Retrieved article 1882 at: https://www.jaspersoft.com/bi-industry-news/small-businesses-make-bi-work"
       ]
      },
      {
       "output_type": "stream",
       "stream": "stdout",
       "text": [
        "\n",
        "Retrieved article 1883 at: https://www.jaspersoft.com/bi-industry-news/big-data-undergoes-test-as-police-tool"
       ]
      },
      {
       "output_type": "stream",
       "stream": "stdout",
       "text": [
        "\n",
        "Retrieved article 1884 at: https://www.jaspersoft.com/bi-industry-news/banks-find-fit-with-open-source-analytics"
       ]
      },
      {
       "output_type": "stream",
       "stream": "stdout",
       "text": [
        "\n",
        "Retrieved article 1885 at: https://www.jaspersoft.com/bi-industry-news/business-intelligence-takes-on-new-shapes"
       ]
      },
      {
       "output_type": "stream",
       "stream": "stdout",
       "text": [
        "\n",
        "Retrieved article 1886 at: https://www.jaspersoft.com/bi-industry-news/red-cross-reaches-out-with-analytics"
       ]
      },
      {
       "output_type": "stream",
       "stream": "stdout",
       "text": [
        "\n",
        "Retrieved article 1887 at: https://www.jaspersoft.com/bi-industry-news/at-bi-summit-gartner-analysts-suggest-way-forward"
       ]
      },
      {
       "output_type": "stream",
       "stream": "stdout",
       "text": [
        "\n",
        "Retrieved article 1888 at: https://www.jaspersoft.com/bi-industry-news/cios-seek-team-members-with-big-data-bonafides"
       ]
      },
      {
       "output_type": "stream",
       "stream": "stdout",
       "text": [
        "\n",
        "Retrieved article 1889 at: https://www.jaspersoft.com/bi-industry-news/big-data-seeks-its-healthcare-moment"
       ]
      },
      {
       "output_type": "stream",
       "stream": "stdout",
       "text": [
        "\n",
        "Retrieved article 1890 at: https://www.jaspersoft.com/bi-industry-news/sales-departments-can-benefit-from-big-data"
       ]
      },
      {
       "output_type": "stream",
       "stream": "stdout",
       "text": [
        "\n",
        "Retrieved article 1891 at: https://www.jaspersoft.com/bi-industry-news/experts-bi-strategies-should-be-comprehensive-inclusive"
       ]
      },
      {
       "output_type": "stream",
       "stream": "stdout",
       "text": [
        "\n",
        "Retrieved article 1892 at: https://www.jaspersoft.com/bi-industry-news/executives-prepare-for-mobile-bi-integration"
       ]
      },
      {
       "output_type": "stream",
       "stream": "stdout",
       "text": [
        "\n",
        "Retrieved article 1893 at: https://www.jaspersoft.com/bi-industry-news/jaspersoft-survey-reveals-widespread-mobile-bi-adoption"
       ]
      },
      {
       "output_type": "stream",
       "stream": "stdout",
       "text": [
        "\n",
        "Retrieved article 1894 at: https://www.jaspersoft.com/bi-industry-news/hadoop-strategies-take-shape"
       ]
      },
      {
       "output_type": "stream",
       "stream": "stdout",
       "text": [
        "\n",
        "Retrieved article 1895 at: https://www.jaspersoft.com/bi-industry-news/companies-with-big-data-analytics-have-access-to-advanced-strategies"
       ]
      },
      {
       "output_type": "stream",
       "stream": "stdout",
       "text": [
        "\n",
        "Retrieved article 1896 at: https://www.jaspersoft.com/bi-industry-news/new-sources-of-big-data-abound-in-energy"
       ]
      },
      {
       "output_type": "stream",
       "stream": "stdout",
       "text": [
        "\n",
        "Retrieved article 1897 at: https://www.jaspersoft.com/bi-industry-news/real-estate-becomes-data-driven"
       ]
      },
      {
       "output_type": "stream",
       "stream": "stdout",
       "text": [
        "\n",
        "Retrieved article 1898 at: https://www.jaspersoft.com/bi-industry-news/developing-markets-serve-as-bi-benefits-microcosm"
       ]
      },
      {
       "output_type": "stream",
       "stream": "stdout",
       "text": [
        "\n",
        "Retrieved article 1899 at: https://www.jaspersoft.com/bi-industry-news/new-bi-options-require-new-choices-from-businesses"
       ]
      },
      {
       "output_type": "stream",
       "stream": "stdout",
       "text": [
        "\n",
        "Retrieved article 1900 at: https://www.jaspersoft.com/bi-industry-news/it-departments-embrace-a-new-role"
       ]
      },
      {
       "output_type": "stream",
       "stream": "stdout",
       "text": [
        "\n",
        "Retrieved article 1901 at: https://www.jaspersoft.com/bi-industry-news/mobility-cloud-converge-to-boost-bi-in-2012"
       ]
      },
      {
       "output_type": "stream",
       "stream": "stdout",
       "text": [
        "\n",
        "Retrieved article 1902 at: https://www.jaspersoft.com/bi-industry-news/businesses-eagerly-adopt-iphone-4s"
       ]
      },
      {
       "output_type": "stream",
       "stream": "stdout",
       "text": [
        "\n",
        "Retrieved article 1903 at: https://www.jaspersoft.com/bi-industry-news/mobile-bi-find-its-role-speeding-business"
       ]
      },
      {
       "output_type": "stream",
       "stream": "stdout",
       "text": [
        "\n",
        "Retrieved article 1904 at: https://www.jaspersoft.com/bi-industry-news/hadoop-sees-big-year-ahead"
       ]
      },
      {
       "output_type": "stream",
       "stream": "stdout",
       "text": [
        "\n",
        "Retrieved article 1905 at: https://www.jaspersoft.com/bi-industry-news/retail-stores-to-adapt-by-integrate-bi"
       ]
      },
      {
       "output_type": "stream",
       "stream": "stdout",
       "text": [
        "\n",
        "Retrieved article 1906 at: https://www.jaspersoft.com/bi-industry-news/cloud-bi-in-finance-can-add-value"
       ]
      },
      {
       "output_type": "stream",
       "stream": "stdout",
       "text": [
        "\n",
        "Retrieved article 1907 at: https://www.jaspersoft.com/bi-industry-news/research-outlines-effective-cloud-bi-strategies"
       ]
      },
      {
       "output_type": "stream",
       "stream": "stdout",
       "text": [
        "\n",
        "Retrieved article 1908 at: https://www.jaspersoft.com/bi-industry-news/social-media-to-provide-data-for-business-intelligence"
       ]
      },
      {
       "output_type": "stream",
       "stream": "stdout",
       "text": [
        "\n",
        "Retrieved article 1909 at: https://www.jaspersoft.com/bi-industry-news/in-advance-of-bi-summit-gartner-pegs-cloud-for-success"
       ]
      },
      {
       "output_type": "stream",
       "stream": "stdout",
       "text": [
        "\n",
        "Retrieved article 1910 at: https://www.jaspersoft.com/bi-industry-news/researchers-tackle-new-kinds-of-data"
       ]
      },
      {
       "output_type": "stream",
       "stream": "stdout",
       "text": [
        "\n",
        "Retrieved article 1911 at: https://www.jaspersoft.com/bi-industry-news/open-source-bi-a-good-fit-for-government"
       ]
      },
      {
       "output_type": "stream",
       "stream": "stdout",
       "text": [
        "\n",
        "Retrieved article 1912 at: https://www.jaspersoft.com/bi-industry-news/restaurant-acts-as-bi-case-study"
       ]
      },
      {
       "output_type": "stream",
       "stream": "stdout",
       "text": [
        "\n",
        "Retrieved article 1913 at: https://www.jaspersoft.com/bi-industry-news/demand-for-data-scientists-as-big-data-booms"
       ]
      },
      {
       "output_type": "stream",
       "stream": "stdout",
       "text": [
        "\n",
        "Retrieved article 1914 at: https://www.jaspersoft.com/bi-industry-news/telecommunications-spearheading-bi-adoption"
       ]
      },
      {
       "output_type": "stream",
       "stream": "stdout",
       "text": [
        "\n",
        "Retrieved article 1915 at: https://www.jaspersoft.com/bi-industry-news/it-departments-seek-data-quality-in-big-data-age"
       ]
      },
      {
       "output_type": "stream",
       "stream": "stdout",
       "text": [
        "\n",
        "Retrieved article 1916 at: https://www.jaspersoft.com/bi-industry-news/embracing-big-data-analytics-increases-health-care-efficiency"
       ]
      },
      {
       "output_type": "stream",
       "stream": "stdout",
       "text": [
        "\n",
        "Retrieved article 1917 at: https://www.jaspersoft.com/bi-industry-news/mobile-bi-rises-on-employees-own-devices"
       ]
      },
      {
       "output_type": "stream",
       "stream": "stdout",
       "text": [
        "\n",
        "Retrieved article 1918 at: https://www.jaspersoft.com/bi-industry-news/demand-for-big-data-bi-means-increased-role-for-data-science"
       ]
      },
      {
       "output_type": "stream",
       "stream": "stdout",
       "text": [
        "\n",
        "Retrieved article 1919 at: https://www.jaspersoft.com/bi-industry-news/modern-bi-thrives-on-collaboration-between-departments"
       ]
      },
      {
       "output_type": "stream",
       "stream": "stdout",
       "text": [
        "\n",
        "Retrieved article 1920 at: https://www.jaspersoft.com/bi-industry-news/gartner-finds-business-intelligence-top-cio-priority"
       ]
      },
      {
       "output_type": "stream",
       "stream": "stdout",
       "text": [
        "\n",
        "Retrieved article 1921 at: https://www.jaspersoft.com/bi-industry-news/new-idc-survey-throws-light-on-analytics-numbers"
       ]
      },
      {
       "output_type": "stream",
       "stream": "stdout",
       "text": [
        "\n",
        "Retrieved article 1922 at: https://www.jaspersoft.com/bi-industry-news/forrester-analysts-predict-bis-course"
       ]
      },
      {
       "output_type": "stream",
       "stream": "stdout",
       "text": [
        "\n",
        "Retrieved article 1923 at: https://www.jaspersoft.com/bi-industry-news/business-intelligence-a-boon-to-banking"
       ]
      },
      {
       "output_type": "stream",
       "stream": "stdout",
       "text": [
        "\n",
        "Retrieved article 1924 at: https://www.jaspersoft.com/bi-industry-news/experts-say-big-data-can-benefit-power-grids"
       ]
      },
      {
       "output_type": "stream",
       "stream": "stdout",
       "text": [
        "\n",
        "Retrieved article 1925 at: https://www.jaspersoft.com/bi-industry-news/big-data-platform-hadoop-goes-big-time"
       ]
      },
      {
       "output_type": "stream",
       "stream": "stdout",
       "text": [
        "\n",
        "Retrieved article 1926 at: https://www.jaspersoft.com/bi-industry-news/the-new-bi-client-base-everyone"
       ]
      },
      {
       "output_type": "stream",
       "stream": "stdout",
       "text": [
        "\n",
        "Retrieved article 1927 at: https://www.jaspersoft.com/bi-industry-news/businesses-benefit-from-a-clear-definition-of-big-data"
       ]
      },
      {
       "output_type": "stream",
       "stream": "stdout",
       "text": [
        "\n",
        "Retrieved article 1928 at: https://www.jaspersoft.com/bi-industry-news/business-intelligence-set-to-expand-in-india"
       ]
      },
      {
       "output_type": "stream",
       "stream": "stdout",
       "text": [
        "\n",
        "Retrieved article 1929 at: https://www.jaspersoft.com/bi-industry-news/new-gartner-survey-outlines-2012-for-business-intelligence"
       ]
      },
      {
       "output_type": "stream",
       "stream": "stdout",
       "text": [
        "\n",
        "Retrieved article 1930 at: https://www.jaspersoft.com/bi-industry-news/companies-seek-employee-education-in-big-data-analytics"
       ]
      },
      {
       "output_type": "stream",
       "stream": "stdout",
       "text": [
        "\n",
        "Retrieved article 1931 at: https://www.jaspersoft.com/bi-industry-news/cloud-paas-and-business-intelligence-come-together"
       ]
      },
      {
       "output_type": "stream",
       "stream": "stdout",
       "text": [
        "\n",
        "Retrieved article 1932 at: https://www.jaspersoft.com/bi-industry-news/disruptive-html5-has-takeover-potential-mobile-bi-stands-to-gain"
       ]
      },
      {
       "output_type": "stream",
       "stream": "stdout",
       "text": [
        "\n",
        "Retrieved article 1933 at: https://www.jaspersoft.com/bi-industry-news/big-data-analytics-in-government"
       ]
      },
      {
       "output_type": "stream",
       "stream": "stdout",
       "text": [
        "\n",
        "Retrieved article 1934 at: https://www.jaspersoft.com/bi-industry-news/as-it-budgets-shrink-cios-prioritize-business-intelligence"
       ]
      },
      {
       "output_type": "stream",
       "stream": "stdout",
       "text": [
        "\n",
        "Retrieved article 1935 at: https://www.jaspersoft.com/bi-industry-news/self-service-open-source-will-mark-business-intelligence-trends-this-year"
       ]
      },
      {
       "output_type": "stream",
       "stream": "stdout",
       "text": [
        "\n",
        "Retrieved article 1936 at: https://www.jaspersoft.com/bi-industry-news/expert-smbs-should-get-intelligent"
       ]
      },
      {
       "output_type": "stream",
       "stream": "stdout",
       "text": [
        "\n",
        "Retrieved article 1937 at: https://www.jaspersoft.com/bi-industry-news/the-next-great-push-in-health-it-business-intelligence-integration"
       ]
      },
      {
       "output_type": "stream",
       "stream": "stdout",
       "text": [
        "\n",
        "Retrieved article 1938 at: https://www.jaspersoft.com/bi-industry-news/college-students-pick-up-cloud-bi-skills"
       ]
      },
      {
       "output_type": "stream",
       "stream": "stdout",
       "text": [
        "\n",
        "Retrieved article 1939 at: https://www.jaspersoft.com/bi-industry-news/business-intelligence-set-to-take-to-the-cloud-in-2012"
       ]
      },
      {
       "output_type": "stream",
       "stream": "stdout",
       "text": [
        "\n",
        "Retrieved article 1940 at: https://www.jaspersoft.com/bi-industry-news/mobile-business-intelligence-poised-to-expand"
       ]
      },
      {
       "output_type": "stream",
       "stream": "stdout",
       "text": [
        "\n",
        "Retrieved article 1941 at: https://www.jaspersoft.com/bi-industry-news/big-data-boom-to-continue-this-year"
       ]
      },
      {
       "output_type": "stream",
       "stream": "stdout",
       "text": [
        "\n",
        "Retrieved article 1942 at: https://www.jaspersoft.com/bi-industry-news/self-service-bi-on-the-march"
       ]
      },
      {
       "output_type": "stream",
       "stream": "stdout",
       "text": [
        "\n",
        "Retrieved article 1943 at: https://www.jaspersoft.com/bi-industry-news/key-components-of-effective-decision-making"
       ]
      },
      {
       "output_type": "stream",
       "stream": "stdout",
       "text": [
        "\n",
        "Retrieved article 1944 at: http://blog.revolutionanalytics.com/2014/01/a-first-look-at-rxdforest.html"
       ]
      },
      {
       "output_type": "stream",
       "stream": "stdout",
       "text": [
        "\n",
        "Retrieved article 1945 at: http://blog.revolutionanalytics.com/2014/01/4th-down-bot.html"
       ]
      },
      {
       "output_type": "stream",
       "stream": "stdout",
       "text": [
        "\n",
        "Retrieved article 1946 at: http://blog.revolutionanalytics.com/2014/01/quantitative-finance-applications-in-r-plotting-xts-time-series.html"
       ]
      },
      {
       "output_type": "stream",
       "stream": "stdout",
       "text": [
        "\n",
        "Retrieved article 1947 at: http://blog.revolutionanalytics.com/2014/01/john-chambers-recounts-the-history-of-s-and-r.html"
       ]
      },
      {
       "output_type": "stream",
       "stream": "stdout",
       "text": [
        "\n",
        "Retrieved article 1948 at: http://blog.revolutionanalytics.com/2014/01/because-its-friday-birds-in-flight.html"
       ]
      },
      {
       "output_type": "stream",
       "stream": "stdout",
       "text": [
        "\n",
        "Retrieved article 1949 at: http://blog.revolutionanalytics.com/2014/01/demo-this-wednesday-drag-and-drop-to-create-r-based-workflows.html"
       ]
      },
      {
       "output_type": "stream",
       "stream": "stdout",
       "text": [
        "\n",
        "Retrieved article 1950 at: http://blog.revolutionanalytics.com/2014/01/a-review-of-doing-data-science-by-rachel-sshutt-and-cathy-oneil.html"
       ]
      },
      {
       "output_type": "stream",
       "stream": "stdout",
       "text": [
        "\n",
        "Retrieved article 1951 at: http://blog.revolutionanalytics.com/2014/01/fast-and-easy-data-munging-with-dplyr.html"
       ]
      },
      {
       "output_type": "stream",
       "stream": "stdout",
       "text": [
        "\n",
        "Retrieved article 1952 at: http://blog.revolutionanalytics.com/2014/01/easy-data-maps-with-r-the-choroplethr-package-.html"
       ]
      },
      {
       "output_type": "stream",
       "stream": "stdout",
       "text": [
        "\n",
        "Retrieved article 1953 at: http://blog.revolutionanalytics.com/2014/01/amplab-announces-r-interface-to-spark.html"
       ]
      },
      {
       "ename": "ConnectionError",
       "evalue": "HTTPConnectionPool(host='hunch.net', port=80): Max retries exceeded with url: /?p=2689&User-Agent=Mozilla%2F5.0+%28Windows+NT+6.2%3B+Win64%3B+x64%29+AppleWebKit%2F537.36+%28KHTML%2C+like+Gecko%29+Chrome%2F32.0.1667.0+Safari%2F537.36 (Caused by <class 'socket.error'>: [Errno 10060] A connection attempt failed because the connected party did not properly respond after a period of time, or established connection failed because connected host has failed to respond)",
       "output_type": "pyerr",
       "traceback": [
        "\u001b[1;31m---------------------------------------------------------------------------\u001b[0m\n\u001b[1;31mConnectionError\u001b[0m                           Traceback (most recent call last)",
        "\u001b[1;32m<ipython-input-7-4b2c8e0a07ef>\u001b[0m in \u001b[0;36m<module>\u001b[1;34m()\u001b[0m\n\u001b[0;32m    156\u001b[0m \u001b[1;33m\u001b[0m\u001b[0m\n\u001b[0;32m    157\u001b[0m             \u001b[1;31m# Get Article Text\u001b[0m\u001b[1;33m\u001b[0m\u001b[1;33m\u001b[0m\u001b[0m\n\u001b[1;32m--> 158\u001b[1;33m             \u001b[0mr\u001b[0m \u001b[1;33m=\u001b[0m \u001b[0mrequests\u001b[0m\u001b[1;33m.\u001b[0m\u001b[0mget\u001b[0m\u001b[1;33m(\u001b[0m\u001b[0mmyLink\u001b[0m\u001b[1;33m,\u001b[0m \u001b[0mparams\u001b[0m\u001b[1;33m=\u001b[0m\u001b[0mmyParams\u001b[0m\u001b[1;33m,\u001b[0m \u001b[0mheaders\u001b[0m\u001b[1;33m=\u001b[0m\u001b[0mmyParams\u001b[0m\u001b[1;33m)\u001b[0m\u001b[1;33m\u001b[0m\u001b[0m\n\u001b[0m\u001b[0;32m    159\u001b[0m             \u001b[0mpagesource\u001b[0m \u001b[1;33m=\u001b[0m \u001b[0mr\u001b[0m\u001b[1;33m.\u001b[0m\u001b[0mtext\u001b[0m\u001b[1;33m\u001b[0m\u001b[0m\n\u001b[0;32m    160\u001b[0m             \u001b[0msoup\u001b[0m \u001b[1;33m=\u001b[0m \u001b[0mBeautifulSoup\u001b[0m\u001b[1;33m(\u001b[0m\u001b[0mpagesource\u001b[0m\u001b[1;33m)\u001b[0m\u001b[1;33m\u001b[0m\u001b[0m\n",
        "\u001b[1;32mC:\\Anaconda\\lib\\site-packages\\requests\\api.pyc\u001b[0m in \u001b[0;36mget\u001b[1;34m(url, **kwargs)\u001b[0m\n\u001b[0;32m     53\u001b[0m \u001b[1;33m\u001b[0m\u001b[0m\n\u001b[0;32m     54\u001b[0m     \u001b[0mkwargs\u001b[0m\u001b[1;33m.\u001b[0m\u001b[0msetdefault\u001b[0m\u001b[1;33m(\u001b[0m\u001b[1;34m'allow_redirects'\u001b[0m\u001b[1;33m,\u001b[0m \u001b[0mTrue\u001b[0m\u001b[1;33m)\u001b[0m\u001b[1;33m\u001b[0m\u001b[0m\n\u001b[1;32m---> 55\u001b[1;33m     \u001b[1;32mreturn\u001b[0m \u001b[0mrequest\u001b[0m\u001b[1;33m(\u001b[0m\u001b[1;34m'get'\u001b[0m\u001b[1;33m,\u001b[0m \u001b[0murl\u001b[0m\u001b[1;33m,\u001b[0m \u001b[1;33m**\u001b[0m\u001b[0mkwargs\u001b[0m\u001b[1;33m)\u001b[0m\u001b[1;33m\u001b[0m\u001b[0m\n\u001b[0m\u001b[0;32m     56\u001b[0m \u001b[1;33m\u001b[0m\u001b[0m\n\u001b[0;32m     57\u001b[0m \u001b[1;33m\u001b[0m\u001b[0m\n",
        "\u001b[1;32mC:\\Anaconda\\lib\\site-packages\\requests\\api.pyc\u001b[0m in \u001b[0;36mrequest\u001b[1;34m(method, url, **kwargs)\u001b[0m\n\u001b[0;32m     42\u001b[0m \u001b[1;33m\u001b[0m\u001b[0m\n\u001b[0;32m     43\u001b[0m     \u001b[0msession\u001b[0m \u001b[1;33m=\u001b[0m \u001b[0msessions\u001b[0m\u001b[1;33m.\u001b[0m\u001b[0mSession\u001b[0m\u001b[1;33m(\u001b[0m\u001b[1;33m)\u001b[0m\u001b[1;33m\u001b[0m\u001b[0m\n\u001b[1;32m---> 44\u001b[1;33m     \u001b[1;32mreturn\u001b[0m \u001b[0msession\u001b[0m\u001b[1;33m.\u001b[0m\u001b[0mrequest\u001b[0m\u001b[1;33m(\u001b[0m\u001b[0mmethod\u001b[0m\u001b[1;33m=\u001b[0m\u001b[0mmethod\u001b[0m\u001b[1;33m,\u001b[0m \u001b[0murl\u001b[0m\u001b[1;33m=\u001b[0m\u001b[0murl\u001b[0m\u001b[1;33m,\u001b[0m \u001b[1;33m**\u001b[0m\u001b[0mkwargs\u001b[0m\u001b[1;33m)\u001b[0m\u001b[1;33m\u001b[0m\u001b[0m\n\u001b[0m\u001b[0;32m     45\u001b[0m \u001b[1;33m\u001b[0m\u001b[0m\n\u001b[0;32m     46\u001b[0m \u001b[1;33m\u001b[0m\u001b[0m\n",
        "\u001b[1;32mC:\\Anaconda\\lib\\site-packages\\requests\\sessions.pyc\u001b[0m in \u001b[0;36mrequest\u001b[1;34m(self, method, url, params, data, headers, cookies, files, auth, timeout, allow_redirects, proxies, hooks, stream, verify, cert)\u001b[0m\n\u001b[0;32m    380\u001b[0m             \u001b[1;34m'allow_redirects'\u001b[0m\u001b[1;33m:\u001b[0m \u001b[0mallow_redirects\u001b[0m\u001b[1;33m,\u001b[0m\u001b[1;33m\u001b[0m\u001b[0m\n\u001b[0;32m    381\u001b[0m         }\n\u001b[1;32m--> 382\u001b[1;33m         \u001b[0mresp\u001b[0m \u001b[1;33m=\u001b[0m \u001b[0mself\u001b[0m\u001b[1;33m.\u001b[0m\u001b[0msend\u001b[0m\u001b[1;33m(\u001b[0m\u001b[0mprep\u001b[0m\u001b[1;33m,\u001b[0m \u001b[1;33m**\u001b[0m\u001b[0msend_kwargs\u001b[0m\u001b[1;33m)\u001b[0m\u001b[1;33m\u001b[0m\u001b[0m\n\u001b[0m\u001b[0;32m    383\u001b[0m \u001b[1;33m\u001b[0m\u001b[0m\n\u001b[0;32m    384\u001b[0m         \u001b[1;32mreturn\u001b[0m \u001b[0mresp\u001b[0m\u001b[1;33m\u001b[0m\u001b[0m\n",
        "\u001b[1;32mC:\\Anaconda\\lib\\site-packages\\requests\\sessions.pyc\u001b[0m in \u001b[0;36msend\u001b[1;34m(self, request, **kwargs)\u001b[0m\n\u001b[0;32m    483\u001b[0m         \u001b[0mstart\u001b[0m \u001b[1;33m=\u001b[0m \u001b[0mdatetime\u001b[0m\u001b[1;33m.\u001b[0m\u001b[0mutcnow\u001b[0m\u001b[1;33m(\u001b[0m\u001b[1;33m)\u001b[0m\u001b[1;33m\u001b[0m\u001b[0m\n\u001b[0;32m    484\u001b[0m         \u001b[1;31m# Send the request\u001b[0m\u001b[1;33m\u001b[0m\u001b[1;33m\u001b[0m\u001b[0m\n\u001b[1;32m--> 485\u001b[1;33m         \u001b[0mr\u001b[0m \u001b[1;33m=\u001b[0m \u001b[0madapter\u001b[0m\u001b[1;33m.\u001b[0m\u001b[0msend\u001b[0m\u001b[1;33m(\u001b[0m\u001b[0mrequest\u001b[0m\u001b[1;33m,\u001b[0m \u001b[1;33m**\u001b[0m\u001b[0mkwargs\u001b[0m\u001b[1;33m)\u001b[0m\u001b[1;33m\u001b[0m\u001b[0m\n\u001b[0m\u001b[0;32m    486\u001b[0m         \u001b[1;31m# Total elapsed time of the request (approximately)\u001b[0m\u001b[1;33m\u001b[0m\u001b[1;33m\u001b[0m\u001b[0m\n\u001b[0;32m    487\u001b[0m         \u001b[0mr\u001b[0m\u001b[1;33m.\u001b[0m\u001b[0melapsed\u001b[0m \u001b[1;33m=\u001b[0m \u001b[0mdatetime\u001b[0m\u001b[1;33m.\u001b[0m\u001b[0mutcnow\u001b[0m\u001b[1;33m(\u001b[0m\u001b[1;33m)\u001b[0m \u001b[1;33m-\u001b[0m \u001b[0mstart\u001b[0m\u001b[1;33m\u001b[0m\u001b[0m\n",
        "\u001b[1;32mC:\\Anaconda\\lib\\site-packages\\requests\\adapters.pyc\u001b[0m in \u001b[0;36msend\u001b[1;34m(self, request, stream, timeout, verify, cert, proxies)\u001b[0m\n\u001b[0;32m    370\u001b[0m \u001b[1;33m\u001b[0m\u001b[0m\n\u001b[0;32m    371\u001b[0m         \u001b[1;32mexcept\u001b[0m \u001b[0mMaxRetryError\u001b[0m \u001b[1;32mas\u001b[0m \u001b[0me\u001b[0m\u001b[1;33m:\u001b[0m\u001b[1;33m\u001b[0m\u001b[0m\n\u001b[1;32m--> 372\u001b[1;33m             \u001b[1;32mraise\u001b[0m \u001b[0mConnectionError\u001b[0m\u001b[1;33m(\u001b[0m\u001b[0me\u001b[0m\u001b[1;33m)\u001b[0m\u001b[1;33m\u001b[0m\u001b[0m\n\u001b[0m\u001b[0;32m    373\u001b[0m \u001b[1;33m\u001b[0m\u001b[0m\n\u001b[0;32m    374\u001b[0m         \u001b[1;32mexcept\u001b[0m \u001b[0m_ProxyError\u001b[0m \u001b[1;32mas\u001b[0m \u001b[0me\u001b[0m\u001b[1;33m:\u001b[0m\u001b[1;33m\u001b[0m\u001b[0m\n",
        "\u001b[1;31mConnectionError\u001b[0m: HTTPConnectionPool(host='hunch.net', port=80): Max retries exceeded with url: /?p=2689&User-Agent=Mozilla%2F5.0+%28Windows+NT+6.2%3B+Win64%3B+x64%29+AppleWebKit%2F537.36+%28KHTML%2C+like+Gecko%29+Chrome%2F32.0.1667.0+Safari%2F537.36 (Caused by <class 'socket.error'>: [Errno 10060] A connection attempt failed because the connected party did not properly respond after a period of time, or established connection failed because connected host has failed to respond)"
       ]
      },
      {
       "output_type": "stream",
       "stream": "stdout",
       "text": [
        "\n"
       ]
      }
     ],
     "prompt_number": 7
    },
    {
     "cell_type": "code",
     "collapsed": false,
     "input": [
      "import feedparser         # get the rss feed and parse it into a dict\n",
      "import lxml\n",
      "import urllib\n",
      "import urllib2            # make the page request\n",
      "import requests\n",
      "import re\n",
      "import cookielib\n",
      "from bs4 import BeautifulSoup       # parse the html\n",
      "import csv                # write the list of retrieved links and the data (alternatively use JSON)\n",
      "\n",
      "urls = []\n",
      "#urls.append('http://feeds.feedburner.com/RBloggers')\n",
      "#urls.append('http://www.analyticbridge.com/profiles/blog/feed?xn_auth=no')\n",
      "urls.append('http://www.hilarymason.com/feed/')\n",
      "\n",
      "myParams = {'User-Agent': 'Mozilla/5.0 (Windows NT 6.2; Win64; x64) AppleWebKit/537.36 (KHTML, like Gecko) Chrome/32.0.1667.0 Safari/537.36'}\n",
      "\n",
      "for url in urls:\n",
      "    feed = feedparser.parse( url )\n",
      "     \n",
      "    for i in range(0,min(2,len(feed['entries']))):        \n",
      "        myLink = feed['entries'][i].link            \n",
      "        r = requests.get(myLink, params=myParams, headers=myParams)\n",
      "        pagesource = r.text\n",
      "        \n",
      "        print r.headers\n",
      "        myDate = feed['entries'][i].updated_parsed\n",
      "        #print datetime.strptime(myDate,\"%m/%d/%Y %I:%M:%S %Z\")"
     ],
     "language": "python",
     "metadata": {},
     "outputs": [],
     "prompt_number": 8
    },
    {
     "cell_type": "code",
     "collapsed": false,
     "input": [
      "import datetime\n",
      "import re\n",
      "\n",
      "dateList = []\n",
      "dateList.append('January 30, 2014 at 9:33am')\n",
      "dateList.append('1 Dec 2012')\n",
      "dateList.append('Posted: December 18, 2013')\n",
      "dateList.append('11/26/2012')\n",
      "dateList.append('26/11/2012')\n",
      "\n",
      "\n",
      "\n",
      "for dt in dateList:\n",
      "    \n",
      "    # Format documentation: http://docs.python.org/2/library/datetime.html#strftime-strptime-behavior\n",
      "    if re.search(r'(\\d+/\\d+/\\d+)',dt): \n",
      "        try:\n",
      "            dtm_obj = datetime.datetime.strptime(dt,\"%m/%d/%Y\")       # '11/26/2012' \n",
      "        except:\n",
      "            try:\n",
      "                dtm_obj = datetime.datetime.strptime(dt,\"%d/%m/%Y\")   # '26/11/2012'\n",
      "            except ValueError as e:\n",
      "                print \"Error: \", e\n",
      "                continue            \n",
      "    else:\n",
      "        try:\n",
      "            dtm_obj = datetime.datetime.strptime(dt,\"%B %d, %Y\")      # 'November 26, 2012'\n",
      "        except:\n",
      "            try:\n",
      "                dtm_obj = datetime.datetime.strptime(dt,\"%d %b %Y\")   # '26 Nov 2012'\n",
      "            except:\n",
      "                continue\n",
      "\n",
      "    print dtm_obj\n",
      "    print \"======================\""
     ],
     "language": "python",
     "metadata": {},
     "outputs": [
      {
       "output_type": "stream",
       "stream": "stdout",
       "text": [
        "2012-12-01 00:00:00\n",
        "======================\n",
        "2012-11-26 00:00:00\n",
        "======================\n",
        "2012-11-26 00:00:00\n",
        "======================\n"
       ]
      }
     ],
     "prompt_number": 94
    },
    {
     "cell_type": "code",
     "collapsed": false,
     "input": [
      "import Queue\n",
      "import threading\n",
      "import workerpool\n"
     ],
     "language": "python",
     "metadata": {},
     "outputs": [],
     "prompt_number": 8
    },
    {
     "cell_type": "code",
     "collapsed": false,
     "input": [],
     "language": "python",
     "metadata": {},
     "outputs": []
    }
   ],
   "metadata": {}
  }
 ]
}