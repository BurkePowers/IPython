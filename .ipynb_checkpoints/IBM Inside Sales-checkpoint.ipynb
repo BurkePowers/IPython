{
 "metadata": {
  "name": ""
 },
 "nbformat": 3,
 "nbformat_minor": 0,
 "worksheets": [
  {
   "cells": [
    {
     "cell_type": "raw",
     "metadata": {},
     "source": [
      "Requirements:\n",
      "1 - Read an excel file and format rows and columns to predefined format.  Some cell colors will depend on the cell value.\n",
      "2 - Upload the formatted Excel file to a server location where it can be viewed by the Inside Sales Team and their agency partner."
     ]
    },
    {
     "cell_type": "code",
     "collapsed": false,
     "input": [
      "# read the file\n",
      "from openpyxl import Workbook\n",
      "from openpyxl import load_workbook\n",
      "\n",
      "filename = 'C:/Projects/IBM/social_brief.xlsx'\n",
      "dest_filename = 'C:/Projects/IBM/social_brief_formatted.xlsx'\n",
      "\n",
      "from openpyxl import load_workbook\n",
      "wb2 = load_workbook(filename)\n",
      "wb2.get_sheet_names()\n",
      "\n",
      "wb = Workbook()\n",
      "#ws = wb.get_active_sheet()\n",
      "ws = wb.worksheets[0]    \n",
      "\n",
      "ws.title = \"Social Brief\"\n"
     ],
     "language": "python",
     "metadata": {},
     "outputs": []
    }
   ],
   "metadata": {}
  }
 ]
}