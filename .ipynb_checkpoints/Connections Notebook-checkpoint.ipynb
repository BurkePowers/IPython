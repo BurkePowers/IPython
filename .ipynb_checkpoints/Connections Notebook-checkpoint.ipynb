{
 "metadata": {
  "name": ""
 },
 "nbformat": 3,
 "nbformat_minor": 0,
 "worksheets": [
  {
   "cells": [
    {
     "cell_type": "markdown",
     "metadata": {},
     "source": [
      "Notes:\n",
      "https://w3-connections.ibm.com/wikis/home?lang=en-us#!/wiki/W2e44bcba801f_4b56_9f58_e6a6317c4e59/page/Using%20Connections%20API\n",
      "http://www-10.lotus.com/ldd/appdevwiki.nsf\n",
      "http://www-10.lotus.com/ldd/lcwiki.nsf/xpDocViewer.xsp?lookupName=IBM+Connections+4.5+Documentation#action=openDocument&res_title=Developing_ic45&content=pdcontent\n",
      "https://w3-connections.ibm.com/wikis/home?lang=en-us#!/wiki/W775f1e9e243b_4514_8a41_d4f985d45b48/page/Hack%20Day%20Guidance\n",
      "http://www-10.lotus.com/ldd/appdevwiki.nsf/xpViewCategories.xsp?lookupName=API%20Documentation\n",
      "https://w3-connections.ibm.com/wikis/home?lang=en-us#!/wiki/W06f5b5186eed_43d3_afbd_5503100b6ef1/page/Getting%20Started%20on%20Connections\n",
      "https://w3-connections.ibm.com/wikis/home?lang=en-us#!/wiki/Connections%20Open%20Social%20API%20Documentation/page/IBM%20Connections%20Activity%20Stream%20API\n",
      "https://w3-connections.ibm.com/wikis/home?lang=en-us#!/wiki/Wab005c104532_4d22_afd5_a4ef814af9f0/page/IBM%20Connections%20API%20-%20Automation\n",
      "\n",
      "Connections & Python:\n",
      "http://www-10.lotus.com/ldd/lcwiki.nsf/dx/Creating_your_own_IBM_Lotus_Connections_wiki_client\n",
      "https://www-304.ibm.com/connections/blogs/vperrin/tags/python?lang=en_us\n",
      "http://davanum.wordpress.com/2012/01/04/follow-a-user-in-lotus-connections-3-0/\n",
      "https://www.youtube.com/watch?v=7wQlMK3w4VI\n",
      "\n",
      "\n",
      "https://www.youtube.com/user/IBMConnections/videos\n",
      "\n",
      "http://blog.mischel.com/2011/12/20/writing-a-web-crawler-politeness/"
     ]
    }
   ],
   "metadata": {}
  }
 ]
}