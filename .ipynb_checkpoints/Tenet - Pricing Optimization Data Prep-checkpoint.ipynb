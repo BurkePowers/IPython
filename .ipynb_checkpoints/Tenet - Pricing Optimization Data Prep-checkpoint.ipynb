{
 "metadata": {
  "name": ""
 },
 "nbformat": 3,
 "nbformat_minor": 0,
 "worksheets": [
  {
   "cells": [
    {
     "cell_type": "code",
     "collapsed": false,
     "input": [
      "import csv\n",
      "import random\n",
      "import re\n",
      "\n",
      "weightsFileName = \"C:/Projects/Tenet/temp/weights_list.csv\"\n",
      "priceFileName = \"C:/Projects/Tenet/temp/priceArray.csv\"\n",
      "netRevFileName = \"C:/Projects/Tenet/temp/netRevArray.csv\"\n",
      "\n",
      "with open(weightsFileName, 'rb') as weightCSV:\n",
      "    weightsList = csv.DictReader(weightCSV)\n",
      "    weights = []\n",
      "    for row in weightsList:\n",
      "        weights.append(row)\n",
      "with open(priceFileName, 'rb') as priceCSV:\n",
      "    priceDict = csv.DictReader(priceCSV)\n",
      "    priceArray = []\n",
      "    for row in priceDict:\n",
      "        match = re.search(r'RowID',row['ID'])\n",
      "        if not match:\n",
      "            priceArray.append(row)\n",
      "with open(netRevFileName, 'rb') as netRevCSV:\n",
      "    netRevDict = csv.DictReader(netRevCSV)\n",
      "    netRevArray = []\n",
      "    for row in netRevDict:\n",
      "        match = re.search(r'RowID',row['ID'])\n",
      "        if not match:\n",
      "            netRevArray.append(row)\n",
      "\n",
      "for i in range(0, 10):\n",
      "    eNetRev = 0\n",
      "    for p in range(0, len(priceArray)):\n",
      "        myRand = str(random.randint(2,1000))\n",
      "        eNetRev = eNetRev + float(weights[p]['weight']) * float(netRevArray[p]['Field'+myRand])\n",
      "        #print priceArray[p]['ID'] + \"\\t\" + priceArray[p]['Field'+myRand] + \"\\t\" + weights[p]['weight'] + \"\\t\" + netRevArray[p]['Field'+myRand]\n",
      "    print eNetRev\n",
      "    \n",
      "    \n",
      "    \n",
      "import json\n",
      "\n",
      "price_data = 'C:/Projects/Tenet/temp/priceArray.json'\n",
      "f = open(price_data, 'w')\n",
      "f.write(json.dumps(priceArray, indent=2))\n",
      "f.close()\n",
      "\n"
     ],
     "language": "python",
     "metadata": {},
     "outputs": [
      {
       "output_type": "stream",
       "stream": "stdout",
       "text": [
        "245293.469305\n",
        "333247.723882\n",
        "252227.824592\n",
        "209975.805849\n",
        "140193.449567\n",
        "170653.623\n",
        "230100.561901\n",
        "227459.348947\n",
        "333456.912778\n",
        "193942.539595\n"
       ]
      }
     ],
     "prompt_number": 84
    },
    {
     "cell_type": "code",
     "collapsed": false,
     "input": [
      "import csv\n",
      "import random\n",
      "import re\n",
      "\n",
      "weightsFileName = \"C:/Projects/Tenet/temp/weights_list.csv\"\n",
      "priceFileName = \"C:/Projects/Tenet/temp/priceArray.csv\"\n",
      "netRevFileName = \"C:/Projects/Tenet/temp/netRevArray.csv\"\n",
      "saveFileName = \"C:/Projects/Tenet/temp/priceRevMatrix.csv\"\n",
      "numRows = 1000\n",
      "\n",
      "with open(weightsFileName, 'rb') as weightCSV:\n",
      "    weightsList = csv.DictReader(weightCSV)\n",
      "    weights = []\n",
      "    for row in weightsList:\n",
      "        weights.append(row)\n",
      "with open(priceFileName, 'rb') as priceCSV:\n",
      "    priceDict = csv.DictReader(priceCSV)\n",
      "    priceArray = []\n",
      "    for row in priceDict:\n",
      "        match = re.search(r'RowID',row['ID'])\n",
      "        if not match:\n",
      "            priceArray.append(row)\n",
      "with open(netRevFileName, 'rb') as netRevCSV:\n",
      "    netRevDict = csv.DictReader(netRevCSV)\n",
      "    netRevArray = []\n",
      "    for row in netRevDict:\n",
      "        match = re.search(r'RowID',row['ID'])\n",
      "        if not match:\n",
      "            netRevArray.append(row)\n",
      "\n",
      "with open(saveFileName, \"wb\") as saveFile:\n",
      "    writer = csv.writer(saveFile, quoting=csv.QUOTE_NONNUMERIC) \n",
      "    #header\n",
      "    header = []\n",
      "    for t in range(0, len(priceArray)):\n",
      "        header.append(priceArray[t]['ID'])\n",
      "    header.append('eNetRev')\n",
      "    writer.writerow(header)\n",
      "    \n",
      "    #data\n",
      "    for i in range(0, numRows):\n",
      "        eNetRev = 0\n",
      "        line = []\n",
      "        for p in range(0, len(priceArray)):\n",
      "            myRand = str(random.randint(2,1000))\n",
      "            eNetRev = eNetRev + float(weights[p]['weight']) * float(netRevArray[p]['Field'+myRand])\n",
      "            line.append(priceArray[p]['Field'+myRand])\n",
      "        line.append(eNetRev)\n",
      "        writer.writerow(line)    "
     ],
     "language": "python",
     "metadata": {},
     "outputs": [
      {
       "output_type": "stream",
       "stream": "stdout",
       "text": [
        "245264.277927\n",
        "256518.267266\n",
        "185150.216785\n",
        "264585.027492\n",
        "272940.278597\n",
        "136504.921005\n",
        "282453.107491\n",
        "174335.288911\n",
        "252832.567691\n",
        "239072.394463\n"
       ]
      }
     ],
     "prompt_number": 94
    },
    {
     "cell_type": "code",
     "collapsed": false,
     "input": [],
     "language": "python",
     "metadata": {},
     "outputs": [],
     "prompt_number": 93
    },
    {
     "cell_type": "code",
     "collapsed": false,
     "input": [],
     "language": "python",
     "metadata": {},
     "outputs": []
    }
   ],
   "metadata": {}
  }
 ]
}